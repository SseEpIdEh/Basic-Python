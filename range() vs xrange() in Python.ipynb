{
 "cells": [
  {
   "cell_type": "markdown",
   "id": "952a6104",
   "metadata": {},
   "source": [
    "# range() – \n",
    "**This returns a range object (a type of iterable).\n",
    "# xrange() – \n",
    "This function returns the generator object that can be used to display numbers only by looping. The only particular range is displayed on demand and hence called “lazy evaluation“."
   ]
  },
  {
   "cell_type": "markdown",
   "id": "9bbf0b46",
   "metadata": {},
   "source": [
    "**The variable storing the range created by range() **takes more memory** as compared to the variable storing the range using xrange(). \n",
    "The basic reason for this is the return type of range() is list and xrange() is xrange() object. \n",
    "\n"
   ]
  },
  {
   "cell_type": "markdown",
   "id": "c7c2b130",
   "metadata": {},
   "source": []
  },
  {
   "cell_type": "code",
   "execution_count": null,
   "id": "25140605",
   "metadata": {},
   "outputs": [],
   "source": []
  },
  {
   "cell_type": "code",
   "execution_count": null,
   "id": "52640cea",
   "metadata": {},
   "outputs": [],
   "source": []
  },
  {
   "cell_type": "code",
   "execution_count": null,
   "id": "f7d57aab",
   "metadata": {},
   "outputs": [],
   "source": []
  },
  {
   "cell_type": "code",
   "execution_count": null,
   "id": "e59aaeea",
   "metadata": {},
   "outputs": [],
   "source": []
  }
 ],
 "metadata": {
  "kernelspec": {
   "display_name": "Python 3 (ipykernel)",
   "language": "python",
   "name": "python3"
  },
  "language_info": {
   "codemirror_mode": {
    "name": "ipython",
    "version": 3
   },
   "file_extension": ".py",
   "mimetype": "text/x-python",
   "name": "python",
   "nbconvert_exporter": "python",
   "pygments_lexer": "ipython3",
   "version": "3.9.7"
  }
 },
 "nbformat": 4,
 "nbformat_minor": 5
}
