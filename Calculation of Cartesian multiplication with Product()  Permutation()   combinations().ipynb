{
 "cells": [
  {
   "cell_type": "markdown",
   "id": "ce53cf09",
   "metadata": {},
   "source": [
    "# product()    #mafhume product hamun zarbe dekarti ast.\n",
    "\n",
    "+++sometimes we want to call mathematical functions like Cartesian(zarebe dekarti) we use product function()"
   ]
  },
  {
   "cell_type": "markdown",
   "id": "f168db1c",
   "metadata": {},
   "source": [
    "# product(*iterables,repeat=1):\n",
    "\n",
    "***This tool computes the cartesian product of input iterables.\n",
    "\n",
    "To compute the product of an iterable with itself, we use the optional **repeat keyword argument to specify the number of repetitions. The output of this function is **tuples in sorted order."
   ]
  },
  {
   "cell_type": "code",
   "execution_count": 19,
   "id": "a4ed5f01",
   "metadata": {},
   "outputs": [
    {
     "name": "stdout",
     "output_type": "stream",
     "text": [
      "The cartesian product using repeat:\n",
      "[(1, 1), (1, 2), (2, 1), (2, 2)]\n",
      "\n"
     ]
    }
   ],
   "source": [
    "\n",
    "\n",
    "print(\"The cartesian product using repeat:\")\n",
    "print(list(product([1, 2], repeat=2)))                     #[1,2]*[1,2]\n",
    "print()\n",
    "\n"
   ]
  },
  {
   "cell_type": "code",
   "execution_count": 20,
   "id": "64879f91",
   "metadata": {},
   "outputs": [
    {
     "name": "stdout",
     "output_type": "stream",
     "text": [
      "The cartesian product of the containers:\n",
      "[('geeks', '2'), ('for', '2'), ('geeks', '2')]\n",
      "\n"
     ]
    }
   ],
   "source": [
    "\n",
    "print(\"The cartesian product of the containers:\")\n",
    "print(list(product(['geeks', 'for', 'geeks'], '2')))\n",
    "print()\n",
    "\n"
   ]
  },
  {
   "cell_type": "code",
   "execution_count": 21,
   "id": "a49bb21e",
   "metadata": {},
   "outputs": [
    {
     "name": "stdout",
     "output_type": "stream",
     "text": [
      "The cartesian product of the containers:\n",
      "[('A', 3), ('A', 4), ('B', 3), ('B', 4)]\n"
     ]
    }
   ],
   "source": [
    "print(\"The cartesian product of the containers:\")\n",
    "print(list(product('AB', [3, 4])))"
   ]
  },
  {
   "cell_type": "code",
   "execution_count": 2,
   "id": "13c696b6",
   "metadata": {},
   "outputs": [],
   "source": [
    "from itertools import product"
   ]
  },
  {
   "cell_type": "code",
   "execution_count": 3,
   "id": "e6d8b2dc",
   "metadata": {},
   "outputs": [],
   "source": [
    "A=[1,2,3]\n",
    "B=[4,5]"
   ]
  },
  {
   "cell_type": "code",
   "execution_count": 5,
   "id": "a4ca16a9",
   "metadata": {},
   "outputs": [
    {
     "data": {
      "text/plain": [
       "[(1, 4), (1, 5), (2, 4), (2, 5), (3, 4), (3, 5)]"
      ]
     },
     "execution_count": 5,
     "metadata": {},
     "output_type": "execute_result"
    }
   ],
   "source": [
    "list(product(A,B))"
   ]
  },
  {
   "cell_type": "code",
   "execution_count": 7,
   "id": "6d5d66fd",
   "metadata": {},
   "outputs": [
    {
     "name": "stdout",
     "output_type": "stream",
     "text": [
      "[(1, 4, 1, 4), (1, 4, 1, 5), (1, 4, 2, 4), (1, 4, 2, 5), (1, 4, 3, 4), (1, 4, 3, 5), (1, 5, 1, 4), (1, 5, 1, 5), (1, 5, 2, 4), (1, 5, 2, 5), (1, 5, 3, 4), (1, 5, 3, 5), (2, 4, 1, 4), (2, 4, 1, 5), (2, 4, 2, 4), (2, 4, 2, 5), (2, 4, 3, 4), (2, 4, 3, 5), (2, 5, 1, 4), (2, 5, 1, 5), (2, 5, 2, 4), (2, 5, 2, 5), (2, 5, 3, 4), (2, 5, 3, 5), (3, 4, 1, 4), (3, 4, 1, 5), (3, 4, 2, 4), (3, 4, 2, 5), (3, 4, 3, 4), (3, 4, 3, 5), (3, 5, 1, 4), (3, 5, 1, 5), (3, 5, 2, 4), (3, 5, 2, 5), (3, 5, 3, 4), (3, 5, 3, 5)]\n"
     ]
    }
   ],
   "source": [
    "print(list(product(A,B,repeat=2)))"
   ]
  },
  {
   "cell_type": "code",
   "execution_count": 7,
   "id": "da4d565a",
   "metadata": {},
   "outputs": [
    {
     "data": {
      "text/plain": [
       "[(1, 4, 1, 4),\n",
       " (1, 4, 1, 5),\n",
       " (1, 4, 2, 4),\n",
       " (1, 4, 2, 5),\n",
       " (1, 4, 3, 4),\n",
       " (1, 4, 3, 5),\n",
       " (1, 5, 1, 4),\n",
       " (1, 5, 1, 5),\n",
       " (1, 5, 2, 4),\n",
       " (1, 5, 2, 5),\n",
       " (1, 5, 3, 4),\n",
       " (1, 5, 3, 5),\n",
       " (2, 4, 1, 4),\n",
       " (2, 4, 1, 5),\n",
       " (2, 4, 2, 4),\n",
       " (2, 4, 2, 5),\n",
       " (2, 4, 3, 4),\n",
       " (2, 4, 3, 5),\n",
       " (2, 5, 1, 4),\n",
       " (2, 5, 1, 5),\n",
       " (2, 5, 2, 4),\n",
       " (2, 5, 2, 5),\n",
       " (2, 5, 3, 4),\n",
       " (2, 5, 3, 5),\n",
       " (3, 4, 1, 4),\n",
       " (3, 4, 1, 5),\n",
       " (3, 4, 2, 4),\n",
       " (3, 4, 2, 5),\n",
       " (3, 4, 3, 4),\n",
       " (3, 4, 3, 5),\n",
       " (3, 5, 1, 4),\n",
       " (3, 5, 1, 5),\n",
       " (3, 5, 2, 4),\n",
       " (3, 5, 2, 5),\n",
       " (3, 5, 3, 4),\n",
       " (3, 5, 3, 5)]"
      ]
     },
     "execution_count": 7,
     "metadata": {},
     "output_type": "execute_result"
    }
   ],
   "source": [
    "list(product(A,B,repeat=2))          #A*B*A*B   means twice repeat"
   ]
  },
  {
   "cell_type": "code",
   "execution_count": 8,
   "id": "44deae4d",
   "metadata": {},
   "outputs": [
    {
     "data": {
      "text/plain": [
       "[(1, 1), (1, 2), (1, 3), (2, 1), (2, 2), (2, 3), (3, 1), (3, 2), (3, 3)]"
      ]
     },
     "execution_count": 8,
     "metadata": {},
     "output_type": "execute_result"
    }
   ],
   "source": [
    "A=[1,2,3]\n",
    "list(product(A,A))"
   ]
  },
  {
   "cell_type": "code",
   "execution_count": 10,
   "id": "86952147",
   "metadata": {},
   "outputs": [
    {
     "data": {
      "text/plain": [
       "[(1, 1), (1, 2), (1, 3), (2, 1), (2, 2), (2, 3), (3, 1), (3, 2), (3, 3)]"
      ]
     },
     "execution_count": 10,
     "metadata": {},
     "output_type": "execute_result"
    }
   ],
   "source": [
    "list(product(A,repeat=2))"
   ]
  },
  {
   "cell_type": "code",
   "execution_count": 11,
   "id": "2878e88c",
   "metadata": {},
   "outputs": [
    {
     "data": {
      "text/plain": [
       "[(1, 1, 1),\n",
       " (1, 1, 2),\n",
       " (1, 1, 3),\n",
       " (1, 2, 1),\n",
       " (1, 2, 2),\n",
       " (1, 2, 3),\n",
       " (1, 3, 1),\n",
       " (1, 3, 2),\n",
       " (1, 3, 3),\n",
       " (2, 1, 1),\n",
       " (2, 1, 2),\n",
       " (2, 1, 3),\n",
       " (2, 2, 1),\n",
       " (2, 2, 2),\n",
       " (2, 2, 3),\n",
       " (2, 3, 1),\n",
       " (2, 3, 2),\n",
       " (2, 3, 3),\n",
       " (3, 1, 1),\n",
       " (3, 1, 2),\n",
       " (3, 1, 3),\n",
       " (3, 2, 1),\n",
       " (3, 2, 2),\n",
       " (3, 2, 3),\n",
       " (3, 3, 1),\n",
       " (3, 3, 2),\n",
       " (3, 3, 3)]"
      ]
     },
     "execution_count": 11,
     "metadata": {},
     "output_type": "execute_result"
    }
   ],
   "source": [
    "list(product(A,repeat=3))"
   ]
  },
  {
   "cell_type": "code",
   "execution_count": 13,
   "id": "386317d8",
   "metadata": {},
   "outputs": [
    {
     "data": {
      "text/plain": [
       "[('A', 1),\n",
       " ('A', 2),\n",
       " ('A', 3),\n",
       " ('B', 1),\n",
       " ('B', 2),\n",
       " ('B', 3),\n",
       " ('C', 1),\n",
       " ('C', 2),\n",
       " ('C', 3),\n",
       " ('D', 1),\n",
       " ('D', 2),\n",
       " ('D', 3),\n",
       " ('E', 1),\n",
       " ('E', 2),\n",
       " ('E', 3),\n",
       " ('F', 1),\n",
       " ('F', 2),\n",
       " ('F', 3),\n",
       " ('G', 1),\n",
       " ('G', 2),\n",
       " ('G', 3)]"
      ]
     },
     "execution_count": 13,
     "metadata": {},
     "output_type": "execute_result"
    }
   ],
   "source": [
    "list(product('ABCDEFG',[1,2,3]))"
   ]
  },
  {
   "cell_type": "code",
   "execution_count": 17,
   "id": "16d3684a",
   "metadata": {},
   "outputs": [
    {
     "name": "stdout",
     "output_type": "stream",
     "text": [
      "A 1\n",
      "A 2\n",
      "A 3\n",
      "B 1\n",
      "B 2\n",
      "B 3\n",
      "C 1\n",
      "C 2\n",
      "C 3\n"
     ]
    }
   ],
   "source": [
    "for a,b in product('ABC',[1,2,3]):\n",
    "      print(a,b)"
   ]
  },
  {
   "cell_type": "code",
   "execution_count": 18,
   "id": "cb0d2641",
   "metadata": {},
   "outputs": [
    {
     "name": "stdout",
     "output_type": "stream",
     "text": [
      "A 1\n",
      "A 2\n",
      "A 3\n",
      "B 1\n",
      "B 2\n",
      "B 3\n",
      "C 1\n",
      "C 2\n",
      "C 3\n"
     ]
    }
   ],
   "source": [
    "for a in 'ABC':\n",
    "    for b in [1,2,3]:\n",
    "        print(a,b)"
   ]
  },
  {
   "cell_type": "markdown",
   "id": "8f4d7c97",
   "metadata": {},
   "source": [
    "# Permutations(iterable,r=None):   #jaygasht    n! nfoctorial\n",
    "Permutations() as the name speaks for itself is used to generate all possible permutations of an iterable. All elements are treated as unique based on their position and not their values. This function takes an iterable and group_size, if the value of group_size is not specified or is equal to None then the value of group_size becomes the length of the iterable.\n"
   ]
  },
  {
   "cell_type": "markdown",
   "id": "b1f2d6df",
   "metadata": {},
   "source": [
    "                                        Itertools.permutation()\n",
    "Itertools.permutation() function falls under the Combinatoric Generators. The recursive generators that are used to simplify combinatorial constructs such as permutations, combinations, and Cartesian products are called combinatoric iterators. As understood by the word “Permutation” it refers to all the possible combinations in which a set or string can be ordered or arranged. Similarly here itertool.permutations() method provides us with all the possible arrangements that can be there for an iterator and all elements are assumed to be unique on the basis of their position and not by their value or category. All these permutations are provided in lexicographical order. The function itertool.permutations() takes an iterator and ‘r’ (length of permutation needed) as input and assumes ‘r’ as default length of iterator if not mentioned and returns all possible permutations of length ‘r’ each. Syntax:"
   ]
  },
  {
   "cell_type": "markdown",
   "id": "d90e64ba",
   "metadata": {},
   "source": [
    "***Time Complexity: O(n!) where n is the size of the string.\n",
    "Auxiliary Space: O(n*n!) "
   ]
  },
  {
   "cell_type": "code",
   "execution_count": null,
   "id": "bf95025e",
   "metadata": {},
   "outputs": [],
   "source": []
  },
  {
   "cell_type": "code",
   "execution_count": 31,
   "id": "b24230d0",
   "metadata": {},
   "outputs": [
    {
     "name": "stdout",
     "output_type": "stream",
     "text": [
      "All the permutations of the given list is:\n",
      "[(1, 'geeks'), ('geeks', 1)]\n",
      "\n"
     ]
    }
   ],
   "source": [
    "\n",
    "from itertools import permutations\n",
    "\n",
    "print(\"All the permutations of the given list is:\")\n",
    "print(list(permutations([1, 'geeks'],2)))                    #with the length of two\n",
    "print()\n",
    "\n"
   ]
  },
  {
   "cell_type": "code",
   "execution_count": 32,
   "id": "39a3d180",
   "metadata": {},
   "outputs": [
    {
     "name": "stdout",
     "output_type": "stream",
     "text": [
      "All the permutations of the given string is:\n",
      "[('A', 'B'), ('B', 'A')]\n",
      "\n"
     ]
    }
   ],
   "source": [
    "print(\"All the permutations of the given string is:\")\n",
    "print(list(permutations('AB')))\n",
    "print()"
   ]
  },
  {
   "cell_type": "code",
   "execution_count": 33,
   "id": "4536e4f2",
   "metadata": {},
   "outputs": [
    {
     "name": "stdout",
     "output_type": "stream",
     "text": [
      "All the permutations of the given container is:\n",
      "[(0, 1), (0, 2), (1, 0), (1, 2), (2, 0), (2, 1)]\n"
     ]
    }
   ],
   "source": [
    "print(\"All the permutations of the given container is:\")\n",
    "print(list(permutations(range(3), 2)))"
   ]
  },
  {
   "cell_type": "code",
   "execution_count": 35,
   "id": "0aa30d4c",
   "metadata": {},
   "outputs": [
    {
     "data": {
      "text/plain": [
       "[(1, 2), (2, 1)]"
      ]
     },
     "execution_count": 35,
     "metadata": {},
     "output_type": "execute_result"
    }
   ],
   "source": [
    "list(permutations([1,2]))"
   ]
  },
  {
   "cell_type": "code",
   "execution_count": 36,
   "id": "bbba5c1d",
   "metadata": {},
   "outputs": [
    {
     "data": {
      "text/plain": [
       "[(1, 2, 3), (1, 3, 2), (2, 1, 3), (2, 3, 1), (3, 1, 2), (3, 2, 1)]"
      ]
     },
     "execution_count": 36,
     "metadata": {},
     "output_type": "execute_result"
    }
   ],
   "source": [
    "list(permutations([1,2,3]))     #3!=3*2*1=6"
   ]
  },
  {
   "cell_type": "code",
   "execution_count": 42,
   "id": "3022c143",
   "metadata": {},
   "outputs": [
    {
     "data": {
      "text/plain": [
       "[(1, 2), (1, 3), (2, 1), (2, 3), (3, 1), (3, 2)]"
      ]
     },
     "execution_count": 42,
     "metadata": {},
     "output_type": "execute_result"
    }
   ],
   "source": [
    "list(permutations([1,2,3],2))     #len=2"
   ]
  },
  {
   "cell_type": "code",
   "execution_count": 13,
   "id": "1a65d8a8",
   "metadata": {},
   "outputs": [
    {
     "data": {
      "text/plain": [
       "[(1, 1), (1, 2), (1, 3), (2, 1), (2, 2), (2, 3), (3, 1), (3, 2), (3, 3)]"
      ]
     },
     "execution_count": 13,
     "metadata": {},
     "output_type": "execute_result"
    }
   ],
   "source": [
    "list(product([1,2,3],repeat=2))"
   ]
  },
  {
   "cell_type": "code",
   "execution_count": 43,
   "id": "22237567",
   "metadata": {},
   "outputs": [
    {
     "data": {
      "text/plain": [
       "[(1, 2),\n",
       " (1, 3),\n",
       " (1, 4),\n",
       " (2, 1),\n",
       " (2, 3),\n",
       " (2, 4),\n",
       " (3, 1),\n",
       " (3, 2),\n",
       " (3, 4),\n",
       " (4, 1),\n",
       " (4, 2),\n",
       " (4, 3)]"
      ]
     },
     "execution_count": 43,
     "metadata": {},
     "output_type": "execute_result"
    }
   ],
   "source": [
    "list(permutations([1,2,3,4],2))    "
   ]
  },
  {
   "cell_type": "markdown",
   "id": "c3c7637c",
   "metadata": {},
   "source": [
    "# where we use Product() and where we use Permutations()\n",
    "\n",
    "**In Python, both permutations() and product() are functions from the itertools module that allow you to generate combinations from a given set of items.\n",
    "permutations(iterable, r=None) returns all possible permutations of length r of the elements in the given iterable. If r is not specified, the default value is None, which means that all possible permutations of the iterable will be returned. The order of the permutations matters, meaning that (1,2) and (2,1) are considered different permutations.\n",
    "\n"
   ]
  },
  {
   "cell_type": "code",
   "execution_count": 15,
   "id": "14d3167a",
   "metadata": {},
   "outputs": [
    {
     "name": "stdout",
     "output_type": "stream",
     "text": [
      "(1, 2)\n",
      "(1, 3)\n",
      "(2, 1)\n",
      "(2, 3)\n",
      "(3, 1)\n",
      "(3, 2)\n"
     ]
    }
   ],
   "source": [
    "#Here's an example of how to use permutations():\n",
    "from itertools import permutations\n",
    "\n",
    "items = [1, 2, 3]\n",
    "perms = permutations(items, 2)\n",
    "\n",
    "for perm in perms:\n",
    "    print(perm)\n"
   ]
  },
  {
   "cell_type": "markdown",
   "id": "4aa424ca",
   "metadata": {},
   "source": [
    "# \n",
    "**On the other hand, product(*iterables, repeat=1) returns the Cartesian product of the input iterables, which is a sequence of (((tuples))) containing one element from each iterable. The( repeat) parameter specifies how many times to repeat the input iterables. The order of the items does not matter, meaning that (1,2) and (2,1) are considered the same tuple."
   ]
  },
  {
   "cell_type": "code",
   "execution_count": 18,
   "id": "2c82f86c",
   "metadata": {},
   "outputs": [
    {
     "name": "stdout",
     "output_type": "stream",
     "text": [
      "(1, 1)\n",
      "(1, 2)\n",
      "(1, 3)\n",
      "(2, 1)\n",
      "(2, 2)\n",
      "(2, 3)\n",
      "(3, 1)\n",
      "(3, 2)\n",
      "(3, 3)\n"
     ]
    }
   ],
   "source": [
    "from itertools import product\n",
    "\n",
    "items = [1, 2, 3]\n",
    "combs = product(items,repeat=2)\n",
    "\n",
    "for comb in combs:\n",
    "    print(comb)\n"
   ]
  },
  {
   "cell_type": "markdown",
   "id": "fa8e43bb",
   "metadata": {},
   "source": [
    "# permutations() generates all possible ordered combinations, while product() generates all possible unordered combinations, with or without repetitions."
   ]
  },
  {
   "cell_type": "code",
   "execution_count": null,
   "id": "91c7f7c7",
   "metadata": {},
   "outputs": [],
   "source": []
  },
  {
   "cell_type": "markdown",
   "id": "6fa205a7",
   "metadata": {},
   "source": [
    "# combinations(iterable,r(length r)   )   #tartib mohem nist , tarkib mohem ast.\n",
    "***combinations(iterable, r) is another function from the itertools module in Python, which allows you to generate all possible combinations of a given iterable of length r, without repetition and in no particular order."
   ]
  },
  {
   "cell_type": "code",
   "execution_count": 19,
   "id": "bb59e12a",
   "metadata": {},
   "outputs": [],
   "source": [
    "from itertools import combinations"
   ]
  },
  {
   "cell_type": "code",
   "execution_count": 20,
   "id": "a02ba13d",
   "metadata": {},
   "outputs": [
    {
     "name": "stdout",
     "output_type": "stream",
     "text": [
      "(1, 2)\n",
      "(1, 3)\n",
      "(2, 3)\n"
     ]
    }
   ],
   "source": [
    "\n",
    "\n",
    "items = [1, 2, 3]\n",
    "combs = combinations(items, 2)\n",
    "\n",
    "for comb in combs:\n",
    "    print(comb)\n"
   ]
  },
  {
   "cell_type": "markdown",
   "id": "fb1f5d26",
   "metadata": {},
   "source": [
    "**As you can see, combinations() only returns the unique combinations of length r and does not include any duplicate combinations. This can be useful when you need to generate all possible combinations of a set of items, but don't need to consider the order of the elements in the combination."
   ]
  },
  {
   "cell_type": "code",
   "execution_count": 45,
   "id": "4e7718d9",
   "metadata": {},
   "outputs": [
    {
     "data": {
      "text/plain": [
       "[(1, 2), (1, 3), (1, 4), (2, 3), (2, 4), (3, 4)]"
      ]
     },
     "execution_count": 45,
     "metadata": {},
     "output_type": "execute_result"
    }
   ],
   "source": [
    "list(combinations([1,2,3,4],2))        \n",
    "#daqiqian mese bazi footabll,4 ta team darim harkodum ba yki , inja dg 2 ba 1 mani nemide , \n",
    "#magar mizbani mohem bashe ke elemani ke aval ast mizban mibashad."
   ]
  },
  {
   "cell_type": "code",
   "execution_count": 47,
   "id": "a8cc4001",
   "metadata": {},
   "outputs": [
    {
     "data": {
      "text/plain": [
       "[('A', 'T', 'G'), ('A', 'T', 'C'), ('A', 'G', 'C'), ('T', 'G', 'C')]"
      ]
     },
     "execution_count": 47,
     "metadata": {},
     "output_type": "execute_result"
    }
   ],
   "source": [
    "list(combinations('ATGC',3))                      #just combining yani tarkib shodem moheme"
   ]
  },
  {
   "cell_type": "code",
   "execution_count": 48,
   "id": "5afa5006",
   "metadata": {},
   "outputs": [
    {
     "data": {
      "text/plain": [
       "[('A', 'T', 'G'),\n",
       " ('A', 'T', 'C'),\n",
       " ('A', 'G', 'T'),\n",
       " ('A', 'G', 'C'),\n",
       " ('A', 'C', 'T'),\n",
       " ('A', 'C', 'G'),\n",
       " ('T', 'A', 'G'),\n",
       " ('T', 'A', 'C'),\n",
       " ('T', 'G', 'A'),\n",
       " ('T', 'G', 'C'),\n",
       " ('T', 'C', 'A'),\n",
       " ('T', 'C', 'G'),\n",
       " ('G', 'A', 'T'),\n",
       " ('G', 'A', 'C'),\n",
       " ('G', 'T', 'A'),\n",
       " ('G', 'T', 'C'),\n",
       " ('G', 'C', 'A'),\n",
       " ('G', 'C', 'T'),\n",
       " ('C', 'A', 'T'),\n",
       " ('C', 'A', 'G'),\n",
       " ('C', 'T', 'A'),\n",
       " ('C', 'T', 'G'),\n",
       " ('C', 'G', 'A'),\n",
       " ('C', 'G', 'T')]"
      ]
     },
     "execution_count": 48,
     "metadata": {},
     "output_type": "execute_result"
    }
   ],
   "source": [
    "list(permutations('ATGC',3))                  #just permuting yani tratib moheme, pas o pishesh moheme"
   ]
  },
  {
   "cell_type": "markdown",
   "id": "e0dca0c1",
   "metadata": {},
   "source": [
    "#\n",
    "In summary, while\n",
    "\n",
    "# permutations(iterable, r=None) \n",
    "\n",
    "**generates all possible ordered combinations with or without repetition, \n",
    "\n",
    "# combinations(iterable, (length r) \n",
    "\n",
    "**generates all possible unordered combinations of a given length without repetition, and \n",
    "\n",
    "# product(*iterbales, repeat)\n",
    "\n",
    "**generates all possible combinations of all lengths with or without repetition."
   ]
  },
  {
   "cell_type": "markdown",
   "id": "3e4be662",
   "metadata": {},
   "source": [
    "Determine the length of the desired combinations: If you need to generate combinations of a specific length, then you can use permutations() if you need ordered combinations with repetition, combinations() if you need unordered combinations without repetition, or product() if you need all possible combinations with or without repetition.\n",
    "\n",
    "Determine if you need ordered or unordered combinations: If the order of the elements in the combination is important, then use permutations(), otherwise use combinations() or product() depending on whether you need all possible combinations or just unique combinations.\n",
    "\n",
    "Determine if you need to allow repetition: If you need to allow repetition of elements in the combination, then use product(), otherwise use combinations() or permutations().\n",
    "\n",
    "Consider the computational complexity: Generating all possible combinations of a large dataset can be computationally expensive. In such cases, you may want to consider using a generator expression instead of creating a list of all combinations. This can significantly reduce memory usage and improve performance.\n",
    "\n",
    "In summary, determining which itertools function to use depends on the specific requirements of your problem, such as the length of the combinations, whether order matters, whether repetition is allowed, and the size of the dataset."
   ]
  },
  {
   "cell_type": "code",
   "execution_count": null,
   "id": "4f547198",
   "metadata": {},
   "outputs": [],
   "source": [
    "بله، ممکن است برای تولید ترکیبات مورد نظر از توابع itertools نیاز داشته باشید. برای تشخیص توابع itertools مورد نیاز، می توانید با توجه به موارد زیر عمل کنید:\n",
    "\n",
    "تعیین طول ترکیبات مورد نیاز:\n",
    "اگر شما نیاز دارید ترکیباتی با طول خاصی را تولید کنید، می توانید از تابع permutations() در صورت نیاز به ترکیبات ترتیب دار با تکرار، از combinations() در صورت نیاز به ترکیبات بدون تکرار و بدون ترتیب و یا از product() در صورت نیاز به تمامی ترکیبات با یا بدون تکرار استفاده کنید.\n",
    "\n",
    "تعیین ترتیب یا عدم ترتیب ترکیبات:\n",
    "اگر شما نیاز دارید ترکیباتی با ترتیب خاصی تولید کنید، می توانید از تابع permutations() استفاده کنید. اگر شما نیاز دارید به ترکیبات بدون ترتیب خاصی برای استفاده در محاسبات آماری یا محاسبات دیگر تولید کنید، می توانید از تابع combinations() استفاده کنید.\n",
    "\n",
    "تعیین تعداد ورودی ها:\n",
    "اگر تعداد ورودی های تابع مشخص نیست و شما نیاز دارید ترکیباتی از تمامی ورودی ها تولید کنید، می توانید از تابع product() استفاده کنید."
   ]
  },
  {
   "cell_type": "code",
   "execution_count": null,
   "id": "864cd10b",
   "metadata": {},
   "outputs": [],
   "source": []
  },
  {
   "cell_type": "code",
   "execution_count": null,
   "id": "982f1f4d",
   "metadata": {},
   "outputs": [],
   "source": []
  },
  {
   "cell_type": "markdown",
   "id": "79d9e29b",
   "metadata": {},
   "source": [
    "# combinations_with_replacement=cwr"
   ]
  },
  {
   "cell_type": "code",
   "execution_count": 49,
   "id": "5cd5d905",
   "metadata": {},
   "outputs": [],
   "source": [
    "from itertools import combinations_with_replacement as cwr"
   ]
  },
  {
   "cell_type": "code",
   "execution_count": 50,
   "id": "31ae8ae4",
   "metadata": {},
   "outputs": [
    {
     "data": {
      "text/plain": [
       "[(1, 1), (1, 2), (1, 3), (2, 2), (2, 3), (3, 3)]"
      ]
     },
     "execution_count": 50,
     "metadata": {},
     "output_type": "execute_result"
    }
   ],
   "source": [
    "list(cwr([1,2,3],2))"
   ]
  },
  {
   "cell_type": "code",
   "execution_count": 51,
   "id": "119005a3",
   "metadata": {},
   "outputs": [
    {
     "data": {
      "text/plain": [
       "[(1, 2), (1, 3), (2, 3)]"
      ]
     },
     "execution_count": 51,
     "metadata": {},
     "output_type": "execute_result"
    }
   ],
   "source": [
    "list(combinations([1,2,3],2))"
   ]
  },
  {
   "cell_type": "code",
   "execution_count": 52,
   "id": "4c22eaa4",
   "metadata": {},
   "outputs": [
    {
     "data": {
      "text/plain": [
       "[(1, 2), (1, 3), (2, 1), (2, 3), (3, 1), (3, 2)]"
      ]
     },
     "execution_count": 52,
     "metadata": {},
     "output_type": "execute_result"
    }
   ],
   "source": [
    "list(permutations([1,2,3],2))"
   ]
  },
  {
   "cell_type": "code",
   "execution_count": 55,
   "id": "fcd4641e",
   "metadata": {},
   "outputs": [
    {
     "data": {
      "text/plain": [
       "[(1, 1, 1),\n",
       " (1, 1, 2),\n",
       " (1, 1, 3),\n",
       " (1, 2, 2),\n",
       " (1, 2, 3),\n",
       " (1, 3, 3),\n",
       " (2, 2, 2),\n",
       " (2, 2, 3),\n",
       " (2, 3, 3),\n",
       " (3, 3, 3)]"
      ]
     },
     "execution_count": 55,
     "metadata": {},
     "output_type": "execute_result"
    }
   ],
   "source": [
    "list(cwr([1,2,3],3))"
   ]
  },
  {
   "cell_type": "code",
   "execution_count": 56,
   "id": "6dffcf92",
   "metadata": {},
   "outputs": [
    {
     "data": {
      "text/plain": [
       "[(1, 1, 1),\n",
       " (1, 1, 2),\n",
       " (1, 1, 3),\n",
       " (1, 1, 4),\n",
       " (1, 1, 5),\n",
       " (1, 1, 6),\n",
       " (1, 2, 2),\n",
       " (1, 2, 3),\n",
       " (1, 2, 4),\n",
       " (1, 2, 5),\n",
       " (1, 2, 6),\n",
       " (1, 3, 3),\n",
       " (1, 3, 4),\n",
       " (1, 3, 5),\n",
       " (1, 3, 6),\n",
       " (1, 4, 4),\n",
       " (1, 4, 5),\n",
       " (1, 4, 6),\n",
       " (1, 5, 5),\n",
       " (1, 5, 6),\n",
       " (1, 6, 6),\n",
       " (2, 2, 2),\n",
       " (2, 2, 3),\n",
       " (2, 2, 4),\n",
       " (2, 2, 5),\n",
       " (2, 2, 6),\n",
       " (2, 3, 3),\n",
       " (2, 3, 4),\n",
       " (2, 3, 5),\n",
       " (2, 3, 6),\n",
       " (2, 4, 4),\n",
       " (2, 4, 5),\n",
       " (2, 4, 6),\n",
       " (2, 5, 5),\n",
       " (2, 5, 6),\n",
       " (2, 6, 6),\n",
       " (3, 3, 3),\n",
       " (3, 3, 4),\n",
       " (3, 3, 5),\n",
       " (3, 3, 6),\n",
       " (3, 4, 4),\n",
       " (3, 4, 5),\n",
       " (3, 4, 6),\n",
       " (3, 5, 5),\n",
       " (3, 5, 6),\n",
       " (3, 6, 6),\n",
       " (4, 4, 4),\n",
       " (4, 4, 5),\n",
       " (4, 4, 6),\n",
       " (4, 5, 5),\n",
       " (4, 5, 6),\n",
       " (4, 6, 6),\n",
       " (5, 5, 5),\n",
       " (5, 5, 6),\n",
       " (5, 6, 6),\n",
       " (6, 6, 6)]"
      ]
     },
     "execution_count": 56,
     "metadata": {},
     "output_type": "execute_result"
    }
   ],
   "source": [
    "list(cwr([1,2,3,4,5,6],3))                             #dice: tass andakhtan"
   ]
  },
  {
   "cell_type": "code",
   "execution_count": 57,
   "id": "6e9d1cf0",
   "metadata": {},
   "outputs": [
    {
     "data": {
      "text/plain": [
       "56"
      ]
     },
     "execution_count": 57,
     "metadata": {},
     "output_type": "execute_result"
    }
   ],
   "source": [
    "len(list(cwr([1,2,3,4,5,6],3)))               #1*6+2*5+3*4+4*3+5*2+6*1=56"
   ]
  },
  {
   "cell_type": "code",
   "execution_count": 60,
   "id": "0ad10bf0",
   "metadata": {},
   "outputs": [
    {
     "data": {
      "text/plain": [
       "21"
      ]
     },
     "execution_count": 60,
     "metadata": {},
     "output_type": "execute_result"
    }
   ],
   "source": [
    "len(list(cwr([1,2,3,4,5,6],2)))                #1+2+3+4+5+6=21"
   ]
  },
  {
   "cell_type": "code",
   "execution_count": 61,
   "id": "f09cf76f",
   "metadata": {},
   "outputs": [
    {
     "data": {
      "text/plain": [
       "6"
      ]
     },
     "execution_count": 61,
     "metadata": {},
     "output_type": "execute_result"
    }
   ],
   "source": [
    "len(list(cwr([1,2,3,4,5,6],1)))               "
   ]
  },
  {
   "cell_type": "code",
   "execution_count": 62,
   "id": "81c20212",
   "metadata": {},
   "outputs": [
    {
     "data": {
      "text/plain": [
       "[(1,), (2,), (3,), (4,), (5,), (6,)]"
      ]
     },
     "execution_count": 62,
     "metadata": {},
     "output_type": "execute_result"
    }
   ],
   "source": [
    "list(cwr([1,2,3,4,5,6],1))"
   ]
  },
  {
   "cell_type": "code",
   "execution_count": 63,
   "id": "01775c3a",
   "metadata": {},
   "outputs": [
    {
     "data": {
      "text/plain": [
       "[('A', 'A', 'A', 'A', 'A', 'A', 'A', 'A', 'A', 'A'),\n",
       " ('A', 'A', 'A', 'A', 'A', 'A', 'A', 'A', 'A', 'T'),\n",
       " ('A', 'A', 'A', 'A', 'A', 'A', 'A', 'A', 'A', 'G'),\n",
       " ('A', 'A', 'A', 'A', 'A', 'A', 'A', 'A', 'A', 'C'),\n",
       " ('A', 'A', 'A', 'A', 'A', 'A', 'A', 'A', 'T', 'T'),\n",
       " ('A', 'A', 'A', 'A', 'A', 'A', 'A', 'A', 'T', 'G'),\n",
       " ('A', 'A', 'A', 'A', 'A', 'A', 'A', 'A', 'T', 'C'),\n",
       " ('A', 'A', 'A', 'A', 'A', 'A', 'A', 'A', 'G', 'G'),\n",
       " ('A', 'A', 'A', 'A', 'A', 'A', 'A', 'A', 'G', 'C'),\n",
       " ('A', 'A', 'A', 'A', 'A', 'A', 'A', 'A', 'C', 'C'),\n",
       " ('A', 'A', 'A', 'A', 'A', 'A', 'A', 'T', 'T', 'T'),\n",
       " ('A', 'A', 'A', 'A', 'A', 'A', 'A', 'T', 'T', 'G'),\n",
       " ('A', 'A', 'A', 'A', 'A', 'A', 'A', 'T', 'T', 'C'),\n",
       " ('A', 'A', 'A', 'A', 'A', 'A', 'A', 'T', 'G', 'G'),\n",
       " ('A', 'A', 'A', 'A', 'A', 'A', 'A', 'T', 'G', 'C'),\n",
       " ('A', 'A', 'A', 'A', 'A', 'A', 'A', 'T', 'C', 'C'),\n",
       " ('A', 'A', 'A', 'A', 'A', 'A', 'A', 'G', 'G', 'G'),\n",
       " ('A', 'A', 'A', 'A', 'A', 'A', 'A', 'G', 'G', 'C'),\n",
       " ('A', 'A', 'A', 'A', 'A', 'A', 'A', 'G', 'C', 'C'),\n",
       " ('A', 'A', 'A', 'A', 'A', 'A', 'A', 'C', 'C', 'C'),\n",
       " ('A', 'A', 'A', 'A', 'A', 'A', 'T', 'T', 'T', 'T'),\n",
       " ('A', 'A', 'A', 'A', 'A', 'A', 'T', 'T', 'T', 'G'),\n",
       " ('A', 'A', 'A', 'A', 'A', 'A', 'T', 'T', 'T', 'C'),\n",
       " ('A', 'A', 'A', 'A', 'A', 'A', 'T', 'T', 'G', 'G'),\n",
       " ('A', 'A', 'A', 'A', 'A', 'A', 'T', 'T', 'G', 'C'),\n",
       " ('A', 'A', 'A', 'A', 'A', 'A', 'T', 'T', 'C', 'C'),\n",
       " ('A', 'A', 'A', 'A', 'A', 'A', 'T', 'G', 'G', 'G'),\n",
       " ('A', 'A', 'A', 'A', 'A', 'A', 'T', 'G', 'G', 'C'),\n",
       " ('A', 'A', 'A', 'A', 'A', 'A', 'T', 'G', 'C', 'C'),\n",
       " ('A', 'A', 'A', 'A', 'A', 'A', 'T', 'C', 'C', 'C'),\n",
       " ('A', 'A', 'A', 'A', 'A', 'A', 'G', 'G', 'G', 'G'),\n",
       " ('A', 'A', 'A', 'A', 'A', 'A', 'G', 'G', 'G', 'C'),\n",
       " ('A', 'A', 'A', 'A', 'A', 'A', 'G', 'G', 'C', 'C'),\n",
       " ('A', 'A', 'A', 'A', 'A', 'A', 'G', 'C', 'C', 'C'),\n",
       " ('A', 'A', 'A', 'A', 'A', 'A', 'C', 'C', 'C', 'C'),\n",
       " ('A', 'A', 'A', 'A', 'A', 'T', 'T', 'T', 'T', 'T'),\n",
       " ('A', 'A', 'A', 'A', 'A', 'T', 'T', 'T', 'T', 'G'),\n",
       " ('A', 'A', 'A', 'A', 'A', 'T', 'T', 'T', 'T', 'C'),\n",
       " ('A', 'A', 'A', 'A', 'A', 'T', 'T', 'T', 'G', 'G'),\n",
       " ('A', 'A', 'A', 'A', 'A', 'T', 'T', 'T', 'G', 'C'),\n",
       " ('A', 'A', 'A', 'A', 'A', 'T', 'T', 'T', 'C', 'C'),\n",
       " ('A', 'A', 'A', 'A', 'A', 'T', 'T', 'G', 'G', 'G'),\n",
       " ('A', 'A', 'A', 'A', 'A', 'T', 'T', 'G', 'G', 'C'),\n",
       " ('A', 'A', 'A', 'A', 'A', 'T', 'T', 'G', 'C', 'C'),\n",
       " ('A', 'A', 'A', 'A', 'A', 'T', 'T', 'C', 'C', 'C'),\n",
       " ('A', 'A', 'A', 'A', 'A', 'T', 'G', 'G', 'G', 'G'),\n",
       " ('A', 'A', 'A', 'A', 'A', 'T', 'G', 'G', 'G', 'C'),\n",
       " ('A', 'A', 'A', 'A', 'A', 'T', 'G', 'G', 'C', 'C'),\n",
       " ('A', 'A', 'A', 'A', 'A', 'T', 'G', 'C', 'C', 'C'),\n",
       " ('A', 'A', 'A', 'A', 'A', 'T', 'C', 'C', 'C', 'C'),\n",
       " ('A', 'A', 'A', 'A', 'A', 'G', 'G', 'G', 'G', 'G'),\n",
       " ('A', 'A', 'A', 'A', 'A', 'G', 'G', 'G', 'G', 'C'),\n",
       " ('A', 'A', 'A', 'A', 'A', 'G', 'G', 'G', 'C', 'C'),\n",
       " ('A', 'A', 'A', 'A', 'A', 'G', 'G', 'C', 'C', 'C'),\n",
       " ('A', 'A', 'A', 'A', 'A', 'G', 'C', 'C', 'C', 'C'),\n",
       " ('A', 'A', 'A', 'A', 'A', 'C', 'C', 'C', 'C', 'C'),\n",
       " ('A', 'A', 'A', 'A', 'T', 'T', 'T', 'T', 'T', 'T'),\n",
       " ('A', 'A', 'A', 'A', 'T', 'T', 'T', 'T', 'T', 'G'),\n",
       " ('A', 'A', 'A', 'A', 'T', 'T', 'T', 'T', 'T', 'C'),\n",
       " ('A', 'A', 'A', 'A', 'T', 'T', 'T', 'T', 'G', 'G'),\n",
       " ('A', 'A', 'A', 'A', 'T', 'T', 'T', 'T', 'G', 'C'),\n",
       " ('A', 'A', 'A', 'A', 'T', 'T', 'T', 'T', 'C', 'C'),\n",
       " ('A', 'A', 'A', 'A', 'T', 'T', 'T', 'G', 'G', 'G'),\n",
       " ('A', 'A', 'A', 'A', 'T', 'T', 'T', 'G', 'G', 'C'),\n",
       " ('A', 'A', 'A', 'A', 'T', 'T', 'T', 'G', 'C', 'C'),\n",
       " ('A', 'A', 'A', 'A', 'T', 'T', 'T', 'C', 'C', 'C'),\n",
       " ('A', 'A', 'A', 'A', 'T', 'T', 'G', 'G', 'G', 'G'),\n",
       " ('A', 'A', 'A', 'A', 'T', 'T', 'G', 'G', 'G', 'C'),\n",
       " ('A', 'A', 'A', 'A', 'T', 'T', 'G', 'G', 'C', 'C'),\n",
       " ('A', 'A', 'A', 'A', 'T', 'T', 'G', 'C', 'C', 'C'),\n",
       " ('A', 'A', 'A', 'A', 'T', 'T', 'C', 'C', 'C', 'C'),\n",
       " ('A', 'A', 'A', 'A', 'T', 'G', 'G', 'G', 'G', 'G'),\n",
       " ('A', 'A', 'A', 'A', 'T', 'G', 'G', 'G', 'G', 'C'),\n",
       " ('A', 'A', 'A', 'A', 'T', 'G', 'G', 'G', 'C', 'C'),\n",
       " ('A', 'A', 'A', 'A', 'T', 'G', 'G', 'C', 'C', 'C'),\n",
       " ('A', 'A', 'A', 'A', 'T', 'G', 'C', 'C', 'C', 'C'),\n",
       " ('A', 'A', 'A', 'A', 'T', 'C', 'C', 'C', 'C', 'C'),\n",
       " ('A', 'A', 'A', 'A', 'G', 'G', 'G', 'G', 'G', 'G'),\n",
       " ('A', 'A', 'A', 'A', 'G', 'G', 'G', 'G', 'G', 'C'),\n",
       " ('A', 'A', 'A', 'A', 'G', 'G', 'G', 'G', 'C', 'C'),\n",
       " ('A', 'A', 'A', 'A', 'G', 'G', 'G', 'C', 'C', 'C'),\n",
       " ('A', 'A', 'A', 'A', 'G', 'G', 'C', 'C', 'C', 'C'),\n",
       " ('A', 'A', 'A', 'A', 'G', 'C', 'C', 'C', 'C', 'C'),\n",
       " ('A', 'A', 'A', 'A', 'C', 'C', 'C', 'C', 'C', 'C'),\n",
       " ('A', 'A', 'A', 'T', 'T', 'T', 'T', 'T', 'T', 'T'),\n",
       " ('A', 'A', 'A', 'T', 'T', 'T', 'T', 'T', 'T', 'G'),\n",
       " ('A', 'A', 'A', 'T', 'T', 'T', 'T', 'T', 'T', 'C'),\n",
       " ('A', 'A', 'A', 'T', 'T', 'T', 'T', 'T', 'G', 'G'),\n",
       " ('A', 'A', 'A', 'T', 'T', 'T', 'T', 'T', 'G', 'C'),\n",
       " ('A', 'A', 'A', 'T', 'T', 'T', 'T', 'T', 'C', 'C'),\n",
       " ('A', 'A', 'A', 'T', 'T', 'T', 'T', 'G', 'G', 'G'),\n",
       " ('A', 'A', 'A', 'T', 'T', 'T', 'T', 'G', 'G', 'C'),\n",
       " ('A', 'A', 'A', 'T', 'T', 'T', 'T', 'G', 'C', 'C'),\n",
       " ('A', 'A', 'A', 'T', 'T', 'T', 'T', 'C', 'C', 'C'),\n",
       " ('A', 'A', 'A', 'T', 'T', 'T', 'G', 'G', 'G', 'G'),\n",
       " ('A', 'A', 'A', 'T', 'T', 'T', 'G', 'G', 'G', 'C'),\n",
       " ('A', 'A', 'A', 'T', 'T', 'T', 'G', 'G', 'C', 'C'),\n",
       " ('A', 'A', 'A', 'T', 'T', 'T', 'G', 'C', 'C', 'C'),\n",
       " ('A', 'A', 'A', 'T', 'T', 'T', 'C', 'C', 'C', 'C'),\n",
       " ('A', 'A', 'A', 'T', 'T', 'G', 'G', 'G', 'G', 'G'),\n",
       " ('A', 'A', 'A', 'T', 'T', 'G', 'G', 'G', 'G', 'C'),\n",
       " ('A', 'A', 'A', 'T', 'T', 'G', 'G', 'G', 'C', 'C'),\n",
       " ('A', 'A', 'A', 'T', 'T', 'G', 'G', 'C', 'C', 'C'),\n",
       " ('A', 'A', 'A', 'T', 'T', 'G', 'C', 'C', 'C', 'C'),\n",
       " ('A', 'A', 'A', 'T', 'T', 'C', 'C', 'C', 'C', 'C'),\n",
       " ('A', 'A', 'A', 'T', 'G', 'G', 'G', 'G', 'G', 'G'),\n",
       " ('A', 'A', 'A', 'T', 'G', 'G', 'G', 'G', 'G', 'C'),\n",
       " ('A', 'A', 'A', 'T', 'G', 'G', 'G', 'G', 'C', 'C'),\n",
       " ('A', 'A', 'A', 'T', 'G', 'G', 'G', 'C', 'C', 'C'),\n",
       " ('A', 'A', 'A', 'T', 'G', 'G', 'C', 'C', 'C', 'C'),\n",
       " ('A', 'A', 'A', 'T', 'G', 'C', 'C', 'C', 'C', 'C'),\n",
       " ('A', 'A', 'A', 'T', 'C', 'C', 'C', 'C', 'C', 'C'),\n",
       " ('A', 'A', 'A', 'G', 'G', 'G', 'G', 'G', 'G', 'G'),\n",
       " ('A', 'A', 'A', 'G', 'G', 'G', 'G', 'G', 'G', 'C'),\n",
       " ('A', 'A', 'A', 'G', 'G', 'G', 'G', 'G', 'C', 'C'),\n",
       " ('A', 'A', 'A', 'G', 'G', 'G', 'G', 'C', 'C', 'C'),\n",
       " ('A', 'A', 'A', 'G', 'G', 'G', 'C', 'C', 'C', 'C'),\n",
       " ('A', 'A', 'A', 'G', 'G', 'C', 'C', 'C', 'C', 'C'),\n",
       " ('A', 'A', 'A', 'G', 'C', 'C', 'C', 'C', 'C', 'C'),\n",
       " ('A', 'A', 'A', 'C', 'C', 'C', 'C', 'C', 'C', 'C'),\n",
       " ('A', 'A', 'T', 'T', 'T', 'T', 'T', 'T', 'T', 'T'),\n",
       " ('A', 'A', 'T', 'T', 'T', 'T', 'T', 'T', 'T', 'G'),\n",
       " ('A', 'A', 'T', 'T', 'T', 'T', 'T', 'T', 'T', 'C'),\n",
       " ('A', 'A', 'T', 'T', 'T', 'T', 'T', 'T', 'G', 'G'),\n",
       " ('A', 'A', 'T', 'T', 'T', 'T', 'T', 'T', 'G', 'C'),\n",
       " ('A', 'A', 'T', 'T', 'T', 'T', 'T', 'T', 'C', 'C'),\n",
       " ('A', 'A', 'T', 'T', 'T', 'T', 'T', 'G', 'G', 'G'),\n",
       " ('A', 'A', 'T', 'T', 'T', 'T', 'T', 'G', 'G', 'C'),\n",
       " ('A', 'A', 'T', 'T', 'T', 'T', 'T', 'G', 'C', 'C'),\n",
       " ('A', 'A', 'T', 'T', 'T', 'T', 'T', 'C', 'C', 'C'),\n",
       " ('A', 'A', 'T', 'T', 'T', 'T', 'G', 'G', 'G', 'G'),\n",
       " ('A', 'A', 'T', 'T', 'T', 'T', 'G', 'G', 'G', 'C'),\n",
       " ('A', 'A', 'T', 'T', 'T', 'T', 'G', 'G', 'C', 'C'),\n",
       " ('A', 'A', 'T', 'T', 'T', 'T', 'G', 'C', 'C', 'C'),\n",
       " ('A', 'A', 'T', 'T', 'T', 'T', 'C', 'C', 'C', 'C'),\n",
       " ('A', 'A', 'T', 'T', 'T', 'G', 'G', 'G', 'G', 'G'),\n",
       " ('A', 'A', 'T', 'T', 'T', 'G', 'G', 'G', 'G', 'C'),\n",
       " ('A', 'A', 'T', 'T', 'T', 'G', 'G', 'G', 'C', 'C'),\n",
       " ('A', 'A', 'T', 'T', 'T', 'G', 'G', 'C', 'C', 'C'),\n",
       " ('A', 'A', 'T', 'T', 'T', 'G', 'C', 'C', 'C', 'C'),\n",
       " ('A', 'A', 'T', 'T', 'T', 'C', 'C', 'C', 'C', 'C'),\n",
       " ('A', 'A', 'T', 'T', 'G', 'G', 'G', 'G', 'G', 'G'),\n",
       " ('A', 'A', 'T', 'T', 'G', 'G', 'G', 'G', 'G', 'C'),\n",
       " ('A', 'A', 'T', 'T', 'G', 'G', 'G', 'G', 'C', 'C'),\n",
       " ('A', 'A', 'T', 'T', 'G', 'G', 'G', 'C', 'C', 'C'),\n",
       " ('A', 'A', 'T', 'T', 'G', 'G', 'C', 'C', 'C', 'C'),\n",
       " ('A', 'A', 'T', 'T', 'G', 'C', 'C', 'C', 'C', 'C'),\n",
       " ('A', 'A', 'T', 'T', 'C', 'C', 'C', 'C', 'C', 'C'),\n",
       " ('A', 'A', 'T', 'G', 'G', 'G', 'G', 'G', 'G', 'G'),\n",
       " ('A', 'A', 'T', 'G', 'G', 'G', 'G', 'G', 'G', 'C'),\n",
       " ('A', 'A', 'T', 'G', 'G', 'G', 'G', 'G', 'C', 'C'),\n",
       " ('A', 'A', 'T', 'G', 'G', 'G', 'G', 'C', 'C', 'C'),\n",
       " ('A', 'A', 'T', 'G', 'G', 'G', 'C', 'C', 'C', 'C'),\n",
       " ('A', 'A', 'T', 'G', 'G', 'C', 'C', 'C', 'C', 'C'),\n",
       " ('A', 'A', 'T', 'G', 'C', 'C', 'C', 'C', 'C', 'C'),\n",
       " ('A', 'A', 'T', 'C', 'C', 'C', 'C', 'C', 'C', 'C'),\n",
       " ('A', 'A', 'G', 'G', 'G', 'G', 'G', 'G', 'G', 'G'),\n",
       " ('A', 'A', 'G', 'G', 'G', 'G', 'G', 'G', 'G', 'C'),\n",
       " ('A', 'A', 'G', 'G', 'G', 'G', 'G', 'G', 'C', 'C'),\n",
       " ('A', 'A', 'G', 'G', 'G', 'G', 'G', 'C', 'C', 'C'),\n",
       " ('A', 'A', 'G', 'G', 'G', 'G', 'C', 'C', 'C', 'C'),\n",
       " ('A', 'A', 'G', 'G', 'G', 'C', 'C', 'C', 'C', 'C'),\n",
       " ('A', 'A', 'G', 'G', 'C', 'C', 'C', 'C', 'C', 'C'),\n",
       " ('A', 'A', 'G', 'C', 'C', 'C', 'C', 'C', 'C', 'C'),\n",
       " ('A', 'A', 'C', 'C', 'C', 'C', 'C', 'C', 'C', 'C'),\n",
       " ('A', 'T', 'T', 'T', 'T', 'T', 'T', 'T', 'T', 'T'),\n",
       " ('A', 'T', 'T', 'T', 'T', 'T', 'T', 'T', 'T', 'G'),\n",
       " ('A', 'T', 'T', 'T', 'T', 'T', 'T', 'T', 'T', 'C'),\n",
       " ('A', 'T', 'T', 'T', 'T', 'T', 'T', 'T', 'G', 'G'),\n",
       " ('A', 'T', 'T', 'T', 'T', 'T', 'T', 'T', 'G', 'C'),\n",
       " ('A', 'T', 'T', 'T', 'T', 'T', 'T', 'T', 'C', 'C'),\n",
       " ('A', 'T', 'T', 'T', 'T', 'T', 'T', 'G', 'G', 'G'),\n",
       " ('A', 'T', 'T', 'T', 'T', 'T', 'T', 'G', 'G', 'C'),\n",
       " ('A', 'T', 'T', 'T', 'T', 'T', 'T', 'G', 'C', 'C'),\n",
       " ('A', 'T', 'T', 'T', 'T', 'T', 'T', 'C', 'C', 'C'),\n",
       " ('A', 'T', 'T', 'T', 'T', 'T', 'G', 'G', 'G', 'G'),\n",
       " ('A', 'T', 'T', 'T', 'T', 'T', 'G', 'G', 'G', 'C'),\n",
       " ('A', 'T', 'T', 'T', 'T', 'T', 'G', 'G', 'C', 'C'),\n",
       " ('A', 'T', 'T', 'T', 'T', 'T', 'G', 'C', 'C', 'C'),\n",
       " ('A', 'T', 'T', 'T', 'T', 'T', 'C', 'C', 'C', 'C'),\n",
       " ('A', 'T', 'T', 'T', 'T', 'G', 'G', 'G', 'G', 'G'),\n",
       " ('A', 'T', 'T', 'T', 'T', 'G', 'G', 'G', 'G', 'C'),\n",
       " ('A', 'T', 'T', 'T', 'T', 'G', 'G', 'G', 'C', 'C'),\n",
       " ('A', 'T', 'T', 'T', 'T', 'G', 'G', 'C', 'C', 'C'),\n",
       " ('A', 'T', 'T', 'T', 'T', 'G', 'C', 'C', 'C', 'C'),\n",
       " ('A', 'T', 'T', 'T', 'T', 'C', 'C', 'C', 'C', 'C'),\n",
       " ('A', 'T', 'T', 'T', 'G', 'G', 'G', 'G', 'G', 'G'),\n",
       " ('A', 'T', 'T', 'T', 'G', 'G', 'G', 'G', 'G', 'C'),\n",
       " ('A', 'T', 'T', 'T', 'G', 'G', 'G', 'G', 'C', 'C'),\n",
       " ('A', 'T', 'T', 'T', 'G', 'G', 'G', 'C', 'C', 'C'),\n",
       " ('A', 'T', 'T', 'T', 'G', 'G', 'C', 'C', 'C', 'C'),\n",
       " ('A', 'T', 'T', 'T', 'G', 'C', 'C', 'C', 'C', 'C'),\n",
       " ('A', 'T', 'T', 'T', 'C', 'C', 'C', 'C', 'C', 'C'),\n",
       " ('A', 'T', 'T', 'G', 'G', 'G', 'G', 'G', 'G', 'G'),\n",
       " ('A', 'T', 'T', 'G', 'G', 'G', 'G', 'G', 'G', 'C'),\n",
       " ('A', 'T', 'T', 'G', 'G', 'G', 'G', 'G', 'C', 'C'),\n",
       " ('A', 'T', 'T', 'G', 'G', 'G', 'G', 'C', 'C', 'C'),\n",
       " ('A', 'T', 'T', 'G', 'G', 'G', 'C', 'C', 'C', 'C'),\n",
       " ('A', 'T', 'T', 'G', 'G', 'C', 'C', 'C', 'C', 'C'),\n",
       " ('A', 'T', 'T', 'G', 'C', 'C', 'C', 'C', 'C', 'C'),\n",
       " ('A', 'T', 'T', 'C', 'C', 'C', 'C', 'C', 'C', 'C'),\n",
       " ('A', 'T', 'G', 'G', 'G', 'G', 'G', 'G', 'G', 'G'),\n",
       " ('A', 'T', 'G', 'G', 'G', 'G', 'G', 'G', 'G', 'C'),\n",
       " ('A', 'T', 'G', 'G', 'G', 'G', 'G', 'G', 'C', 'C'),\n",
       " ('A', 'T', 'G', 'G', 'G', 'G', 'G', 'C', 'C', 'C'),\n",
       " ('A', 'T', 'G', 'G', 'G', 'G', 'C', 'C', 'C', 'C'),\n",
       " ('A', 'T', 'G', 'G', 'G', 'C', 'C', 'C', 'C', 'C'),\n",
       " ('A', 'T', 'G', 'G', 'C', 'C', 'C', 'C', 'C', 'C'),\n",
       " ('A', 'T', 'G', 'C', 'C', 'C', 'C', 'C', 'C', 'C'),\n",
       " ('A', 'T', 'C', 'C', 'C', 'C', 'C', 'C', 'C', 'C'),\n",
       " ('A', 'G', 'G', 'G', 'G', 'G', 'G', 'G', 'G', 'G'),\n",
       " ('A', 'G', 'G', 'G', 'G', 'G', 'G', 'G', 'G', 'C'),\n",
       " ('A', 'G', 'G', 'G', 'G', 'G', 'G', 'G', 'C', 'C'),\n",
       " ('A', 'G', 'G', 'G', 'G', 'G', 'G', 'C', 'C', 'C'),\n",
       " ('A', 'G', 'G', 'G', 'G', 'G', 'C', 'C', 'C', 'C'),\n",
       " ('A', 'G', 'G', 'G', 'G', 'C', 'C', 'C', 'C', 'C'),\n",
       " ('A', 'G', 'G', 'G', 'C', 'C', 'C', 'C', 'C', 'C'),\n",
       " ('A', 'G', 'G', 'C', 'C', 'C', 'C', 'C', 'C', 'C'),\n",
       " ('A', 'G', 'C', 'C', 'C', 'C', 'C', 'C', 'C', 'C'),\n",
       " ('A', 'C', 'C', 'C', 'C', 'C', 'C', 'C', 'C', 'C'),\n",
       " ('T', 'T', 'T', 'T', 'T', 'T', 'T', 'T', 'T', 'T'),\n",
       " ('T', 'T', 'T', 'T', 'T', 'T', 'T', 'T', 'T', 'G'),\n",
       " ('T', 'T', 'T', 'T', 'T', 'T', 'T', 'T', 'T', 'C'),\n",
       " ('T', 'T', 'T', 'T', 'T', 'T', 'T', 'T', 'G', 'G'),\n",
       " ('T', 'T', 'T', 'T', 'T', 'T', 'T', 'T', 'G', 'C'),\n",
       " ('T', 'T', 'T', 'T', 'T', 'T', 'T', 'T', 'C', 'C'),\n",
       " ('T', 'T', 'T', 'T', 'T', 'T', 'T', 'G', 'G', 'G'),\n",
       " ('T', 'T', 'T', 'T', 'T', 'T', 'T', 'G', 'G', 'C'),\n",
       " ('T', 'T', 'T', 'T', 'T', 'T', 'T', 'G', 'C', 'C'),\n",
       " ('T', 'T', 'T', 'T', 'T', 'T', 'T', 'C', 'C', 'C'),\n",
       " ('T', 'T', 'T', 'T', 'T', 'T', 'G', 'G', 'G', 'G'),\n",
       " ('T', 'T', 'T', 'T', 'T', 'T', 'G', 'G', 'G', 'C'),\n",
       " ('T', 'T', 'T', 'T', 'T', 'T', 'G', 'G', 'C', 'C'),\n",
       " ('T', 'T', 'T', 'T', 'T', 'T', 'G', 'C', 'C', 'C'),\n",
       " ('T', 'T', 'T', 'T', 'T', 'T', 'C', 'C', 'C', 'C'),\n",
       " ('T', 'T', 'T', 'T', 'T', 'G', 'G', 'G', 'G', 'G'),\n",
       " ('T', 'T', 'T', 'T', 'T', 'G', 'G', 'G', 'G', 'C'),\n",
       " ('T', 'T', 'T', 'T', 'T', 'G', 'G', 'G', 'C', 'C'),\n",
       " ('T', 'T', 'T', 'T', 'T', 'G', 'G', 'C', 'C', 'C'),\n",
       " ('T', 'T', 'T', 'T', 'T', 'G', 'C', 'C', 'C', 'C'),\n",
       " ('T', 'T', 'T', 'T', 'T', 'C', 'C', 'C', 'C', 'C'),\n",
       " ('T', 'T', 'T', 'T', 'G', 'G', 'G', 'G', 'G', 'G'),\n",
       " ('T', 'T', 'T', 'T', 'G', 'G', 'G', 'G', 'G', 'C'),\n",
       " ('T', 'T', 'T', 'T', 'G', 'G', 'G', 'G', 'C', 'C'),\n",
       " ('T', 'T', 'T', 'T', 'G', 'G', 'G', 'C', 'C', 'C'),\n",
       " ('T', 'T', 'T', 'T', 'G', 'G', 'C', 'C', 'C', 'C'),\n",
       " ('T', 'T', 'T', 'T', 'G', 'C', 'C', 'C', 'C', 'C'),\n",
       " ('T', 'T', 'T', 'T', 'C', 'C', 'C', 'C', 'C', 'C'),\n",
       " ('T', 'T', 'T', 'G', 'G', 'G', 'G', 'G', 'G', 'G'),\n",
       " ('T', 'T', 'T', 'G', 'G', 'G', 'G', 'G', 'G', 'C'),\n",
       " ('T', 'T', 'T', 'G', 'G', 'G', 'G', 'G', 'C', 'C'),\n",
       " ('T', 'T', 'T', 'G', 'G', 'G', 'G', 'C', 'C', 'C'),\n",
       " ('T', 'T', 'T', 'G', 'G', 'G', 'C', 'C', 'C', 'C'),\n",
       " ('T', 'T', 'T', 'G', 'G', 'C', 'C', 'C', 'C', 'C'),\n",
       " ('T', 'T', 'T', 'G', 'C', 'C', 'C', 'C', 'C', 'C'),\n",
       " ('T', 'T', 'T', 'C', 'C', 'C', 'C', 'C', 'C', 'C'),\n",
       " ('T', 'T', 'G', 'G', 'G', 'G', 'G', 'G', 'G', 'G'),\n",
       " ('T', 'T', 'G', 'G', 'G', 'G', 'G', 'G', 'G', 'C'),\n",
       " ('T', 'T', 'G', 'G', 'G', 'G', 'G', 'G', 'C', 'C'),\n",
       " ('T', 'T', 'G', 'G', 'G', 'G', 'G', 'C', 'C', 'C'),\n",
       " ('T', 'T', 'G', 'G', 'G', 'G', 'C', 'C', 'C', 'C'),\n",
       " ('T', 'T', 'G', 'G', 'G', 'C', 'C', 'C', 'C', 'C'),\n",
       " ('T', 'T', 'G', 'G', 'C', 'C', 'C', 'C', 'C', 'C'),\n",
       " ('T', 'T', 'G', 'C', 'C', 'C', 'C', 'C', 'C', 'C'),\n",
       " ('T', 'T', 'C', 'C', 'C', 'C', 'C', 'C', 'C', 'C'),\n",
       " ('T', 'G', 'G', 'G', 'G', 'G', 'G', 'G', 'G', 'G'),\n",
       " ('T', 'G', 'G', 'G', 'G', 'G', 'G', 'G', 'G', 'C'),\n",
       " ('T', 'G', 'G', 'G', 'G', 'G', 'G', 'G', 'C', 'C'),\n",
       " ('T', 'G', 'G', 'G', 'G', 'G', 'G', 'C', 'C', 'C'),\n",
       " ('T', 'G', 'G', 'G', 'G', 'G', 'C', 'C', 'C', 'C'),\n",
       " ('T', 'G', 'G', 'G', 'G', 'C', 'C', 'C', 'C', 'C'),\n",
       " ('T', 'G', 'G', 'G', 'C', 'C', 'C', 'C', 'C', 'C'),\n",
       " ('T', 'G', 'G', 'C', 'C', 'C', 'C', 'C', 'C', 'C'),\n",
       " ('T', 'G', 'C', 'C', 'C', 'C', 'C', 'C', 'C', 'C'),\n",
       " ('T', 'C', 'C', 'C', 'C', 'C', 'C', 'C', 'C', 'C'),\n",
       " ('G', 'G', 'G', 'G', 'G', 'G', 'G', 'G', 'G', 'G'),\n",
       " ('G', 'G', 'G', 'G', 'G', 'G', 'G', 'G', 'G', 'C'),\n",
       " ('G', 'G', 'G', 'G', 'G', 'G', 'G', 'G', 'C', 'C'),\n",
       " ('G', 'G', 'G', 'G', 'G', 'G', 'G', 'C', 'C', 'C'),\n",
       " ('G', 'G', 'G', 'G', 'G', 'G', 'C', 'C', 'C', 'C'),\n",
       " ('G', 'G', 'G', 'G', 'G', 'C', 'C', 'C', 'C', 'C'),\n",
       " ('G', 'G', 'G', 'G', 'C', 'C', 'C', 'C', 'C', 'C'),\n",
       " ('G', 'G', 'G', 'C', 'C', 'C', 'C', 'C', 'C', 'C'),\n",
       " ('G', 'G', 'C', 'C', 'C', 'C', 'C', 'C', 'C', 'C'),\n",
       " ('G', 'C', 'C', 'C', 'C', 'C', 'C', 'C', 'C', 'C'),\n",
       " ('C', 'C', 'C', 'C', 'C', 'C', 'C', 'C', 'C', 'C')]"
      ]
     },
     "execution_count": 63,
     "metadata": {},
     "output_type": "execute_result"
    }
   ],
   "source": [
    "list(cwr('ATGC',10))"
   ]
  },
  {
   "cell_type": "code",
   "execution_count": 64,
   "id": "50799e55",
   "metadata": {},
   "outputs": [
    {
     "data": {
      "text/plain": [
       "286"
      ]
     },
     "execution_count": 64,
     "metadata": {},
     "output_type": "execute_result"
    }
   ],
   "source": [
    "len(list(cwr('ATGC',10)))"
   ]
  },
  {
   "cell_type": "code",
   "execution_count": null,
   "id": "ee56baa4",
   "metadata": {},
   "outputs": [],
   "source": []
  },
  {
   "cell_type": "code",
   "execution_count": null,
   "id": "1d88887e",
   "metadata": {},
   "outputs": [],
   "source": []
  }
 ],
 "metadata": {
  "kernelspec": {
   "display_name": "Python 3 (ipykernel)",
   "language": "python",
   "name": "python3"
  },
  "language_info": {
   "codemirror_mode": {
    "name": "ipython",
    "version": 3
   },
   "file_extension": ".py",
   "mimetype": "text/x-python",
   "name": "python",
   "nbconvert_exporter": "python",
   "pygments_lexer": "ipython3",
   "version": "3.9.7"
  }
 },
 "nbformat": 4,
 "nbformat_minor": 5
}
