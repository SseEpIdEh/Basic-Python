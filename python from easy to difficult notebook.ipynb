{
 "cells": [
  {
   "cell_type": "markdown",
   "id": "3e8ce85a",
   "metadata": {},
   "source": [
    "# a simple way that we earn the square a list of numbers:"
   ]
  },
  {
   "cell_type": "code",
   "execution_count": null,
   "id": "78eb35d4",
   "metadata": {},
   "outputs": [],
   "source": []
  },
  {
   "cell_type": "code",
   "execution_count": null,
   "id": "fd17fd98",
   "metadata": {},
   "outputs": [],
   "source": [
    "a=[1,2,3,4]\n",
    "for a in range(1,5):\n",
    "    c=a**2\n",
    "    print(c)"
   ]
  },
  {
   "cell_type": "code",
   "execution_count": 5,
   "id": "3b14a9af",
   "metadata": {},
   "outputs": [
    {
     "data": {
      "text/plain": [
       "4"
      ]
     },
     "execution_count": 5,
     "metadata": {},
     "output_type": "execute_result"
    }
   ],
   "source": [
    "#for example:\n",
    "square=lambda x:x**2\n",
    "square(2)"
   ]
  },
  {
   "cell_type": "markdown",
   "id": "6929ebb2",
   "metadata": {},
   "source": [
    "# map() means implementing a function on list,tuple..."
   ]
  },
  {
   "cell_type": "code",
   "execution_count": 8,
   "id": "f0b92d8a",
   "metadata": {},
   "outputs": [
    {
     "data": {
      "text/plain": [
       "[1, 4, 9, 16]"
      ]
     },
     "execution_count": 8,
     "metadata": {},
     "output_type": "execute_result"
    }
   ],
   "source": [
    "A=[1,2,3,4]\n",
    "square=lambda x:x**2\n",
    "map(square,A)\n",
    "list(map(square,A))"
   ]
  },
  {
   "cell_type": "code",
   "execution_count": null,
   "id": "8c738547",
   "metadata": {},
   "outputs": [],
   "source": [
    "#when we want to show the index in output with their values"
   ]
  },
  {
   "cell_type": "code",
   "execution_count": 9,
   "id": "ba7b4735",
   "metadata": {},
   "outputs": [
    {
     "data": {
      "text/plain": [
       "[(1, 1), (2, 4), (3, 9), (4, 16)]"
      ]
     },
     "execution_count": 9,
     "metadata": {},
     "output_type": "execute_result"
    }
   ],
   "source": [
    "square2=lambda x:(x,x**2)\n",
    "map(square2,A)\n",
    "list(map(square2,A))"
   ]
  },
  {
   "cell_type": "code",
   "execution_count": 10,
   "id": "da57457f",
   "metadata": {},
   "outputs": [],
   "source": [
    "a=[1,2,3,4]\n",
    "b=[5,6,7,8]"
   ]
  },
  {
   "cell_type": "code",
   "execution_count": 16,
   "id": "e3997825",
   "metadata": {},
   "outputs": [
    {
     "data": {
      "text/plain": [
       "[6, 8, 10, 12]"
      ]
     },
     "execution_count": 16,
     "metadata": {},
     "output_type": "execute_result"
    }
   ],
   "source": [
    "sum=lambda a,b: a+b\n",
    "list(map(sum,a,b))"
   ]
  },
  {
   "cell_type": "code",
   "execution_count": 17,
   "id": "838bc966",
   "metadata": {},
   "outputs": [
    {
     "data": {
      "text/plain": [
       "[6, 8, 10, 12]"
      ]
     },
     "execution_count": 17,
     "metadata": {},
     "output_type": "execute_result"
    }
   ],
   "source": [
    "list(map(lambda a,b:a+b, a,b))"
   ]
  },
  {
   "cell_type": "code",
   "execution_count": null,
   "id": "c5f25a12",
   "metadata": {},
   "outputs": [],
   "source": [
    "# here we have a,b,and c but for c there no list, but we can use of a or b\n"
   ]
  },
  {
   "cell_type": "code",
   "execution_count": 22,
   "id": "c1bb61d9",
   "metadata": {},
   "outputs": [
    {
     "data": {
      "text/plain": [
       "[4, 4, 4, 4]"
      ]
     },
     "execution_count": 22,
     "metadata": {},
     "output_type": "execute_result"
    }
   ],
   "source": [
    "list(map(lambda a,b,c:a+b-2*c, a,b,a)) \n",
    "      #means the parametrs of c is the same of b(we chose it)"
   ]
  },
  {
   "cell_type": "markdown",
   "id": "14db2bd3",
   "metadata": {},
   "source": [
    "# filter(a,b)"
   ]
  },
  {
   "cell_type": "code",
   "execution_count": null,
   "id": "db0a8cdc",
   "metadata": {},
   "outputs": [],
   "source": [
    "#there is a question here that print for those numbers are even(x%2==0) in output:"
   ]
  },
  {
   "cell_type": "code",
   "execution_count": 41,
   "id": "b32d1682",
   "metadata": {},
   "outputs": [
    {
     "data": {
      "text/plain": [
       "[2, 4, 6]"
      ]
     },
     "execution_count": 41,
     "metadata": {},
     "output_type": "execute_result"
    }
   ],
   "source": [
    "a=[1,2,3,4,5,6,7]\n",
    "list(x for x in range(1,8) if x%2==0)"
   ]
  },
  {
   "cell_type": "code",
   "execution_count": 55,
   "id": "42eee5f5",
   "metadata": {},
   "outputs": [
    {
     "data": {
      "text/plain": [
       "<filter at 0x19c6784e220>"
      ]
     },
     "execution_count": 55,
     "metadata": {},
     "output_type": "execute_result"
    }
   ],
   "source": [
    "A=[1,2,3,4,5,6,7]\n",
    "filter(lambda x:x%2,A)"
   ]
  },
  {
   "cell_type": "code",
   "execution_count": 56,
   "id": "256ba790",
   "metadata": {},
   "outputs": [
    {
     "data": {
      "text/plain": [
       "[1, 3, 5, 7]"
      ]
     },
     "execution_count": 56,
     "metadata": {},
     "output_type": "execute_result"
    }
   ],
   "source": [
    "list(filter(lambda x: x%2,A))"
   ]
  },
  {
   "cell_type": "code",
   "execution_count": 57,
   "id": "7f8d1823",
   "metadata": {},
   "outputs": [
    {
     "data": {
      "text/plain": [
       "[2, 4, 6]"
      ]
     },
     "execution_count": 57,
     "metadata": {},
     "output_type": "execute_result"
    }
   ],
   "source": [
    "list(filter(lambda x:  not x%2,A))"
   ]
  },
  {
   "cell_type": "code",
   "execution_count": 58,
   "id": "3d3fc993",
   "metadata": {},
   "outputs": [
    {
     "data": {
      "text/plain": [
       "[2, 4, 6]"
      ]
     },
     "execution_count": 58,
     "metadata": {},
     "output_type": "execute_result"
    }
   ],
   "source": [
    "list(filter(lambda x: 1-x%2,A))"
   ]
  },
  {
   "cell_type": "code",
   "execution_count": 59,
   "id": "384993ce",
   "metadata": {},
   "outputs": [
    {
     "data": {
      "text/plain": [
       "[3, 6]"
      ]
     },
     "execution_count": 59,
     "metadata": {},
     "output_type": "execute_result"
    }
   ],
   "source": [
    "list(filter(lambda x:  not x%3,A))"
   ]
  },
  {
   "cell_type": "code",
   "execution_count": 60,
   "id": "fcf17140",
   "metadata": {},
   "outputs": [
    {
     "data": {
      "text/plain": [
       "[1, 2, 4, 5, 7]"
      ]
     },
     "execution_count": 60,
     "metadata": {},
     "output_type": "execute_result"
    }
   ],
   "source": [
    "list(filter(lambda x: x%3,A))"
   ]
  },
  {
   "cell_type": "code",
   "execution_count": 65,
   "id": "02cb9d28",
   "metadata": {},
   "outputs": [
    {
     "data": {
      "text/plain": [
       "[1, 2, 3, 4, 5, 6, 7]"
      ]
     },
     "execution_count": 65,
     "metadata": {},
     "output_type": "execute_result"
    }
   ],
   "source": [
    "list(filter(None,A))"
   ]
  },
  {
   "cell_type": "code",
   "execution_count": 66,
   "id": "0ac4e3c5",
   "metadata": {},
   "outputs": [],
   "source": [
    "B=[1,0,2,3,4,5,0,1]"
   ]
  },
  {
   "cell_type": "code",
   "execution_count": 67,
   "id": "d5bbc5c2",
   "metadata": {},
   "outputs": [
    {
     "data": {
      "text/plain": [
       "[1, 2, 3, 4, 5, 1]"
      ]
     },
     "execution_count": 67,
     "metadata": {},
     "output_type": "execute_result"
    }
   ],
   "source": [
    "list(filter(None,B))"
   ]
  },
  {
   "cell_type": "markdown",
   "id": "652b6ebb",
   "metadata": {},
   "source": [
    "\n",
    "# Syntax: sorted(iterable, key, reverse)\n",
    "\n",
    "Parameters: sorted takes three parameters from which two are optional. \n",
    "\n",
    "Iterable: sequence (list, tuple, string) or collection (dictionary, set, frozenset) or any other iterator that needs to be sorted.\n",
    " \n",
    "Key(optional): A function that would serve as a key or a basis of sort comparison.\n",
    " \n",
    "Reverse(optional): If True, then the iterable would be sorted in reverse (descending) order, by default it is set as False.\n",
    "\n",
    "Return: Returns a list with elements in sorted order."
   ]
  },
  {
   "cell_type": "code",
   "execution_count": 71,
   "id": "614b35c7",
   "metadata": {},
   "outputs": [],
   "source": [
    "a=[1,-2,3,4,0,-5,9,-10,5,-3]"
   ]
  },
  {
   "cell_type": "code",
   "execution_count": 80,
   "id": "5518f404",
   "metadata": {},
   "outputs": [
    {
     "data": {
      "text/plain": [
       "[-10, -5, -3, -2, 0, 1, 3, 4, 5, 9]"
      ]
     },
     "execution_count": 80,
     "metadata": {},
     "output_type": "execute_result"
    }
   ],
   "source": [
    "sorted(a)"
   ]
  },
  {
   "cell_type": "code",
   "execution_count": 81,
   "id": "6a3391b2",
   "metadata": {},
   "outputs": [
    {
     "name": "stdout",
     "output_type": "stream",
     "text": [
      "[-10, -5, -3, -2, 0, 1, 3, 4, 5, 9]\n"
     ]
    }
   ],
   "source": [
    "print(sorted(a))                                 #(from Min to Max)"
   ]
  },
  {
   "cell_type": "code",
   "execution_count": 82,
   "id": "8cbbf468",
   "metadata": {},
   "outputs": [
    {
     "data": {
      "text/plain": [
       "[9, 5, 4, 3, 1, 0, -2, -3, -5, -10]"
      ]
     },
     "execution_count": 82,
     "metadata": {},
     "output_type": "execute_result"
    }
   ],
   "source": [
    "sorted(a,reverse=True)                     # (from Max to Min)"
   ]
  },
  {
   "cell_type": "code",
   "execution_count": null,
   "id": "9d47022d",
   "metadata": {},
   "outputs": [],
   "source": [
    "def square(x):\n",
    "    return x**2"
   ]
  },
  {
   "cell_type": "code",
   "execution_count": 83,
   "id": "21eae0a3",
   "metadata": {},
   "outputs": [
    {
     "data": {
      "text/plain": [
       "100"
      ]
     },
     "execution_count": 83,
     "metadata": {},
     "output_type": "execute_result"
    }
   ],
   "source": [
    "square(10)"
   ]
  },
  {
   "cell_type": "code",
   "execution_count": 84,
   "id": "68b78d26",
   "metadata": {},
   "outputs": [
    {
     "data": {
      "text/plain": [
       "[-10, 9, -5, 5, 4, 3, -3, -2, 1, 0]"
      ]
     },
     "execution_count": 84,
     "metadata": {},
     "output_type": "execute_result"
    }
   ],
   "source": [
    "sorted(a, key=square, reverse=True)"
   ]
  },
  {
   "cell_type": "code",
   "execution_count": 85,
   "id": "ead30ffe",
   "metadata": {},
   "outputs": [
    {
     "data": {
      "text/plain": [
       "[-10, 9, -5, 5, 4, 3, -3, -2, 1, 0]"
      ]
     },
     "execution_count": 85,
     "metadata": {},
     "output_type": "execute_result"
    }
   ],
   "source": [
    "sorted(a, key=abs, reverse=True)"
   ]
  },
  {
   "cell_type": "code",
   "execution_count": 86,
   "id": "f7abeeb5",
   "metadata": {},
   "outputs": [
    {
     "data": {
      "text/plain": [
       "[-10, 9, -5, 5, 4, 3, -3, -2, 1, 0]"
      ]
     },
     "execution_count": 86,
     "metadata": {},
     "output_type": "execute_result"
    }
   ],
   "source": [
    "sorted(a, key=lambda x:x**2, reverse=True)"
   ]
  },
  {
   "cell_type": "code",
   "execution_count": 102,
   "id": "67956686",
   "metadata": {},
   "outputs": [],
   "source": [
    "B=[1,3,4,2,7,8,9,2,3,4,5,10]"
   ]
  },
  {
   "cell_type": "code",
   "execution_count": 103,
   "id": "6d318cd1",
   "metadata": {},
   "outputs": [
    {
     "data": {
      "text/plain": [
       "[4, 2, 8, 2, 4, 10, 1, 3, 7, 9, 3, 5]"
      ]
     },
     "execution_count": 103,
     "metadata": {},
     "output_type": "execute_result"
    }
   ],
   "source": [
    "sorted(B, key=lambda x:x%2)"
   ]
  },
  {
   "cell_type": "code",
   "execution_count": 104,
   "id": "c4350675",
   "metadata": {},
   "outputs": [
    {
     "data": {
      "text/plain": [
       "[1, 2, 2, 3, 3, 4, 4, 5, 7, 8, 9, 10]"
      ]
     },
     "execution_count": 104,
     "metadata": {},
     "output_type": "execute_result"
    }
   ],
   "source": [
    "sorted(B)"
   ]
  },
  {
   "cell_type": "code",
   "execution_count": 107,
   "id": "798850bc",
   "metadata": {},
   "outputs": [
    {
     "data": {
      "text/plain": [
       "[2, 2, 4, 4, 8, 10, 1, 3, 3, 5, 7, 9]"
      ]
     },
     "execution_count": 107,
     "metadata": {},
     "output_type": "execute_result"
    }
   ],
   "source": [
    "sorted(sorted(B),key=lambda x:x%2)"
   ]
  },
  {
   "cell_type": "code",
   "execution_count": 108,
   "id": "fba9d5d5",
   "metadata": {},
   "outputs": [
    {
     "data": {
      "text/plain": [
       "[2, 2, 4, 4, 8, 10, 1, 3, 3, 5, 7, 9]"
      ]
     },
     "execution_count": 108,
     "metadata": {},
     "output_type": "execute_result"
    }
   ],
   "source": [
    "sorted(B,key=lambda x:(x%2,x) #(first based on x will be sorted and then based on x%2) but all of thesefunctions happen the same time"
   ]
  },
  {
   "cell_type": "code",
   "execution_count": 109,
   "id": "f9c38e13",
   "metadata": {},
   "outputs": [
    {
     "data": {
      "text/plain": [
       "[1, 2, 2, 3, 3, 4, 4, 5, 7, 8, 9, 10]"
      ]
     },
     "execution_count": 109,
     "metadata": {},
     "output_type": "execute_result"
    }
   ],
   "source": [
    "sorted(B,key=lambda x:(x,x%2))"
   ]
  },
  {
   "cell_type": "code",
   "execution_count": 112,
   "id": "4ae698d3",
   "metadata": {},
   "outputs": [
    {
     "data": {
      "text/plain": [
       "[3, 3, 9, 4, 4, 10, 1, 7, 2, 2, 8, 5]"
      ]
     },
     "execution_count": 112,
     "metadata": {},
     "output_type": "execute_result"
    }
   ],
   "source": [
    "sorted(B,key=lambda x:(x%3,x%2,x))"
   ]
  },
  {
   "cell_type": "code",
   "execution_count": 318,
   "id": "91828b29",
   "metadata": {},
   "outputs": [
    {
     "name": "stdout",
     "output_type": "stream",
     "text": [
      "[1, 2, 3, 4]\n"
     ]
    }
   ],
   "source": [
    "print(sorted([4, 1, 3, 2]))\n"
   ]
  },
  {
   "cell_type": "code",
   "execution_count": 319,
   "id": "9f99e39d",
   "metadata": {},
   "outputs": [
    {
     "name": "stdout",
     "output_type": "stream",
     "text": [
      "Sorted List returned : [1, 2, 3, 4, 6, 7, 8]\n",
      "Reverse sort : [8, 7, 6, 4, 3, 2, 1]\n",
      "\n",
      "Original list not modified : [2, 8, 1, 4, 6, 3, 7]\n"
     ]
    }
   ],
   "source": [
    "x = [2, 8, 1, 4, 6, 3, 7]\n",
    "\n",
    "print(\"Sorted List returned :\", sorted(x))\n",
    "\n",
    "print(\"Reverse sort :\", sorted(x, reverse=True))\n",
    "\n",
    "print(\"\\nOriginal list not modified :\", x)\n"
   ]
  },
  {
   "cell_type": "code",
   "execution_count": 320,
   "id": "23cfd9c8",
   "metadata": {},
   "outputs": [
    {
     "name": "stdout",
     "output_type": "stream",
     "text": [
      "['e', 'q', 'r', 't', 'w', 'y']\n",
      "['e', 'q', 'r', 't', 'w', 'y']\n",
      "['h', 'n', 'o', 'p', 't', 'y']\n",
      "['e', 'q', 'r', 't', 'w', 'y']\n",
      "['e', 'q', 'r', 't', 'w', 'y']\n",
      "['e', 'q', 'r', 't', 'w', 'y']\n"
     ]
    }
   ],
   "source": [
    "# List\n",
    "x = ['q', 'w', 'r', 'e', 't', 'y']\n",
    "print(sorted(x))\n",
    "\n",
    "# Tuple\n",
    "x = ('q', 'w', 'e', 'r', 't', 'y')\n",
    "print(sorted(x))\n",
    "\n",
    "# String-sorted based on ASCII translations\n",
    "x = \"python\"\n",
    "print(sorted(x))\n",
    "\n",
    "# Dictionary\n",
    "x = {'q': 1, 'w': 2, 'e': 3, 'r': 4, 't': 5, 'y': 6}\n",
    "print(sorted(x))\n",
    "\n",
    "# Set\n",
    "x = {'q', 'w', 'e', 'r', 't', 'y'}\n",
    "print(sorted(x))\n",
    "\n",
    "# Frozen Set\n",
    "x = frozenset(('q', 'w', 'e', 'r', 't', 'y'))\n",
    "print(sorted(x))\n"
   ]
  },
  {
   "cell_type": "markdown",
   "id": "8520070a",
   "metadata": {},
   "source": [
    "# Frozen Set():"
   ]
  },
  {
   "cell_type": "markdown",
   "id": "24ec4aab",
   "metadata": {},
   "source": [
    "In Python, a frozen set is an immutable collection of unique elements. It is similar to a set, but once created, you cannot add or remove elements from it. Frozen sets are hashable, which means that they can be used as keys in dictionaries and elements of other sets.\n",
    "\n",
    "Frozen sets are created using the frozenset() constructor. You can pass an iterable (e.g., list, tuple, set) to the constructor to create a frozen set. Here is an example:"
   ]
  },
  {
   "cell_type": "code",
   "execution_count": 321,
   "id": "8de079ed",
   "metadata": {},
   "outputs": [
    {
     "data": {
      "text/plain": [
       "frozenset({1, 2, 3, 4})"
      ]
     },
     "execution_count": 321,
     "metadata": {},
     "output_type": "execute_result"
    }
   ],
   "source": [
    ">>> my_set = {1, 2, 3, 3, 4}\n",
    ">>> my_frozen_set = frozenset(my_set)\n",
    ">>> my_frozen_set\n",
    "frozenset({1, 2, 3, 4})\n"
   ]
  },
  {
   "cell_type": "markdown",
   "id": "9de29dad",
   "metadata": {},
   "source": [
    "In this example, we create a set with duplicate elements and then convert it to a frozen set using the frozenset() constructor. The resulting frozen set contains only the unique elements.\n",
    "\n",
    "Since frozen sets are immutable, you cannot add or remove elements from them. If you try to do so, you will get a TypeError:"
   ]
  },
  {
   "cell_type": "markdown",
   "id": "a5af1ceb",
   "metadata": {},
   "source": [
    "# However, you can perform set operations on frozen sets,\n",
    "such as\n",
    "# union, intersection, and difference.\n",
    "These operations return new sets:"
   ]
  },
  {
   "cell_type": "code",
   "execution_count": null,
   "id": "f2fe20d1",
   "metadata": {},
   "outputs": [],
   "source": [
    ">>> my_frozen_set2 = frozenset({3, 4, 5})\n",
    ">>> my_frozen_set.union(my_frozen_set2)\n",
    "frozenset({1, 2, 3, 4, 5})\n",
    ">>> my_frozen_set.intersection(my_frozen_set2)\n",
    "frozenset({3, 4})\n",
    ">>> my_frozen_set.difference(my_frozen_set2)\n",
    "frozenset({1, 2})\n"
   ]
  },
  {
   "cell_type": "code",
   "execution_count": 341,
   "id": "d043ab22",
   "metadata": {},
   "outputs": [
    {
     "name": "stdout",
     "output_type": "stream",
     "text": [
      "The original string : geekforgeeks\n",
      "geekforgeeks\n",
      "['s', 'r', 'o', 'k', 'k', 'g', 'g', 'f', 'e', 'e', 'e', 'e']\n",
      "srokkggfeeee\n",
      "String after reverse sorting : geekforgeeks\n"
     ]
    }
   ],
   "source": [
    "# Python3 code to demonstrate\n",
    "# Reverse Sort a String\n",
    "# using join() + sorted() + reverse\n",
    "\n",
    "# initializing string\n",
    "test_string = \"geekforgeeks\"\n",
    "\n",
    "# printing original string\n",
    "print(\"The original string : \" + str(test_string))\n",
    "\n",
    "# using join() + sorted() + reverse\n",
    "# Sorting a string\n",
    "res = ''.join(test_string)\n",
    "print(res)\n",
    "sorted_res=sorted(res, reverse=True)\n",
    "print(sorted_res)\n",
    "\t\n",
    "res1 = ''.join(sorted(test_string, reverse = True))\n",
    "print(res1)\n",
    "# print result\n",
    "print(\"String after reverse sorting : \" + str(res))\n"
   ]
  },
  {
   "cell_type": "code",
   "execution_count": 347,
   "id": "c2633230",
   "metadata": {},
   "outputs": [
    {
     "name": "stdout",
     "output_type": "stream",
     "text": [
      "The original string : geekforgeeks\n",
      "srokkggfeeee\n",
      "String after reverse sorting : srokkggfeeee\n"
     ]
    }
   ],
   "source": [
    "# import the module\n",
    "import functools\n",
    "# initializing string\n",
    "test_string = \"geekforgeeks\"\n",
    "\n",
    "# printing original string\n",
    "print(\"The original string : \" + str(test_string))\n",
    "\n",
    "# using sorted() + reduce() + lambda\n",
    "# Reverse Sort a String\n",
    "res = functools.reduce(lambda x, y: x+y,sorted(test_string,reverse=True))\n",
    "print(res)\n",
    "# print result\n",
    "print(\"String after reverse sorting : \" + str(res))\n"
   ]
  },
  {
   "cell_type": "markdown",
   "id": "c23ec932",
   "metadata": {},
   "source": [
    "# functools\n",
    "is a Python module in the standard library that provides functions for working with higher-order functions, functions that operate on or return other functions.\n",
    "\n",
    "It includes tools for creating and manipulating callable objects, as well as tools for functional programming. Some of the key functions in the functools module include:\n",
    "\n",
    "# partial:\n",
    "\n",
    "Returns a new partial object which when called will behave like the original function with some of its arguments fixed.\n",
    "# reduce:\n",
    "\n",
    "Applies a function of two arguments cumulatively to the items of an iterable, from left to right, so as to reduce the iterable to a single value.\n",
    "# lru_cache:\n",
    "\n",
    "A decorator that wraps a function with a memoizing callable that saves up to the specified number of most recent calls. It can speed up function calls that are repeatedly used with the same arguments.\n",
    "\n",
    "functools also includes other useful functions such as wraps(), cmp_to_key(), and total_ordering(), among others. It is a useful module for anyone working with functions or functional programming in Pytho\n",
    "\n",
    "\n"
   ]
  },
  {
   "cell_type": "code",
   "execution_count": 348,
   "id": "8a9e2e3f",
   "metadata": {},
   "outputs": [
    {
     "name": "stdout",
     "output_type": "stream",
     "text": [
      "15\n"
     ]
    }
   ],
   "source": [
    "from functools import reduce\n",
    "\n",
    "# define a function to sum two numbers\n",
    "def add(x, y):\n",
    "    return x + y\n",
    "\n",
    "# create a list of numbers to sum\n",
    "numbers = [1, 2, 3, 4, 5]\n",
    "\n",
    "# use reduce() to sum the numbers\n",
    "result = reduce(add, numbers)\n",
    "\n",
    "print(result)  # Output: 15\n"
   ]
  },
  {
   "cell_type": "markdown",
   "id": "1415b404",
   "metadata": {},
   "source": [
    "In this example, we first define a function add that takes two numbers and returns their sum. We then create a list of numbers to sum, [1, 2, 3, 4, 5].\n",
    "\n",
    "We use reduce() to apply the add function to the list of numbers from left to right, cumulatively, so that the final result is the sum of all the numbers in the list.\n",
    "\n",
    "reduce() takes two arguments: the first is the function to apply to the list, and the second is the list of numbers. It starts by applying the function to the first two elements of the list, then applies it to the result and the next element, and so on, until it has processed all the elements in the list.\n",
    "\n",
    "In this example, the reduce() function applies add(1, 2), which returns 3. It then applies add(3, 3), which returns 6. It continues in this way until it has applied add() to all the elements in the list, resulting in a final sum of 15."
   ]
  },
  {
   "cell_type": "markdown",
   "id": "5a15ff18",
   "metadata": {},
   "source": [
    "# why we use reduce()? it seems like it is not more complex computation?\n",
    "\n",
    "reduce() can be very useful when you need to perform a cumulative computation on a sequence of values, such as summing up all the elements in a list, finding the product of all the elements, or calculating the maximum or minimum value in a list.\n",
    "\n",
    "While it is true that reduce() can often be replaced with a simple loop or list comprehension, using reduce() can make the code more concise and easier to read, especially when the computation is more complex.\n",
    "\n",
    "Additionally, reduce() can be more efficient than using a loop or list comprehension in some cases, particularly when working with very large lists. This is because reduce() processes the list elements one by one, using the result of each step as the input for the next step, rather than creating an intermediate list of results.\n",
    "\n",
    "Overall, reduce() may not be needed in every situation, but it can be a useful tool to have in your programming toolbox when working with sequences and cumulative computations."
   ]
  },
  {
   "cell_type": "code",
   "execution_count": 349,
   "id": "aacd0a97",
   "metadata": {},
   "outputs": [
    {
     "name": "stdout",
     "output_type": "stream",
     "text": [
      "34560\n"
     ]
    }
   ],
   "source": [
    "from functools import reduce\n",
    "\n",
    "# define a function to calculate the factorial of a number\n",
    "def factorial(n):\n",
    "    if n == 0:\n",
    "        return 1\n",
    "    else:\n",
    "        return n * factorial(n-1)\n",
    "\n",
    "# create a list of numbers to calculate the product of their factorials\n",
    "numbers = [1, 2, 3, 4, 5]\n",
    "\n",
    "# use reduce() to calculate the product of the factorials\n",
    "result = reduce(lambda x, y: x*y, map(factorial, numbers))\n",
    "\n",
    "print(result)  # Output: 34560\n"
   ]
  },
  {
   "cell_type": "markdown",
   "id": "fc494ce2",
   "metadata": {},
   "source": [
    "# \n",
    "In this example, we first define a function factorial that calculates the factorial of a given number using recursion. We then create a list of numbers, [1, 2, 3, 4, 5], for which we want to calculate the product of their factorials.\n",
    "\n",
    "We use map() to apply the factorial function to each element of the list, creating a new list of factorials. We then use reduce() to calculate the product of the factorials.\n",
    "\n",
    "reduce() takes two arguments: the first is a lambda function that multiplies two values together, and the second is the list of factorials returned by map(). It starts by multiplying the first two factorials together, then multiplies the result by the next factorial in the list, and so on, until it has multiplied all the factorials together, resulting in a final product of 34560.\n",
    "\n",
    "This example shows how reduce() can be used to perform a more complex computation involving recursion and lambda functions."
   ]
  },
  {
   "cell_type": "code",
   "execution_count": 351,
   "id": "40c0052a",
   "metadata": {},
   "outputs": [
    {
     "name": "stdout",
     "output_type": "stream",
     "text": [
      "Normal sort : ['aaa', 'b', 'cccc', 'dd']\n",
      "Sort with len : ['b', 'dd', 'aaa', 'cccc']\n"
     ]
    }
   ],
   "source": [
    "L = [\"cccc\", \"b\", \"dd\", \"aaa\"]\n",
    "\n",
    "print(\"Normal sort :\", sorted(L))\n",
    "\n",
    "print(\"Sort with len :\", sorted(L, key=len))\n"
   ]
  },
  {
   "cell_type": "code",
   "execution_count": 408,
   "id": "ab99f88c",
   "metadata": {},
   "outputs": [
    {
     "name": "stdout",
     "output_type": "stream",
     "text": [
      "Normal sort : [3, 7, 11, 15]\n",
      "Sorted with key: [15, 11, 7, 3]\n",
      "[0, 3, 1, 2]\n",
      "Sorted with the reminder: [0, 1, 2, 3]\n"
     ]
    }
   ],
   "source": [
    "# Sort a list of integers based on\n",
    "# their remainder on dividing from 7\n",
    "def func(x):\n",
    "    return x%5\n",
    "\n",
    "\n",
    "L = [15, 3, 11, 7]\n",
    "\n",
    "print(\"Normal sort :\", sorted(L))\n",
    "print(\"Sorted with key:\", sorted(L, key=func))\n",
    "result=[func(x) for x in L]\n",
    "print(result)\n",
    "print(\"Sorted with the reminder:\", sorted(result))"
   ]
  },
  {
   "cell_type": "markdown",
   "id": "08b35387",
   "metadata": {},
   "source": [
    "When we apply the sorted function with key=func on the list [15, 3, 11, 7], it sorts the list based on the remainder of each element divided by 5. So the elements of the list with a smaller remainder will appear first in the sorted list, and the elements with a larger remainder will appear later."
   ]
  },
  {
   "cell_type": "code",
   "execution_count": 409,
   "id": "8bc201bd",
   "metadata": {},
   "outputs": [
    {
     "name": "stdout",
     "output_type": "stream",
     "text": [
      "[15, 11, 7, 3]\n"
     ]
    }
   ],
   "source": [
    "from functools import reduce\n",
    "\n",
    "def func(x):\n",
    "    return x % 5\n",
    "\n",
    "L = [15, 3, 11, 7]\n",
    "\n",
    "result = sorted(L, key=func)\n",
    "final_result = reduce(lambda x, y: x + [y], result, [])\n",
    "\n",
    "print(final_result)\n"
   ]
  },
  {
   "cell_type": "markdown",
   "id": "757bf3c1",
   "metadata": {},
   "source": [
    "# reduce(lambda x, y: x + [y], result, []) \n",
    "is a higher-order function call that applies the reduce() function on the sorted list result.\n",
    "\n",
    "The reduce() function takes three arguments: a function that takes two arguments and returns a single value, an iterable to be reduced, and an optional initializer value for the reduction.\n",
    "\n",
    "In this case, the lambda function lambda x, y: x + [y] takes two arguments x and y, where x is the accumulated result of the reduction so far and y is the current element of the iterable being reduced. The lambda function returns a new list that concatenates the current element y to the accumulated result x.\n",
    "\n",
    "The result iterable is the sorted list of elements in L according to the remainder of each element divided by 7. The optional initializer value for the reduction is an empty list [], which is passed as the third argument to reduce(). This ensures that the reduction starts with an empty list.\n",
    "\n",
    "The reduce() function applies the lambda function to each pair of adjacent elements in the sorted list result, starting with the initial value of an empty list. It returns a final result that is the concatenation of all the intermediate lists.\n",
    "\n",
    "Therefore, the final value of final_result is a list that contains all the elements of the sorted list result in the correct order.\n",
    "\n",
    "\n",
    "\n",
    "\n",
    "Regenerate response"
   ]
  },
  {
   "cell_type": "code",
   "execution_count": 410,
   "id": "0a123b7a",
   "metadata": {},
   "outputs": [
    {
     "name": "stdout",
     "output_type": "stream",
     "text": [
      "[1, 1, 2, 3, 4, 5, 5, 6, 9]\n",
      "[' ', '!', ',', 'd', 'e', 'h', 'l', 'l', 'l', 'o', 'o', 'r', 'w']\n",
      "[(4, 'four'), (1, 'one'), (3, 'three'), (2, 'two')]\n"
     ]
    }
   ],
   "source": [
    "# Sorting a list in ascending order\n",
    "my_list = [3, 1, 4, 1, 5, 9, 2, 6, 5]\n",
    "sorted_list = sorted(my_list)\n",
    "print(sorted_list) # Output: [1, 1, 2, 3, 4, 5, 5, 6, 9]\n",
    "\n",
    "# Sorting a string in ascending order\n",
    "my_string = \"hello, world!\"\n",
    "sorted_string = sorted(my_string)\n",
    "print(sorted_string) # Output: [' ', '!', ',', 'd', 'e', 'h', 'l', 'l', 'o', 'o', 'r', 'w']\n",
    "\n",
    "# Sorting a list of tuples based on a key function\n",
    "my_tuples = [(1, \"one\"), (3, \"three\"), (2, \"two\"), (4, \"four\")]\n",
    "sorted_tuples = sorted(my_tuples, key=lambda x: x[1])\n",
    "print(sorted_tuples) # Output: [(4, 'four'), (1, 'one'), (3, 'three'), (2, 'two')]\n"
   ]
  },
  {
   "cell_type": "markdown",
   "id": "18478936",
   "metadata": {},
   "source": [
    "why first (4,'four) then....? based on alphabetical order\n",
    "\n",
    "(4, \"four\") because \"f\" has a lower Unicode value than \"o\"\n",
    "(1, \"one\") because \"o\" has a higher Unicode value than \"t\" and \"t\" has a higher Unicode value than \"f\"\n",
    "(3, \"three\") because \"t\" has a lower Unicode value than \"w\"\n",
    "(2, \"two\") because \"t\" has a higher Unicode value than \"w\"."
   ]
  },
  {
   "cell_type": "markdown",
   "id": "32bff2b9",
   "metadata": {},
   "source": [
    "# dictionary\n"
   ]
  },
  {
   "cell_type": "code",
   "execution_count": 411,
   "id": "411a1550",
   "metadata": {},
   "outputs": [
    {
     "name": "stdout",
     "output_type": "stream",
     "text": [
      "{1: 'Geeks', 2: 'For', 3: 'Geeks'}\n"
     ]
    }
   ],
   "source": [
    "Dict = {1: 'Geeks', 2: 'For', 3: 'Geeks'}\n",
    "print(Dict)\n"
   ]
  },
  {
   "cell_type": "code",
   "execution_count": 412,
   "id": "d568e80b",
   "metadata": {},
   "outputs": [
    {
     "name": "stdout",
     "output_type": "stream",
     "text": [
      "\n",
      "Dictionary with the use of Integer Keys: \n",
      "{1: 'Geeks', 2: 'For', 3: 'Geeks'}\n",
      "\n",
      "Dictionary with the use of Mixed Keys: \n",
      "{'Name': 'Geeks', 1: [1, 2, 3, 4]}\n"
     ]
    }
   ],
   "source": [
    "# Creating a Dictionary\n",
    "# with Integer Keys\n",
    "Dict = {1: 'Geeks', 2: 'For', 3: 'Geeks'}\n",
    "print(\"\\nDictionary with the use of Integer Keys: \")\n",
    "print(Dict)\n",
    "\n",
    "# Creating a Dictionary\n",
    "# with Mixed keys\n",
    "Dict = {'Name': 'Geeks', 1: [1, 2, 3, 4]}\n",
    "print(\"\\nDictionary with the use of Mixed Keys: \")\n",
    "print(Dict)\n"
   ]
  },
  {
   "cell_type": "code",
   "execution_count": 413,
   "id": "eda1ce99",
   "metadata": {},
   "outputs": [
    {
     "name": "stdout",
     "output_type": "stream",
     "text": [
      "Empty Dictionary: \n",
      "{}\n",
      "\n",
      "Dictionary with the use of dict(): \n",
      "{1: 'Geeks', 2: 'For', 3: 'Geeks'}\n",
      "\n",
      "Dictionary with each item as a pair: \n",
      "{1: 'Geeks', 2: 'For'}\n"
     ]
    }
   ],
   "source": [
    "# Creating an empty Dictionary\n",
    "Dict = {}\n",
    "print(\"Empty Dictionary: \")\n",
    "print(Dict)\n",
    "\n",
    "# Creating a Dictionary\n",
    "# with dict() method\n",
    "\n",
    "Dict = dict({1: 'Geeks', 2: 'For', 3: 'Geeks'})\n",
    "\n",
    "print(\"\\nDictionary with the use of dict(): \")\n",
    "\n",
    "print(Dict)\n",
    "\n",
    "# Creating a Dictionary\n",
    "# with each item as a Pair\n",
    "\n",
    "Dict = dict([(1, 'Geeks'), (2, 'For')])\n",
    "\n",
    "print(\"\\nDictionary with each item as a pair: \")\n",
    "\n",
    "print(Dict)\n"
   ]
  },
  {
   "cell_type": "code",
   "execution_count": 414,
   "id": "a68cd952",
   "metadata": {},
   "outputs": [
    {
     "name": "stdout",
     "output_type": "stream",
     "text": [
      "{1: 'Geeks', 2: 'For', 3: {'A': 'Welcome', 'B': 'To', 'C': 'Geeks'}}\n"
     ]
    }
   ],
   "source": [
    "# Creating a Nested Dictionary\n",
    "# as shown in the below image\n",
    "Dict = {1: 'Geeks', 2: 'For',\n",
    "\t\t3: {'A': 'Welcome', 'B': 'To', 'C': 'Geeks'}}\n",
    "\n",
    "print(Dict)\n"
   ]
  },
  {
   "cell_type": "markdown",
   "id": "c2a84f6b",
   "metadata": {},
   "source": [
    "# Adding elements to a Dictionary\n",
    "Addition of elements can be done in multiple ways. One value at a time can be added to a Dictionary by defining value along with the key e.g. Dict[Key] = ‘Value’. Updating an existing value in a Dictionary can be done by using the built-in update() method. Nested key values can also be added to an existing Dictionary. \n",
    "\n",
    "Note- While adding a value, if the key-value already exists, the value gets updated otherwise a new Key with the value is added to the Dictionary."
   ]
  },
  {
   "cell_type": "code",
   "execution_count": 416,
   "id": "b251e90b",
   "metadata": {},
   "outputs": [
    {
     "name": "stdout",
     "output_type": "stream",
     "text": [
      "\n",
      "Dictionary after adding 3 elements: \n",
      "{0: 'Geeks', 2: 'For', 3: 1, 'Value_set': (2, 3, 4), 5: {'Nested': {'1': 'Life', '2': 'Geeks'}}}\n",
      "\n",
      "Dictionary after adding 3 elements: \n",
      "{0: 'Geeks', 2: 'For', 3: 1, 'Value_set': (2, 3, 4), 5: {'Nested': {'1': 'Life', '2': 'Geeks'}}}\n",
      "\n",
      "Updated key value: \n",
      "{0: 'Geeks', 2: 'Welcome', 3: 1, 'Value_set': (2, 3, 4), 5: {'Nested': {'1': 'Life', '2': 'Geeks'}}}\n",
      "\n",
      "Adding a Nested Key: \n",
      "{0: 'Geeks', 2: 'Welcome', 3: 1, 'Value_set': (2, 3, 4), 5: {'Nested': {'1': 'Life', '2': 'Geeks'}}}\n"
     ]
    }
   ],
   "source": [
    "# Adding elements one at a time\n",
    "Dict[0] = 'Geeks'\n",
    "Dict[2] = 'For'\n",
    "Dict[3] = 1\n",
    "print(\"\\nDictionary after adding 3 elements: \")\n",
    "print(Dict)\n",
    "\n",
    "# Adding set of values\n",
    "# to a single Key\n",
    "\n",
    "Dict['Value_set'] = 2, 3, 4\n",
    "print(\"\\nDictionary after adding 3 elements: \")\n",
    "print(Dict)\n",
    "\n",
    "# Updating existing Key's Value\n",
    "Dict[2] = 'Welcome'\n",
    "print(\"\\nUpdated key value: \")\n",
    "print(Dict)\n",
    "\n",
    "# Adding Nested Key value to Dictionary\n",
    "Dict[5] = {'Nested': {'1': 'Life', '2': 'Geeks'}}\n",
    "print(\"\\nAdding a Nested Key: \")\n",
    "print(Dict)\n"
   ]
  },
  {
   "cell_type": "markdown",
   "id": "81f35b19",
   "metadata": {},
   "source": [
    "# There is also a method called get() \n",
    "that will also help in accessing the element from a dictionary.This method accepts ***key as argument and returns the value**."
   ]
  },
  {
   "cell_type": "code",
   "execution_count": 433,
   "id": "c9aad498",
   "metadata": {},
   "outputs": [
    {
     "name": "stdout",
     "output_type": "stream",
     "text": [
      "Geeks\n",
      "For\n",
      "Geeks\n"
     ]
    }
   ],
   "source": [
    "# Creating a Dictionary\n",
    "Dict = {1: 'Geeks', 'name': 'For', 3: 'Geeks'}\n",
    "\n",
    "# accessing a element using get()\n",
    "# method\n",
    "print(Dict.get(3))#\n",
    "print(Dict['name'])\n",
    "print(Dict[1])\n",
    "\n"
   ]
  },
  {
   "cell_type": "markdown",
   "id": "65ff6de0",
   "metadata": {},
   "source": [
    "# **accessing an element of a nested dictionary**\n",
    "\n",
    "**In order to access the value of any key in the nested dictionary, use indexing [] syntax.**"
   ]
  },
  {
   "cell_type": "code",
   "execution_count": 437,
   "id": "12f9d3ca",
   "metadata": {},
   "outputs": [
    {
     "name": "stdout",
     "output_type": "stream",
     "text": [
      "{1: 'Geeks'}\n",
      "Geeks\n",
      "For\n"
     ]
    }
   ],
   "source": [
    "# Creating a Dictionary\n",
    "Dict = {'Dict1': {1: 'Geeks'},'Dict2': {'Name': 'For'}}\n",
    "\n",
    "# Accessing element using key\n",
    "\n",
    "print(Dict['Dict1'])\n",
    "print(Dict['Dict1'][1])\n",
    "print(Dict['Dict2']['Name'])\n",
    "\n"
   ]
  },
  {
   "cell_type": "markdown",
   "id": "83f91484",
   "metadata": {},
   "source": [
    "# Deleting Elements using del Keyword"
   ]
  },
  {
   "cell_type": "code",
   "execution_count": 438,
   "id": "63dd1707",
   "metadata": {},
   "outputs": [
    {
     "name": "stdout",
     "output_type": "stream",
     "text": [
      "Dictionary =\n",
      "{1: 'Geeks', 'name': 'For', 3: 'Geeks'}\n",
      "Data after deletion Dictionary=\n",
      "{'name': 'For', 3: 'Geeks'}\n"
     ]
    }
   ],
   "source": [
    "# Python program to demonstrate\n",
    "# Deleting Elements using del Keyword\n",
    "\n",
    "# Creating a Dictionary\n",
    "Dict = {1: 'Geeks', 'name': 'For', 3: 'Geeks'}\n",
    "\n",
    "print(\"Dictionary =\")\n",
    "print(Dict)\n",
    "#Deleting some of the Dictionar data\n",
    "\n",
    "\n",
    "del(Dict[1])\n",
    "\n",
    "print(\"Data after deletion Dictionary=\")\n",
    "print(Dict)\n"
   ]
  },
  {
   "cell_type": "markdown",
   "id": "e6778075",
   "metadata": {},
   "source": [
    "ethod\tDescription\n",
    "**dic.clear()  \t                          **Remove all the elements from the dictionary\n",
    "dict.copy()\t                              Returns a copy of the dictionary\n",
    "dict.get(key, default = “None”)\t          Returns the value of specified key\n",
    "dict.items()\t                          Returns a list containing a tuple for each key value pair\n",
    "dict.keys()\t                              Returns a list containing dictionary’s keys\n",
    "dict.update(dict2)                     \t  Updates dictionary with specified key-value pairs\n",
    "dict.values()\t                          Returns a list of all the values of dictionary\n",
    "pop()\t                                  Remove the element with specified key\n",
    "popItem()\t                              Removes the last inserted key-value pair\n",
    " dict.setdefault(key,default= “None”)\t  set the key to the default value if the key is not specified in the dictionary\n",
    "dict.has_key(key)\t                      returns true if the dictionary contains the specified key.\n",
    "dict.get(key, default = “None”)\t          used to get the value specified for the passed key."
   ]
  },
  {
   "cell_type": "code",
   "execution_count": 441,
   "id": "7f5bd2f5",
   "metadata": {},
   "outputs": [
    {
     "name": "stdout",
     "output_type": "stream",
     "text": [
      "{1: 'Python', 2: 'Java', 3: 'Ruby', 4: 'Scala'}\n",
      "{}\n",
      "Python\n",
      "dict_items([(1, 'Python'), (2, 'Java'), (3, 'Ruby'), (4, 'Scala')])\n",
      "dict_keys([1, 2, 3, 4])\n",
      "{1: 'Python', 2: 'Java', 3: 'Ruby'}\n",
      "{1: 'Python', 2: 'Java'}\n",
      "{1: 'Python', 2: 'Java', 3: 'Scala'}\n",
      "dict_values(['Python', 'Java', 'Scala'])\n"
     ]
    }
   ],
   "source": [
    "# demo for all dictionary methods\n",
    "dict1 = {1: \"Python\", 2: \"Java\", 3: \"Ruby\", 4: \"Scala\"}\n",
    "\n",
    "# copy() method\n",
    "dict2 = dict1.copy()\n",
    "print(dict2)\n",
    "\n",
    "# clear() method\n",
    "dict1.clear()\n",
    "print(dict1)\n",
    "\n",
    "# get() method\n",
    "print(dict2.get(1))\n",
    "\n",
    "# items() method\n",
    "print(dict2.items())\n",
    "\n",
    "# keys() method\n",
    "print(dict2.keys())\n",
    "\n",
    "# pop() method\n",
    "dict2.pop(4)\n",
    "print(dict2)\n",
    "\n",
    "# popitem() method\n",
    "dict2.popitem()\n",
    "print(dict2)\n",
    "\n",
    "# update() method\n",
    "dict2.update({3: \"Scala\"})\n",
    "print(dict2)\n",
    "\n",
    "# values() method\n",
    "print(dict2.values())\n"
   ]
  },
  {
   "cell_type": "code",
   "execution_count": null,
   "id": "075ed43f",
   "metadata": {},
   "outputs": [],
   "source": []
  },
  {
   "cell_type": "markdown",
   "id": "14fdcda0",
   "metadata": {},
   "source": [
    "# dictionary:\n",
    "in Python, you can create a dictionary using curly braces {} and separating key-value pairs with colons ':' Here's an example:\n",
    "\n",
    "my_dict = {'key1': 'value1', 'key2': 'value2', 'key3': 'value3'}\n",
    "\n",
    "the keys and values are strings \n",
    "You can also create an empty dictionary and add key-value pairs later using the same syntax:\n",
    "my_dict = {}\n",
    "my_dict['key1'] = 'value1'\n",
    "my_dict['key2'] = 'value2'\n",
    "my_dict['key3'] = 'value3'\n",
    "\n",
    "\n",
    "In this example, we're creating an empty dictionary called my_dict, and then adding three key-value pairs one at a time using square bracket notation.\n",
    "\n",
    "You can access values in a dictionary using the keys as indices:\n",
    "print(my_dict['key1'])   # Output: 'value1'\n",
    "\n"
   ]
  },
  {
   "cell_type": "code",
   "execution_count": 260,
   "id": "a39f73ad",
   "metadata": {},
   "outputs": [
    {
     "name": "stdout",
     "output_type": "stream",
     "text": [
      "{'a': 1, 'b': 2, 'c': 3}\n"
     ]
    }
   ],
   "source": [
    "my_dict = {'b': 2, 'a': 1, 'c': 3}\n",
    "sorted_dict = dict(sorted(my_dict.items()))\n",
    "\n",
    "print(sorted_dict)\n"
   ]
  },
  {
   "cell_type": "code",
   "execution_count": 261,
   "id": "672726e3",
   "metadata": {},
   "outputs": [
    {
     "name": "stdout",
     "output_type": "stream",
     "text": [
      "{'a': 1, 'b': 2, 'c': 3}\n"
     ]
    }
   ],
   "source": [
    "my_dict = {'b': 2, 'a': 1, 'c': 3}\n",
    "sorted_dict = dict(sorted(my_dict.items(), key=lambda x: x[1]))\n",
    "\n",
    "print(sorted_dict)\n",
    "\n"
   ]
  },
  {
   "cell_type": "code",
   "execution_count": 308,
   "id": "76205ac4",
   "metadata": {},
   "outputs": [],
   "source": [
    "data = [\n",
    "    {'Name':'D','Age':5  ,'Revenue':60},\n",
    "    {'Name':'E','Age':20 ,'Revenue':95},\n",
    "    {'Name':'A','Age':10 ,'Revenue':100},\n",
    "    {'Name':'B','Age':8  ,'Revenue':90},\n",
    "    {'Name':'C','Age':15 ,'Revenue':120},\n",
    "  \n",
    " ]"
   ]
  },
  {
   "cell_type": "code",
   "execution_count": 309,
   "id": "e7e07c06",
   "metadata": {},
   "outputs": [
    {
     "name": "stdout",
     "output_type": "stream",
     "text": [
      "[{'Name': 'D', 'Age': 5, 'Revenue': 60}, {'Name': 'B', 'Age': 8, 'Revenue': 90}, {'Name': 'E', 'Age': 20, 'Revenue': 95}, {'Name': 'A', 'Age': 10, 'Revenue': 100}, {'Name': 'C', 'Age': 15, 'Revenue': 120}]\n"
     ]
    }
   ],
   "source": [
    "sorted_data=sorted(data, key=lambda x:x['Revenue'])\n",
    "print(sorted_data)"
   ]
  },
  {
   "cell_type": "code",
   "execution_count": 310,
   "id": "9aedf207",
   "metadata": {},
   "outputs": [
    {
     "name": "stdout",
     "output_type": "stream",
     "text": [
      "[{'Name': 'D', 'Age': 5, 'Revenue': 60}, {'Name': 'B', 'Age': 8, 'Revenue': 90}, {'Name': 'A', 'Age': 10, 'Revenue': 100}, {'Name': 'C', 'Age': 15, 'Revenue': 120}, {'Name': 'E', 'Age': 20, 'Revenue': 95}]\n"
     ]
    }
   ],
   "source": [
    "sorted_data=sorted(data, key=lambda x:x['Age'])\n",
    "print(sorted_data)\n"
   ]
  },
  {
   "cell_type": "code",
   "execution_count": 311,
   "id": "5170dffe",
   "metadata": {},
   "outputs": [
    {
     "name": "stdout",
     "output_type": "stream",
     "text": [
      "Data sorted by Age:\n",
      "Name:A, Age:10, Revenue:100\n",
      "Name:B, Age:8, Revenue:90\n",
      "Name:C, Age:15, Revenue:120\n",
      "Name:D, Age:5, Revenue:60\n",
      "Name:E, Age:20, Revenue:95\n"
     ]
    }
   ],
   "source": [
    "sorted_data=sorted(data, key=lambda x:x['Name'])\n",
    "print('Data sorted by Age:')\n",
    "for d in sorted_data:\n",
    "    print(f\"Name:{d['Name']}, Age:{d['Age']}, Revenue:{d['Revenue']}\")"
   ]
  },
  {
   "cell_type": "markdown",
   "id": "881a618b",
   "metadata": {},
   "source": [
    "# how can i sort a dictionary:\n",
    "\n",
    "If you have a dictionary in Python, you can't sort it directly since dictionaries are inherently unordered. However, you can create a sorted list of the dictionary's keys or values using the sorted() function and then use this sorted list to access the dictionary's items in the desired order.\n",
    "\n",
    "Here's an example of how to sort a dictionary by its values and create a list of its items in the sorted order:"
   ]
  },
  {
   "cell_type": "code",
   "execution_count": 304,
   "id": "70fbdecb",
   "metadata": {},
   "outputs": [
    {
     "name": "stdout",
     "output_type": "stream",
     "text": [
      "Data sorted by values:\n",
      "Name: D, Age: 5\n",
      "Name: B, Age: 8\n",
      "Name: A, Age: 10\n",
      "Name: C, Age: 15\n",
      "Name: E, Age: 20\n"
     ]
    }
   ],
   "source": [
    "data = {'D': 5, 'E': 20, 'A': 10, 'B': 8, 'C': 15}\n",
    "\n",
    "sorted_data = sorted(data.items(), key=lambda x: x[1])\n",
    "\n",
    "print('Data sorted by values:')\n",
    "for d in sorted_data:\n",
    "    print(f\"Name: {d[0]}, Age: {d[1]}\")\n"
   ]
  },
  {
   "cell_type": "markdown",
   "id": "e0acce2e",
   "metadata": {},
   "source": [
    "#   (keys: values)\n",
    "In this example, we're using the sorted() function to create a sorted list of the dictionary's items based on their values. We're passing a second argument to the sorted() function that specifies the key function to use for sorting. The key function is a lambda function that returns the value associated with each dictionary item.\n",
    "\n",
    "The sorted() function returns a new list of tuples that are sorted based on their values. We're storing this new list in the sorted_data variable.\n",
    "\n",
    "Finally, we're iterating through the sorted_data list of tuples using a for loop, and printing out the contents of each tuple in a formatted string. This shows that the dictionary has been sorted based on its values.\n",
    "\n",
    "The output of the example will be:"
   ]
  },
  {
   "cell_type": "markdown",
   "id": "7733701e",
   "metadata": {},
   "source": [
    "\n",
    "# what does (key=lambda x: x[1])\n",
    "\n",
    "\n",
    "In the lambda function key=lambda x: x[1], x represents each element (a tuple) in the list of dictionary items passed to the sorted() function. Each element is a tuple containing a key-value pair from the original dictionary.\n",
    "\n",
    "The lambda function returns the value associated with the key in each tuple. Since the lambda function x[1] returns the second element (i.e., the value) in each tuple, the sorted() function sorts the list of tuples based on the values of the key-value pairs in the original dictionary.\n",
    "\n",
    "So, key=lambda x: x[1] is used to specify that the sorting should be based on the values of the dictionary items, rather than their keys."
   ]
  },
  {
   "cell_type": "code",
   "execution_count": 316,
   "id": "b73ac694",
   "metadata": {},
   "outputs": [
    {
     "name": "stdout",
     "output_type": "stream",
     "text": [
      "Data sorted by values:\n",
      "Name: A, Age: 10\n",
      "Name: B, Age: 8\n",
      "Name: C, Age: 15\n",
      "Name: D, Age: 5\n",
      "Name: E, Age: 20\n"
     ]
    }
   ],
   "source": [
    "data = {'D': 5, 'E': 20, 'A': 10, 'B': 8, 'C': 15}\n",
    "\n",
    "sorted_data = sorted(data.items(), key=lambda x: (x[0],x[1])  )             # for example:tuple('D'=x[0],5=x[1])\n",
    " \n",
    "print('Data sorted by values:')\n",
    "for d in sorted_data:\n",
    "    print(f\"Name: {d[0]}, Age: {d[1]}\")"
   ]
  },
  {
   "cell_type": "code",
   "execution_count": 317,
   "id": "cd76d57b",
   "metadata": {},
   "outputs": [
    {
     "name": "stdout",
     "output_type": "stream",
     "text": [
      "Data sorted by values:\n",
      "Name: D, Age: 5\n",
      "Name: B, Age: 8\n",
      "Name: A, Age: 10\n",
      "Name: C, Age: 15\n",
      "Name: E, Age: 20\n"
     ]
    }
   ],
   "source": [
    "data = {'D': 5, 'E': 20, 'A': 10, 'B': 8, 'C': 15}\n",
    "\n",
    "sorted_data = sorted(data.items(), key=lambda x: (x[1],x[0]))    #or x: x[1]   or x: x[0]\n",
    "\n",
    "print('Data sorted by values:')\n",
    "for d in sorted_data:\n",
    "    print(f\"Name: {d[0]}, Age: {d[1]}\")"
   ]
  },
  {
   "cell_type": "code",
   "execution_count": null,
   "id": "68843f45",
   "metadata": {},
   "outputs": [],
   "source": []
  },
  {
   "cell_type": "code",
   "execution_count": null,
   "id": "6879ad06",
   "metadata": {},
   "outputs": [],
   "source": []
  },
  {
   "cell_type": "code",
   "execution_count": null,
   "id": "df3335c4",
   "metadata": {},
   "outputs": [],
   "source": []
  },
  {
   "cell_type": "code",
   "execution_count": null,
   "id": "08c6e024",
   "metadata": {},
   "outputs": [],
   "source": []
  },
  {
   "cell_type": "code",
   "execution_count": null,
   "id": "b1fa8629",
   "metadata": {},
   "outputs": [],
   "source": []
  },
  {
   "cell_type": "code",
   "execution_count": null,
   "id": "3fd4ba33",
   "metadata": {},
   "outputs": [],
   "source": []
  },
  {
   "cell_type": "code",
   "execution_count": null,
   "id": "4bafb3d7",
   "metadata": {},
   "outputs": [],
   "source": []
  },
  {
   "cell_type": "code",
   "execution_count": null,
   "id": "e5245873",
   "metadata": {},
   "outputs": [],
   "source": []
  }
 ],
 "metadata": {
  "kernelspec": {
   "display_name": "Python 3 (ipykernel)",
   "language": "python",
   "name": "python3"
  },
  "language_info": {
   "codemirror_mode": {
    "name": "ipython",
    "version": 3
   },
   "file_extension": ".py",
   "mimetype": "text/x-python",
   "name": "python",
   "nbconvert_exporter": "python",
   "pygments_lexer": "ipython3",
   "version": "3.9.7"
  }
 },
 "nbformat": 4,
 "nbformat_minor": 5
}
