{
 "cells": [
  {
   "cell_type": "markdown",
   "id": "84a1f331",
   "metadata": {},
   "source": [
    "In Python, both the append() and extend() methods are used to add elements to a list. However, they have different behaviors:\n",
    "\n",
    "# append():\n",
    "**The append() method is used to add a single element to the end of a list. It takes one argument, which is the element you want to add. The list is modified in-place, meaning it is updated without creating a new list. Here's an example:\n",
    "python\n",
    "\n",
    "# extend():\n",
    "**The extend() method is used to add multiple elements to the end of a list. It takes an iterable as an argument, such as a list, tuple, or another iterable object. It iterates over the elements of the iterable and adds them one by one to the original list. The original list is modified in-place. Here's an example:\n",
    "python\n",
    "\n",
    "**Note that extend() can also be used with other iterable objects, such as strings or sets. When using extend() with a string, it adds each character of the string as a separate element to the list.\n",
    "\n",
    "In summary, append() adds a single element to the end of a list, while extend() adds multiple elements from an iterable to the end of a list."
   ]
  },
  {
   "cell_type": "code",
   "execution_count": 1,
   "id": "1e3a1abc",
   "metadata": {},
   "outputs": [
    {
     "name": "stdout",
     "output_type": "stream",
     "text": [
      "[1, 2, 3, 4]\n"
     ]
    }
   ],
   "source": [
    "\n",
    "my_list = [1, 2, 3]\n",
    "my_list.append(4)\n",
    "print(my_list)  "
   ]
  },
  {
   "cell_type": "code",
   "execution_count": 3,
   "id": "3e0d2d5b",
   "metadata": {},
   "outputs": [
    {
     "name": "stdout",
     "output_type": "stream",
     "text": [
      "[1, 2, 3, 4, 5, 6]\n"
     ]
    }
   ],
   "source": [
    "\n",
    "my_list = [1, 2, 3]\n",
    "another_list = [4, 5, 6]\n",
    "my_list.extend(another_list)\n",
    "print(my_list)  "
   ]
  },
  {
   "cell_type": "code",
   "execution_count": null,
   "id": "254b933d",
   "metadata": {},
   "outputs": [],
   "source": []
  }
 ],
 "metadata": {
  "kernelspec": {
   "display_name": "Python 3 (ipykernel)",
   "language": "python",
   "name": "python3"
  },
  "language_info": {
   "codemirror_mode": {
    "name": "ipython",
    "version": 3
   },
   "file_extension": ".py",
   "mimetype": "text/x-python",
   "name": "python",
   "nbconvert_exporter": "python",
   "pygments_lexer": "ipython3",
   "version": "3.9.7"
  }
 },
 "nbformat": 4,
 "nbformat_minor": 5
}
