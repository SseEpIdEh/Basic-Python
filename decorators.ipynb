{
 "cells": [
  {
   "cell_type": "code",
   "execution_count": 1,
   "id": "2432e2bc",
   "metadata": {},
   "outputs": [],
   "source": [
    "def func():\n",
    "    print(\"hello\")"
   ]
  },
  {
   "cell_type": "code",
   "execution_count": 2,
   "id": "52b5268d",
   "metadata": {},
   "outputs": [
    {
     "name": "stdout",
     "output_type": "stream",
     "text": [
      "hello\n"
     ]
    }
   ],
   "source": [
    "func()"
   ]
  },
  {
   "cell_type": "code",
   "execution_count": 3,
   "id": "ff837678",
   "metadata": {},
   "outputs": [],
   "source": [
    "def add_message():\n",
    "    print(\"before calling function...\")\n",
    "    func()\n",
    "    print(\"after calling function..\")"
   ]
  },
  {
   "cell_type": "code",
   "execution_count": 4,
   "id": "13ddcef6",
   "metadata": {},
   "outputs": [
    {
     "name": "stdout",
     "output_type": "stream",
     "text": [
      "before calling function...\n",
      "hello\n",
      "after calling function..\n"
     ]
    }
   ],
   "source": [
    "add_message()"
   ]
  },
  {
   "cell_type": "code",
   "execution_count": 5,
   "id": "45cf7e5b",
   "metadata": {},
   "outputs": [],
   "source": [
    "def add_message(f):\n",
    "    def wrapper():\n",
    "        print(\"before calling function...\")\n",
    "        f()\n",
    "        print(\"after calling function..\")\n",
    "    return wrapper    "
   ]
  },
  {
   "cell_type": "code",
   "execution_count": 6,
   "id": "a0c9403d",
   "metadata": {},
   "outputs": [
    {
     "name": "stdout",
     "output_type": "stream",
     "text": [
      "hello\n"
     ]
    }
   ],
   "source": [
    "func()"
   ]
  },
  {
   "cell_type": "code",
   "execution_count": 7,
   "id": "dd9b555c",
   "metadata": {},
   "outputs": [],
   "source": [
    "func2=add_message(func)"
   ]
  },
  {
   "cell_type": "code",
   "execution_count": 11,
   "id": "12223cd9",
   "metadata": {},
   "outputs": [
    {
     "name": "stdout",
     "output_type": "stream",
     "text": [
      "before calling function...\n",
      "hello\n",
      "after calling function..\n"
     ]
    }
   ],
   "source": [
    "func2()"
   ]
  },
  {
   "cell_type": "code",
   "execution_count": 9,
   "id": "b582fb36",
   "metadata": {},
   "outputs": [],
   "source": [
    "func3=add_message(func2)"
   ]
  },
  {
   "cell_type": "code",
   "execution_count": 12,
   "id": "01c69387",
   "metadata": {},
   "outputs": [
    {
     "name": "stdout",
     "output_type": "stream",
     "text": [
      "before calling function...\n",
      "before calling function...\n",
      "hello\n",
      "after calling function..\n",
      "after calling function..\n"
     ]
    }
   ],
   "source": [
    "func3()"
   ]
  },
  {
   "cell_type": "code",
   "execution_count": null,
   "id": "2f593a83",
   "metadata": {},
   "outputs": [],
   "source": [
    "def func():\n",
    "    print(\"hello\")"
   ]
  },
  {
   "cell_type": "code",
   "execution_count": 13,
   "id": "c3c178c5",
   "metadata": {},
   "outputs": [],
   "source": [
    "func=add_message(func)"
   ]
  },
  {
   "cell_type": "code",
   "execution_count": 14,
   "id": "f7aeca57",
   "metadata": {},
   "outputs": [
    {
     "data": {
      "text/plain": [
       "<function __main__.add_message.<locals>.wrapper()>"
      ]
     },
     "execution_count": 14,
     "metadata": {},
     "output_type": "execute_result"
    }
   ],
   "source": [
    "func"
   ]
  },
  {
   "cell_type": "code",
   "execution_count": 15,
   "id": "842f6eea",
   "metadata": {},
   "outputs": [
    {
     "name": "stdout",
     "output_type": "stream",
     "text": [
      "before calling function...\n",
      "hello\n",
      "after calling function..\n"
     ]
    }
   ],
   "source": [
    "func()"
   ]
  },
  {
   "cell_type": "code",
   "execution_count": 16,
   "id": "c3a1f748",
   "metadata": {},
   "outputs": [],
   "source": [
    "\n",
    "@add_message\n",
    "def func():\n",
    "    print(\"hello\")"
   ]
  },
  {
   "cell_type": "code",
   "execution_count": 17,
   "id": "55df7f94",
   "metadata": {},
   "outputs": [
    {
     "name": "stdout",
     "output_type": "stream",
     "text": [
      "before calling function...\n",
      "hello\n",
      "after calling function..\n"
     ]
    }
   ],
   "source": [
    "func()"
   ]
  },
  {
   "cell_type": "code",
   "execution_count": 18,
   "id": "4dfc9156",
   "metadata": {},
   "outputs": [],
   "source": [
    "def add_message(func):\n",
    "    def wrapper():\n",
    "        print(\"before calling function...\")\n",
    "        func()\n",
    "        print(\"after calling function..\")\n",
    "    return wrapper "
   ]
  },
  {
   "cell_type": "code",
   "execution_count": 19,
   "id": "ed018a2d",
   "metadata": {},
   "outputs": [],
   "source": [
    "@add_message\n",
    "def func():\n",
    "    print(\"hello\")"
   ]
  },
  {
   "cell_type": "code",
   "execution_count": null,
   "id": "78c5cd75",
   "metadata": {},
   "outputs": [],
   "source": []
  },
  {
   "cell_type": "code",
   "execution_count": 20,
   "id": "0ad9297a",
   "metadata": {},
   "outputs": [
    {
     "name": "stdout",
     "output_type": "stream",
     "text": [
      "before calling function...\n",
      "hello\n",
      "after calling function..\n"
     ]
    }
   ],
   "source": [
    "func()"
   ]
  },
  {
   "cell_type": "code",
   "execution_count": 1,
   "id": "64f2b475",
   "metadata": {},
   "outputs": [],
   "source": [
    "def add_message():\n",
    "    def wrapper():\n",
    "        print(\"before calling function...\")\n",
    "        func()\n",
    "        print(\"after calling function..\")\n",
    "    return wrapper"
   ]
  },
  {
   "cell_type": "code",
   "execution_count": 2,
   "id": "7ae5b7cf",
   "metadata": {},
   "outputs": [],
   "source": [
    "@add_message\n",
    "def func():\n",
    "    print(\"hello\")"
   ]
  },
  {
   "cell_type": "code",
   "execution_count": null,
   "id": "5521725a",
   "metadata": {},
   "outputs": [],
   "source": [
    "func()"
   ]
  },
  {
   "cell_type": "code",
   "execution_count": 3,
   "id": "ec14bb5c",
   "metadata": {},
   "outputs": [],
   "source": [
    "def greet(name=None):\n",
    "    if name:\n",
    "        return f\"hello {name}!\"\n",
    "    else:\n",
    "        return f\"hello\""
   ]
  },
  {
   "cell_type": "code",
   "execution_count": 4,
   "id": "1dbcde51",
   "metadata": {},
   "outputs": [
    {
     "data": {
      "text/plain": [
       "'hello sali!'"
      ]
     },
     "execution_count": 4,
     "metadata": {},
     "output_type": "execute_result"
    }
   ],
   "source": [
    "greet(\"sali\")"
   ]
  },
  {
   "cell_type": "code",
   "execution_count": 5,
   "id": "5a4c32ad",
   "metadata": {},
   "outputs": [
    {
     "data": {
      "text/plain": [
       "'hello'"
      ]
     },
     "execution_count": 5,
     "metadata": {},
     "output_type": "execute_result"
    }
   ],
   "source": [
    "greet()"
   ]
  },
  {
   "cell_type": "code",
   "execution_count": 9,
   "id": "d117c047",
   "metadata": {},
   "outputs": [],
   "source": [
    "def mydec(func):\n",
    "    def wrapper(*args,**kwargs):\n",
    "        print(f\"calling function: {func.__name__}\")\n",
    "        print(f\"{args= }\")\n",
    "        print(f\"{kwargs= }\")\n",
    "        return func(*args,**kwargs)\n",
    "    return wrapper    \n",
    "        "
   ]
  },
  {
   "cell_type": "code",
   "execution_count": 11,
   "id": "84c5dafe",
   "metadata": {},
   "outputs": [],
   "source": [
    "f=mydec(greet)"
   ]
  },
  {
   "cell_type": "code",
   "execution_count": 12,
   "id": "7c0580fd",
   "metadata": {},
   "outputs": [
    {
     "name": "stdout",
     "output_type": "stream",
     "text": [
      "calling function:greet\n",
      "args= ('sali',)\n",
      "kwargs= {}\n"
     ]
    },
    {
     "data": {
      "text/plain": [
       "'hello sali!'"
      ]
     },
     "execution_count": 12,
     "metadata": {},
     "output_type": "execute_result"
    }
   ],
   "source": [
    "f(\"sali\")"
   ]
  },
  {
   "cell_type": "code",
   "execution_count": 13,
   "id": "4bc09812",
   "metadata": {},
   "outputs": [],
   "source": [
    "@mydec\n",
    "def greet(name=None):\n",
    "    if name:\n",
    "        return f\"hello {name}!\"\n",
    "    else:\n",
    "        return f\"hello\""
   ]
  },
  {
   "cell_type": "code",
   "execution_count": 15,
   "id": "def1873c",
   "metadata": {},
   "outputs": [
    {
     "name": "stdout",
     "output_type": "stream",
     "text": [
      "calling function:greet\n",
      "args= ('sali',)\n",
      "kwargs= {}\n"
     ]
    },
    {
     "data": {
      "text/plain": [
       "'hello sali!'"
      ]
     },
     "execution_count": 15,
     "metadata": {},
     "output_type": "execute_result"
    }
   ],
   "source": [
    "greet(\"sali\")"
   ]
  },
  {
   "cell_type": "code",
   "execution_count": null,
   "id": "d9e0cbc8",
   "metadata": {},
   "outputs": [],
   "source": []
  },
  {
   "cell_type": "code",
   "execution_count": null,
   "id": "988d231e",
   "metadata": {},
   "outputs": [],
   "source": []
  },
  {
   "cell_type": "code",
   "execution_count": null,
   "id": "9688ba1a",
   "metadata": {},
   "outputs": [],
   "source": []
  },
  {
   "cell_type": "code",
   "execution_count": null,
   "id": "ea5cc694",
   "metadata": {},
   "outputs": [],
   "source": []
  },
  {
   "cell_type": "code",
   "execution_count": null,
   "id": "f3e1c434",
   "metadata": {},
   "outputs": [],
   "source": []
  },
  {
   "cell_type": "code",
   "execution_count": null,
   "id": "849465f0",
   "metadata": {},
   "outputs": [],
   "source": []
  }
 ],
 "metadata": {
  "kernelspec": {
   "display_name": "Python 3 (ipykernel)",
   "language": "python",
   "name": "python3"
  },
  "language_info": {
   "codemirror_mode": {
    "name": "ipython",
    "version": 3
   },
   "file_extension": ".py",
   "mimetype": "text/x-python",
   "name": "python",
   "nbconvert_exporter": "python",
   "pygments_lexer": "ipython3",
   "version": "3.9.7"
  }
 },
 "nbformat": 4,
 "nbformat_minor": 5
}
