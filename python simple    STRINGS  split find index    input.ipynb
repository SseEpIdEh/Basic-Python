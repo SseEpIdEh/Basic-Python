{
 "cells": [
  {
   "cell_type": "code",
   "execution_count": null,
   "id": "7b73d122",
   "metadata": {},
   "outputs": [],
   "source": [
    "import math"
   ]
  },
  {
   "cell_type": "code",
   "execution_count": 1,
   "id": "4f998226",
   "metadata": {},
   "outputs": [],
   "source": [
    "a='sepide'\n",
    "b=3.14\n"
   ]
  },
  {
   "cell_type": "code",
   "execution_count": 2,
   "id": "feaaa984",
   "metadata": {},
   "outputs": [
    {
     "name": "stdout",
     "output_type": "stream",
     "text": [
      "3.14\n"
     ]
    }
   ],
   "source": [
    "print(b)"
   ]
  },
  {
   "cell_type": "code",
   "execution_count": 3,
   "id": "9e14c556",
   "metadata": {},
   "outputs": [
    {
     "data": {
      "text/plain": [
       "False"
      ]
     },
     "execution_count": 3,
     "metadata": {},
     "output_type": "execute_result"
    }
   ],
   "source": [
    "a=1\n",
    "b=2\n",
    "a==b"
   ]
  },
  {
   "cell_type": "markdown",
   "id": "ed3a4200",
   "metadata": {},
   "source": [
    "# lets compute\n",
    "_point one \n",
    ".point 1"
   ]
  },
  {
   "cell_type": "code",
   "execution_count": 11,
   "id": "9c29e907",
   "metadata": {},
   "outputs": [],
   "source": [
    "def malti (a,b):\n",
    "    return a*b"
   ]
  },
  {
   "cell_type": "code",
   "execution_count": 14,
   "id": "b8aac876",
   "metadata": {},
   "outputs": [
    {
     "data": {
      "text/plain": [
       "12"
      ]
     },
     "execution_count": 14,
     "metadata": {},
     "output_type": "execute_result"
    }
   ],
   "source": [
    "malti(2,6)\n",
    "    "
   ]
  },
  {
   "cell_type": "code",
   "execution_count": 15,
   "id": "f4e9e633",
   "metadata": {},
   "outputs": [
    {
     "data": {
      "text/plain": [
       "56"
      ]
     },
     "execution_count": 15,
     "metadata": {},
     "output_type": "execute_result"
    }
   ],
   "source": [
    "malti(7,8)"
   ]
  },
  {
   "cell_type": "markdown",
   "id": "4aa0abc2",
   "metadata": {},
   "source": [
    "# Strings()  "
   ]
  },
  {
   "cell_type": "code",
   "execution_count": 12,
   "id": "45eb752d",
   "metadata": {},
   "outputs": [
    {
     "name": "stdout",
     "output_type": "stream",
     "text": [
      "7\n",
      "s\n",
      "d\n",
      "115\n",
      "True\n",
      "False\n",
      "True\n",
      "True\n",
      "False\n",
      "True\n",
      "False\n",
      "False\n"
     ]
    }
   ],
   "source": [
    "s='sepideh'\n",
    "print(len(s))\n",
    "print(max(s))\n",
    "print(min(s))\n",
    "print(ord('s'))\n",
    "print('deh' in s )\n",
    "print('deh'not in s )\n",
    "print(s>'sara')\n",
    "print(s.islower())\n",
    "print(s.isupper())\n",
    "print(s.isalnum())   #alphanumeric\n",
    "s1='sepideh23'\n",
    "print(s1.isalpha())\n",
    "s2='#sepideh'\n",
    "print(s2.isalnum())\n"
   ]
  },
  {
   "cell_type": "code",
   "execution_count": 13,
   "id": "98bad970",
   "metadata": {},
   "outputs": [
    {
     "name": "stdout",
     "output_type": "stream",
     "text": [
      "True\n"
     ]
    }
   ],
   "source": [
    "a='123'\n",
    "print(a.isdigit())"
   ]
  },
  {
   "cell_type": "code",
   "execution_count": 14,
   "id": "83cb7a3d",
   "metadata": {},
   "outputs": [
    {
     "name": "stdout",
     "output_type": "stream",
     "text": [
      "True\n"
     ]
    }
   ],
   "source": [
    "print('\\t'.isspace())"
   ]
  },
  {
   "cell_type": "code",
   "execution_count": 18,
   "id": "38cd276e",
   "metadata": {},
   "outputs": [
    {
     "name": "stdout",
     "output_type": "stream",
     "text": [
      "12\n"
     ]
    }
   ],
   "source": [
    "q='1234edfr2s'\n",
    "k=0\n",
    "for ch in q:\n",
    "    if ch.isdigit()== True:\n",
    "        k+=int(ch)\n",
    "print(k)        "
   ]
  },
  {
   "cell_type": "code",
   "execution_count": 28,
   "id": "d6178140",
   "metadata": {},
   "outputs": [
    {
     "name": "stdout",
     "output_type": "stream",
     "text": [
      "True\n",
      "False\n",
      "True\n"
     ]
    }
   ],
   "source": [
    "s='welcome to python'\n",
    "print(s.startswith('we'))\n",
    "print(s.endswith('we'))\n",
    "print(s.endswith('on'))"
   ]
  },
  {
   "cell_type": "markdown",
   "id": "bc87c4da",
   "metadata": {},
   "source": [
    "# find()   and   index()"
   ]
  },
  {
   "cell_type": "code",
   "execution_count": 32,
   "id": "1632e85d",
   "metadata": {},
   "outputs": [
    {
     "name": "stdout",
     "output_type": "stream",
     "text": [
      "12\n",
      "12\n"
     ]
    }
   ],
   "source": [
    "print(s.find('y'))\n",
    "print(s.index('y'))"
   ]
  },
  {
   "cell_type": "code",
   "execution_count": 33,
   "id": "c51beda6",
   "metadata": {},
   "outputs": [
    {
     "name": "stdout",
     "output_type": "stream",
     "text": [
      "-1\n"
     ]
    },
    {
     "ename": "ValueError",
     "evalue": "substring not found",
     "output_type": "error",
     "traceback": [
      "\u001b[1;31m---------------------------------------------------------------------------\u001b[0m",
      "\u001b[1;31mValueError\u001b[0m                                Traceback (most recent call last)",
      "\u001b[1;32m~\\AppData\\Local\\Temp/ipykernel_9052/413537032.py\u001b[0m in \u001b[0;36m<module>\u001b[1;34m\u001b[0m\n\u001b[0;32m      1\u001b[0m \u001b[0mprint\u001b[0m\u001b[1;33m(\u001b[0m\u001b[0ms\u001b[0m\u001b[1;33m.\u001b[0m\u001b[0mfind\u001b[0m\u001b[1;33m(\u001b[0m\u001b[1;34m'f'\u001b[0m\u001b[1;33m)\u001b[0m\u001b[1;33m)\u001b[0m\u001b[1;33m\u001b[0m\u001b[1;33m\u001b[0m\u001b[0m\n\u001b[1;32m----> 2\u001b[1;33m \u001b[0mprint\u001b[0m\u001b[1;33m(\u001b[0m\u001b[0ms\u001b[0m\u001b[1;33m.\u001b[0m\u001b[0mindex\u001b[0m\u001b[1;33m(\u001b[0m\u001b[1;34m'f'\u001b[0m\u001b[1;33m)\u001b[0m\u001b[1;33m)\u001b[0m\u001b[1;33m\u001b[0m\u001b[1;33m\u001b[0m\u001b[0m\n\u001b[0m",
      "\u001b[1;31mValueError\u001b[0m: substring not found"
     ]
    }
   ],
   "source": [
    "print(s.find('f'))\n",
    "print(s.index('f'))"
   ]
  },
  {
   "cell_type": "code",
   "execution_count": 41,
   "id": "fcb2d986",
   "metadata": {},
   "outputs": [
    {
     "name": "stdout",
     "output_type": "stream",
     "text": [
      "15\n"
     ]
    }
   ],
   "source": [
    "s='welcome to python'\n",
    "\n",
    "print(s.find('o',10))      #yani from five onwards search 'o'\n"
   ]
  },
  {
   "cell_type": "markdown",
   "id": "e1172999",
   "metadata": {},
   "source": [
    "# count()"
   ]
  },
  {
   "cell_type": "code",
   "execution_count": 42,
   "id": "91a7c9d1",
   "metadata": {},
   "outputs": [
    {
     "name": "stdout",
     "output_type": "stream",
     "text": [
      "3\n"
     ]
    }
   ],
   "source": [
    "print(s.count('o'))"
   ]
  },
  {
   "cell_type": "code",
   "execution_count": 43,
   "id": "c0d69eb8",
   "metadata": {},
   "outputs": [
    {
     "name": "stdout",
     "output_type": "stream",
     "text": [
      "2\n"
     ]
    }
   ],
   "source": [
    "print(s.count('o',5))         #from five onwards how many 'o' we have?"
   ]
  },
  {
   "cell_type": "code",
   "execution_count": 48,
   "id": "d1330a1a",
   "metadata": {},
   "outputs": [
    {
     "name": "stdout",
     "output_type": "stream",
     "text": [
      "ut.ac.ir\n"
     ]
    }
   ],
   "source": [
    "s='sepidehmb1900@ut.ac.ir'\n",
    "i=s.find('@')                 #charecter that we want to find from ''@'' onwrads.\n",
    "print(s[i+1:])"
   ]
  },
  {
   "cell_type": "markdown",
   "id": "1f23427c",
   "metadata": {},
   "source": [
    "# Capitalize()"
   ]
  },
  {
   "cell_type": "code",
   "execution_count": 61,
   "id": "9958f16b",
   "metadata": {},
   "outputs": [
    {
     "name": "stdout",
     "output_type": "stream",
     "text": [
      "Welcome to the usa\n"
     ]
    }
   ],
   "source": [
    "s='welcome To the usa'                   #just capitalize the first charecter of the sentence\n",
    "\n",
    "print(s.capitalize())"
   ]
  },
  {
   "cell_type": "markdown",
   "id": "c39e8659",
   "metadata": {},
   "source": [
    "# title()"
   ]
  },
  {
   "cell_type": "code",
   "execution_count": 62,
   "id": "6cd3d126",
   "metadata": {},
   "outputs": [
    {
     "name": "stdout",
     "output_type": "stream",
     "text": [
      "Welcome To The Usa\n"
     ]
    }
   ],
   "source": [
    "print(s.title())                     # capitalize the whole first words of sentences\n"
   ]
  },
  {
   "cell_type": "markdown",
   "id": "b3a95cc7",
   "metadata": {},
   "source": [
    "# swapcase()"
   ]
  },
  {
   "cell_type": "code",
   "execution_count": 63,
   "id": "553e8298",
   "metadata": {},
   "outputs": [
    {
     "name": "stdout",
     "output_type": "stream",
     "text": [
      "welcome to the usa\n",
      "WELCOME TO THE USA\n",
      "WELCOME tO THE USA\n"
     ]
    }
   ],
   "source": [
    "print(s.lower())\n",
    "print(s.upper())\n",
    "print(s.swapcase())              #everythig will be reversed(lower ----uppper and uppper-----lower)"
   ]
  },
  {
   "cell_type": "markdown",
   "id": "ae4ef780",
   "metadata": {},
   "source": [
    "# replace()"
   ]
  },
  {
   "cell_type": "code",
   "execution_count": 64,
   "id": "05b405a2",
   "metadata": {},
   "outputs": [
    {
     "name": "stdout",
     "output_type": "stream",
     "text": [
      "sepidehbolguri\n"
     ]
    }
   ],
   "source": [
    "s='sepidehmohammadi'\n",
    "print(s.replace('mohammadi','bolguri'))"
   ]
  },
  {
   "cell_type": "markdown",
   "id": "3d1d2c72",
   "metadata": {},
   "source": [
    "# s.strip()\n",
    "# s.ltrip()\n",
    "# s.rtrip()\n"
   ]
  },
  {
   "cell_type": "code",
   "execution_count": 68,
   "id": "4fc9f1bf",
   "metadata": {},
   "outputs": [
    {
     "name": "stdout",
     "output_type": "stream",
     "text": [
      "sepide$hmohammadi\n",
      "sepide$hmohammadi$$$\n",
      "$$$sepide$hmohammadi\n"
     ]
    }
   ],
   "source": [
    "s='$$$sepide$hmohammadi$$$'\n",
    "print(s.strip('$'))                         #first and end     \\strip means lack of having the given eleman\n",
    "\n",
    "print(s.lstrip('$'))                        #left\n",
    "\n",
    "print(s.rstrip('$'))                        #right"
   ]
  },
  {
   "cell_type": "code",
   "execution_count": 72,
   "id": "ec83e61b",
   "metadata": {},
   "outputs": [],
   "source": [
    "s='###sepidehmohammadi$$$'"
   ]
  },
  {
   "cell_type": "code",
   "execution_count": 73,
   "id": "2292d743",
   "metadata": {},
   "outputs": [
    {
     "name": "stdout",
     "output_type": "stream",
     "text": [
      "sepidehmohammadi\n"
     ]
    }
   ],
   "source": [
    "print(s.lstrip('#').rstrip('$'))"
   ]
  },
  {
   "cell_type": "code",
   "execution_count": 77,
   "id": "b50335be",
   "metadata": {},
   "outputs": [
    {
     "name": "stdout",
     "output_type": "stream",
     "text": [
      "sanjesh.org\n",
      "wwww.sanjesh\n"
     ]
    }
   ],
   "source": [
    "s='wwww.sanjesh.org'\n",
    "print(s.lstrip('www.'))\n",
    "print(s.rstrip('.org'))"
   ]
  },
  {
   "cell_type": "markdown",
   "id": "9e3dcac1",
   "metadata": {},
   "source": [
    "# Spilt()......input().split(separator, maxsplit)\n",
    "\n",
    "**This function helps in getting multiple inputs from users. It breaks the given input by the specified separator. If a separator is not provided then any white space is a separator. Generally, users use a split() method to split a Python string but one can use it in taking multiple inputs.\n"
   ]
  },
  {
   "cell_type": "code",
   "execution_count": 78,
   "id": "d43b3206",
   "metadata": {},
   "outputs": [
    {
     "name": "stdout",
     "output_type": "stream",
     "text": [
      "['python', 'created', 'by', 'Rossum']\n"
     ]
    }
   ],
   "source": [
    "s='python created by Rossum'\n",
    "a=s.split(' ')\n",
    "print(a)"
   ]
  },
  {
   "cell_type": "code",
   "execution_count": 86,
   "id": "ba61ce65",
   "metadata": {},
   "outputs": [
    {
     "name": "stdout",
     "output_type": "stream",
     "text": [
      "['sepideh', 'py']\n",
      "py\n",
      "'py'\n"
     ]
    }
   ],
   "source": [
    "name='sepideh.py'\n",
    "a=name.split('.')\n",
    "print(a)\n",
    "\n",
    "print(a[1])\n",
    "\n",
    "print(repr(a[1]))"
   ]
  },
  {
   "cell_type": "code",
   "execution_count": 92,
   "id": "47b6ce70",
   "metadata": {},
   "outputs": [
    {
     "name": "stdout",
     "output_type": "stream",
     "text": [
      "sepideh\n",
      "gmail.com\n"
     ]
    }
   ],
   "source": [
    "s='sepideh@gmail.com'\n",
    "a,b=s.split('@')\n",
    "print(a)\n",
    "print(b)\n"
   ]
  },
  {
   "cell_type": "code",
   "execution_count": 207,
   "id": "19779bd0",
   "metadata": {},
   "outputs": [
    {
     "name": "stdout",
     "output_type": "stream",
     "text": [
      "Enter two values: 1 2\n",
      "Number of boys:  1\n",
      "Number of girls:  2\n",
      "Enter three values: 12 3 4\n",
      "Total number of students:  12\n",
      "Number of boys is :  3\n",
      "Number of girls is :  4\n",
      "Enter two values: 1 2\n",
      "First number is 1 and second number is 2\n",
      "Enter multiple values: 1 3 5 6\n",
      "List of students:  [1, 3, 5, 6]\n",
      "List of students is [1, 3, 5, 6]\n"
     ]
    }
   ],
   "source": [
    "\n",
    "\n",
    "x, y = input(\"Enter two values: \").split()\n",
    "print(\"Number of boys: \", x)\n",
    "print(\"Number of girls: \", y)\n",
    "\n",
    "# taking three inputs at a time\n",
    "x, y, z = input(\"Enter three values: \").split()\n",
    "print(\"Total number of students: \", x)\n",
    "print(\"Number of boys is : \", y)\n",
    "print(\"Number of girls is : \", z)\n",
    "\n",
    "# taking two inputs at a time\n",
    "a, b = input(\"Enter two values: \").split()\n",
    "print(\"First number is {} and second number is {}\".format(a, b))\n",
    "\n",
    "# taking multiple inputs at a time\n",
    "# and type casting using list() function\n",
    "x = list(map(int, input(\"Enter multiple values: \").split()))\n",
    "print(\"List of students: \", x)\n",
    "print(\"List of students is {}\".format(x))"
   ]
  },
  {
   "cell_type": "code",
   "execution_count": null,
   "id": "bb3055aa",
   "metadata": {},
   "outputs": [
    {
     "name": "stdout",
     "output_type": "stream",
     "text": [
      "Enter a list:1 2 3\n"
     ]
    }
   ],
   "source": [
    "x=int(input(\"Enter a list:\").spilt())\n",
    "print(\"list of students: \",x)\n",
    "print(\"list of students is {}\".format(x))"
   ]
  },
  {
   "cell_type": "markdown",
   "id": "a3d4132d",
   "metadata": {},
   "source": [
    "# using List comprehension:\n",
    "**List comprehension is an elegant way to define and create a list in Python. We can create lists just like mathematical statements in one line only. It is also used in getting multiple inputs from a user."
   ]
  },
  {
   "cell_type": "code",
   "execution_count": 208,
   "id": "cfaab70f",
   "metadata": {},
   "outputs": [
    {
     "name": "stdout",
     "output_type": "stream",
     "text": [
      "enter two values:1 3\n",
      "First Number is:  1\n",
      "Second Number is:  3\n"
     ]
    }
   ],
   "source": [
    "x,y=[int(x) for x in input(\"enter two values:\").split()]\n",
    "print(\"First Number is: \", x)\n",
    "print(\"Second Number is: \", y)"
   ]
  },
  {
   "cell_type": "markdown",
   "id": "9cfdc32c",
   "metadata": {},
   "source": [
    "# python input methods for competitive programming:\n",
    "**Python has multiple input methods that can be used in competitive programming, depending on the type and format of the input data. Here are some of the commonly used input methods:"
   ]
  },
  {
   "cell_type": "markdown",
   "id": "5e2e2679",
   "metadata": {},
   "source": [
    "# 1.input():\n",
    "\n",
    "This function reads a single line of input from the standard input stream (usually the keyboard) as a string. It is the simplest way to read input in Python."
   ]
  },
  {
   "cell_type": "markdown",
   "id": "56abedcb",
   "metadata": {},
   "source": [
    "n = int(input())\n",
    "a = list(map(int, input().split()))\n",
    "\n",
    "\n",
    "**In this example, the first line of input is an integer, and the second line contains a space-separated list of integers. \n",
    "####The map function is used to convert each string element to an intege"
   ]
  },
  {
   "cell_type": "code",
   "execution_count": null,
   "id": "90edca8e",
   "metadata": {},
   "outputs": [],
   "source": [
    "n=int(input())\n",
    "\n",
    "arr=[int(x) for x in input().split()]\n",
    "\n",
    "summation=0\n",
    "\n",
    "for x in arr:\n",
    "    summation += x\n",
    "    \n",
    "print(summation)   "
   ]
  },
  {
   "cell_type": "markdown",
   "id": "7a252ea8",
   "metadata": {},
   "source": [
    "# 2.sys.stdin.readline():\n",
    "\n",
    "This method reads a line from the standard input stream (stdin) and returns it as a string. It is faster than the input() function since it doesn't have to parse the input string."
   ]
  },
  {
   "cell_type": "code",
   "execution_count": null,
   "id": "cfb4febd",
   "metadata": {},
   "outputs": [],
   "source": [
    "import sys\n",
    "\n",
    "n = int(sys.stdin.readline())\n",
    "a = list(map(int, sys.stdin.readline().split()))\n"
   ]
  },
  {
   "cell_type": "code",
   "execution_count": 4,
   "id": "205b08fd",
   "metadata": {},
   "outputs": [
    {
     "name": "stdout",
     "output_type": "stream",
     "text": [
      "0"
     ]
    }
   ],
   "source": [
    "# import inbuilt standard input output\n",
    "from sys import stdin, stdout\n",
    "\n",
    "# suppose a function called main() and\n",
    "# all the operations are performed\n",
    "def main():\n",
    "\tn = stdin.readline()\n",
    "\tarr = [int(x) for x in stdin.readline().split()]\n",
    "\tsummation = 0\n",
    "\n",
    "\tfor x in arr:\n",
    "\t\tsummation += x\n",
    "\tstdout.write(str(summation)\n",
    "if __name__ == \"__main__\":\n",
    "\tmain()\n"
   ]
  },
  {
   "cell_type": "code",
   "execution_count": 19,
   "id": "890a0a32",
   "metadata": {},
   "outputs": [],
   "source": [
    "import sys\n",
    "def get_ints():\n",
    "    return list(map(int, sys.stdin.readline().strip().split()))\n",
    "\n",
    "Arr = get_ints()\n"
   ]
  },
  {
   "cell_type": "code",
   "execution_count": 23,
   "id": "260cdd46",
   "metadata": {},
   "outputs": [
    {
     "ename": "SyntaxError",
     "evalue": "invalid syntax (Temp/ipykernel_21704/206181185.py, line 2)",
     "output_type": "error",
     "traceback": [
      "\u001b[1;36m  File \u001b[1;32m\"C:\\Users\\Mehrdad\\AppData\\Local\\Temp/ipykernel_21704/206181185.py\"\u001b[1;36m, line \u001b[1;32m2\u001b[0m\n\u001b[1;33m    def get_ints(1,2,3,4):\u001b[0m\n\u001b[1;37m                 ^\u001b[0m\n\u001b[1;31mSyntaxError\u001b[0m\u001b[1;31m:\u001b[0m invalid syntax\n"
     ]
    }
   ],
   "source": [
    "import sys\n",
    "def get_ints(): \n",
    "    return list(map(int, sys.stdin.readline().strip().split()))\n",
    "\n",
    "a,b,c,d = get_ints()\n"
   ]
  },
  {
   "cell_type": "markdown",
   "id": "5d9bbde8",
   "metadata": {},
   "source": [
    "# 3.fileinput.input(): \n",
    "\n",
    "**This function reads input from multiple sources, such as files or standard input, and returns an iterator that reads one line at a time. It can be used to read input from a file or from the standard input stream."
   ]
  },
  {
   "cell_type": "code",
   "execution_count": null,
   "id": "eaff4a55",
   "metadata": {},
   "outputs": [],
   "source": [
    "import fileinput\n",
    "\n",
    "for line in fileinput.input():\n",
    "    print(line.strip())\n",
    "\n",
    "    \n"
   ]
  },
  {
   "cell_type": "markdown",
   "id": "90b89a04",
   "metadata": {},
   "source": [
    "    \n",
    "    ***This code reads input from either a file specified as a command-line argument or from the standard input stream if no file is specified."
   ]
  },
  {
   "cell_type": "markdown",
   "id": "0bf9dbe4",
   "metadata": {},
   "source": [
    "# 4.ast.literal_eval():\n",
    "\n",
    "**This function is used to evaluate a string containing a Python expression. It can be used to read input in a format where each line contains a Python list, tuple, or dictionary."
   ]
  },
  {
   "cell_type": "code",
   "execution_count": null,
   "id": "88570785",
   "metadata": {},
   "outputs": [],
   "source": [
    "import ast\n",
    "\n",
    "n = int(input())\n",
    "a = [ast.literal_eval(input().strip()) for i in range(n)]\n"
   ]
  },
  {
   "cell_type": "markdown",
   "id": "85a48a59",
   "metadata": {},
   "source": [
    "     ***In this example, the first line of input contains an integer, and the following n lines contain Python lists. The ast.literal_eval function is used to convert each string to a Python list."
   ]
  },
  {
   "cell_type": "code",
   "execution_count": null,
   "id": "921ae293",
   "metadata": {},
   "outputs": [],
   "source": []
  },
  {
   "cell_type": "code",
   "execution_count": null,
   "id": "36fa1d6f",
   "metadata": {},
   "outputs": [],
   "source": []
  },
  {
   "cell_type": "code",
   "execution_count": null,
   "id": "b7a0f712",
   "metadata": {},
   "outputs": [],
   "source": []
  },
  {
   "cell_type": "code",
   "execution_count": null,
   "id": "2fee9fed",
   "metadata": {},
   "outputs": [],
   "source": []
  },
  {
   "cell_type": "code",
   "execution_count": null,
   "id": "6c1bcd86",
   "metadata": {},
   "outputs": [],
   "source": []
  },
  {
   "cell_type": "code",
   "execution_count": 3,
   "id": "3acaac65",
   "metadata": {},
   "outputs": [
    {
     "name": "stdout",
     "output_type": "stream",
     "text": [
      "1\n",
      "2\n",
      "2\n"
     ]
    }
   ],
   "source": [
    " "
   ]
  },
  {
   "cell_type": "code",
   "execution_count": null,
   "id": "950377c8",
   "metadata": {},
   "outputs": [],
   "source": []
  },
  {
   "cell_type": "code",
   "execution_count": null,
   "id": "8122a75a",
   "metadata": {},
   "outputs": [],
   "source": []
  },
  {
   "cell_type": "code",
   "execution_count": null,
   "id": "bfc3f14b",
   "metadata": {},
   "outputs": [],
   "source": []
  },
  {
   "cell_type": "code",
   "execution_count": null,
   "id": "92f8a0b5",
   "metadata": {},
   "outputs": [],
   "source": []
  },
  {
   "cell_type": "code",
   "execution_count": 9,
   "id": "214b90c3",
   "metadata": {},
   "outputs": [
    {
     "name": "stdout",
     "output_type": "stream",
     "text": [
      "enter two values: 14\n"
     ]
    },
    {
     "ename": "ValueError",
     "evalue": "not enough values to unpack (expected 2, got 1)",
     "output_type": "error",
     "traceback": [
      "\u001b[1;31m---------------------------------------------------------------------------\u001b[0m",
      "\u001b[1;31mValueError\u001b[0m                                Traceback (most recent call last)",
      "\u001b[1;32m~\\AppData\\Local\\Temp/ipykernel_16404/2722716931.py\u001b[0m in \u001b[0;36m<module>\u001b[1;34m\u001b[0m\n\u001b[1;32m----> 1\u001b[1;33m \u001b[0ma\u001b[0m\u001b[1;33m,\u001b[0m \u001b[0mb\u001b[0m \u001b[1;33m=\u001b[0m \u001b[0minput\u001b[0m\u001b[1;33m(\u001b[0m\u001b[1;34m\"enter two values: \"\u001b[0m\u001b[1;33m)\u001b[0m\u001b[1;33m.\u001b[0m\u001b[0msplit\u001b[0m\u001b[1;33m(\u001b[0m\u001b[1;33m)\u001b[0m\u001b[1;33m\u001b[0m\u001b[1;33m\u001b[0m\u001b[0m\n\u001b[0m\u001b[0;32m      2\u001b[0m \u001b[0ma\u001b[0m\u001b[1;33m,\u001b[0m \u001b[0mb\u001b[0m \u001b[1;33m=\u001b[0m \u001b[0mmap\u001b[0m\u001b[1;33m(\u001b[0m\u001b[0mint\u001b[0m\u001b[1;33m,\u001b[0m \u001b[1;33m(\u001b[0m\u001b[0ma\u001b[0m\u001b[1;33m,\u001b[0m \u001b[0mb\u001b[0m\u001b[1;33m)\u001b[0m\u001b[1;33m)\u001b[0m\u001b[1;33m\u001b[0m\u001b[1;33m\u001b[0m\u001b[0m\n\u001b[0;32m      3\u001b[0m \u001b[0mprint\u001b[0m\u001b[1;33m(\u001b[0m\u001b[0ma\u001b[0m\u001b[1;33m,\u001b[0m \u001b[0mb\u001b[0m\u001b[1;33m)\u001b[0m\u001b[1;33m\u001b[0m\u001b[1;33m\u001b[0m\u001b[0m\n",
      "\u001b[1;31mValueError\u001b[0m: not enough values to unpack (expected 2, got 1)"
     ]
    }
   ],
   "source": [
    "a, b = input(\"enter two values: \").split()\n",
    "a, b = map(int, (a, b))\n",
    "print(a, b)\n"
   ]
  },
  {
   "cell_type": "code",
   "execution_count": 8,
   "id": "3730744a",
   "metadata": {},
   "outputs": [
    {
     "name": "stdout",
     "output_type": "stream",
     "text": [
      "enter two values: 12\n"
     ]
    },
    {
     "ename": "ValueError",
     "evalue": "not enough values to unpack (expected 2, got 1)",
     "output_type": "error",
     "traceback": [
      "\u001b[1;31m---------------------------------------------------------------------------\u001b[0m",
      "\u001b[1;31mValueError\u001b[0m                                Traceback (most recent call last)",
      "\u001b[1;32m~\\AppData\\Local\\Temp/ipykernel_16404/1755841330.py\u001b[0m in \u001b[0;36m<module>\u001b[1;34m\u001b[0m\n\u001b[1;32m----> 1\u001b[1;33m \u001b[0ma\u001b[0m\u001b[1;33m,\u001b[0m \u001b[0mb\u001b[0m \u001b[1;33m=\u001b[0m \u001b[0minput\u001b[0m\u001b[1;33m(\u001b[0m\u001b[1;34m\"enter two values: \"\u001b[0m\u001b[1;33m)\u001b[0m\u001b[1;33m.\u001b[0m\u001b[0msplit\u001b[0m\u001b[1;33m(\u001b[0m\u001b[1;33m)\u001b[0m\u001b[1;33m\u001b[0m\u001b[1;33m\u001b[0m\u001b[0m\n\u001b[0m\u001b[0;32m      2\u001b[0m \u001b[0ma\u001b[0m \u001b[1;33m=\u001b[0m \u001b[0mint\u001b[0m\u001b[1;33m(\u001b[0m\u001b[0ma\u001b[0m\u001b[1;33m)\u001b[0m\u001b[1;33m\u001b[0m\u001b[1;33m\u001b[0m\u001b[0m\n\u001b[0;32m      3\u001b[0m \u001b[0mb\u001b[0m \u001b[1;33m=\u001b[0m \u001b[0mint\u001b[0m\u001b[1;33m(\u001b[0m\u001b[0mb\u001b[0m\u001b[1;33m)\u001b[0m\u001b[1;33m\u001b[0m\u001b[1;33m\u001b[0m\u001b[0m\n\u001b[0;32m      4\u001b[0m \u001b[0mprint\u001b[0m\u001b[1;33m(\u001b[0m\u001b[0ma\u001b[0m\u001b[1;33m,\u001b[0m \u001b[0mb\u001b[0m\u001b[1;33m)\u001b[0m\u001b[1;33m\u001b[0m\u001b[1;33m\u001b[0m\u001b[0m\n\u001b[0;32m      5\u001b[0m \u001b[1;33m\u001b[0m\u001b[0m\n",
      "\u001b[1;31mValueError\u001b[0m: not enough values to unpack (expected 2, got 1)"
     ]
    }
   ],
   "source": [
    "a, b = input(\"enter two values: \").split()\n",
    "a = int(a)\n",
    "b = int(b)\n",
    "print(a, b)\n",
    "\n",
    "\n",
    "    "
   ]
  },
  {
   "cell_type": "code",
   "execution_count": null,
   "id": "a48dff91",
   "metadata": {},
   "outputs": [],
   "source": []
  },
  {
   "cell_type": "code",
   "execution_count": null,
   "id": "da2d48a1",
   "metadata": {},
   "outputs": [],
   "source": []
  },
  {
   "cell_type": "markdown",
   "id": "ad96414a",
   "metadata": {},
   "source": [
    "# splitlines(\\n)"
   ]
  },
  {
   "cell_type": "code",
   "execution_count": 110,
   "id": "f45b0cc6",
   "metadata": {},
   "outputs": [
    {
     "name": "stdout",
     "output_type": "stream",
     "text": [
      "['sepide', 'mehrdad']\n"
     ]
    }
   ],
   "source": [
    "q='sepide\\nmehrdad'\n",
    "s=q.split('\\n')\n",
    "print(s)"
   ]
  },
  {
   "cell_type": "code",
   "execution_count": 111,
   "id": "cb97023c",
   "metadata": {},
   "outputs": [
    {
     "name": "stdout",
     "output_type": "stream",
     "text": [
      "['sepide', 'mehrdad']\n",
      "sepide\n",
      "mehrdad\n"
     ]
    }
   ],
   "source": [
    "b=q.splitlines()\n",
    "print(b)\n",
    "print(q\n",
    "     )"
   ]
  },
  {
   "cell_type": "code",
   "execution_count": 114,
   "id": "ed6e927e",
   "metadata": {},
   "outputs": [
    {
     "name": "stdout",
     "output_type": "stream",
     "text": [
      "['sepide', 'mehrdad']\n",
      "sepide\tmehrdad\n"
     ]
    }
   ],
   "source": [
    "q='sepide\\tmehrdad'\n",
    "s=q.split('\\t')\n",
    "print(s)\n",
    "print(q)"
   ]
  },
  {
   "cell_type": "code",
   "execution_count": 183,
   "id": "edf0ebd6",
   "metadata": {
    "scrolled": true
   },
   "outputs": [
    {
     "name": "stdout",
     "output_type": "stream",
     "text": [
      "['127', '02', '0', '001']\n",
      "127 .2 .0 .1\n"
     ]
    }
   ],
   "source": [
    "s='127.02.0.001'\n",
    "w=s.split('.')\n",
    "print(w)\n",
    "a=' .'.join([str(int(i)) for i in w])\n",
    "print(a)"
   ]
  },
  {
   "cell_type": "code",
   "execution_count": 184,
   "id": "af294dc9",
   "metadata": {},
   "outputs": [
    {
     "name": "stdout",
     "output_type": "stream",
     "text": [
      "290\n"
     ]
    }
   ],
   "source": [
    "f='000290'\n",
    "print(str(int(f)))"
   ]
  },
  {
   "cell_type": "markdown",
   "id": "35103888",
   "metadata": {},
   "source": [
    "# zfill()    #zero"
   ]
  },
  {
   "cell_type": "code",
   "execution_count": 187,
   "id": "c5ff8d30",
   "metadata": {},
   "outputs": [
    {
     "name": "stdout",
     "output_type": "stream",
     "text": [
      "012\n",
      "00012\n"
     ]
    }
   ],
   "source": [
    "s='12'\n",
    "print(s.zfill(3))\n",
    "print(s.zfill(5))"
   ]
  },
  {
   "cell_type": "markdown",
   "id": "4677d33a",
   "metadata": {},
   "source": [
    "# justify a string"
   ]
  },
  {
   "cell_type": "code",
   "execution_count": 188,
   "id": "7448ccaf",
   "metadata": {},
   "outputs": [
    {
     "name": "stdout",
     "output_type": "stream",
     "text": [
      "sara+++\n",
      "+++sara\n",
      "++sara+\n"
     ]
    }
   ],
   "source": [
    "s='sara'\n",
    "print(s.ljust(7,'+'))\n",
    "print(s.rjust(7,'+'))\n",
    "print(s.center(7,'+'))"
   ]
  },
  {
   "cell_type": "markdown",
   "id": "6ac96579",
   "metadata": {},
   "source": [
    "# print \n",
    "\n",
    "# fotmat()"
   ]
  },
  {
   "cell_type": "code",
   "execution_count": 191,
   "id": "0d764abf",
   "metadata": {},
   "outputs": [
    {
     "name": "stdout",
     "output_type": "stream",
     "text": [
      "results of the 2020 refrandum\n"
     ]
    }
   ],
   "source": [
    "year=2020\n",
    "e='refrandum'\n",
    "print(f'results of the {year} {e}')"
   ]
  },
  {
   "cell_type": "code",
   "execution_count": 198,
   "id": "b081f9fa",
   "metadata": {},
   "outputs": [
    {
     "name": "stdout",
     "output_type": "stream",
     "text": [
      "name:sara\n"
     ]
    }
   ],
   "source": [
    "s='sara'\n",
    "print('name:{}'.format(s))"
   ]
  },
  {
   "cell_type": "code",
   "execution_count": 196,
   "id": "ff6a6ea5",
   "metadata": {},
   "outputs": [
    {
     "name": "stdout",
     "output_type": "stream",
     "text": [
      "name:sara family: mohamadi\n"
     ]
    }
   ],
   "source": [
    "fs='sara'\n",
    "ls='mohamadi'\n",
    "print('name:{0} family: {1}'.format(fs,ls))"
   ]
  },
  {
   "cell_type": "markdown",
   "id": "7f9b7748",
   "metadata": {},
   "source": [
    "# representation allows you to keep ' '  in output     {n!r}    or .format()"
   ]
  },
  {
   "cell_type": "code",
   "execution_count": 200,
   "id": "68456650",
   "metadata": {},
   "outputs": [
    {
     "name": "stdout",
     "output_type": "stream",
     "text": [
      "name:sepideh\n",
      "name:'sepideh'\n"
     ]
    }
   ],
   "source": [
    "name='sepideh'\n",
    "print(f'name:{name}')\n",
    "print(f'name:{name!r}')"
   ]
  },
  {
   "cell_type": "code",
   "execution_count": 204,
   "id": "9343bacb",
   "metadata": {},
   "outputs": [
    {
     "name": "stdout",
     "output_type": "stream",
     "text": [
      "name:sepideh\n",
      "name:'sepideh'\n"
     ]
    }
   ],
   "source": [
    "name='sepideh'\n",
    "print('name:{}'.format(name))\n",
    "print('name:{!r}'.format(name))"
   ]
  },
  {
   "cell_type": "markdown",
   "id": "7c773608",
   "metadata": {},
   "source": [
    "# join()"
   ]
  },
  {
   "cell_type": "code",
   "execution_count": 80,
   "id": "921145cf",
   "metadata": {},
   "outputs": [
    {
     "name": "stdout",
     "output_type": "stream",
     "text": [
      "python created by Rossum\n"
     ]
    }
   ],
   "source": [
    "b=['python', 'created', 'by', 'Rossum']\n",
    "c=' '.join(b)\n",
    "print(c)"
   ]
  },
  {
   "cell_type": "code",
   "execution_count": null,
   "id": "c6a7b2e2",
   "metadata": {},
   "outputs": [],
   "source": []
  },
  {
   "cell_type": "code",
   "execution_count": null,
   "id": "edf3f0d5",
   "metadata": {},
   "outputs": [],
   "source": []
  },
  {
   "cell_type": "code",
   "execution_count": null,
   "id": "4ea59b2e",
   "metadata": {},
   "outputs": [],
   "source": []
  },
  {
   "cell_type": "code",
   "execution_count": null,
   "id": "c194329b",
   "metadata": {},
   "outputs": [],
   "source": []
  },
  {
   "cell_type": "code",
   "execution_count": null,
   "id": "35ea0576",
   "metadata": {},
   "outputs": [],
   "source": []
  },
  {
   "cell_type": "code",
   "execution_count": null,
   "id": "b5b5df55",
   "metadata": {},
   "outputs": [],
   "source": []
  },
  {
   "cell_type": "code",
   "execution_count": null,
   "id": "ac631bfe",
   "metadata": {},
   "outputs": [],
   "source": []
  },
  {
   "cell_type": "code",
   "execution_count": null,
   "id": "bc443655",
   "metadata": {},
   "outputs": [],
   "source": []
  },
  {
   "cell_type": "code",
   "execution_count": null,
   "id": "18ee1bc1",
   "metadata": {},
   "outputs": [],
   "source": []
  },
  {
   "cell_type": "code",
   "execution_count": null,
   "id": "452e722e",
   "metadata": {},
   "outputs": [],
   "source": []
  },
  {
   "cell_type": "code",
   "execution_count": null,
   "id": "eed327d3",
   "metadata": {},
   "outputs": [],
   "source": []
  },
  {
   "cell_type": "code",
   "execution_count": null,
   "id": "521322a9",
   "metadata": {},
   "outputs": [],
   "source": []
  },
  {
   "cell_type": "code",
   "execution_count": null,
   "id": "c67e82db",
   "metadata": {},
   "outputs": [],
   "source": []
  },
  {
   "cell_type": "code",
   "execution_count": null,
   "id": "4b49c644",
   "metadata": {},
   "outputs": [],
   "source": []
  },
  {
   "cell_type": "code",
   "execution_count": null,
   "id": "2683b046",
   "metadata": {},
   "outputs": [],
   "source": []
  }
 ],
 "metadata": {
  "kernelspec": {
   "display_name": "Python 3 (ipykernel)",
   "language": "python",
   "name": "python3"
  },
  "language_info": {
   "codemirror_mode": {
    "name": "ipython",
    "version": 3
   },
   "file_extension": ".py",
   "mimetype": "text/x-python",
   "name": "python",
   "nbconvert_exporter": "python",
   "pygments_lexer": "ipython3",
   "version": "3.9.7"
  }
 },
 "nbformat": 4,
 "nbformat_minor": 5
}
