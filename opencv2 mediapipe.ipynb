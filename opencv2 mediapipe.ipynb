{
 "cells": [
  {
   "cell_type": "code",
   "execution_count": 1,
   "id": "a048188c",
   "metadata": {},
   "outputs": [
    {
     "name": "stdout",
     "output_type": "stream",
     "text": [
      "Requirement already satisfied: opencv-python in c:\\users\\mehrdad\\anaconda3\\lib\\site-packages (4.7.0.72)\n",
      "Requirement already satisfied: numpy>=1.17.0 in c:\\users\\mehrdad\\anaconda3\\lib\\site-packages (from opencv-python) (1.20.3)\n",
      "Requirement already satisfied: mediapipe in c:\\users\\mehrdad\\anaconda3\\lib\\site-packages (0.10.0)\n",
      "Requirement already satisfied: absl-py in c:\\users\\mehrdad\\anaconda3\\lib\\site-packages (from mediapipe) (1.4.0)\n",
      "Requirement already satisfied: attrs>=19.1.0 in c:\\users\\mehrdad\\anaconda3\\lib\\site-packages (from mediapipe) (21.2.0)\n",
      "Requirement already satisfied: flatbuffers>=2.0 in c:\\users\\mehrdad\\anaconda3\\lib\\site-packages (from mediapipe) (23.5.9)\n",
      "Requirement already satisfied: matplotlib in c:\\users\\mehrdad\\anaconda3\\lib\\site-packages (from mediapipe) (3.4.3)\n",
      "Requirement already satisfied: numpy in c:\\users\\mehrdad\\anaconda3\\lib\\site-packages (from mediapipe) (1.20.3)\n",
      "Requirement already satisfied: opencv-contrib-python in c:\\users\\mehrdad\\anaconda3\\lib\\site-packages (from mediapipe) (4.7.0.72)\n",
      "Requirement already satisfied: protobuf<4,>=3.11 in c:\\users\\mehrdad\\anaconda3\\lib\\site-packages (from mediapipe) (3.20.3)\n",
      "Requirement already satisfied: sounddevice>=0.4.4 in c:\\users\\mehrdad\\anaconda3\\lib\\site-packages (from mediapipe) (0.4.6)\n",
      "Requirement already satisfied: CFFI>=1.0 in c:\\users\\mehrdad\\anaconda3\\lib\\site-packages (from sounddevice>=0.4.4->mediapipe) (1.14.6)\n",
      "Requirement already satisfied: cycler>=0.10 in c:\\users\\mehrdad\\anaconda3\\lib\\site-packages (from matplotlib->mediapipe) (0.10.0)\n",
      "Requirement already satisfied: kiwisolver>=1.0.1 in c:\\users\\mehrdad\\anaconda3\\lib\\site-packages (from matplotlib->mediapipe) (1.3.1)\n",
      "Requirement already satisfied: pillow>=6.2.0 in c:\\users\\mehrdad\\anaconda3\\lib\\site-packages (from matplotlib->mediapipe) (8.4.0)\n",
      "Requirement already satisfied: pyparsing>=2.2.1 in c:\\users\\mehrdad\\anaconda3\\lib\\site-packages (from matplotlib->mediapipe) (3.0.4)\n",
      "Requirement already satisfied: python-dateutil>=2.7 in c:\\users\\mehrdad\\anaconda3\\lib\\site-packages (from matplotlib->mediapipe) (2.8.2)\n",
      "Requirement already satisfied: pycparser in c:\\users\\mehrdad\\anaconda3\\lib\\site-packages (from CFFI>=1.0->sounddevice>=0.4.4->mediapipe) (2.20)\n",
      "Requirement already satisfied: six in c:\\users\\mehrdad\\anaconda3\\lib\\site-packages (from cycler>=0.10->matplotlib->mediapipe) (1.16.0)\n",
      "Requirement already satisfied: mediapipe in c:\\users\\mehrdad\\anaconda3\\lib\\site-packages (0.10.0)\n",
      "Requirement already satisfied: absl-py in c:\\users\\mehrdad\\anaconda3\\lib\\site-packages (from mediapipe) (1.4.0)\n",
      "Requirement already satisfied: attrs>=19.1.0 in c:\\users\\mehrdad\\anaconda3\\lib\\site-packages (from mediapipe) (21.2.0)\n",
      "Requirement already satisfied: flatbuffers>=2.0 in c:\\users\\mehrdad\\anaconda3\\lib\\site-packages (from mediapipe) (23.5.9)\n",
      "Requirement already satisfied: matplotlib in c:\\users\\mehrdad\\anaconda3\\lib\\site-packages (from mediapipe) (3.4.3)\n",
      "Requirement already satisfied: numpy in c:\\users\\mehrdad\\anaconda3\\lib\\site-packages (from mediapipe) (1.20.3)\n",
      "Requirement already satisfied: opencv-contrib-python in c:\\users\\mehrdad\\anaconda3\\lib\\site-packages (from mediapipe) (4.7.0.72)\n",
      "Requirement already satisfied: protobuf<4,>=3.11 in c:\\users\\mehrdad\\anaconda3\\lib\\site-packages (from mediapipe) (3.20.3)\n",
      "Requirement already satisfied: sounddevice>=0.4.4 in c:\\users\\mehrdad\\anaconda3\\lib\\site-packages (from mediapipe) (0.4.6)\n",
      "Requirement already satisfied: CFFI>=1.0 in c:\\users\\mehrdad\\anaconda3\\lib\\site-packages (from sounddevice>=0.4.4->mediapipe) (1.14.6)\n",
      "Requirement already satisfied: cycler>=0.10 in c:\\users\\mehrdad\\anaconda3\\lib\\site-packages (from matplotlib->mediapipe) (0.10.0)\n",
      "Requirement already satisfied: kiwisolver>=1.0.1 in c:\\users\\mehrdad\\anaconda3\\lib\\site-packages (from matplotlib->mediapipe) (1.3.1)\n",
      "Requirement already satisfied: pillow>=6.2.0 in c:\\users\\mehrdad\\anaconda3\\lib\\site-packages (from matplotlib->mediapipe) (8.4.0)\n",
      "Requirement already satisfied: pyparsing>=2.2.1 in c:\\users\\mehrdad\\anaconda3\\lib\\site-packages (from matplotlib->mediapipe) (3.0.4)\n",
      "Requirement already satisfied: python-dateutil>=2.7 in c:\\users\\mehrdad\\anaconda3\\lib\\site-packages (from matplotlib->mediapipe) (2.8.2)\n",
      "Requirement already satisfied: pycparser in c:\\users\\mehrdad\\anaconda3\\lib\\site-packages (from CFFI>=1.0->sounddevice>=0.4.4->mediapipe) (2.20)\n",
      "Requirement already satisfied: six in c:\\users\\mehrdad\\anaconda3\\lib\\site-packages (from cycler>=0.10->matplotlib->mediapipe) (1.16.0)\n"
     ]
    }
   ],
   "source": [
    "!pip install opencv-python\n",
    "!pip install mediapipe\n",
    "!pip install --user mediapipe"
   ]
  },
  {
   "cell_type": "code",
   "execution_count": null,
   "id": "7d072166",
   "metadata": {},
   "outputs": [],
   "source": []
  },
  {
   "cell_type": "code",
   "execution_count": null,
   "id": "2233d736",
   "metadata": {},
   "outputs": [],
   "source": []
  },
  {
   "cell_type": "code",
   "execution_count": null,
   "id": "7809014f",
   "metadata": {},
   "outputs": [],
   "source": []
  },
  {
   "cell_type": "code",
   "execution_count": null,
   "id": "2eb959b4",
   "metadata": {},
   "outputs": [],
   "source": [
    "import cv2\n",
    "import cvzone\n",
    "from cvzone.HandTrackingModule import HandDetector\n",
    "import pyautogui\n",
    "\n",
    "cap = cv2.VideoCapture(0)\n",
    "cap.set(3, 1280)\n",
    "cap.set(4, 720)\n",
    "\n",
    "detector = HandDetector(detectionCon=0.8)\n",
    "\n",
    "while True:\n",
    "    success, img = cap.read()\n",
    "    img = cv2.flip(img, 1)\n",
    "    hands, img = detector.findHands(img)\n",
    "\n",
    "    if hands:\n",
    "        hand1 = hands[0]\n",
    "        lmList = hand1[\"lmList\"]\n",
    "        bbox = hand1[\"bbox\"]\n",
    "        centerPoint = hand1[\"center\"]\n",
    "\n",
    "        fingers = detector.fingersUp(hand1)\n",
    "\n",
    "        if fingers[1] == 1 and fingers[2] == 0:\n",
    "            pyautogui.moveRel(10, 0)\n",
    "        elif fingers[1] == 0 and fingers[2] == 1:\n",
    "            pyautogui.moveRel(-10, 0)\n",
    "\n",
    "        if fingers[4] == 1:\n",
    "            pyautogui.click()\n",
    "\n",
    "    cv2.imshow(\"Image\", img)\n",
    "    if cv2.waitKey(1) == ord('q'):\n",
    "        break\n",
    "\n",
    "cap.release()\n",
    "cv2.destroyAllWindows()\n"
   ]
  },
  {
   "cell_type": "code",
   "execution_count": null,
   "id": "32c1a089",
   "metadata": {},
   "outputs": [],
   "source": []
  },
  {
   "cell_type": "code",
   "execution_count": null,
   "id": "740c29b8",
   "metadata": {},
   "outputs": [],
   "source": []
  },
  {
   "cell_type": "code",
   "execution_count": null,
   "id": "ac9437ba",
   "metadata": {},
   "outputs": [],
   "source": []
  }
 ],
 "metadata": {
  "kernelspec": {
   "display_name": "Python 3 (ipykernel)",
   "language": "python",
   "name": "python3"
  },
  "language_info": {
   "codemirror_mode": {
    "name": "ipython",
    "version": 3
   },
   "file_extension": ".py",
   "mimetype": "text/x-python",
   "name": "python",
   "nbconvert_exporter": "python",
   "pygments_lexer": "ipython3",
   "version": "3.9.7"
  }
 },
 "nbformat": 4,
 "nbformat_minor": 5
}
