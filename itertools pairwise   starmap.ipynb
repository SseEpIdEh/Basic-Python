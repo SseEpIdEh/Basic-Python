{
 "cells": [
  {
   "cell_type": "code",
   "execution_count": 7,
   "id": "9a4ea688",
   "metadata": {},
   "outputs": [],
   "source": [
    "from itertools import pairwise"
   ]
  },
  {
   "cell_type": "code",
   "execution_count": 8,
   "id": "dea9e07e",
   "metadata": {},
   "outputs": [
    {
     "name": "stdout",
     "output_type": "stream",
     "text": [
      "3.10.1 (tags/v3.10.1:2cd268a, Dec  6 2021, 19:10:37) [MSC v.1929 64 bit (AMD64)]\n"
     ]
    }
   ],
   "source": [
    "import sys\n",
    "print(sys.version)"
   ]
  },
  {
   "cell_type": "code",
   "execution_count": 10,
   "id": "fedbb76b",
   "metadata": {},
   "outputs": [],
   "source": [
    "#!pip list"
   ]
  },
  {
   "cell_type": "code",
   "execution_count": null,
   "id": "24b78e5f",
   "metadata": {},
   "outputs": [],
   "source": [
    "#***when you want to access to pervious elemans or the latest records or far pervious....."
   ]
  },
  {
   "cell_type": "markdown",
   "id": "f9ff0097",
   "metadata": {},
   "source": [
    "# pariwise(one argument)"
   ]
  },
  {
   "cell_type": "code",
   "execution_count": 4,
   "id": "24dc65a8",
   "metadata": {},
   "outputs": [],
   "source": [
    "A=[1,2,3,4,56,7,8,9,0,1,23,3]"
   ]
  },
  {
   "cell_type": "code",
   "execution_count": 5,
   "id": "19ff681a",
   "metadata": {},
   "outputs": [
    {
     "name": "stdout",
     "output_type": "stream",
     "text": [
      "(1, 2)\n",
      "(2, 3)\n",
      "(3, 4)\n",
      "(4, 56)\n",
      "(56, 7)\n",
      "(7, 8)\n",
      "(8, 9)\n",
      "(9, 0)\n",
      "(0, 1)\n",
      "(1, 23)\n",
      "(23, 3)\n"
     ]
    }
   ],
   "source": [
    "for p in pairwise(A):\n",
    "    print(p)"
   ]
  },
  {
   "cell_type": "code",
   "execution_count": 13,
   "id": "dcef13c7",
   "metadata": {},
   "outputs": [
    {
     "name": "stdout",
     "output_type": "stream",
     "text": [
      "(1, 2, 1)\n",
      "(2, 3, 1)\n",
      "(3, 4, 1)\n",
      "(4, 56, 52)\n",
      "(56, 7, -49)\n",
      "(7, 8, 1)\n",
      "(8, 9, 1)\n",
      "(9, 0, -9)\n",
      "(0, 1, 1)\n",
      "(1, 23, 22)\n",
      "(23, 3, -20)\n"
     ]
    }
   ],
   "source": [
    "for a,b in pairwise(A):\n",
    "    print((a,b,b-a))"
   ]
  },
  {
   "cell_type": "code",
   "execution_count": 14,
   "id": "082f39ab",
   "metadata": {},
   "outputs": [
    {
     "data": {
      "text/plain": [
       "[(1, 2),\n",
       " (2, 3),\n",
       " (3, 4),\n",
       " (4, 56),\n",
       " (56, 7),\n",
       " (7, 8),\n",
       " (8, 9),\n",
       " (9, 0),\n",
       " (0, 1),\n",
       " (1, 23),\n",
       " (23, 3)]"
      ]
     },
     "execution_count": 14,
     "metadata": {},
     "output_type": "execute_result"
    }
   ],
   "source": [
    "list(pairwise(A))"
   ]
  },
  {
   "cell_type": "code",
   "execution_count": 15,
   "id": "7b16ee77",
   "metadata": {},
   "outputs": [
    {
     "data": {
      "text/plain": [
       "[1, 2, 3, 4, 56, 7, 8, 9, 0, 1, 23, 3]"
      ]
     },
     "execution_count": 15,
     "metadata": {},
     "output_type": "execute_result"
    }
   ],
   "source": [
    "A\n"
   ]
  },
  {
   "cell_type": "code",
   "execution_count": 16,
   "id": "c84be7d4",
   "metadata": {},
   "outputs": [
    {
     "data": {
      "text/plain": [
       "[1, 2, 3, 4, 56, 7, 8, 9, 0, 1, 23]"
      ]
     },
     "execution_count": 16,
     "metadata": {},
     "output_type": "execute_result"
    }
   ],
   "source": [
    "A[:-1]"
   ]
  },
  {
   "cell_type": "code",
   "execution_count": 17,
   "id": "ac0047fa",
   "metadata": {},
   "outputs": [
    {
     "data": {
      "text/plain": [
       "[2, 3, 4, 56, 7, 8, 9, 0, 1, 23, 3]"
      ]
     },
     "execution_count": 17,
     "metadata": {},
     "output_type": "execute_result"
    }
   ],
   "source": [
    "A[1:]"
   ]
  },
  {
   "cell_type": "code",
   "execution_count": 23,
   "id": "ea6f4243",
   "metadata": {},
   "outputs": [
    {
     "data": {
      "text/plain": [
       "[(1, 2),\n",
       " (2, 3),\n",
       " (3, 4),\n",
       " (4, 56),\n",
       " (56, 7),\n",
       " (7, 8),\n",
       " (8, 9),\n",
       " (9, 0),\n",
       " (0, 1),\n",
       " (1, 23),\n",
       " (23, 3)]"
      ]
     },
     "execution_count": 23,
     "metadata": {},
     "output_type": "execute_result"
    }
   ],
   "source": [
    "list(zip(A[:-1],A[1:]))"
   ]
  },
  {
   "cell_type": "markdown",
   "id": "ed378db3",
   "metadata": {},
   "source": [
    "# in above code we relized that pairwise() is like zip() but with specefic elemans"
   ]
  },
  {
   "cell_type": "code",
   "execution_count": null,
   "id": "9dd2aee2",
   "metadata": {},
   "outputs": [],
   "source": [
    "#zip always executed with those elemans are short, like this"
   ]
  },
  {
   "cell_type": "code",
   "execution_count": 25,
   "id": "7bbe33d5",
   "metadata": {},
   "outputs": [
    {
     "data": {
      "text/plain": [
       "[(1, 2),\n",
       " (2, 3),\n",
       " (3, 4),\n",
       " (4, 56),\n",
       " (56, 7),\n",
       " (7, 8),\n",
       " (8, 9),\n",
       " (9, 0),\n",
       " (0, 1),\n",
       " (1, 23),\n",
       " (23, 3)]"
      ]
     },
     "execution_count": 25,
     "metadata": {},
     "output_type": "execute_result"
    }
   ],
   "source": [
    "list(zip(A,A[1:]))"
   ]
  },
  {
   "cell_type": "code",
   "execution_count": 26,
   "id": "405d1dbb",
   "metadata": {},
   "outputs": [
    {
     "data": {
      "text/plain": [
       "[(1, 2),\n",
       " (2, 3),\n",
       " (3, 4),\n",
       " (4, 56),\n",
       " (56, 7),\n",
       " (7, 8),\n",
       " (8, 9),\n",
       " (9, 0),\n",
       " (0, 1),\n",
       " (1, 23),\n",
       " (23, 3)]"
      ]
     },
     "execution_count": 26,
     "metadata": {},
     "output_type": "execute_result"
    }
   ],
   "source": [
    "list(pairwise(A))"
   ]
  },
  {
   "cell_type": "code",
   "execution_count": 27,
   "id": "fa2cf729",
   "metadata": {},
   "outputs": [
    {
     "data": {
      "text/plain": [
       "[((1, 2), (2, 3)),\n",
       " ((2, 3), (3, 4)),\n",
       " ((3, 4), (4, 56)),\n",
       " ((4, 56), (56, 7)),\n",
       " ((56, 7), (7, 8)),\n",
       " ((7, 8), (8, 9)),\n",
       " ((8, 9), (9, 0)),\n",
       " ((9, 0), (0, 1)),\n",
       " ((0, 1), (1, 23)),\n",
       " ((1, 23), (23, 3))]"
      ]
     },
     "execution_count": 27,
     "metadata": {},
     "output_type": "execute_result"
    }
   ],
   "source": [
    "list(pairwise(pairwise(A)))"
   ]
  },
  {
   "cell_type": "code",
   "execution_count": 28,
   "id": "cab7e16a",
   "metadata": {},
   "outputs": [
    {
     "data": {
      "text/plain": [
       "[(1, 2, 3),\n",
       " (2, 3, 4),\n",
       " (3, 4, 56),\n",
       " (4, 56, 7),\n",
       " (56, 7, 8),\n",
       " (7, 8, 9),\n",
       " (8, 9, 0),\n",
       " (9, 0, 1),\n",
       " (0, 1, 23),\n",
       " (1, 23, 3)]"
      ]
     },
     "execution_count": 28,
     "metadata": {},
     "output_type": "execute_result"
    }
   ],
   "source": [
    "list(zip(A,A[1:],A[2:]))"
   ]
  },
  {
   "cell_type": "code",
   "execution_count": 29,
   "id": "3c4e8093",
   "metadata": {},
   "outputs": [
    {
     "data": {
      "text/plain": [
       "[(1, 2, 3, 4),\n",
       " (2, 3, 4, 56),\n",
       " (3, 4, 56, 7),\n",
       " (4, 56, 7, 8),\n",
       " (56, 7, 8, 9),\n",
       " (7, 8, 9, 0),\n",
       " (8, 9, 0, 1),\n",
       " (9, 0, 1, 23),\n",
       " (0, 1, 23, 3)]"
      ]
     },
     "execution_count": 29,
     "metadata": {},
     "output_type": "execute_result"
    }
   ],
   "source": [
    "list(zip(A,A[1:],A[2:],A[3:]))"
   ]
  },
  {
   "cell_type": "markdown",
   "id": "a3633452",
   "metadata": {},
   "source": [
    "# starmap(a,b)"
   ]
  },
  {
   "cell_type": "code",
   "execution_count": 30,
   "id": "bac0205d",
   "metadata": {},
   "outputs": [
    {
     "data": {
      "text/plain": [
       "134217728"
      ]
     },
     "execution_count": 30,
     "metadata": {},
     "output_type": "execute_result"
    }
   ],
   "source": [
    "pow(8,9)"
   ]
  },
  {
   "cell_type": "code",
   "execution_count": 31,
   "id": "b4aaefd3",
   "metadata": {},
   "outputs": [
    {
     "data": {
      "text/plain": [
       "134217728"
      ]
     },
     "execution_count": 31,
     "metadata": {},
     "output_type": "execute_result"
    }
   ],
   "source": [
    "8**9"
   ]
  },
  {
   "cell_type": "code",
   "execution_count": 37,
   "id": "d667b3ba",
   "metadata": {},
   "outputs": [],
   "source": [
    "a=[(1,2),(2,3),(7,8),(9,6)]"
   ]
  },
  {
   "cell_type": "code",
   "execution_count": 38,
   "id": "69aea7bc",
   "metadata": {},
   "outputs": [
    {
     "data": {
      "text/plain": [
       "[1, 8, 5764801, 531441]"
      ]
     },
     "execution_count": 38,
     "metadata": {},
     "output_type": "execute_result"
    }
   ],
   "source": [
    "[pow(x,y)for x,y in a]"
   ]
  },
  {
   "cell_type": "code",
   "execution_count": 42,
   "id": "a02ea535",
   "metadata": {},
   "outputs": [
    {
     "data": {
      "text/plain": [
       "[1, 8, 5764801, 531441]"
      ]
     },
     "execution_count": 42,
     "metadata": {},
     "output_type": "execute_result"
    }
   ],
   "source": [
    "[pow(p[0],p[1])for p in a]              #====*p"
   ]
  },
  {
   "cell_type": "code",
   "execution_count": 43,
   "id": "43d99a1b",
   "metadata": {},
   "outputs": [
    {
     "data": {
      "text/plain": [
       "[1, 8, 5764801, 531441]"
      ]
     },
     "execution_count": 43,
     "metadata": {},
     "output_type": "execute_result"
    }
   ],
   "source": [
    "[pow(*p)for p in a]"
   ]
  },
  {
   "cell_type": "code",
   "execution_count": 44,
   "id": "3854e58b",
   "metadata": {},
   "outputs": [],
   "source": [
    "from itertools import starmap"
   ]
  },
  {
   "cell_type": "code",
   "execution_count": 45,
   "id": "b7da5dbf",
   "metadata": {},
   "outputs": [
    {
     "data": {
      "text/plain": [
       "<itertools.starmap at 0x290f2163df0>"
      ]
     },
     "execution_count": 45,
     "metadata": {},
     "output_type": "execute_result"
    }
   ],
   "source": [
    "starmap(pow,a)"
   ]
  },
  {
   "cell_type": "code",
   "execution_count": 46,
   "id": "ec4c5c35",
   "metadata": {},
   "outputs": [
    {
     "data": {
      "text/plain": [
       "[1, 8, 5764801, 531441]"
      ]
     },
     "execution_count": 46,
     "metadata": {},
     "output_type": "execute_result"
    }
   ],
   "source": [
    "list(starmap(pow,a))"
   ]
  },
  {
   "cell_type": "code",
   "execution_count": 47,
   "id": "285530db",
   "metadata": {},
   "outputs": [
    {
     "data": {
      "text/plain": [
       "[(1, 2), (2, 3), (7, 8), (9, 6)]"
      ]
     },
     "execution_count": 47,
     "metadata": {},
     "output_type": "execute_result"
    }
   ],
   "source": [
    "a\n"
   ]
  },
  {
   "cell_type": "code",
   "execution_count": 48,
   "id": "a926483d",
   "metadata": {},
   "outputs": [],
   "source": [
    "a=[pow(1, 2),pow (2, 3), pow(7, 8), pow(9, 6)]"
   ]
  },
  {
   "cell_type": "code",
   "execution_count": 49,
   "id": "47d215b4",
   "metadata": {},
   "outputs": [
    {
     "data": {
      "text/plain": [
       "[1, 8, 5764801, 531441]"
      ]
     },
     "execution_count": 49,
     "metadata": {},
     "output_type": "execute_result"
    }
   ],
   "source": [
    "a"
   ]
  },
  {
   "cell_type": "code",
   "execution_count": null,
   "id": "8550892a",
   "metadata": {},
   "outputs": [],
   "source": []
  }
 ],
 "metadata": {
  "kernelspec": {
   "display_name": "Python 3 (ipykernel)",
   "language": "python",
   "name": "python3"
  },
  "language_info": {
   "codemirror_mode": {
    "name": "ipython",
    "version": 3
   },
   "file_extension": ".py",
   "mimetype": "text/x-python",
   "name": "python",
   "nbconvert_exporter": "python",
   "pygments_lexer": "ipython3",
   "version": "3.10.1"
  }
 },
 "nbformat": 4,
 "nbformat_minor": 5
}
