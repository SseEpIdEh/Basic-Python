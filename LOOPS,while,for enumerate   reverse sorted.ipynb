{
 "cells": [
  {
   "cell_type": "markdown",
   "id": "a40c8e0e",
   "metadata": {},
   "source": [
    "LOOPS:\n",
    "For //\n",
    "while"
   ]
  },
  {
   "cell_type": "code",
   "execution_count": 4,
   "id": "1329a68f",
   "metadata": {},
   "outputs": [
    {
     "name": "stdout",
     "output_type": "stream",
     "text": [
      "0 1 2 3 "
     ]
    }
   ],
   "source": [
    "for i in range (4):\n",
    "    print(i,end=\" \")"
   ]
  },
  {
   "cell_type": "code",
   "execution_count": 5,
   "id": "dd201790",
   "metadata": {},
   "outputs": [
    {
     "name": "stdout",
     "output_type": "stream",
     "text": [
      "3 4 5 6 7 "
     ]
    }
   ],
   "source": [
    "for i in range(3,8):\n",
    "    print(i,end=\" \")"
   ]
  },
  {
   "cell_type": "code",
   "execution_count": 6,
   "id": "b8a2d86f",
   "metadata": {},
   "outputs": [
    {
     "name": "stdout",
     "output_type": "stream",
     "text": [
      "5 7 9 "
     ]
    }
   ],
   "source": [
    "for j in range(5,10,2):                        #(start,end,step)\n",
    "    print(j,end=\" \")"
   ]
  },
  {
   "cell_type": "code",
   "execution_count": 7,
   "id": "e0d8b0e1",
   "metadata": {},
   "outputs": [
    {
     "name": "stdout",
     "output_type": "stream",
     "text": [
      "S s E e P p I i D d E e H h "
     ]
    }
   ],
   "source": [
    "s='sepideh'\n",
    "\n",
    "for j in s:\n",
    "    print(j.upper(),end=\" \")\n",
    "    print(j.lower(),end=\" \")"
   ]
  },
  {
   "cell_type": "code",
   "execution_count": 8,
   "id": "73d6393a",
   "metadata": {},
   "outputs": [
    {
     "name": "stdout",
     "output_type": "stream",
     "text": [
      "HELLO HELLO HELLO "
     ]
    }
   ],
   "source": [
    "for j in range(3):\n",
    "    print('hello'.upper(),end=\" \")"
   ]
  },
  {
   "cell_type": "code",
   "execution_count": 9,
   "id": "274eb1a4",
   "metadata": {},
   "outputs": [
    {
     "name": "stdout",
     "output_type": "stream",
     "text": [
      "9 6 3 "
     ]
    }
   ],
   "source": [
    "for j in range(9,2,-3):\n",
    "    print(j,end=\" \")"
   ]
  },
  {
   "cell_type": "code",
   "execution_count": 10,
   "id": "5e656044",
   "metadata": {},
   "outputs": [
    {
     "name": "stdout",
     "output_type": "stream",
     "text": [
      "(0,a)\n",
      "(1,b)\n",
      "(2,c)\n",
      "(3,d)\n"
     ]
    }
   ],
   "source": [
    "world='abcd'\n",
    "count=0\n",
    "for j,char in enumerate(world):\n",
    "    count+=1\n",
    "    print(\"({},{})\".format(j,char))"
   ]
  },
  {
   "cell_type": "markdown",
   "id": "9478152a",
   "metadata": {},
   "source": [
    "Question=count the number of character ina loop?"
   ]
  },
  {
   "cell_type": "code",
   "execution_count": 11,
   "id": "99602fe1",
   "metadata": {},
   "outputs": [
    {
     "name": "stdout",
     "output_type": "stream",
     "text": [
      "(0, 'a')\n",
      "(1, 'b')\n",
      "(2, 'c')\n",
      "(3, 'd')\n"
     ]
    }
   ],
   "source": [
    "world='abcd'\n",
    "for i in range(len(world)):\n",
    "    char=world[i]\n",
    "    print((i,char))"
   ]
  },
  {
   "cell_type": "markdown",
   "id": "db0d3aae",
   "metadata": {},
   "source": [
    "Question= count the number of a value that was given in output?"
   ]
  },
  {
   "cell_type": "code",
   "execution_count": 12,
   "id": "8001e278",
   "metadata": {},
   "outputs": [
    {
     "name": "stdout",
     "output_type": "stream",
     "text": [
      "1\n"
     ]
    }
   ],
   "source": [
    "world='abcd'\n",
    "c=0\n",
    "for i in world:\n",
    "    if i=='d':\n",
    "        c+=1\n",
    "print(c)    \n",
    "    "
   ]
  },
  {
   "cell_type": "markdown",
   "id": "26eaf5f3",
   "metadata": {},
   "source": [
    "Question=count the number of Vowels in a sentence or word?"
   ]
  },
  {
   "cell_type": "code",
   "execution_count": 42,
   "id": "f80afc3c",
   "metadata": {},
   "outputs": [
    {
     "name": "stdout",
     "output_type": "stream",
     "text": [
      "e i e 3 "
     ]
    }
   ],
   "source": [
    "name='sepideh'\n",
    "vowel='aeoui'\n",
    "c=0\n",
    "for i in name:\n",
    "    if i in vowel:\n",
    "        print(i,end=\" \")\n",
    "        c+=1\n",
    "print(c, end=\" \")\n",
    "        "
   ]
  },
  {
   "cell_type": "code",
   "execution_count": 44,
   "id": "59c33609",
   "metadata": {},
   "outputs": [
    {
     "name": "stdout",
     "output_type": "stream",
     "text": [
      "['e', 'i', 'e']\n"
     ]
    }
   ],
   "source": [
    "c=[ch for ch in name if ch in vowel]\n",
    "print(c)"
   ]
  },
  {
   "cell_type": "markdown",
   "id": "5cd2dd11",
   "metadata": {},
   "source": [
    "# LOOPING Techniques in Python\n",
    "1.enumerate()\n",
    "2.zip()\n",
    "3.pass()\n",
    "4.iteritem()\n",
    "5.items()"
   ]
  },
  {
   "cell_type": "markdown",
   "id": "d5b62841",
   "metadata": {},
   "source": [
    "# enumerate():   For index,value in enumerate(iterable):\n",
    " #do sth with index and value\n",
    " \n",
    "index: **represent the index of the current item in the iterable**\n",
    "value: **the value of the current item\n",
    "\n",
    "For loop iterates over the items in the iterable and the Enumerate() function generates the pairs of (index,value) for each item."
   ]
  },
  {
   "cell_type": "code",
   "execution_count": 40,
   "id": "a82dfea5",
   "metadata": {},
   "outputs": [
    {
     "name": "stdout",
     "output_type": "stream",
     "text": [
      " value:aeoui , index:3\n"
     ]
    }
   ],
   "source": [
    "name='Sepideh'\n",
    "\n",
    "vowel='aeoui'\n",
    "c=0\n",
    "for index,value in enumerate(name):\n",
    "    if value in vowel:\n",
    "              c+=1\n",
    "print(f\" value:{vowel} , index:{c}\")\n"
   ]
  },
  {
   "cell_type": "code",
   "execution_count": 1,
   "id": "15f39530",
   "metadata": {},
   "outputs": [
    {
     "name": "stdout",
     "output_type": "stream",
     "text": [
      "0 The\n",
      "1 Big\n",
      "2 Bang\n",
      "3 Theory\n"
     ]
    }
   ],
   "source": [
    "# python code to demonstrate working of enumerate()\n",
    "\n",
    "for key, value in enumerate(['The', 'Big', 'Bang', 'Theory']):              #key=index\n",
    "\tprint(key, value)\n"
   ]
  },
  {
   "cell_type": "code",
   "execution_count": 7,
   "id": "4f97049e",
   "metadata": {},
   "outputs": [
    {
     "name": "stdout",
     "output_type": "stream",
     "text": [
      "Geeks for Geeks is the Best Coding Platform "
     ]
    }
   ],
   "source": [
    "# python code to demonstrate working of enumerate()\n",
    "\n",
    "for key, value in enumerate(['Geeks', 'for', 'Geeks','is', 'the', 'Best','Coding', 'Platform']):\n",
    "    print(value, end=' ')\n"
   ]
  },
  {
   "cell_type": "code",
   "execution_count": 33,
   "id": "8c5693ed",
   "metadata": {},
   "outputs": [
    {
     "name": "stdout",
     "output_type": "stream",
     "text": [
      "H H h\n",
      "e E e\n",
      "l L l\n",
      "l L l\n",
      "o O o\n",
      "     \n",
      "s S s\n",
      "e E e\n",
      "p P p\n",
      "i I i\n",
      "d D d\n",
      "e E e\n",
      "h H h\n"
     ]
    }
   ],
   "source": [
    "A='Hello sepideh'\n",
    "for c in A:\n",
    "    print(c,c.upper(),c.lower())"
   ]
  },
  {
   "cell_type": "code",
   "execution_count": 37,
   "id": "19c7590b",
   "metadata": {},
   "outputs": [
    {
     "name": "stdout",
     "output_type": "stream",
     "text": [
      "0 H H h\n",
      "1 e E e\n",
      "2 l L l\n",
      "3 l L l\n",
      "4 o O o\n",
      "5      \n",
      "6 s S s\n",
      "7 e E e\n",
      "8 p P p\n",
      "9 i I i\n",
      "10 d D d\n",
      "11 e E e\n",
      "12 h H h\n"
     ]
    }
   ],
   "source": [
    "for i in range(len(A)):\n",
    "    c=A[i]\n",
    "    print(i,c,c.upper(),c.lower())"
   ]
  },
  {
   "cell_type": "code",
   "execution_count": 38,
   "id": "337a322d",
   "metadata": {},
   "outputs": [
    {
     "name": "stdout",
     "output_type": "stream",
     "text": [
      "0 H H h\n",
      "1 e E e\n",
      "2 l L l\n",
      "3 l L l\n",
      "4 o O o\n",
      "5      \n",
      "6 s S s\n",
      "7 e E e\n",
      "8 p P p\n",
      "9 i I i\n",
      "10 d D d\n",
      "11 e E e\n",
      "12 h H h\n"
     ]
    }
   ],
   "source": [
    "for i,c in enumerate(A):\n",
    "    print(i,c,c.upper(),c.lower())                  i=indic,index  c=meghdare,value"
   ]
  },
  {
   "cell_type": "code",
   "execution_count": 39,
   "id": "7e94fc4b",
   "metadata": {},
   "outputs": [
    {
     "data": {
      "text/plain": [
       "[(0, 'H'),\n",
       " (1, 'e'),\n",
       " (2, 'l'),\n",
       " (3, 'l'),\n",
       " (4, 'o'),\n",
       " (5, ' '),\n",
       " (6, 's'),\n",
       " (7, 'e'),\n",
       " (8, 'p'),\n",
       " (9, 'i'),\n",
       " (10, 'd'),\n",
       " (11, 'e'),\n",
       " (12, 'h')]"
      ]
     },
     "execution_count": 39,
     "metadata": {},
     "output_type": "execute_result"
    }
   ],
   "source": [
    "list(enumerate(A))"
   ]
  },
  {
   "cell_type": "markdown",
   "id": "4210b48d",
   "metadata": {},
   "source": [
    "# using: zip()\n",
    "**zip() is used to combine 2 similar containers(list-list or dict-dict) printing the values sequentially. The loop exists only till the smaller container ends."
   ]
  },
  {
   "cell_type": "code",
   "execution_count": 41,
   "id": "ea2327c1",
   "metadata": {},
   "outputs": [
    {
     "name": "stdout",
     "output_type": "stream",
     "text": [
      "1 10\n",
      "2 20\n",
      "3 30\n",
      "4 40\n"
     ]
    }
   ],
   "source": [
    "A=[1,2,3,4]\n",
    "B=[10,20,30,40]\n",
    "for i in range(len(A)):\n",
    "    print(A[i],B[i])\n",
    "    "
   ]
  },
  {
   "cell_type": "code",
   "execution_count": 42,
   "id": "a7497b77",
   "metadata": {},
   "outputs": [
    {
     "name": "stdout",
     "output_type": "stream",
     "text": [
      "1 10\n",
      "2 20\n",
      "3 30\n",
      "4 40\n"
     ]
    }
   ],
   "source": [
    "for a,b in zip(A,B):\n",
    "    print(a,b)"
   ]
  },
  {
   "cell_type": "code",
   "execution_count": 43,
   "id": "930e1df5",
   "metadata": {},
   "outputs": [
    {
     "name": "stdout",
     "output_type": "stream",
     "text": [
      "1 10\n",
      "2 20\n",
      "3 30\n",
      "4 40\n"
     ]
    }
   ],
   "source": [
    "A=[1,2,3,4]\n",
    "B=[10,20,30,40,50,60]\n",
    "for a,b in zip(A,B):\n",
    "    print(a,b)"
   ]
  },
  {
   "cell_type": "code",
   "execution_count": 49,
   "id": "c8482d1d",
   "metadata": {},
   "outputs": [
    {
     "data": {
      "text/plain": [
       "[(1, 10), (2, 20), (3, 30), (4, 40)]"
      ]
     },
     "execution_count": 49,
     "metadata": {},
     "output_type": "execute_result"
    }
   ],
   "source": [
    "list(zip(A,B))           #===for a ,b in zip(A,B)"
   ]
  },
  {
   "cell_type": "code",
   "execution_count": 48,
   "id": "c6aaf5b7",
   "metadata": {},
   "outputs": [
    {
     "name": "stdout",
     "output_type": "stream",
     "text": [
      "10 s 1\n",
      "20 e 2\n",
      "30 p 3\n",
      "40 i 4\n"
     ]
    }
   ],
   "source": [
    "B=[10,20,30,40,50,60]\n",
    "C='sepideh'\n",
    "A=[1,2,3,4]\n",
    "\n",
    "for b,c,a in zip(B,C,A):\n",
    "    print(b,c,a)"
   ]
  },
  {
   "cell_type": "code",
   "execution_count": 53,
   "id": "f006dbbc",
   "metadata": {},
   "outputs": [
    {
     "name": "stdout",
     "output_type": "stream",
     "text": [
      "[(1, 10, 's'), (2, 20, 'e'), (3, 30, 'p'), (4, 40, 'i')]\n"
     ]
    },
    {
     "data": {
      "text/plain": [
       "(1, 10, 's')"
      ]
     },
     "execution_count": 53,
     "metadata": {},
     "output_type": "execute_result"
    }
   ],
   "source": [
    "L=list(zip(A,B,C)) \n",
    "print(L)\n",
    "L[0]"
   ]
  },
  {
   "cell_type": "markdown",
   "id": "7a95f582",
   "metadata": {},
   "source": [
    "# there is away to unzip"
   ]
  },
  {
   "cell_type": "code",
   "execution_count": 54,
   "id": "23b641c8",
   "metadata": {},
   "outputs": [
    {
     "data": {
      "text/plain": [
       "[(1, 2, 3, 4), (10, 20, 30, 40), ('s', 'e', 'p', 'i')]"
      ]
     },
     "execution_count": 54,
     "metadata": {},
     "output_type": "execute_result"
    }
   ],
   "source": [
    "list(zip(L[0],L[1],L[2],L[3]))"
   ]
  },
  {
   "cell_type": "code",
   "execution_count": 55,
   "id": "f897a6cc",
   "metadata": {},
   "outputs": [
    {
     "data": {
      "text/plain": [
       "[(1, 2, 3, 4), (10, 20, 30, 40), ('s', 'e', 'p', 'i')]"
      ]
     },
     "execution_count": 55,
     "metadata": {},
     "output_type": "execute_result"
    }
   ],
   "source": [
    "list(zip(*L))                   #expand"
   ]
  },
  {
   "cell_type": "code",
   "execution_count": 59,
   "id": "1cdcd9b6",
   "metadata": {},
   "outputs": [
    {
     "data": {
      "text/plain": [
       "[(1, 2, 3, 4), (10, 20, 30, 40), ('s', 'e', 'p', 'i')]"
      ]
     },
     "execution_count": 59,
     "metadata": {},
     "output_type": "execute_result"
    }
   ],
   "source": [
    "list(zip(*zip(A,B,C)))"
   ]
  },
  {
   "cell_type": "code",
   "execution_count": null,
   "id": "e5b78f35",
   "metadata": {},
   "outputs": [],
   "source": [
    "A=[1,2,3,4,5,6,7]\n",
    "\n",
    "list(enumerate(A))"
   ]
  },
  {
   "cell_type": "code",
   "execution_count": 62,
   "id": "dea65885",
   "metadata": {},
   "outputs": [
    {
     "data": {
      "text/plain": [
       "[0, 1, 2, 3, 4, 5, 6]"
      ]
     },
     "execution_count": 62,
     "metadata": {},
     "output_type": "execute_result"
    }
   ],
   "source": [
    "list(range(len(A)))"
   ]
  },
  {
   "cell_type": "code",
   "execution_count": 65,
   "id": "fd8d0446",
   "metadata": {},
   "outputs": [
    {
     "data": {
      "text/plain": [
       "[(0, 1), (1, 2), (2, 3), (3, 4), (4, 5), (5, 6), (6, 7)]"
      ]
     },
     "execution_count": 65,
     "metadata": {},
     "output_type": "execute_result"
    }
   ],
   "source": [
    "list(zip(range(len(A)),A))"
   ]
  },
  {
   "cell_type": "markdown",
   "id": "c1dee9ab",
   "metadata": {},
   "source": [
    "# +**++ yani list(zip(range(len(A)),A))===list(enumerate(A))"
   ]
  },
  {
   "cell_type": "markdown",
   "id": "14579c29",
   "metadata": {},
   "source": [
    "#**we can change the start and stardt whatever that we want**"
   ]
  },
  {
   "cell_type": "code",
   "execution_count": 66,
   "id": "fd486b70",
   "metadata": {},
   "outputs": [
    {
     "data": {
      "text/plain": [
       "[(90, 1), (91, 2), (92, 3), (93, 4), (94, 5), (95, 6), (96, 7)]"
      ]
     },
     "execution_count": 66,
     "metadata": {},
     "output_type": "execute_result"
    }
   ],
   "source": [
    "list(enumerate(A,start=90))"
   ]
  },
  {
   "cell_type": "code",
   "execution_count": 64,
   "id": "ae8c5d1d",
   "metadata": {},
   "outputs": [
    {
     "name": "stdout",
     "output_type": "stream",
     "text": [
      "What is your name? I am apple.\n",
      "What is your colour? I am red.\n",
      "What is your shape? I am a circle.\n"
     ]
    }
   ],
   "source": [
    "# python code to demonstrate working of zip()\n",
    "\n",
    "# initializing list\n",
    "questions = ['name', 'colour', 'shape']\n",
    "answers = ['apple', 'red', 'a circle']\n",
    "\n",
    "# using zip() to combine two containers\n",
    "# and print values\n",
    "for question, answer in zip(questions, answers):\n",
    "\tprint('What is your {0}? I am {1}.'.format(question, answer))\n"
   ]
  },
  {
   "cell_type": "markdown",
   "id": "cd9d3f28",
   "metadata": {},
   "source": [
    "# iteritem()\n",
    "**iteritems() is used to loop through the dictionary printing the dictionary key-value pair sequentially which is used before Python 3 version."
   ]
  },
  {
   "cell_type": "markdown",
   "id": "e570d40c",
   "metadata": {},
   "source": [
    "# items()\n",
    " **items() performs the similar task on dictionary as iteritems() but have certain disadvantages when compared with iteritems()."
   ]
  },
  {
   "cell_type": "code",
   "execution_count": 67,
   "id": "c1336db7",
   "metadata": {},
   "outputs": [
    {
     "name": "stdout",
     "output_type": "stream",
     "text": [
      "The key value pair using items is : \n",
      "geeks for\n",
      "only geeks\n"
     ]
    }
   ],
   "source": [
    "d = {\"geeks\": \"for\", \"only\": \"geeks\"}\n",
    "print(\"The key value pair using items is : \")\n",
    "for i, j in d.items():\n",
    "\tprint(i, j)\n"
   ]
  },
  {
   "cell_type": "code",
   "execution_count": 68,
   "id": "64f08dfc",
   "metadata": {},
   "outputs": [
    {
     "name": "stdout",
     "output_type": "stream",
     "text": [
      "Akbar The Great\n",
      "Chandragupta The Maurya\n",
      "Modi The Changer\n"
     ]
    }
   ],
   "source": [
    "\n",
    "\n",
    "king = {'Akbar': 'The Great', 'Chandragupta': 'The Maurya',\n",
    "\t\t'Modi': 'The Changer'}\n",
    "\n",
    "for key, value in king.items():\n",
    "\tprint(key, value)\n"
   ]
  },
  {
   "cell_type": "markdown",
   "id": "e32c7fd4",
   "metadata": {},
   "source": [
    "# sorted()\n",
    "**sorted() is used to print the container is sorted order. It doesn’t sort the container but just prints the container in sorted order for 1 instance. The use of set() can be combined to remove duplicate occurrences."
   ]
  },
  {
   "cell_type": "code",
   "execution_count": 75,
   "id": "5148312d",
   "metadata": {},
   "outputs": [
    {
     "name": "stdout",
     "output_type": "stream",
     "text": [
      "apple\n",
      "banana\n",
      "grape\n",
      "guava\n",
      "guave\n",
      "orange\n",
      "pear\n"
     ]
    }
   ],
   "source": [
    "\n",
    "\n",
    "basket = ['guave', 'orange', 'apple', 'pear',\n",
    "\t\t'guava', 'banana', 'grape']\n",
    "for fruit in sorted(set(basket)):\n",
    "\tprint(fruit)\n"
   ]
  },
  {
   "cell_type": "code",
   "execution_count": 70,
   "id": "9e9f9fe3",
   "metadata": {},
   "outputs": [
    {
     "data": {
      "text/plain": [
       "[-89, -8, 0, 1, 2, 3, 4, 5, 21, 43]"
      ]
     },
     "execution_count": 70,
     "metadata": {},
     "output_type": "execute_result"
    }
   ],
   "source": [
    "A=[1,2,3,4,5,43,21,-89,0,-8]\n",
    "sorted(A)"
   ]
  },
  {
   "cell_type": "code",
   "execution_count": 73,
   "id": "9bd3cfaa",
   "metadata": {},
   "outputs": [
    {
     "data": {
      "text/plain": [
       "[43, 21, 5, 4, 3, 2, 1, 0, -8, -89]"
      ]
     },
     "execution_count": 73,
     "metadata": {},
     "output_type": "execute_result"
    }
   ],
   "source": [
    "sorted(A,reverse=True)"
   ]
  },
  {
   "cell_type": "code",
   "execution_count": 76,
   "id": "665056b9",
   "metadata": {},
   "outputs": [
    {
     "data": {
      "text/plain": [
       "2"
      ]
     },
     "execution_count": 76,
     "metadata": {},
     "output_type": "execute_result"
    }
   ],
   "source": [
    "abs(-2)"
   ]
  },
  {
   "cell_type": "code",
   "execution_count": 81,
   "id": "29cfe11b",
   "metadata": {},
   "outputs": [
    {
     "data": {
      "text/plain": [
       "[0, 1, 2, 3, 4, 5, -8, 21, 43, -89]"
      ]
     },
     "execution_count": 81,
     "metadata": {},
     "output_type": "execute_result"
    }
   ],
   "source": [
    "sorted(A,key=abs)"
   ]
  },
  {
   "cell_type": "code",
   "execution_count": 82,
   "id": "0a3239cb",
   "metadata": {},
   "outputs": [
    {
     "data": {
      "text/plain": [
       "[-89, 43, 21, -8, 5, 4, 3, 2, 1, 0]"
      ]
     },
     "execution_count": 82,
     "metadata": {},
     "output_type": "execute_result"
    }
   ],
   "source": [
    "sorted(A,key=abs,reverse=True)"
   ]
  },
  {
   "cell_type": "code",
   "execution_count": 84,
   "id": "4d476f57",
   "metadata": {},
   "outputs": [],
   "source": [
    "def square(x):\n",
    "    return x**2"
   ]
  },
  {
   "cell_type": "code",
   "execution_count": 85,
   "id": "53249e5e",
   "metadata": {},
   "outputs": [
    {
     "data": {
      "text/plain": [
       "100"
      ]
     },
     "execution_count": 85,
     "metadata": {},
     "output_type": "execute_result"
    }
   ],
   "source": [
    "square(10)"
   ]
  },
  {
   "cell_type": "code",
   "execution_count": 86,
   "id": "208b9695",
   "metadata": {},
   "outputs": [
    {
     "data": {
      "text/plain": [
       "[0, 1, 2, 3, 4, 5, -8, 21, 43, -89]"
      ]
     },
     "execution_count": 86,
     "metadata": {},
     "output_type": "execute_result"
    }
   ],
   "source": [
    "sorted(A,key=square)"
   ]
  },
  {
   "cell_type": "code",
   "execution_count": 87,
   "id": "c499a8e1",
   "metadata": {},
   "outputs": [
    {
     "data": {
      "text/plain": [
       "[-89, 43, 21, -8, 5, 4, 3, 2, 1, 0]"
      ]
     },
     "execution_count": 87,
     "metadata": {},
     "output_type": "execute_result"
    }
   ],
   "source": [
    "sorted(A,key=square,reverse=True)"
   ]
  },
  {
   "cell_type": "code",
   "execution_count": 88,
   "id": "c52c4f4d",
   "metadata": {},
   "outputs": [
    {
     "data": {
      "text/plain": [
       "[0, 1, 2, 3, 4, 5, -8, 21, 43, -89]"
      ]
     },
     "execution_count": 88,
     "metadata": {},
     "output_type": "execute_result"
    }
   ],
   "source": [
    "sorted(A,key=lambda x:x**2)"
   ]
  },
  {
   "cell_type": "code",
   "execution_count": 89,
   "id": "4f22f3f2",
   "metadata": {},
   "outputs": [
    {
     "data": {
      "text/plain": [
       "[-89, 43, 21, -8, 5, 4, 3, 2, 1, 0]"
      ]
     },
     "execution_count": 89,
     "metadata": {},
     "output_type": "execute_result"
    }
   ],
   "source": [
    "sorted(A,key=lambda x:x**2,reverse=True)"
   ]
  },
  {
   "cell_type": "code",
   "execution_count": 98,
   "id": "17c1aa41",
   "metadata": {},
   "outputs": [
    {
     "data": {
      "text/plain": [
       "[2, 4, 0, -8, 1, 3, 5, 43, 21, -89]"
      ]
     },
     "execution_count": 98,
     "metadata": {},
     "output_type": "execute_result"
    }
   ],
   "source": [
    "sorted(A,key=lambda x:x%2)"
   ]
  },
  {
   "cell_type": "code",
   "execution_count": 99,
   "id": "b7597dbe",
   "metadata": {},
   "outputs": [
    {
     "data": {
      "text/plain": [
       "[-89, -8, 0, 1, 2, 3, 4, 5, 21, 43]"
      ]
     },
     "execution_count": 99,
     "metadata": {},
     "output_type": "execute_result"
    }
   ],
   "source": [
    "sorted(A)"
   ]
  },
  {
   "cell_type": "code",
   "execution_count": 100,
   "id": "5b40894c",
   "metadata": {},
   "outputs": [
    {
     "data": {
      "text/plain": [
       "[-8, 0, 2, 4, -89, 1, 3, 5, 21, 43]"
      ]
     },
     "execution_count": 100,
     "metadata": {},
     "output_type": "execute_result"
    }
   ],
   "source": [
    "sorted(sorted(A), key=lambda x:x%2)"
   ]
  },
  {
   "cell_type": "markdown",
   "id": "5f62e154",
   "metadata": {},
   "source": [
    "or           #first based on x sorted then based on x%2\n",
    "#in sorting elemans ,always the "
   ]
  },
  {
   "cell_type": "code",
   "execution_count": 101,
   "id": "fa3d9651",
   "metadata": {},
   "outputs": [
    {
     "data": {
      "text/plain": [
       "[-8, 0, 2, 4, -89, 1, 3, 5, 21, 43]"
      ]
     },
     "execution_count": 101,
     "metadata": {},
     "output_type": "execute_result"
    }
   ],
   "source": [
    "sorted(A,key=lambda x: (x%2,x))"
   ]
  },
  {
   "cell_type": "code",
   "execution_count": 102,
   "id": "fd7f2184",
   "metadata": {},
   "outputs": [
    {
     "data": {
      "text/plain": [
       "[-89, -8, 0, 1, 2, 3, 4, 5, 21, 43]"
      ]
     },
     "execution_count": 102,
     "metadata": {},
     "output_type": "execute_result"
    }
   ],
   "source": [
    "sorted(A,key=lambda x: (x,x%2))"
   ]
  },
  {
   "cell_type": "code",
   "execution_count": null,
   "id": "b84a12e5",
   "metadata": {},
   "outputs": [],
   "source": []
  },
  {
   "cell_type": "code",
   "execution_count": null,
   "id": "cfb2b196",
   "metadata": {},
   "outputs": [],
   "source": []
  },
  {
   "cell_type": "code",
   "execution_count": null,
   "id": "5bfd5eb3",
   "metadata": {},
   "outputs": [],
   "source": []
  },
  {
   "cell_type": "code",
   "execution_count": null,
   "id": "bbfc4f8a",
   "metadata": {},
   "outputs": [],
   "source": []
  },
  {
   "cell_type": "markdown",
   "id": "b802ec78",
   "metadata": {},
   "source": [
    "# pass()\n",
    "**We use pass statements to write empty loops. Pass is also used for empty control statements, functions, and classes. "
   ]
  },
  {
   "cell_type": "code",
   "execution_count": null,
   "id": "63dfb4c9",
   "metadata": {},
   "outputs": [],
   "source": []
  },
  {
   "cell_type": "code",
   "execution_count": null,
   "id": "8fd5f29a",
   "metadata": {},
   "outputs": [],
   "source": []
  },
  {
   "cell_type": "code",
   "execution_count": null,
   "id": "703f0ab3",
   "metadata": {},
   "outputs": [],
   "source": []
  },
  {
   "cell_type": "code",
   "execution_count": null,
   "id": "8022875a",
   "metadata": {},
   "outputs": [],
   "source": []
  },
  {
   "cell_type": "code",
   "execution_count": null,
   "id": "d6b790d4",
   "metadata": {},
   "outputs": [],
   "source": []
  },
  {
   "cell_type": "code",
   "execution_count": 25,
   "id": "da733bf0",
   "metadata": {},
   "outputs": [
    {
     "name": "stdout",
     "output_type": "stream",
     "text": [
      "First Letter : s\n"
     ]
    }
   ],
   "source": [
    "# An empty loop\n",
    "for letter in 'geeksforgeeks':\n",
    "\tpass\n",
    "print('last Letter :', letter)\n"
   ]
  },
  {
   "cell_type": "code",
   "execution_count": 26,
   "id": "c407fd5e",
   "metadata": {},
   "outputs": [],
   "source": [
    "for i in range(10):\n",
    "    # do something\n",
    "    pass\n",
    "++++\n",
    "#In this case, pass is used to indicate that the loop should do nothing during the current iteration,\n",
    "#but should continue with the next iteration. \n",
    "+++"
   ]
  },
  {
   "cell_type": "code",
   "execution_count": null,
   "id": "ba4349a5",
   "metadata": {},
   "outputs": [],
   "source": []
  },
  {
   "cell_type": "markdown",
   "id": "ba055660",
   "metadata": {},
   "source": [
    "# break: dg edeme nade,out of loop:  terminate\n",
    "\n",
    "**the 'break' keyword is used inside loops (for loop, while loop) to immediately terminate the loop's code block and exit the loop.\n",
    "When a break statement is encountered within a loop, the loop is terminated immediately, and the control is passed to the next statement after the loop.\n",
    "\n",
    "\n"
   ]
  },
  {
   "cell_type": "code",
   "execution_count": 62,
   "id": "76c9f6f1",
   "metadata": {},
   "outputs": [
    {
     "name": "stdout",
     "output_type": "stream",
     "text": [
      "0\n",
      "1\n",
      "2\n",
      "3\n",
      "4\n"
     ]
    }
   ],
   "source": [
    "i = 0\n",
    "while i < 10:\n",
    "    print(i)\n",
    "    i += 1\n",
    "    if i == 5:\n",
    "        break\n"
   ]
  },
  {
   "cell_type": "code",
   "execution_count": 57,
   "id": "2a864ecd",
   "metadata": {},
   "outputs": [
    {
     "name": "stdout",
     "output_type": "stream",
     "text": [
      "0 1 2 "
     ]
    }
   ],
   "source": [
    "for i in range(0,5):\n",
    "    if i==3:\n",
    "        break\n",
    "    else:\n",
    "        print(i,end=' ')"
   ]
  },
  {
   "cell_type": "markdown",
   "id": "09d8ab4e",
   "metadata": {},
   "source": [
    "# continue()  :dobare bro aval loop\n",
    "\n",
    "**In Python, the 'continue' keyword is used inside loops (for loop, while loop) to skip the current iteration of the loop and move on to the next iteration.(\n",
    "\n",
    "When a continue statement is encountered within a loop, the remaining statements inside the current loop iteration are skipped, and the control is passed to the next iteration of the loop. In other words, the continue statement helps to skip over certain parts of the loop's code block based on certain conditions.\n",
    "\n",
    "Here's an example that demonstrates the use of the continue keyword in a for loop:  #add in output\n"
   ]
  },
  {
   "cell_type": "code",
   "execution_count": 81,
   "id": "e002694d",
   "metadata": {},
   "outputs": [
    {
     "name": "stdout",
     "output_type": "stream",
     "text": [
      "1 3 5 7 9 "
     ]
    }
   ],
   "source": [
    "for i in range(10):\n",
    "    if i % 2 == 0:\n",
    "        continue\n",
    "    print(i,end=' ')\n",
    "    \n",
    "    \n",
    "#In the above example, the for loop iterates over the range of numbers from 0 to 9. \n",
    "#When the value of i is even (i.e., i % 2 == 0 is true), the continue statement is executed, \n",
    "#and the control is passed to the next iteration of the loop, skipping the remaining statements in the loop's code block. \n",
    "#When the value of i is odd, the print() statement is executed, and the value of i is printed to the console.    \n"
   ]
  },
  {
   "cell_type": "code",
   "execution_count": 20,
   "id": "e83cb7a4",
   "metadata": {},
   "outputs": [
    {
     "name": "stdout",
     "output_type": "stream",
     "text": [
      "0 1 2 4 "
     ]
    }
   ],
   "source": [
    "for i in range(0,5):\n",
    "    if i==3:\n",
    "        continue\n",
    "    else:\n",
    "        print(i,end=' ')"
   ]
  },
  {
   "cell_type": "code",
   "execution_count": 21,
   "id": "b081c205",
   "metadata": {},
   "outputs": [
    {
     "name": "stdout",
     "output_type": "stream",
     "text": [
      "Current Letter : g\n",
      "Current Letter : k\n",
      "Current Letter : f\n",
      "Current Letter : o\n",
      "Current Letter : r\n",
      "Current Letter : g\n",
      "Current Letter : k\n"
     ]
    }
   ],
   "source": [
    "# Prints all letters except 'e' and 's'\n",
    "for letter in 'geeksforgeeks':\n",
    "\tif letter == 'e' or letter == 's':\n",
    "\t\tcontinue\n",
    "\tprint('Current Letter :', letter)\n"
   ]
  },
  {
   "cell_type": "code",
   "execution_count": 22,
   "id": "6b075593",
   "metadata": {},
   "outputs": [
    {
     "name": "stdout",
     "output_type": "stream",
     "text": [
      "Current Letter : e\n"
     ]
    }
   ],
   "source": [
    "for letter in 'geeksforgeeks':\n",
    "\n",
    "\t# break the loop as soon it sees 'e'\n",
    "\t# or 's'\n",
    "\tif letter == 'e' or letter == 's':\n",
    "\t\tbreak\n",
    "print('Current Letter :', letter)\n"
   ]
  },
  {
   "cell_type": "markdown",
   "id": "379085e4",
   "metadata": {},
   "source": [
    "# Python nested Loops:\n",
    "\n",
    "+++++for LOOP\n",
    "\n",
    "**for iterator_var in sequence:\n",
    "    for iterator_var in sequence:\n",
    "        statements(s)\n",
    "        statements(s)\n",
    "        \n",
    "        \n",
    "+++++++while loop\n",
    "\n",
    "**while expression:\n",
    "    while expression: \n",
    "        statement(s)\n",
    "        statement(s)\n",
    "        "
   ]
  },
  {
   "cell_type": "code",
   "execution_count": 19,
   "id": "5fa50769",
   "metadata": {},
   "outputs": [
    {
     "name": "stdout",
     "output_type": "stream",
     "text": [
      "1 \n",
      "2 2 \n",
      "3 3 3 \n",
      "4 4 4 4 \n"
     ]
    }
   ],
   "source": [
    "from __future__ import print_function\n",
    "for i in range(1, 5):\n",
    "\tfor j in range(i):\n",
    "\t\tprint(i, end=' ')\n",
    "\tprint()\n"
   ]
  },
  {
   "cell_type": "code",
   "execution_count": 16,
   "id": "849eb4b4",
   "metadata": {},
   "outputs": [
    {
     "name": "stdout",
     "output_type": "stream",
     "text": [
      "0 1 \n",
      "0 1 2 \n",
      "0 1 2 3 \n"
     ]
    }
   ],
   "source": [
    "for i in range(2,5):\n",
    "    for j in range(i):\n",
    "        print(j,end=\" \")\n",
    "    print()    \n",
    "       "
   ]
  },
  {
   "cell_type": "code",
   "execution_count": 17,
   "id": "83974006",
   "metadata": {},
   "outputs": [
    {
     "name": "stdout",
     "output_type": "stream",
     "text": [
      "1 \n",
      "1 2 \n",
      "1 2 3 \n"
     ]
    }
   ],
   "source": [
    "for i in range(2,5):\n",
    "    for j in range(1,i):\n",
    "        print(j,end=\" \")\n",
    "    print()    \n",
    "       "
   ]
  },
  {
   "cell_type": "code",
   "execution_count": 15,
   "id": "6032105f",
   "metadata": {},
   "outputs": [
    {
     "name": "stdout",
     "output_type": "stream",
     "text": [
      "1 1 \n",
      "2 2 \n",
      "3 3 \n"
     ]
    }
   ],
   "source": [
    "for i in range(1,4):\n",
    "    for j in range(2,4):\n",
    "        print(i,end=\" \")\n",
    "    print()    \n",
    "       "
   ]
  },
  {
   "cell_type": "code",
   "execution_count": 65,
   "id": "61553c18",
   "metadata": {},
   "outputs": [
    {
     "name": "stdout",
     "output_type": "stream",
     "text": [
      "10\n",
      "12\n",
      "14\n"
     ]
    }
   ],
   "source": [
    "for n in range(10,15):\n",
    "    for i in range (2,n):\n",
    "        if n%i==0:\n",
    "            print(n)\n",
    "            break"
   ]
  },
  {
   "cell_type": "code",
   "execution_count": 82,
   "id": "ec23eb6f",
   "metadata": {},
   "outputs": [
    {
     "name": "stdout",
     "output_type": "stream",
     "text": [
      "3\n",
      "5\n",
      "7\n"
     ]
    }
   ],
   "source": [
    "for i in range (3,8):\n",
    "    for j in range(2,i):\n",
    "        if i%j==0:\n",
    "            break\n",
    "    else:\n",
    "         print(i)"
   ]
  },
  {
   "cell_type": "markdown",
   "id": "6a121e89",
   "metadata": {},
   "source": [
    "# while():\n",
    "ta zamani ke condition **'while'** bargharar ast , dastur dakhele halghe baegharar khahad bud.\n"
   ]
  },
  {
   "cell_type": "code",
   "execution_count": 12,
   "id": "ca51492f",
   "metadata": {},
   "outputs": [
    {
     "name": "stdout",
     "output_type": "stream",
     "text": [
      "Hello Geek\n",
      "Hello Geek\n",
      "Hello Geek\n"
     ]
    }
   ],
   "source": [
    "# prints Hello Geek 3 Times\n",
    "count = 0\n",
    "while (count < 3):\n",
    "    count = count+1\n",
    "    print(\"Hello Geek\")\n",
    "    "
   ]
  },
  {
   "cell_type": "code",
   "execution_count": 13,
   "id": "39221840",
   "metadata": {},
   "outputs": [
    {
     "name": "stdout",
     "output_type": "stream",
     "text": [
      "List Iteration\n",
      "geeks\n",
      "for\n",
      "geeks\n",
      "\n",
      "Tuple Iteration\n",
      "geeks\n",
      "for\n",
      "geeks\n",
      "\n",
      "String Iteration\n",
      "G\n",
      "e\n",
      "e\n",
      "k\n",
      "s\n",
      "\n",
      "Dictionary Iteration\n",
      "xyz 123\n",
      "abc 345\n"
     ]
    }
   ],
   "source": [
    "# Iterating over a list\n",
    "print(\"List Iteration\")\n",
    "l = [\"geeks\", \"for\", \"geeks\"]\n",
    "for i in l:\n",
    "\tprint(i)\n",
    "\t\n",
    "# Iterating over a tuple (immutable)\n",
    "print(\"\\nTuple Iteration\")\n",
    "t = (\"geeks\", \"for\", \"geeks\")\n",
    "for i in t:\n",
    "\tprint(i)\n",
    "\t\n",
    "# Iterating over a String\n",
    "print(\"\\nString Iteration\")\n",
    "s = \"Geeks\"\n",
    "for i in s :\n",
    "\tprint(i)\n",
    "\t\n",
    "# Iterating over dictionary\n",
    "print(\"\\nDictionary Iteration\")\n",
    "d = dict()\n",
    "d['xyz'] = 123\n",
    "d['abc'] = 345\n",
    "for i in d :\n",
    "\tprint(\"%s %d\" %(i, d[i]))\n"
   ]
  },
  {
   "cell_type": "code",
   "execution_count": 4,
   "id": "885f9478",
   "metadata": {},
   "outputs": [
    {
     "name": "stdout",
     "output_type": "stream",
     "text": [
      "2 3 4 5 "
     ]
    }
   ],
   "source": [
    "i=1\n",
    "while i<=4:\n",
    "    i+=1\n",
    "    print(i,end=' ')\n",
    "   "
   ]
  },
  {
   "cell_type": "code",
   "execution_count": 3,
   "id": "5a4b72c6",
   "metadata": {},
   "outputs": [
    {
     "name": "stdout",
     "output_type": "stream",
     "text": [
      "1 2 3 4 "
     ]
    }
   ],
   "source": [
    "i=1\n",
    "while i<=4:\n",
    "    print(i,end=' ')\n",
    "    i+=1"
   ]
  },
  {
   "cell_type": "code",
   "execution_count": 5,
   "id": "8a035f73",
   "metadata": {},
   "outputs": [
    {
     "name": "stdout",
     "output_type": "stream",
     "text": [
      "7 6 5 4 3 "
     ]
    }
   ],
   "source": [
    "n=7\n",
    "while n>=3:\n",
    "    print(n,end=' ')\n",
    "    n-=1"
   ]
  },
  {
   "cell_type": "code",
   "execution_count": 1,
   "id": "536e4451",
   "metadata": {},
   "outputs": [
    {
     "name": "stdout",
     "output_type": "stream",
     "text": [
      "a\n",
      "b\n",
      "c\n"
     ]
    }
   ],
   "source": [
    "s='abcdef'\n",
    "i=0\n",
    "while True:                #sharte haminshe bargharar\n",
    "    if s[i]=='d':\n",
    "        break\n",
    "    print(s[i],end=' ')\n",
    "    i+=1"
   ]
  },
  {
   "cell_type": "code",
   "execution_count": 1,
   "id": "bf69e18c",
   "metadata": {},
   "outputs": [
    {
     "name": "stdout",
     "output_type": "stream",
     "text": [
      "7 6 "
     ]
    }
   ],
   "source": [
    "n=8\n",
    "while n>2:\n",
    "    n-=1\n",
    "    if n==5:\n",
    "        break\n",
    "    print(n,end=' ')"
   ]
  },
  {
   "cell_type": "code",
   "execution_count": 2,
   "id": "1501a774",
   "metadata": {},
   "outputs": [
    {
     "name": "stdout",
     "output_type": "stream",
     "text": [
      "7 6 4 3 2 "
     ]
    }
   ],
   "source": [
    "n=8\n",
    "while n>2:\n",
    "    n-=1\n",
    "    if n==5:\n",
    "        continue\n",
    "    print(n,end=' ')"
   ]
  },
  {
   "cell_type": "code",
   "execution_count": 3,
   "id": "0cb98375",
   "metadata": {},
   "outputs": [
    {
     "name": "stdout",
     "output_type": "stream",
     "text": [
      "0 1 2 4 8 "
     ]
    }
   ],
   "source": [
    "a=0\n",
    "b=1\n",
    "while a<10:\n",
    "    print(a,end=' ')\n",
    "    a=b\n",
    "    b=a+b"
   ]
  },
  {
   "cell_type": "code",
   "execution_count": 4,
   "id": "24dc5055",
   "metadata": {},
   "outputs": [
    {
     "name": "stdout",
     "output_type": "stream",
     "text": [
      "0 1 1 2 3 5 8 "
     ]
    }
   ],
   "source": [
    "a=0\n",
    "b=1\n",
    "while a<10:\n",
    "    print(a,end=' ')\n",
    "    a, b =b, a+b              #hamzaman taghir  mikonan\n",
    "    "
   ]
  },
  {
   "cell_type": "code",
   "execution_count": null,
   "id": "849b054d",
   "metadata": {},
   "outputs": [],
   "source": [
    "import random\n",
    "n=random.randrange(0,10)\n",
    "f='no'\n",
    "\n",
    "while f=='no':\n",
    "    a=int(input('enter:'))\n",
    "    #a=random.randrange(2,6)\n",
    "    if a<n:\n",
    "        print('>')\n",
    "    elif a>n:\n",
    "        print('<')\n",
    "    else:\n",
    "        print('correct')\n",
    "        f='yes'\n",
    "print('Thank you')        "
   ]
  },
  {
   "cell_type": "code",
   "execution_count": null,
   "id": "11ebfeab",
   "metadata": {},
   "outputs": [],
   "source": [
    "++++\n",
    "\n",
    "**How to print a list in reverse order (from last to the first item) using while and for-in loops.\n",
    "\n",
    "++++"
   ]
  },
  {
   "cell_type": "code",
   "execution_count": 2,
   "id": "68a277c6",
   "metadata": {},
   "outputs": [
    {
     "name": "stdout",
     "output_type": "stream",
     "text": [
      "h\n",
      "e\n",
      "d\n",
      "i\n",
      "p\n",
      "e\n",
      "s\n"
     ]
    }
   ],
   "source": [
    " A='sepideh'\n",
    "i=len(A)-1\n",
    "while i>=0:                #sharte haminshe bargharar\n",
    "    print(A[i])\n",
    "    i-=1"
   ]
  },
  {
   "cell_type": "code",
   "execution_count": 6,
   "id": "d997cf06",
   "metadata": {},
   "outputs": [
    {
     "name": "stdout",
     "output_type": "stream",
     "text": [
      "a s u d a d r h e m h e d i p e s "
     ]
    }
   ],
   "source": [
    "my_list = 'sepidehmehrdadusa'\n",
    "\n",
    "for i in range(len(my_list) - 1, -1, -1):\n",
    "    print(my_list[i],end=' ')\n"
   ]
  },
  {
   "cell_type": "code",
   "execution_count": 7,
   "id": "1bda074d",
   "metadata": {},
   "outputs": [
    {
     "name": "stdout",
     "output_type": "stream",
     "text": [
      "5 4 3 2 1 "
     ]
    }
   ],
   "source": [
    "my_list = [1, 2, 3, 4, 5]\n",
    "i = len(my_list) - 1\n",
    "\n",
    "while i >= 0:\n",
    "    for j in range(i, i-1, -1):\n",
    "        print(my_list[j], end=' ')\n",
    "    i -= 1\n"
   ]
  },
  {
   "cell_type": "code",
   "execution_count": 13,
   "id": "a4d8595b",
   "metadata": {},
   "outputs": [
    {
     "name": "stdout",
     "output_type": "stream",
     "text": [
      "23\n",
      "i r u g l o b i d a m m a h o m h e d i p e s "
     ]
    }
   ],
   "source": [
    "A='sepidehmohammadibolguri'\n",
    "print(len(A))\n",
    "\n",
    "i=len(A)-1\n",
    "while i>=0:\n",
    "    for j in [i]:\n",
    "        print(A[j],end=' ')\n",
    "        i-=1"
   ]
  },
  {
   "cell_type": "code",
   "execution_count": 118,
   "id": "04dde4d3",
   "metadata": {},
   "outputs": [
    {
     "name": "stdout",
     "output_type": "stream",
     "text": [
      "3\n"
     ]
    }
   ],
   "source": [
    "\n",
    "count = 0\n",
    "while count < 5:\n",
    "\tif count == 3:\n",
    "\t\tbreak\n",
    "\tcount += 1\n",
    "print(count)\n"
   ]
  },
  {
   "cell_type": "markdown",
   "id": "7ad37584",
   "metadata": {},
   "source": [
    "# reverse()"
   ]
  },
  {
   "cell_type": "code",
   "execution_count": 17,
   "id": "8e37b0a3",
   "metadata": {},
   "outputs": [
    {
     "data": {
      "text/plain": [
       "['h', 'e', 'd', 'i', 'p', 'e', 's']"
      ]
     },
     "execution_count": 17,
     "metadata": {},
     "output_type": "execute_result"
    }
   ],
   "source": [
    "A='sepideh'\n",
    "\n",
    "list(reversed(A))"
   ]
  },
  {
   "cell_type": "code",
   "execution_count": 29,
   "id": "ff5fa72e",
   "metadata": {},
   "outputs": [
    {
     "name": "stdout",
     "output_type": "stream",
     "text": [
      "h\n",
      "e\n",
      "d\n",
      "i\n",
      "p\n",
      "e\n",
      "s\n"
     ]
    }
   ],
   "source": [
    "A='sepideh'\n",
    "for i in reversed(A):\n",
    "    print(i,end=' ')"
   ]
  },
  {
   "cell_type": "code",
   "execution_count": 21,
   "id": "8fa4ddb0",
   "metadata": {},
   "outputs": [
    {
     "data": {
      "text/plain": [
       "[8, 7, 6, 5, 45, 3, 2, 1]"
      ]
     },
     "execution_count": 21,
     "metadata": {},
     "output_type": "execute_result"
    }
   ],
   "source": [
    "B=[1,2,3,45,5,6,7,8]\n",
    "list(reversed(B))\n"
   ]
  },
  {
   "cell_type": "code",
   "execution_count": 25,
   "id": "a7796249",
   "metadata": {},
   "outputs": [
    {
     "data": {
      "text/plain": [
       "[8, 7, 6, 5, 45, 3, 2, 1]"
      ]
     },
     "execution_count": 25,
     "metadata": {},
     "output_type": "execute_result"
    }
   ],
   "source": [
    "B=(1,2,3,45,5,6,7,8)\n",
    "list(reversed(B))\n"
   ]
  },
  {
   "cell_type": "code",
   "execution_count": 28,
   "id": "4c297596",
   "metadata": {},
   "outputs": [
    {
     "name": "stdout",
     "output_type": "stream",
     "text": [
      "8 7 6 5 45 3 2 1 "
     ]
    }
   ],
   "source": [
    "B=[1,2,3,45,5,6,7,8]\n",
    "for i in reversed(B):\n",
    "   print(i,end=' ')"
   ]
  },
  {
   "cell_type": "code",
   "execution_count": 103,
   "id": "fab01744",
   "metadata": {},
   "outputs": [
    {
     "name": "stdout",
     "output_type": "stream",
     "text": [
      "The list in reversed order is : \n",
      "3 1 2 6 5 3 1 "
     ]
    }
   ],
   "source": [
    "\n",
    "lis = [1, 3, 5, 6, 2, 1, 3]\n",
    "\n",
    "print(\"The list in reversed order is : \")\n",
    "for i in reversed(lis):\n",
    "\tprint(i, end=\" \")\n"
   ]
  },
  {
   "cell_type": "code",
   "execution_count": 104,
   "id": "011cba54",
   "metadata": {},
   "outputs": [
    {
     "name": "stdout",
     "output_type": "stream",
     "text": [
      "7\n",
      "4\n",
      "1\n"
     ]
    }
   ],
   "source": [
    "\n",
    "for i in reversed(range(1, 10, 3)):\n",
    "\tprint(i)\n"
   ]
  },
  {
   "cell_type": "code",
   "execution_count": null,
   "id": "14b09a2c",
   "metadata": {},
   "outputs": [],
   "source": []
  }
 ],
 "metadata": {
  "kernelspec": {
   "display_name": "Python 3 (ipykernel)",
   "language": "python",
   "name": "python3"
  },
  "language_info": {
   "codemirror_mode": {
    "name": "ipython",
    "version": 3
   },
   "file_extension": ".py",
   "mimetype": "text/x-python",
   "name": "python",
   "nbconvert_exporter": "python",
   "pygments_lexer": "ipython3",
   "version": "3.9.7"
  }
 },
 "nbformat": 4,
 "nbformat_minor": 5
}
