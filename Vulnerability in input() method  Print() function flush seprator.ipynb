{
 "cells": [
  {
   "cell_type": "markdown",
   "id": "4cf7faa2",
   "metadata": {},
   "source": [
    "# variable name as input parameter:"
   ]
  },
  {
   "cell_type": "code",
   "execution_count": null,
   "id": "8e8766b1",
   "metadata": {},
   "outputs": [
    {
     "name": "stdout",
     "output_type": "stream",
     "text": [
      "Pick a number between 1 to 500\n",
      "Guess the number: 45\n",
      "you lose\n",
      "Guess the number: 14\n",
      "you lose\n",
      "Guess the number: 25\n",
      "you lose\n",
      "Guess the number: 258\n",
      "you lose\n"
     ]
    }
   ],
   "source": [
    "import random\n",
    "secret_number=random.randint(1,500)\n",
    "print(\"Pick a number between 1 to 500\")\n",
    "while True:\n",
    "    res=input(\"Guess the number: \")\n",
    "    if res==secret_number:\n",
    "        print(\"you win\")\n",
    "        break\n",
    "    else:\n",
    "        print(\"you lose\")\n",
    "        continue"
   ]
  },
  {
   "cell_type": "markdown",
   "id": "509f3bab",
   "metadata": {},
   "source": [
    "# Python print() function \n",
    "**prints the message to the screen or any other standard output device.\n",
    "\n",
    "Syntax: \n",
    "\n",
    "      print(value(s), sep= ' ', end = '\\n', file=file, flush=flush)\n"
   ]
  },
  {
   "cell_type": "markdown",
   "id": "273eaa07",
   "metadata": {},
   "source": [
    "**value(s): \n",
    "\n",
    "Any value, and as many as you like. Will be converted to a string before printed\n",
    "**sep=’separator’ :\n",
    "\n",
    "(Optional) Specify how to separate the objects, if there is more than one.Default :’ ‘\n",
    "**end=’end’:\n",
    "\n",
    "(Optional) Specify what to print at the end.Default : ‘\\n’\n",
    "\n",
    "**file :\n",
    "\n",
    "(Optional) An object with a write method. Default :sys.stdout\n",
    "**flush : \n",
    "\n",
    "(Optional) A Boolean, specifying if the output is flushed (True) or buffered (False). Default: False\n",
    "\n"
   ]
  },
  {
   "cell_type": "markdown",
   "id": "76872efc",
   "metadata": {},
   "source": [
    "          *****an example for showing Flush()"
   ]
  },
  {
   "cell_type": "code",
   "execution_count": 11,
   "id": "5ef022bc",
   "metadata": {},
   "outputs": [
    {
     "name": "stdout",
     "output_type": "stream",
     "text": [
      "3>>>2>>>1>>>Start\n"
     ]
    }
   ],
   "source": [
    "import time \n",
    "count_seconds=3\n",
    "for i in reversed(range(count_seconds+1)):\n",
    "    if i>0:\n",
    "        print(i, end='>>>')\n",
    "        time.sleep(1)\n",
    "    else:\n",
    "        print('Start')"
   ]
  },
  {
   "cell_type": "code",
   "execution_count": 12,
   "id": "faec637e",
   "metadata": {},
   "outputs": [
    {
     "name": "stdout",
     "output_type": "stream",
     "text": [
      "3>>>2>>>1>>>Start\n"
     ]
    }
   ],
   "source": [
    "import time\n",
    "\n",
    "count_seconds = 3\n",
    "for i in reversed(range(count_seconds + 1)):\n",
    "\tif i > 0:\n",
    "\t\tprint(i, end='>>>', flush = True)\n",
    "\t\ttime.sleep(1)\n",
    "\telse:\n",
    "\t\tprint('Start')\n"
   ]
  },
  {
   "cell_type": "code",
   "execution_count": 18,
   "id": "02b95c0d",
   "metadata": {},
   "outputs": [
    {
     "name": "stdout",
     "output_type": "stream",
     "text": [
      " Progress: 1/10\n",
      " Progress: 2/10\n",
      " Progress: 3/10\n",
      " Progress: 4/10\n",
      " Progress: 5/10\n",
      " Progress: 6/10\n",
      " Progress: 7/10\n",
      " Progress: 8/10\n",
      " Progress: 9/10\n",
      " Progress: 10/10\n",
      "Done!\n"
     ]
    }
   ],
   "source": [
    "import time\n",
    "\n",
    "for i in range(10):\n",
    "    print(f\" Progress: {i+1}/10\"), #end=\"\\r\", flush=True)\n",
    "    time.sleep(1)\n",
    "\n",
    "print(\"Done!\")\n"
   ]
  },
  {
   "cell_type": "code",
   "execution_count": 19,
   "id": "4c792759",
   "metadata": {},
   "outputs": [
    {
     "name": "stdout",
     "output_type": "stream",
     "text": [
      " Progress: 1/10\n",
      " Progress: 2/10\n",
      " Progress: 3/10\n",
      " Progress: 4/10\n",
      " Progress: 5/10\n",
      " Progress: 6/10\n",
      " Progress: 7/10\n",
      " Progress: 8/10\n",
      " Progress: 9/10\n",
      " Progress: 10/10\n",
      "Done!\n"
     ]
    }
   ],
   "source": [
    "import time\n",
    "\n",
    "for i in range(10):\n",
    "    print(f\" Progress: {i+1}/10\")#, end=\"\\r\")#, flush=True)\n",
    "    time.sleep(1)\n",
    "\n",
    "print(\"Done!\")\n"
   ]
  },
  {
   "cell_type": "markdown",
   "id": "128f532d",
   "metadata": {},
   "source": [
    "**In this example, a loop is used to simulate a long-running process that prints progress updates to the console every second. The print() function\n",
    "is called with the \n",
    "# flush=True argument\n",
    "to ensure that the progress updates are immediately visible in the console.\n",
    "# The end=\"\\r\" argument \n",
    "is used to overwrite the previous progress update on the same line, so that the progress updates appear on a single line.\n",
    "# The time.sleep(1) function\n",
    "call is used to simulate the computation time."
   ]
  },
  {
   "cell_type": "markdown",
   "id": "fd567b58",
   "metadata": {},
   "source": [
    "***When the output of your program is being displayed in a console or terminal window, setting flush=True can make a difference in how quickly the output is displayed. However, if the output is being redirected to a file or another program, the effect of flush=True may not be noticeable.\n",
    "\n",
    "****In general, setting flush=True can be useful in situations where you want to see the output of your program in real-time, or if you want to ensure that the output is immediately available to other programs that may be consuming it. However, in many cases, it may not make a significant difference in the behavior or output of your program.\n",
    "\n",
    "***If you didn't see any difference in the output when setting flush=True, it's possible that the output was already being flushed automatically or that the output buffer was already being cleared frequently. In such cases, setting flush=True may not have any visible effect on the output.\n",
    "\n",
    "\n",
    "\n",
    "\n"
   ]
  },
  {
   "cell_type": "code",
   "execution_count": 20,
   "id": "6c4d9237",
   "metadata": {},
   "outputs": [
    {
     "name": "stdout",
     "output_type": "stream",
     "text": [
      "Counting up with flush=True...\n",
      "0 1 2 3 4 \n"
     ]
    }
   ],
   "source": [
    "import time\n",
    "\n",
    "# Using flush=True\n",
    "print(\"Counting up with flush=True...\")\n",
    "for i in range(5):\n",
    "    print(i, end=\" \", flush=True)\n",
    "    time.sleep(1)\n",
    "print()\n",
    "\n",
    "\n"
   ]
  },
  {
   "cell_type": "code",
   "execution_count": 21,
   "id": "65b99967",
   "metadata": {},
   "outputs": [
    {
     "name": "stdout",
     "output_type": "stream",
     "text": [
      "Counting up with flush=False...\n",
      "0 1 2 3 4 \n"
     ]
    }
   ],
   "source": [
    "# Using flush=False\n",
    "print(\"Counting up with flush=False...\")\n",
    "for i in range(5):\n",
    "    print(i, end=\" \", flush=False)\n",
    "    time.sleep(1)\n",
    "print()"
   ]
  },
  {
   "cell_type": "markdown",
   "id": "ada79604",
   "metadata": {},
   "source": [
    "# separator:\n",
    "**The print() function can accept any number of positional arguments. To separate these positional arguments , keyword argument “sep” is used.\n",
    "\n",
    "     Note: As sep , end , flush , file are keyword arguments their position does not change the result of code. "
   ]
  },
  {
   "cell_type": "code",
   "execution_count": 23,
   "id": "ba672841",
   "metadata": {},
   "outputs": [
    {
     "name": "stdout",
     "output_type": "stream",
     "text": [
      "12*12*2022\n"
     ]
    }
   ],
   "source": [
    "a=12\n",
    "b=12\n",
    "c=2022\n",
    "print(a,b,c,sep=\"*\")\n"
   ]
  },
  {
   "cell_type": "markdown",
   "id": "a8075262",
   "metadata": {},
   "source": [
    "**How to print without newline in Python?\n",
    "\n",
    "**Generally, people switching from C/C++ to Python wonder how to print two or more variables or statements without going into a new line in python. Since the python print() function by default ends with a newline. Python has a predefined format if you use print(a_variable) then it will go to the next line automatically. \n",
    " "
   ]
  },
  {
   "cell_type": "code",
   "execution_count": 26,
   "id": "bd7629a0",
   "metadata": {},
   "outputs": [
    {
     "name": "stdout",
     "output_type": "stream",
     "text": [
      "geeks geeksforgeeks\n"
     ]
    }
   ],
   "source": [
    "print(\"geeks\",end=\" \")\n",
    "print(\"geeksforgeeks\")\n"
   ]
  },
  {
   "cell_type": "code",
   "execution_count": 30,
   "id": "0df8b6e5",
   "metadata": {},
   "outputs": [
    {
     "name": "stdout",
     "output_type": "stream",
     "text": [
      "1 2 3 4 "
     ]
    }
   ],
   "source": [
    "a=[1,2,3,4,5]\n",
    "for i in range(4):\n",
    "    print(a[i],end=\" \")\n",
    " "
   ]
  },
  {
   "cell_type": "code",
   "execution_count": 41,
   "id": "2214aaf8",
   "metadata": {},
   "outputs": [
    {
     "name": "stdout",
     "output_type": "stream",
     "text": [
      "10\n",
      "12\n",
      "3\n",
      "4\n"
     ]
    }
   ],
   "source": [
    "a=[10,12,3,4,5]\n",
    "for i in range(4):\n",
    "    print(a[i])"
   ]
  },
  {
   "cell_type": "markdown",
   "id": "583fbdc1",
   "metadata": {},
   "source": [
    "# Print without newline in Python 3.x without using for loop:\n",
    "\n",
    "\n",
    "       using * symbol prints the list elements in a single line"
   ]
  },
  {
   "cell_type": "code",
   "execution_count": 33,
   "id": "20ef0701",
   "metadata": {},
   "outputs": [
    {
     "name": "stdout",
     "output_type": "stream",
     "text": [
      "1 23 45 2 6 78 9\n"
     ]
    }
   ],
   "source": [
    "l=[1,23,45,2,6,78,9]\n",
    "\n",
    "print(*l)"
   ]
  },
  {
   "cell_type": "markdown",
   "id": "e168876b",
   "metadata": {},
   "source": [
    "# Print without newline Using Python sys module:\n",
    "\n",
    "     To use the sys module, first, import the module sys using the import keyword. Then, make use of the stdout.write() method    available inside the sys module, to print your strings.\n",
    "     \n",
    "     \n",
    "     \n",
    " ***It only works with string If you pass a number or a list, you will get a TypeError.***"
   ]
  },
  {
   "cell_type": "code",
   "execution_count": 43,
   "id": "b15c5aeb",
   "metadata": {},
   "outputs": [
    {
     "name": "stdout",
     "output_type": "stream",
     "text": [
      "GeeksforGeeks is best website for coding!"
     ]
    },
    {
     "data": {
      "text/plain": [
       "27"
      ]
     },
     "execution_count": 43,
     "metadata": {},
     "output_type": "execute_result"
    }
   ],
   "source": [
    "import sys\n",
    "\n",
    "sys.stdout.write(\"GeeksforGeeks \")\n",
    "sys.stdout.write(\"is best website for coding!\")\n"
   ]
  },
  {
   "cell_type": "markdown",
   "id": "1b4c2952",
   "metadata": {},
   "source": [
    "# Python end parameter in print()"
   ]
  },
  {
   "cell_type": "code",
   "execution_count": 45,
   "id": "74d232f7",
   "metadata": {},
   "outputs": [
    {
     "name": "stdout",
     "output_type": "stream",
     "text": [
      "Python@GeeksforGeeks\n"
     ]
    }
   ],
   "source": [
    "# ends the output with '@'\n",
    "print(\"Python\",  end='@')\n",
    "print(\"GeeksforGeeks\")\n"
   ]
  },
  {
   "cell_type": "code",
   "execution_count": 46,
   "id": "e780548e",
   "metadata": {},
   "outputs": [
    {
     "name": "stdout",
     "output_type": "stream",
     "text": [
      "Welcome to GeeksforGeeks "
     ]
    }
   ],
   "source": [
    "# ends the output with a space\n",
    "print(\"Welcome to\", end = ' ')\n",
    "print(\"GeeksforGeeks\", end= ' ')\n"
   ]
  },
  {
   "cell_type": "code",
   "execution_count": 58,
   "id": "3ca6bbc7",
   "metadata": {},
   "outputs": [
    {
     "name": "stdout",
     "output_type": "stream",
     "text": [
      "G*FG\n",
      "09-12-2016\n",
      "Red,Green,Blue@geeksforgeeks\n"
     ]
    }
   ],
   "source": [
    "print('G','F', sep='*',end='')\n",
    "print('G')\n",
    "#\\n provides new line after printing the year\n",
    "print('09','12','2016', sep='-', end='\\n')\n",
    "\n",
    "print('Red','Green','Blue', sep=',', end='@')\n",
    "print('geeksforgeeks')\n"
   ]
  },
  {
   "cell_type": "markdown",
   "id": "89f7796c",
   "metadata": {},
   "source": [
    "# Using end to concatenate strings:   \n",
    "****set to a space character ” ” for the first print() state"
   ]
  },
  {
   "cell_type": "code",
   "execution_count": 59,
   "id": "9fd60fa4",
   "metadata": {},
   "outputs": [
    {
     "name": "stdout",
     "output_type": "stream",
     "text": [
      "My name is Alice and I am 30 years old. Nice to meet you!\n"
     ]
    }
   ],
   "source": [
    "name = \"Alice\"\n",
    "age = 30\n",
    "print(\"My name is\", name, \"and I am\", age, \"years old.\", end=\" \")\n",
    "print(\"Nice to meet you!\")\n"
   ]
  },
  {
   "cell_type": "markdown",
   "id": "96621cf7",
   "metadata": {},
   "source": [
    "# Output Formatting"
   ]
  },
  {
   "cell_type": "markdown",
   "id": "d6954e65",
   "metadata": {},
   "source": [
    "***Formatting output using String modulo operator(%) : "
   ]
  },
  {
   "cell_type": "code",
   "execution_count": 75,
   "id": "df30d645",
   "metadata": {},
   "outputs": [
    {
     "name": "stdout",
     "output_type": "stream",
     "text": [
      "Geeks : 123, Portal :  5.33\n",
      "Total students : 240, Boys : 120\n",
      "    031\n",
      " 3.561E+02\n"
     ]
    }
   ],
   "source": [
    "# Python program showing how to use string modulo operator(%) to print fancier output\n",
    "\n",
    "# print integer and float value\n",
    "\n",
    "print(\"Geeks : %2d, Portal : %5.2f\" % (123, 05.333))\n",
    "\n",
    "# print integer value\n",
    "\n",
    "print(\"Total students : %2d, Boys : %2d\" % (240, 120))\n",
    "\n",
    "# print octal value\n",
    "\n",
    "print(\"%7.3o\" % (25))\n",
    "\n",
    "# print exponential value\n",
    "\n",
    "print(\"%10.3E\" % (356.08977))\n"
   ]
  },
  {
   "cell_type": "code",
   "execution_count": 72,
   "id": "6179b0ff",
   "metadata": {},
   "outputs": [
    {
     "name": "stdout",
     "output_type": "stream",
     "text": [
      "Geeks :  1, Portal : 5.333\n"
     ]
    }
   ],
   "source": [
    "print(\"Geeks : %2d, Portal : %5.3f\" % (1, 05.333))"
   ]
  },
  {
   "cell_type": "markdown",
   "id": "30344129",
   "metadata": {},
   "source": [
    "       %[flags][width][.precision]type ===== %5.2f"
   ]
  },
  {
   "cell_type": "markdown",
   "id": "f313df9b",
   "metadata": {},
   "source": [
    "The first placeholder “%2d” is used for the first component of our tuple, i.e. the integer 1. The number will be printed with 2 characters.\n",
    "As 1 consists only of one digit, the output is padded with 1 leading blank.\n",
    "The second one “%5.2f” is a format description for a float number. Like other placeholders, it is introduced with the % character. \n",
    "This is followed by the total number of digits the string should contain. This number includes the decimal point and all the digits, i.e. before and after the decimal point.\n",
    "\n",
    "Our float number 05.333 has to be formatted with 5 characters. The decimal part of the number or the precision is set to 2, i.e. the number following the “.” in our placeholder. Finally, the last character “f” of our placeholder stands for “float”."
   ]
  },
  {
   "cell_type": "markdown",
   "id": "9c661253",
   "metadata": {},
   "source": [
    "# Formatting output using the format method : \n",
    "\n",
    "***The format() method was added in Python(2.6). The format method of strings requires more manual effort. Users use {} to mark where a variable will be substituted and can provide detailed formatting directives, but the user also needs to provide the information to be formatted. This method lets us concatenate elements within an output through positional formatting.\n",
    "\n"
   ]
  },
  {
   "cell_type": "code",
   "execution_count": 76,
   "id": "3b5e2010",
   "metadata": {},
   "outputs": [
    {
     "name": "stdout",
     "output_type": "stream",
     "text": [
      "I love Geeks for \"Geeks!\"\n",
      "Geeks and Portal\n",
      "Portal and Geeks\n",
      "I love Geeks for \"Geeks!\"\n",
      "Geeks and Portal\n"
     ]
    }
   ],
   "source": [
    "# Python program showing\n",
    "# use of format() method\n",
    "\n",
    "# using format() method\n",
    "print('I love {} for \"{}!\"'.format('Geeks', 'Geeks'))\n",
    "\n",
    "# using format() method and referring\n",
    "# a position of the object\n",
    "print('{0} and {1}'.format('Geeks', 'Portal'))\n",
    "\n",
    "print('{1} and {0}'.format('Geeks', 'Portal'))\n",
    "\n",
    "\n",
    "# the above formatting can also be done by using f-Strings\n",
    "# Although, this features work only with python 3.6 or above.\n",
    "\n",
    "print(f\"I love {'Geeks'} for \\\"{'Geeks'}!\\\"\")\n",
    "\n",
    "# using format() method and referring\n",
    "# a position of the object\n",
    "print(f\"{'Geeks'} and {'Portal'}\")\n"
   ]
  },
  {
   "cell_type": "code",
   "execution_count": 82,
   "id": "9221574b",
   "metadata": {},
   "outputs": [
    {
     "name": "stdout",
     "output_type": "stream",
     "text": [
      "Number one portal is Geeks, For, and Geeks.\n",
      "Geeks :12, Portal :    0.55\n",
      "Second argument:  11, first one:   47.42\n",
      "Geeks:   453, Portal:    59.06\n"
     ]
    }
   ],
   "source": [
    "# Python program showing\n",
    "# a use of format() method\n",
    "\n",
    "# combining positional and keyword arguments\n",
    "print('Number one portal is {0}, {1}, and {other}.'\n",
    "\t.format('Geeks', 'For', other ='Geeks'))\n",
    "\n",
    "# using format() method with number\n",
    "print(\"Geeks :{0:2d}, Portal :{1:8.2f}\".\n",
    "\tformat(12, 00.546))\n",
    "\n",
    "# Changing positional argument\n",
    "print(\"Second argument: {1:3d}, first one: {0:7.2f}\".\n",
    "\tformat(47.42, 11))\n",
    "\n",
    "print(\"Geeks: {a:5d}, Portal: {p:8.2f}\".\n",
    "\tformat(a = 453, p = 59.058))\n"
   ]
  },
  {
   "cell_type": "markdown",
   "id": "f80dfba2",
   "metadata": {},
   "source": [
    "# print in dictionary()"
   ]
  },
  {
   "cell_type": "code",
   "execution_count": 83,
   "id": "3c49d134",
   "metadata": {},
   "outputs": [
    {
     "name": "stdout",
     "output_type": "stream",
     "text": [
      "Geeks: 4127; For: 4098; Geeks: 8637678\n",
      "I love GeeksForGeeks computer Portal\n"
     ]
    }
   ],
   "source": [
    "# Python program to show format() is used in dictionary\n",
    "\n",
    "tab = {'geeks': 4127, 'for': 4098, 'geek': 8637678}\n",
    "\n",
    "# using format() in dictionary\n",
    "print('Geeks: {0[geeks]:d}; For: {0[for]:d}; '\n",
    "\t'Geeks: {0[geek]:d}'.format(tab))\n",
    "\n",
    "data = dict(fun =\"GeeksForGeeks\", adj =\"Portal\")\n",
    "\n",
    "# using format() in dictionary\n",
    "print(\"I love {fun} computer {adj}\".format(**data))\n"
   ]
  },
  {
   "cell_type": "code",
   "execution_count": 84,
   "id": "b8bee301",
   "metadata": {},
   "outputs": [
    {
     "name": "stdout",
     "output_type": "stream",
     "text": [
      "Center aligned string with fillchr: \n",
      "##########I love geeksforgeeks##########\n",
      "The left aligned string is : \n",
      "I love geeksforgeeks--------------------\n",
      "The right aligned string is : \n",
      "--------------------I love geeksforgeeks\n"
     ]
    }
   ],
   "source": [
    "# Python program to\n",
    "# format a output using\n",
    "# string() method\n",
    "\n",
    "cstr = \"I love geeksforgeeks\"\n",
    "\n",
    "# Printing the center aligned\n",
    "# string with fillchr\n",
    "print (\"Center aligned string with fillchr: \")\n",
    "print (cstr.center(40, '#'))\n",
    "\n",
    "# Printing the left aligned\n",
    "# string with \"-\" padding\n",
    "print (\"The left aligned string is : \")\n",
    "print (cstr.ljust(40, '-'))\n",
    "\n",
    "# Printing the right aligned string\n",
    "# with \"-\" padding\n",
    "print (\"The right aligned string is : \")\n",
    "print (cstr.rjust(40, '-'))\n"
   ]
  },
  {
   "cell_type": "code",
   "execution_count": null,
   "id": "a22f8757",
   "metadata": {},
   "outputs": [],
   "source": []
  },
  {
   "cell_type": "code",
   "execution_count": null,
   "id": "f4ee3ffe",
   "metadata": {},
   "outputs": [],
   "source": []
  },
  {
   "cell_type": "code",
   "execution_count": null,
   "id": "ec2189dd",
   "metadata": {},
   "outputs": [],
   "source": []
  }
 ],
 "metadata": {
  "kernelspec": {
   "display_name": "Python 3 (ipykernel)",
   "language": "python",
   "name": "python3"
  },
  "language_info": {
   "codemirror_mode": {
    "name": "ipython",
    "version": 3
   },
   "file_extension": ".py",
   "mimetype": "text/x-python",
   "name": "python",
   "nbconvert_exporter": "python",
   "pygments_lexer": "ipython3",
   "version": "3.9.7"
  }
 },
 "nbformat": 4,
 "nbformat_minor": 5
}
