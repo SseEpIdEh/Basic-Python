{
 "cells": [
  {
   "cell_type": "code",
   "execution_count": null,
   "id": "4c60ed5f",
   "metadata": {},
   "outputs": [
    {
     "name": "stdout",
     "output_type": "stream",
     "text": [
      "Do you want to play a game of balckjack?type 'y' or 'no':y\n",
      "your cards:[4, 8],current score:12\n",
      "computer's first card:10\n"
     ]
    }
   ],
   "source": [
    "import random\n",
    "#from replit import clear\n",
    "#from art import logo\n",
    "\n",
    "def deal_card():\n",
    "  \"\"\"Returns a random card from the deck\"\"\"\n",
    "  cards = [11, 2, 3, 4, 5, 6, 7, 8, 9, 10, 10, 10, 10]\n",
    "  card=random.choice(cards)\n",
    "  return card\n",
    "def calculate_score(cards):\n",
    "  \"\"\"Take a list of cards and return the score calculated from the cards\"\"\" \n",
    "  if sum(cards)==21 and len(cards)==2:\n",
    "      return 0  \n",
    "  if 11 in cards and sum(cards)>21:\n",
    "    cards.remove(11)\n",
    "    cards.append(1)\n",
    "  return sum(cards)\n",
    "def compare(user_score, computer_score):\n",
    "  if computer_score==user_score:\n",
    "    return \"Draw\"\n",
    "  elif computer_score==0:\n",
    "    return \"Lose,opponent has Blackjack\"\n",
    "  elif  user_score==0:\n",
    "    return \"win with a balckjack\"\n",
    "  elif user_score>21:\n",
    "    return \"you went over. you lose\"\n",
    "  elif computer_score>21:\n",
    "    return \"opponent went over. you win\"  \n",
    "  elif user_score>computer_score:\n",
    "    return \"you win\"  \n",
    "  else:\n",
    "   return \"you lose\"\n",
    "def play_game(): \n",
    "  #print(logo)\n",
    "  user_cards = []\n",
    "  computer_cards = []\n",
    "  is_game_over=False\n",
    "  for _ in range(2):\n",
    "    user_cards.append(deal_card())\n",
    "    computer_cards.append(deal_card())\n",
    "  while not is_game_over:\n",
    "    user_score=calculate_score(user_cards)\n",
    "    computer_score=calculate_score(computer_cards)\n",
    "    print(f\"your cards:{user_cards},current score:{user_score}\")\n",
    "    print(f\"computer's first card:{computer_cards[0]}\")\n",
    "    if user_score==0 or computer_score==0 or user_score > 21:\n",
    "      is_game_over=True\n",
    "    else:\n",
    "      user_should_deal=input(\"type 'y' to get another card, type 'n' to pass:\")\n",
    "      if user_should_deal==\"y\":\n",
    "        user_cards.append(deal_card())\n",
    "      else:\n",
    "        is_game_over=True\n",
    "  while computer_score!=0 and computer_score<17:\n",
    "     computer_cards.append(deal_card())\n",
    "     computer_score=calculate_score(computer_cards)  \n",
    "  print(f\"your final hand:{user_cards},final score:{user_score}\") \n",
    "  print(f\"computer's final hand:{computer_cards},final score:{computer_score}\")\n",
    "  print(compare(user_score, computer_score))\n",
    "  \n",
    "while input(\"Do you want to play a game of balckjack?type 'y' or 'no':\")==\"y\":\n",
    "    #clear()\n",
    "    play_game()\n"
   ]
  },
  {
   "cell_type": "code",
   "execution_count": null,
   "id": "c40e7b18",
   "metadata": {},
   "outputs": [],
   "source": []
  }
 ],
 "metadata": {
  "kernelspec": {
   "display_name": "Python 3 (ipykernel)",
   "language": "python",
   "name": "python3"
  },
  "language_info": {
   "codemirror_mode": {
    "name": "ipython",
    "version": 3
   },
   "file_extension": ".py",
   "mimetype": "text/x-python",
   "name": "python",
   "nbconvert_exporter": "python",
   "pygments_lexer": "ipython3",
   "version": "3.9.7"
  }
 },
 "nbformat": 4,
 "nbformat_minor": 5
}
