{
 "cells": [
  {
   "cell_type": "code",
   "execution_count": 1,
   "id": "cacf72d8",
   "metadata": {},
   "outputs": [],
   "source": [
    "import numpy as np\n",
    "\n",
    "def jacobi_method(A, b, x0, max_iterations):\n",
    "    n = len(A)\n",
    "    x = np.copy(x0)\n",
    "    \n",
    "    for iteration in range(max_iterations):\n",
    "        x_new = np.zeros_like(x)\n",
    "        \n",
    "        for i in range(n):\n",
    "            sum_term = np.dot(A[i, :i], x[:i]) + np.dot(A[i, i+1:], x[i+1:])\n",
    "            x_new[i] = (b[i] - sum_term) / A[i, i]\n",
    "        \n",
    "        x = np.copy(x_new)\n",
    "    \n",
    "    return x\n"
   ]
  },
  {
   "cell_type": "code",
   "execution_count": null,
   "id": "f3bf82cf",
   "metadata": {},
   "outputs": [],
   "source": []
  },
  {
   "cell_type": "code",
   "execution_count": 2,
   "id": "6f660d57",
   "metadata": {},
   "outputs": [
    {
     "name": "stdout",
     "output_type": "stream",
     "text": [
      "Solution: [2 1]\n"
     ]
    }
   ],
   "source": [
    "A = np.array([[2, 1],\n",
    "              [1, -3]])\n",
    "\n",
    "b = np.array([5, -2])\n",
    "\n",
    "x0 = np.array([0, 0])\n",
    "\n",
    "max_iterations = 100\n",
    "\n",
    "solution = jacobi_method(A, b, x0, max_iterations)\n",
    "\n",
    "print(\"Solution:\", solution)\n"
   ]
  },
  {
   "cell_type": "markdown",
   "id": "58ec24e1",
   "metadata": {},
   "source": [
    "In this example, we define the matrix A and the vector b corresponding to the system of equations. We set an initial guess x0 and specify a maximum number of iterations. The jacobi_method function is called with these inputs, and the resulting solution is printed.\n",
    "\n",
    "**Note that this implementation uses the NumPy library for array operations and assumes that the input matrices and vectors are NumPy arrays."
   ]
  },
  {
   "cell_type": "markdown",
   "id": "c6c9a5e8",
   "metadata": {},
   "source": [
    "# np.copy()"
   ]
  },
  {
   "cell_type": "code",
   "execution_count": 3,
   "id": "0f3f3da0",
   "metadata": {},
   "outputs": [
    {
     "name": "stdout",
     "output_type": "stream",
     "text": [
      "Original array: [1 2 3 4 5]\n",
      "Modified array: [10  2  3  4  5]\n"
     ]
    }
   ],
   "source": [
    "import numpy as np\n",
    "\n",
    "# Original array\n",
    "x = np.array([1, 2, 3, 4, 5])\n",
    "\n",
    "# Copy the array using np.copy()\n",
    "y = np.copy(x)\n",
    "\n",
    "# Modify the copy\n",
    "y[0] = 10\n",
    "\n",
    "# Print the original and modified arrays\n",
    "print(\"Original array:\", x)\n",
    "print(\"Modified array:\", y)\n"
   ]
  },
  {
   "cell_type": "markdown",
   "id": "ca981e87",
   "metadata": {},
   "source": [
    "# zeros_like()"
   ]
  },
  {
   "cell_type": "markdown",
   "id": "f8d80040",
   "metadata": {},
   "source": [
    "**zeros_like() is a function provided by NumPy that creates an array of zeros with the same shape and data type as a given input array."
   ]
  },
  {
   "cell_type": "code",
   "execution_count": 4,
   "id": "9c8df983",
   "metadata": {},
   "outputs": [
    {
     "name": "stdout",
     "output_type": "stream",
     "text": [
      "[0 0 0 0 0]\n"
     ]
    }
   ],
   "source": [
    "import numpy as np\n",
    "\n",
    "# Create an input array\n",
    "x = np.array([1, 2, 3, 4, 5])\n",
    "\n",
    "# Create an array of zeros with the same shape as x\n",
    "y = np.zeros_like(x)\n",
    "\n",
    "# Print the array of zeros\n",
    "print(y)\n"
   ]
  },
  {
   "cell_type": "code",
   "execution_count": null,
   "id": "9d44da1d",
   "metadata": {},
   "outputs": [],
   "source": []
  }
 ],
 "metadata": {
  "kernelspec": {
   "display_name": "Python 3 (ipykernel)",
   "language": "python",
   "name": "python3"
  },
  "language_info": {
   "codemirror_mode": {
    "name": "ipython",
    "version": 3
   },
   "file_extension": ".py",
   "mimetype": "text/x-python",
   "name": "python",
   "nbconvert_exporter": "python",
   "pygments_lexer": "ipython3",
   "version": "3.9.7"
  }
 },
 "nbformat": 4,
 "nbformat_minor": 5
}
