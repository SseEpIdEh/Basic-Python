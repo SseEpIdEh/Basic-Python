{
 "cells": [
  {
   "cell_type": "markdown",
   "id": "c65a4946",
   "metadata": {},
   "source": [
    "# Generators: they generate some outputs\n",
    "\n",
    "\n",
    "jalebtaring features in python, maghadireshon dar lahze tolid mishe, tolid konande, yek seri output tolid mikonand."
   ]
  },
  {
   "cell_type": "markdown",
   "id": "e3a9179b",
   "metadata": {},
   "source": [
    "# what is the main reason of using Generators:\n",
    "\n",
    "\n",
    "Generators in Python are used to create iterators, which are objects that can be iterated (looped) over. The main reason for using generators in Python is to generate a sequence of values on the fly, without having to store them all in memory at once.\n",
    "\n",
    "When using generators, each value in the sequence is generated on-the-fly as it is needed, and then discarded from memory once it has been used. This can be especially useful when working with large datasets or when generating an infinite sequence of values.\n",
    "\n",
    "Generators are defined using a special syntax in Python, which involves using the yield keyword instead of the return keyword. This allows the function to return a value, but also to retain its state between calls, so that it can continue generating values in a sequence.\n",
    "\n",
    "Overall, generators provide a more memory-efficient and flexible way to generate sequences of values in Python."
   ]
  },
  {
   "cell_type": "markdown",
   "id": "69d7f83a",
   "metadata": {},
   "source": [
    "# we can every function turn into generator?\n",
    "\n",
    "\n",
    "Technically, you can turn any function into a generator in Python by using the yield keyword instead of return to generate a sequence of values on-the-fly. However, not all functions are well-suited to be implemented as generators.\n",
    "\n",
    "In general, functions that are well-suited to be implemented as generators are those that produce a sequence of values that can be generated incrementally. For example, if you have a function that generates a sequence of random numbers, you could use a generator to generate each number in the sequence as it is needed, rather than generating all of the numbers at once and storing them in memory.\n",
    "\n",
    "On the other hand, functions that produce a single value or that perform a specific action and then terminate are generally not well-suited to be implemented as generators. In these cases, it may be more appropriate to use a regular function that returns a value or performs an action and then terminates.\n",
    "\n",
    "In summary, while it is technically possible to turn any function into a generator, the suitability of a function for implementation as a generator depends on the nature of the sequence of values it produces and whether it can be generated incrementally."
   ]
  },
  {
   "cell_type": "markdown",
   "id": "d98aae51",
   "metadata": {},
   "source": [
    "# if i want to stored them...? \n",
    "\n",
    "If you need to keep the data produced by a generator and use it later, you have a few options:\n",
    "\n",
    "Convert the generator to a list: You can convert the generator to a list using the list() function, which will generate all the values in the sequence and store them in memory as a list. This will allow you to access and use the values later, but it will also use up memory to store the list.\n",
    "\n",
    "Write the data to a file or database: Instead of storing the data in memory, you can write it to a file or database as the generator produces it. This allows you to access the data later without using up memory to store it.\n",
    "\n",
    "Use a caching mechanism: You can use a caching mechanism, such as the functools.lru_cache() decorator, to cache the results of a generator. This allows you to re-use the results later without having to re-generate them, while also limiting the memory usage by storing only the most recently accessed results.\n",
    "\n",
    "It's important to note that generators are designed to be memory-efficient, so if you need to store the entire sequence of values in memory, a generator may not be the best choice. In such cases, a regular list or array may be more appropriate."
   ]
  },
  {
   "cell_type": "markdown",
   "id": "b3450bf1",
   "metadata": {},
   "source": [
    "# Generators in Python can be useful in a wide range of projects and applications. Here are some examples:\n",
    "\n",
    "Processing large datasets: If you're working with large datasets that don't fit into memory, generators can be used to generate and process the data in chunks, one at a time, without having to load the entire dataset into memory.\n",
    "\n",
    "Web scraping: When scraping data from websites, generators can be used to iterate over the pages of the website, generating the HTML for each page on-the-fly, rather than loading all of the pages into memory at once.\n",
    "\n",
    "Image processing: When processing large images, generators can be used to generate and process the image data in small blocks, one at a time, without having to load the entire image into memory at once.\n",
    "\n",
    "Data pipelines: Generators can be used to create data pipelines, where data is generated by one generator, processed by another, and then passed on to another generator for further processing. This can be useful for building complex data processing workflows.\n",
    "\n",
    "Stream processing: In stream processing applications, where data is continuously generated and processed in real-time, generators can be used to generate and process data streams on-the-fly, without having to store all of the data in memory at once.\n",
    "\n",
    "Overall, generators can be used in any project where you need to generate a sequence of values on-the-fly, one at a time, without having to store the entire sequence in memory at once."
   ]
  },
  {
   "cell_type": "code",
   "execution_count": null,
   "id": "59ce0da7",
   "metadata": {},
   "outputs": [],
   "source": [
    "for i in [1,2,3]:\n",
    "    print(i)\n",
    "# *** [1,2,3] is a list az ghabl save shode ast (memory bishter use mishe wa speed list az generator bishtar ast)   but \n",
    " for i in range(1,4):\n",
    "        print(i)\n",
    "#*** range(1,4)  is a generator(memory kamtari use mishe) ast wa dar lahze tolid mishe"
   ]
  },
  {
   "cell_type": "code",
   "execution_count": 1,
   "id": "94b6e386",
   "metadata": {},
   "outputs": [],
   "source": [
    "def repeat():\n",
    "    return 1\n",
    "\n",
    "#**functions are iterable"
   ]
  },
  {
   "cell_type": "code",
   "execution_count": 2,
   "id": "76204287",
   "metadata": {},
   "outputs": [
    {
     "data": {
      "text/plain": [
       "1"
      ]
     },
     "execution_count": 2,
     "metadata": {},
     "output_type": "execute_result"
    }
   ],
   "source": [
    "repeat()"
   ]
  },
  {
   "cell_type": "code",
   "execution_count": 3,
   "id": "37c1ca73",
   "metadata": {},
   "outputs": [
    {
     "ename": "TypeError",
     "evalue": "'int' object is not iterable",
     "output_type": "error",
     "traceback": [
      "\u001b[1;31m---------------------------------------------------------------------------\u001b[0m",
      "\u001b[1;31mTypeError\u001b[0m                                 Traceback (most recent call last)",
      "\u001b[1;32m~\\AppData\\Local\\Temp/ipykernel_13196/2494263815.py\u001b[0m in \u001b[0;36m<module>\u001b[1;34m\u001b[0m\n\u001b[1;32m----> 1\u001b[1;33m \u001b[1;32mfor\u001b[0m \u001b[0mi\u001b[0m \u001b[1;32min\u001b[0m \u001b[0mrepeat\u001b[0m\u001b[1;33m(\u001b[0m\u001b[1;33m)\u001b[0m\u001b[1;33m:\u001b[0m\u001b[1;33m\u001b[0m\u001b[1;33m\u001b[0m\u001b[0m\n\u001b[0m\u001b[0;32m      2\u001b[0m     \u001b[0mprint\u001b[0m\u001b[1;33m(\u001b[0m\u001b[0mi\u001b[0m\u001b[1;33m)\u001b[0m\u001b[1;33m\u001b[0m\u001b[1;33m\u001b[0m\u001b[0m\n",
      "\u001b[1;31mTypeError\u001b[0m: 'int' object is not iterable"
     ]
    }
   ],
   "source": [
    "for i in repeat():\n",
    "    print(i)\n",
    "    \n",
    "# because the output is integer , so it is not iterable   ('int' object is not iterable)"
   ]
  },
  {
   "cell_type": "code",
   "execution_count": 4,
   "id": "e8273b4f",
   "metadata": {},
   "outputs": [
    {
     "ename": "TypeError",
     "evalue": "'function' object is not iterable",
     "output_type": "error",
     "traceback": [
      "\u001b[1;31m---------------------------------------------------------------------------\u001b[0m",
      "\u001b[1;31mTypeError\u001b[0m                                 Traceback (most recent call last)",
      "\u001b[1;32m~\\AppData\\Local\\Temp/ipykernel_13196/1530103901.py\u001b[0m in \u001b[0;36m<module>\u001b[1;34m\u001b[0m\n\u001b[1;32m----> 1\u001b[1;33m \u001b[1;32mfor\u001b[0m \u001b[0mi\u001b[0m \u001b[1;32min\u001b[0m \u001b[0mrepeat\u001b[0m\u001b[1;33m:\u001b[0m\u001b[1;33m\u001b[0m\u001b[1;33m\u001b[0m\u001b[0m\n\u001b[0m\u001b[0;32m      2\u001b[0m     \u001b[0mprint\u001b[0m\u001b[1;33m(\u001b[0m\u001b[0mi\u001b[0m\u001b[1;33m)\u001b[0m\u001b[1;33m\u001b[0m\u001b[1;33m\u001b[0m\u001b[0m\n",
      "\u001b[1;31mTypeError\u001b[0m: 'function' object is not iterable"
     ]
    }
   ],
   "source": [
    "for i in repeat:\n",
    "    print(i)\n",
    "    \n",
    "#dar inja function ro call kardim ama baz error dad ke (Function object is not iterable ) ,function az jense iterable nist.  "
   ]
  },
  {
   "cell_type": "markdown",
   "id": "7d8a57c8",
   "metadata": {},
   "source": [
    "# yield()"
   ]
  },
  {
   "cell_type": "code",
   "execution_count": 9,
   "id": "d1cf0075",
   "metadata": {},
   "outputs": [
    {
     "name": "stdout",
     "output_type": "stream",
     "text": [
      "1\n"
     ]
    }
   ],
   "source": [
    "def repeat():\n",
    "    yield 1\n",
    "for i in repeat():\n",
    "    print(i)\n",
    "    "
   ]
  },
  {
   "cell_type": "code",
   "execution_count": 11,
   "id": "d4d543a7",
   "metadata": {},
   "outputs": [
    {
     "name": "stdout",
     "output_type": "stream",
     "text": [
      "1\n",
      "1\n",
      "1\n"
     ]
    }
   ],
   "source": [
    "def repeat():\n",
    "    yield 1\n",
    "    yield 1\n",
    "    yield 1\n",
    "for i in repeat():\n",
    "    print(i)    \n",
    "    "
   ]
  },
  {
   "cell_type": "code",
   "execution_count": null,
   "id": "74a175f1",
   "metadata": {},
   "outputs": [],
   "source": [
    "#def repeat():\n",
    "    #while True:\n",
    "        #yield 1\n",
    "# agar in code ro run konam ta infinitely keep going        "
   ]
  },
  {
   "cell_type": "code",
   "execution_count": 15,
   "id": "d3e96d1c",
   "metadata": {},
   "outputs": [
    {
     "name": "stdout",
     "output_type": "stream",
     "text": [
      "0 1 2 3 4 5 6 7 8 9 10 11 "
     ]
    }
   ],
   "source": [
    "def counter():\n",
    "    i=0\n",
    "    while True:\n",
    "        yield i\n",
    "        i+=1\n",
    "for i in counter():\n",
    "    print(i, end=\" \")\n",
    "    if i>10:\n",
    "        break\n",
    "# counter is a function but there is no return, it turned into a  function generator     "
   ]
  },
  {
   "cell_type": "code",
   "execution_count": 16,
   "id": "2afd429c",
   "metadata": {},
   "outputs": [
    {
     "ename": "TypeError",
     "evalue": "'int' object is not iterable",
     "output_type": "error",
     "traceback": [
      "\u001b[1;31m---------------------------------------------------------------------------\u001b[0m",
      "\u001b[1;31mTypeError\u001b[0m                                 Traceback (most recent call last)",
      "\u001b[1;32m~\\AppData\\Local\\Temp/ipykernel_13196/1956474315.py\u001b[0m in \u001b[0;36m<module>\u001b[1;34m\u001b[0m\n\u001b[0;32m      4\u001b[0m         \u001b[1;32mreturn\u001b[0m \u001b[0mi\u001b[0m\u001b[1;33m\u001b[0m\u001b[1;33m\u001b[0m\u001b[0m\n\u001b[0;32m      5\u001b[0m         \u001b[0mi\u001b[0m\u001b[1;33m+=\u001b[0m\u001b[1;36m1\u001b[0m\u001b[1;33m\u001b[0m\u001b[1;33m\u001b[0m\u001b[0m\n\u001b[1;32m----> 6\u001b[1;33m \u001b[1;32mfor\u001b[0m \u001b[0mi\u001b[0m \u001b[1;32min\u001b[0m \u001b[0mcounter\u001b[0m\u001b[1;33m(\u001b[0m\u001b[1;33m)\u001b[0m\u001b[1;33m:\u001b[0m\u001b[1;33m\u001b[0m\u001b[1;33m\u001b[0m\u001b[0m\n\u001b[0m\u001b[0;32m      7\u001b[0m     \u001b[0mprint\u001b[0m\u001b[1;33m(\u001b[0m\u001b[0mi\u001b[0m\u001b[1;33m,\u001b[0m \u001b[0mend\u001b[0m\u001b[1;33m=\u001b[0m\u001b[1;34m\" \"\u001b[0m\u001b[1;33m)\u001b[0m\u001b[1;33m\u001b[0m\u001b[1;33m\u001b[0m\u001b[0m\n\u001b[0;32m      8\u001b[0m     \u001b[1;32mif\u001b[0m \u001b[0mi\u001b[0m\u001b[1;33m>\u001b[0m\u001b[1;36m10\u001b[0m\u001b[1;33m:\u001b[0m\u001b[1;33m\u001b[0m\u001b[1;33m\u001b[0m\u001b[0m\n",
      "\u001b[1;31mTypeError\u001b[0m: 'int' object is not iterable"
     ]
    }
   ],
   "source": [
    "def counter():\n",
    "    i=0\n",
    "    while True:\n",
    "        return i\n",
    "        i+=1\n",
    "for i in counter():\n",
    "    print(i, end=\" \")\n",
    "    if i>10:\n",
    "        break"
   ]
  },
  {
   "cell_type": "code",
   "execution_count": 4,
   "id": "47670c8a",
   "metadata": {},
   "outputs": [
    {
     "name": "stdout",
     "output_type": "stream",
     "text": [
      "0 1 2 3 4 5 6 7 8 "
     ]
    }
   ],
   "source": [
    "def counter(start=0, stop=10,step=1):\n",
    "    i=start\n",
    "    while True:\n",
    "        yield i\n",
    "        i+=step\n",
    "        if i>=stop:\n",
    "            break\n",
    "            \n",
    "for i in counter(0,9,1):\n",
    "    print(i, end=\" \")\n",
    "    "
   ]
  },
  {
   "cell_type": "code",
   "execution_count": 15,
   "id": "4a5260b4",
   "metadata": {},
   "outputs": [
    {
     "name": "stdout",
     "output_type": "stream",
     "text": [
      "1 1 2 3 5 8 13 21 34 55 89 144 "
     ]
    }
   ],
   "source": [
    "def fibonacci():\n",
    "    a,b=1,1\n",
    "    while True:\n",
    "        yield a\n",
    "        a,b= b, a+b\n",
    "for i in fibonacci():\n",
    "    \n",
    "    print(i,end=\" \")\n",
    "    if i>=100:\n",
    "        break"
   ]
  },
  {
   "cell_type": "code",
   "execution_count": 2,
   "id": "77224d4e",
   "metadata": {},
   "outputs": [
    {
     "name": "stdout",
     "output_type": "stream",
     "text": [
      "F[1]=1 F[2]=1 F[3]=2 F[4]=3 F[5]=5 F[6]=8 F[7]=13 F[8]=21 F[9]=34 F[10]=55 F[11]=89 "
     ]
    }
   ],
   "source": [
    "def fibonacci():\n",
    "    a,b=1,1\n",
    "    while True:\n",
    "        yield a\n",
    "        a,b= b, a+b\n",
    "for index,value in enumerate(fibonacci(), start=1):\n",
    "    if value>=100:\n",
    "        break\n",
    "          \n",
    "    print(f\"F[{index}]={value}\",end=\" \")"
   ]
  },
  {
   "cell_type": "code",
   "execution_count": 1,
   "id": "0d5d7e25",
   "metadata": {},
   "outputs": [
    {
     "name": "stdout",
     "output_type": "stream",
     "text": [
      "F[1]=0 F[2]=1 F[3]=3 F[4]=8 F[5]=21 F[6]=55 "
     ]
    }
   ],
   "source": [
    "def fibonacci():\n",
    "    a, b = 0, 1\n",
    "    while True:\n",
    "        yield a\n",
    "        a, b = b, a + b\n",
    "\n",
    "fib = fibonacci()\n",
    "for index, (value1, value2) in enumerate(zip(fib, fib), start=1):\n",
    "    if value1 >= 100:\n",
    "        break\n",
    "    print(f\"F[{index}]={value1}\", end=\" \")\n"
   ]
  },
  {
   "cell_type": "code",
   "execution_count": 1,
   "id": "833584ca",
   "metadata": {},
   "outputs": [
    {
     "name": "stdout",
     "output_type": "stream",
     "text": [
      "[(1, 1), (2, 3), (5, 8), (13, 21), (34, 55), (89, 144), (233, 377), (610, 987), (1597, 2584), (4181, 6765)]\n",
      "[(1, 1), (2, 3), (5, 8), (13, 21), (34, 55), (89, 144), (233, 377), (610, 987), (1597, 2584), (4181, 6765)]\n",
      "[(1, 1), (2, 3), (5, 8), (13, 21), (34, 55), (89, 144), (233, 377), (610, 987), (1597, 2584), (4181, 6765)]\n"
     ]
    }
   ],
   "source": [
    "def fibonacci():\n",
    "    a, b = 1, 1\n",
    "    while True:\n",
    "        yield a\n",
    "        a, b = b, a + b\n",
    "\n",
    "fib = fibonacci()\n",
    "fib_pairs = [(next(fib), next(fib)) for i in range(10)]\n",
    "print(fib_pairs)\n"
   ]
  },
  {
   "cell_type": "code",
   "execution_count": 52,
   "id": "0c5bd08f",
   "metadata": {},
   "outputs": [
    {
     "name": "stdout",
     "output_type": "stream",
     "text": [
      "first result is 1\n",
      "second result is 2\n"
     ]
    },
    {
     "data": {
      "text/plain": [
       "2"
      ]
     },
     "execution_count": 52,
     "metadata": {},
     "output_type": "execute_result"
    }
   ],
   "source": [
    "def generator():\n",
    "    t= 1\n",
    "    print('first result is',t)\n",
    "    yield t\n",
    "    \n",
    "    t+=1\n",
    "    print('second result is',t)\n",
    "    yield t\n",
    "    \n",
    "call=generator()\n",
    "next(call)\n",
    "next(call)\n",
    "\n"
   ]
  },
  {
   "cell_type": "code",
   "execution_count": 53,
   "id": "dab2967a",
   "metadata": {},
   "outputs": [
    {
     "name": "stdout",
     "output_type": "stream",
     "text": [
      "first result is 1\n"
     ]
    },
    {
     "ename": "TypeError",
     "evalue": "'int' object is not an iterator",
     "output_type": "error",
     "traceback": [
      "\u001b[1;31m---------------------------------------------------------------------------\u001b[0m",
      "\u001b[1;31mTypeError\u001b[0m                                 Traceback (most recent call last)",
      "\u001b[1;32m~\\AppData\\Local\\Temp/ipykernel_23900/591114151.py\u001b[0m in \u001b[0;36m<module>\u001b[1;34m\u001b[0m\n\u001b[0;32m      9\u001b[0m \u001b[1;33m\u001b[0m\u001b[0m\n\u001b[0;32m     10\u001b[0m \u001b[0mcall\u001b[0m\u001b[1;33m=\u001b[0m\u001b[0mgenerator\u001b[0m\u001b[1;33m(\u001b[0m\u001b[1;33m)\u001b[0m\u001b[1;33m\u001b[0m\u001b[1;33m\u001b[0m\u001b[0m\n\u001b[1;32m---> 11\u001b[1;33m \u001b[0mnext\u001b[0m\u001b[1;33m(\u001b[0m\u001b[0mcall\u001b[0m\u001b[1;33m)\u001b[0m\u001b[1;33m\u001b[0m\u001b[1;33m\u001b[0m\u001b[0m\n\u001b[0m\u001b[0;32m     12\u001b[0m \u001b[0mnext\u001b[0m\u001b[1;33m(\u001b[0m\u001b[0mcall\u001b[0m\u001b[1;33m)\u001b[0m\u001b[1;33m\u001b[0m\u001b[1;33m\u001b[0m\u001b[0m\n",
      "\u001b[1;31mTypeError\u001b[0m: 'int' object is not an iterator"
     ]
    }
   ],
   "source": [
    "def generator():\n",
    "    t= 1\n",
    "    print('first result is',t)\n",
    "    return t\n",
    "    \n",
    "    t+=1\n",
    "    print('second result is',t)\n",
    "    return t\n",
    "    \n",
    "call=generator()\n",
    "next(call)\n",
    "next(call)\n"
   ]
  },
  {
   "cell_type": "markdown",
   "id": "97c60c54",
   "metadata": {},
   "source": [
    "# generators conceptually(mafhumi) comprehensive"
   ]
  },
  {
   "cell_type": "code",
   "execution_count": 5,
   "id": "6cfa083a",
   "metadata": {},
   "outputs": [
    {
     "data": {
      "text/plain": [
       "[0, 1, 4, 9, 16, 25, 36, 49, 64, 81]"
      ]
     },
     "execution_count": 5,
     "metadata": {},
     "output_type": "execute_result"
    }
   ],
   "source": [
    "[x**2 for x in range(10)]\n",
    "\n",
    "# it produced already\n",
    "#memory more spaces and faster"
   ]
  },
  {
   "cell_type": "code",
   "execution_count": 6,
   "id": "549c7861",
   "metadata": {},
   "outputs": [
    {
     "data": {
      "text/plain": [
       "<generator object <genexpr> at 0x0000021489D2D6D0>"
      ]
     },
     "execution_count": 6,
     "metadata": {},
     "output_type": "execute_result"
    }
   ],
   "source": [
    "(x**2 for x in range(10))\n",
    "\n",
    "#dar lahze tolid mikond(produce instantly)\n",
    "#it is a generator expression\n",
    "#its speed is low"
   ]
  },
  {
   "cell_type": "code",
   "execution_count": null,
   "id": "abf13c90",
   "metadata": {},
   "outputs": [],
   "source": [
    "#Question: generate one (1) ten times?"
   ]
  },
  {
   "cell_type": "code",
   "execution_count": 14,
   "id": "83cf26d3",
   "metadata": {},
   "outputs": [
    {
     "data": {
      "text/plain": [
       "<generator object <genexpr> at 0x0000021489D5A190>"
      ]
     },
     "execution_count": 14,
     "metadata": {},
     "output_type": "execute_result"
    }
   ],
   "source": [
    "(1 for j in range(10))\n",
    "#print(i,end=\" \")"
   ]
  },
  {
   "cell_type": "code",
   "execution_count": 15,
   "id": "5279ef66",
   "metadata": {},
   "outputs": [
    {
     "name": "stdout",
     "output_type": "stream",
     "text": [
      "1 1 1 "
     ]
    }
   ],
   "source": [
    "for i in (1 for j in range(3)):   #three time(range(3))\n",
    "        print(i,end=\" \")\n",
    "        \n",
    "#it is a generator but as a comprehensive ,in pervious we generate functions as a generator with yield\n",
    "    \n"
   ]
  },
  {
   "cell_type": "code",
   "execution_count": 19,
   "id": "399368ca",
   "metadata": {},
   "outputs": [],
   "source": [
    "A=range(5)\n",
    "B=(x**2 for x in A)\n",
    "C=(x**2-x for x in A)\n",
    "D=((x,y) for x,y in zip(B,C))\n",
    "\n",
    "# all of the are generator expresion but after calling list "
   ]
  },
  {
   "cell_type": "code",
   "execution_count": 20,
   "id": "0897d60b",
   "metadata": {},
   "outputs": [
    {
     "data": {
      "text/plain": [
       "[(0, 0), (1, 0), (4, 2), (9, 6), (16, 12)]"
      ]
     },
     "execution_count": 20,
     "metadata": {},
     "output_type": "execute_result"
    }
   ],
   "source": [
    "list(D)"
   ]
  },
  {
   "cell_type": "code",
   "execution_count": 54,
   "id": "37944dd3",
   "metadata": {},
   "outputs": [
    {
     "name": "stdout",
     "output_type": "stream",
     "text": [
      "['g', 'e', 'e', 'k']\n"
     ]
    }
   ],
   "source": [
    "string='geek'\n",
    "\n",
    "l=list(string[i] for i in range(len(string)))\n",
    "print(l)"
   ]
  },
  {
   "cell_type": "code",
   "execution_count": 55,
   "id": "f393fd8e",
   "metadata": {},
   "outputs": [
    {
     "name": "stdout",
     "output_type": "stream",
     "text": [
      "['k', 'e', 'e', 'g']\n"
     ]
    }
   ],
   "source": [
    "string='geek'\n",
    "l=list(string[i] for i in range(len(string)-1,-1,-1))\n",
    "print(l)"
   ]
  },
  {
   "cell_type": "markdown",
   "id": "7baf281d",
   "metadata": {},
   "source": [
    "# generators as a class:"
   ]
  },
  {
   "cell_type": "code",
   "execution_count": 47,
   "id": "c211a011",
   "metadata": {},
   "outputs": [
    {
     "name": "stdout",
     "output_type": "stream",
     "text": [
      "0 2 4 6 8 10 12 14 16 18 "
     ]
    }
   ],
   "source": [
    "class counter:\n",
    "    \n",
    "    def __init__(self,start=0, stop=10, step=1):\n",
    "        \n",
    "        self.start=start\n",
    "        self.stop=stop\n",
    "        self.step=step\n",
    "        self.value=self.start\n",
    "        \n",
    "    def __iter__(self):\n",
    "        \n",
    "        return self\n",
    "    \n",
    "    def __next__(self):\n",
    "        \n",
    "        old_value= self.value\n",
    "        self.value += self.step\n",
    "        if old_value>= self.stop:\n",
    "                raise StopIteration()\n",
    "        return old_value\n",
    "    \n",
    "for i in counter(0,20,2):\n",
    "    print(i,end=\" \")\n",
    "    "
   ]
  },
  {
   "cell_type": "markdown",
   "id": "53686f6d",
   "metadata": {},
   "source": [
    "# In Python, a class is\n",
    "**like a blueprint or template for creating objects. A class defines the attributes (data) and methods (behaviors) that an object will have. When you create an object from a class, it is called an instance of that class. Each instance of a class has its own set of attributes and can perform its own set of methods.\n",
    "\n",
    "**Classes are useful for representing real-world entities or concepts in our code. For example, if we were building a program to manage a library, we might create a class called Book that has attributes like title, author, and isbn, and methods like check_out() and check_in(). We could then create instances of the Book class to represent individual books in the library.\n",
    "\n",
    "**Overall, classes allow us to encapsulate data and behavior into a single entity, which makes our code more organized and easier to manage. By creating instances of a class, we can interact with real, executable objects in our code."
   ]
  },
  {
   "cell_type": "markdown",
   "id": "e557e37d",
   "metadata": {},
   "source": [
    "***When we say that functions are useful for performing abstract operations, we mean that they allow us to group a set of instructions together that perform a specific task without having to worry about the details of how those instructions work. We can think of a function as a black box that takes some inputs, performs some operation on those inputs, and returns some output. We don't necessarily need to know how the function works internally, we just need to know what inputs it takes and what output it produces.\n",
    "Functions also promote code reuse, which means that we can use the same function in different parts of our program without having to write the same code multiple times. \n",
    "# For example, \n",
    "if we have a function that calculates the average of a list of numbers, we can use that function in different parts of our program whenever we need to calculate an average, rather than having to write the code to calculate the average from scratch every time we need it\n",
    "\n",
    "**functions are a powerful tool in Python because they allow us to abstract away the details of how code works and promote code reuse, which makes our code more modular and easier to maintain."
   ]
  },
  {
   "cell_type": "markdown",
   "id": "9088f841",
   "metadata": {},
   "source": [
    "# To decide whether to use a function or a class, \n",
    "think about the problem you're trying to solve. If you're performing an abstract operation or promoting code reuse, a function might be the right choice. If you're representing a real-world entity or concept with attributes and behaviors, a class might be the right choice.\n",
    "\n",
    "For example, if you're building a calculator program, you might use functions to perform operations like addition, subtraction, multiplication, and division. But if you're building a program to manage a library, you might use classes to represent entities like books, patrons, and transactions."
   ]
  },
  {
   "cell_type": "markdown",
   "id": "4bc6bb7b",
   "metadata": {},
   "source": [
    "# Ckeck proccessing speed and required memory:       season 13"
   ]
  },
  {
   "cell_type": "code",
   "execution_count": null,
   "id": "515caf79",
   "metadata": {},
   "outputs": [],
   "source": [
    "#Generators have less speed , it needs to have less memory"
   ]
  },
  {
   "cell_type": "code",
   "execution_count": 32,
   "id": "12ed11fa",
   "metadata": {},
   "outputs": [],
   "source": [
    "from sys import getsizeof"
   ]
  },
  {
   "cell_type": "code",
   "execution_count": 33,
   "id": "dc1bb294",
   "metadata": {},
   "outputs": [],
   "source": [
    "B=[x**2 for x in range(100000)]"
   ]
  },
  {
   "cell_type": "code",
   "execution_count": 34,
   "id": "29f09bc5",
   "metadata": {},
   "outputs": [],
   "source": [
    "A=(x**4 for x in range(100000))"
   ]
  },
  {
   "cell_type": "code",
   "execution_count": 35,
   "id": "52334d3e",
   "metadata": {},
   "outputs": [
    {
     "data": {
      "text/plain": [
       "112"
      ]
     },
     "execution_count": 35,
     "metadata": {},
     "output_type": "execute_result"
    }
   ],
   "source": [
    "getsizeof(A)"
   ]
  },
  {
   "cell_type": "code",
   "execution_count": 36,
   "id": "bd95fcd2",
   "metadata": {},
   "outputs": [
    {
     "data": {
      "text/plain": [
       "800984"
      ]
     },
     "execution_count": 36,
     "metadata": {},
     "output_type": "execute_result"
    }
   ],
   "source": [
    "getsizeof(B)"
   ]
  },
  {
   "cell_type": "code",
   "execution_count": 20,
   "id": "df0a9d75",
   "metadata": {},
   "outputs": [
    {
     "data": {
      "text/plain": [
       "760.5"
      ]
     },
     "execution_count": 20,
     "metadata": {},
     "output_type": "execute_result"
    }
   ],
   "source": [
    "getsizeof(A)/ getsizeof(B)     #760 barabar dare estefade mikone"
   ]
  },
  {
   "cell_type": "code",
   "execution_count": null,
   "id": "eefac018",
   "metadata": {},
   "outputs": [],
   "source": [
    "#if you use less memory , while you use less speed    no free lunch!"
   ]
  },
  {
   "cell_type": "code",
   "execution_count": 38,
   "id": "98335d7c",
   "metadata": {},
   "outputs": [
    {
     "data": {
      "text/plain": [
       "333328333350000"
      ]
     },
     "execution_count": 38,
     "metadata": {},
     "output_type": "execute_result"
    }
   ],
   "source": [
    "sum([x**2 for x in range(100000)])                      # with list  we call it"
   ]
  },
  {
   "cell_type": "code",
   "execution_count": 39,
   "id": "d068bfb4",
   "metadata": {},
   "outputs": [
    {
     "data": {
      "text/plain": [
       "333328333350000"
      ]
     },
     "execution_count": 39,
     "metadata": {},
     "output_type": "execute_result"
    }
   ],
   "source": [
    "sum(x**2 for x in range(100000))        #it has less speed      # with generator"
   ]
  },
  {
   "cell_type": "markdown",
   "id": "fc23cc76",
   "metadata": {},
   "source": [
    "# reporting the functions      cProfiles"
   ]
  },
  {
   "cell_type": "code",
   "execution_count": 40,
   "id": "f8c6a487",
   "metadata": {},
   "outputs": [],
   "source": [
    "import cProfile"
   ]
  },
  {
   "cell_type": "code",
   "execution_count": 43,
   "id": "0dba8f3e",
   "metadata": {},
   "outputs": [
    {
     "name": "stdout",
     "output_type": "stream",
     "text": [
      "         5 function calls in 0.028 seconds\n",
      "\n",
      "   Ordered by: standard name\n",
      "\n",
      "   ncalls  tottime  percall  cumtime  percall filename:lineno(function)\n",
      "        1    0.026    0.026    0.026    0.026 <string>:1(<listcomp>)\n",
      "        1    0.001    0.001    0.028    0.028 <string>:1(<module>)\n",
      "        1    0.000    0.000    0.028    0.028 {built-in method builtins.exec}\n",
      "        1    0.002    0.002    0.002    0.002 {built-in method builtins.sum}\n",
      "        1    0.000    0.000    0.000    0.000 {method 'disable' of '_lsprof.Profiler' objects}\n",
      "\n",
      "\n"
     ]
    }
   ],
   "source": [
    "cProfile.run('sum([x**2 for x in range(100000)])')"
   ]
  },
  {
   "cell_type": "code",
   "execution_count": 44,
   "id": "eb3f1bc2",
   "metadata": {},
   "outputs": [
    {
     "name": "stdout",
     "output_type": "stream",
     "text": [
      "         100005 function calls in 0.036 seconds\n",
      "\n",
      "   Ordered by: standard name\n",
      "\n",
      "   ncalls  tottime  percall  cumtime  percall filename:lineno(function)\n",
      "   100001    0.027    0.000    0.027    0.000 <string>:1(<genexpr>)\n",
      "        1    0.000    0.000    0.036    0.036 <string>:1(<module>)\n",
      "        1    0.000    0.000    0.036    0.036 {built-in method builtins.exec}\n",
      "        1    0.009    0.009    0.036    0.036 {built-in method builtins.sum}\n",
      "        1    0.000    0.000    0.000    0.000 {method 'disable' of '_lsprof.Profiler' objects}\n",
      "\n",
      "\n"
     ]
    }
   ],
   "source": [
    "cProfile.run('sum(x**2 for x in range(100000))')"
   ]
  },
  {
   "cell_type": "code",
   "execution_count": null,
   "id": "920da5a0",
   "metadata": {},
   "outputs": [],
   "source": []
  }
 ],
 "metadata": {
  "kernelspec": {
   "display_name": "Python 3 (ipykernel)",
   "language": "python",
   "name": "python3"
  },
  "language_info": {
   "codemirror_mode": {
    "name": "ipython",
    "version": 3
   },
   "file_extension": ".py",
   "mimetype": "text/x-python",
   "name": "python",
   "nbconvert_exporter": "python",
   "pygments_lexer": "ipython3",
   "version": "3.9.7"
  }
 },
 "nbformat": 4,
 "nbformat_minor": 5
}
