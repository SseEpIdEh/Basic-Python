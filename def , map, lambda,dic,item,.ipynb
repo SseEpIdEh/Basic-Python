{
 "cells": [
  {
   "cell_type": "code",
   "execution_count": 1,
   "id": "eaa8b2a5",
   "metadata": {},
   "outputs": [],
   "source": [
    "def square (num):\n",
    "    \"\"\"\n",
    "    this is a docstring.\n",
    "    can go multiple lines. \n",
    "    this function square a number\n",
    "    \"\"\"\n",
    "    return num**2"
   ]
  },
  {
   "cell_type": "code",
   "execution_count": 3,
   "id": "13e62493",
   "metadata": {},
   "outputs": [],
   "source": [
    "output=square(2)"
   ]
  },
  {
   "cell_type": "code",
   "execution_count": 4,
   "id": "2acfe041",
   "metadata": {},
   "outputs": [
    {
     "data": {
      "text/plain": [
       "4"
      ]
     },
     "execution_count": 4,
     "metadata": {},
     "output_type": "execute_result"
    }
   ],
   "source": [
    "output"
   ]
  },
  {
   "cell_type": "code",
   "execution_count": null,
   "id": "3aa29072",
   "metadata": {},
   "outputs": [],
   "source": [
    "square"
   ]
  },
  {
   "cell_type": "code",
   "execution_count": null,
   "id": "a4ea86e1",
   "metadata": {},
   "outputs": [],
   "source": [
    "#tab+shift  to show documentation"
   ]
  },
  {
   "cell_type": "code",
   "execution_count": 5,
   "id": "fd700976",
   "metadata": {},
   "outputs": [],
   "source": [
    "def times2(var):\n",
    "    return var*2"
   ]
  },
  {
   "cell_type": "code",
   "execution_count": 6,
   "id": "14090f25",
   "metadata": {},
   "outputs": [
    {
     "data": {
      "text/plain": [
       "18"
      ]
     },
     "execution_count": 6,
     "metadata": {},
     "output_type": "execute_result"
    }
   ],
   "source": [
    "times2(9)"
   ]
  },
  {
   "cell_type": "code",
   "execution_count": 7,
   "id": "43a80354",
   "metadata": {},
   "outputs": [],
   "source": [
    "#map  (double,x) # yani tabeh double ra royeh eleman list X negasht mikond, emal makonad\n",
    "#map without Liat we can not see its output"
   ]
  },
  {
   "cell_type": "code",
   "execution_count": 8,
   "id": "0a057e57",
   "metadata": {},
   "outputs": [],
   "source": [
    "seq=[2,3,4,5,6]"
   ]
  },
  {
   "cell_type": "code",
   "execution_count": 9,
   "id": "606ba6c6",
   "metadata": {},
   "outputs": [
    {
     "data": {
      "text/plain": [
       "[4, 6, 8, 10, 12]"
      ]
     },
     "execution_count": 9,
     "metadata": {},
     "output_type": "execute_result"
    }
   ],
   "source": [
    "list(map(times2,seq))"
   ]
  },
  {
   "cell_type": "code",
   "execution_count": null,
   "id": "5ef8f218",
   "metadata": {},
   "outputs": [],
   "source": [
    "#lambda  \n",
    "def f(n):\n",
    "    return n*2\n",
    "print(f(3))\n",
    "\n",
    "\n",
    "g=lambda n : n*2\n",
    "print(g(3))"
   ]
  },
  {
   "cell_type": "code",
   "execution_count": null,
   "id": "adb41e1d",
   "metadata": {},
   "outputs": [],
   "source": [
    "lst=['ali','reza']\n",
    "u=[]\n",
    "for i in lst:\n",
    "    x=i.upper()\n",
    "    u.append(x)\n",
    "print(u)            # ['ALI','REZA']   \n",
    "    \n",
    "    #== \n",
    "print(list(map(str.upper,lst)))      #  ['ALI','REZA']"
   ]
  },
  {
   "cell_type": "code",
   "execution_count": 16,
   "id": "8686f3b5",
   "metadata": {},
   "outputs": [
    {
     "name": "stdout",
     "output_type": "stream",
     "text": [
      "[('ali', 13), ('reza', 18)]\n",
      "<class 'list'>\n"
     ]
    }
   ],
   "source": [
    "name=['ali','reza']\n",
    "score=[13,18]\n",
    "print(list(zip(name,score)))   #zip yani section aval list ba section aval list badi\n",
    "print(list)\n",
    "  \n"
   ]
  },
  {
   "cell_type": "code",
   "execution_count": 17,
   "id": "7a08facb",
   "metadata": {},
   "outputs": [
    {
     "name": "stdout",
     "output_type": "stream",
     "text": [
      "[('ali', 13), ('reza', 18)]\n"
     ]
    }
   ],
   "source": [
    "print(list(map(lambda x, y :(x,y), name, score)))       #either use ZIP or map"
   ]
  },
  {
   "cell_type": "code",
   "execution_count": 35,
   "id": "53ab2b66",
   "metadata": {},
   "outputs": [],
   "source": [
    "seq=[1,2,3,4,5]"
   ]
  },
  {
   "cell_type": "code",
   "execution_count": 36,
   "id": "d5cd89fb",
   "metadata": {},
   "outputs": [
    {
     "data": {
      "text/plain": [
       "[False, True, False, True, False]"
      ]
     },
     "execution_count": 36,
     "metadata": {},
     "output_type": "execute_result"
    }
   ],
   "source": [
    "list(map(lambda num: num%2==0, seq))  "
   ]
  },
  {
   "cell_type": "code",
   "execution_count": null,
   "id": "f4a349ff",
   "metadata": {},
   "outputs": [],
   "source": []
  },
  {
   "cell_type": "code",
   "execution_count": 20,
   "id": "ad529139",
   "metadata": {},
   "outputs": [
    {
     "data": {
      "text/plain": [
       "[2, 4]"
      ]
     },
     "execution_count": 20,
     "metadata": {},
     "output_type": "execute_result"
    }
   ],
   "source": [
    "list(filter(lambda num: num%2==0, seq))"
   ]
  },
  {
   "cell_type": "code",
   "execution_count": 38,
   "id": "3edc39ee",
   "metadata": {},
   "outputs": [],
   "source": [
    "d={'k1':1,'k2':2}"
   ]
  },
  {
   "cell_type": "code",
   "execution_count": 39,
   "id": "42c309c2",
   "metadata": {},
   "outputs": [
    {
     "data": {
      "text/plain": [
       "{'k1': 1, 'k2': 2}"
      ]
     },
     "execution_count": 39,
     "metadata": {},
     "output_type": "execute_result"
    }
   ],
   "source": [
    "d"
   ]
  },
  {
   "cell_type": "code",
   "execution_count": 40,
   "id": "20a95248",
   "metadata": {},
   "outputs": [
    {
     "data": {
      "text/plain": [
       "dict_items([('k1', 1), ('k2', 2)])"
      ]
     },
     "execution_count": 40,
     "metadata": {},
     "output_type": "execute_result"
    }
   ],
   "source": [
    "d.items()"
   ]
  },
  {
   "cell_type": "code",
   "execution_count": 41,
   "id": "17e0b97e",
   "metadata": {},
   "outputs": [
    {
     "data": {
      "text/plain": [
       "dict_keys(['k1', 'k2'])"
      ]
     },
     "execution_count": 41,
     "metadata": {},
     "output_type": "execute_result"
    }
   ],
   "source": [
    "d.keys()\n"
   ]
  },
  {
   "cell_type": "markdown",
   "id": "ae2fa6ef",
   "metadata": {},
   "source": [
    "# items: just return dictionary items"
   ]
  },
  {
   "cell_type": "code",
   "execution_count": 42,
   "id": "2417a767",
   "metadata": {},
   "outputs": [
    {
     "data": {
      "text/plain": [
       "dict_items([('k1', 1), ('k2', 2)])"
      ]
     },
     "execution_count": 42,
     "metadata": {},
     "output_type": "execute_result"
    }
   ],
   "source": [
    "d.items()\n"
   ]
  },
  {
   "cell_type": "code",
   "execution_count": 43,
   "id": "f466ded2",
   "metadata": {},
   "outputs": [
    {
     "data": {
      "text/plain": [
       "dict_values([1, 2])"
      ]
     },
     "execution_count": 43,
     "metadata": {},
     "output_type": "execute_result"
    }
   ],
   "source": [
    "d.values()"
   ]
  },
  {
   "cell_type": "markdown",
   "id": "21038f37",
   "metadata": {},
   "source": [
    "# pop is for last item of list"
   ]
  },
  {
   "cell_type": "code",
   "execution_count": 48,
   "id": "96fd5c62",
   "metadata": {},
   "outputs": [],
   "source": [
    "lst=[1,2,3]\n"
   ]
  },
  {
   "cell_type": "code",
   "execution_count": 49,
   "id": "7df664c3",
   "metadata": {},
   "outputs": [
    {
     "data": {
      "text/plain": [
       "3"
      ]
     },
     "execution_count": 49,
     "metadata": {},
     "output_type": "execute_result"
    }
   ],
   "source": [
    "lst.pop()"
   ]
  },
  {
   "cell_type": "markdown",
   "id": "e4e22bdf",
   "metadata": {},
   "source": [
    "# we can pop an item off a list by calling pop and this will pop and return the last item int list "
   ]
  },
  {
   "cell_type": "code",
   "execution_count": 110,
   "id": "77724df3",
   "metadata": {},
   "outputs": [],
   "source": [
    "lst=[1,2,3,4,5]\n"
   ]
  },
  {
   "cell_type": "code",
   "execution_count": 111,
   "id": "fea333de",
   "metadata": {},
   "outputs": [],
   "source": [
    "item=lst.pop()                    #calling pop     #napadid shodan"
   ]
  },
  {
   "cell_type": "code",
   "execution_count": 112,
   "id": "5a7ac638",
   "metadata": {},
   "outputs": [
    {
     "data": {
      "text/plain": [
       "[1, 2, 3, 4]"
      ]
     },
     "execution_count": 112,
     "metadata": {},
     "output_type": "execute_result"
    }
   ],
   "source": [
    "lst"
   ]
  },
  {
   "cell_type": "code",
   "execution_count": 113,
   "id": "11acbad0",
   "metadata": {},
   "outputs": [
    {
     "data": {
      "text/plain": [
       "5"
      ]
     },
     "execution_count": 113,
     "metadata": {},
     "output_type": "execute_result"
    }
   ],
   "source": [
    "item                  "
   ]
  },
  {
   "cell_type": "code",
   "execution_count": 114,
   "id": "be30fc75",
   "metadata": {},
   "outputs": [],
   "source": [
    "first=lst.pop(0)"
   ]
  },
  {
   "cell_type": "code",
   "execution_count": 115,
   "id": "5903ff02",
   "metadata": {},
   "outputs": [
    {
     "data": {
      "text/plain": [
       "[2, 3, 4]"
      ]
     },
     "execution_count": 115,
     "metadata": {},
     "output_type": "execute_result"
    }
   ],
   "source": [
    "lst"
   ]
  },
  {
   "cell_type": "code",
   "execution_count": 116,
   "id": "d519ca59",
   "metadata": {},
   "outputs": [
    {
     "name": "stdout",
     "output_type": "stream",
     "text": [
      "1\n"
     ]
    }
   ],
   "source": [
    "print(first)"
   ]
  },
  {
   "cell_type": "code",
   "execution_count": 122,
   "id": "64cfa2fc",
   "metadata": {},
   "outputs": [],
   "source": [
    "lst=[1,2,3,4,5]"
   ]
  },
  {
   "cell_type": "code",
   "execution_count": 123,
   "id": "d07b37f4",
   "metadata": {},
   "outputs": [
    {
     "data": {
      "text/plain": [
       "5"
      ]
     },
     "execution_count": 123,
     "metadata": {},
     "output_type": "execute_result"
    }
   ],
   "source": [
    "lst.pop()                     "
   ]
  },
  {
   "cell_type": "code",
   "execution_count": 124,
   "id": "a36c35ca",
   "metadata": {},
   "outputs": [
    {
     "data": {
      "text/plain": [
       "1"
      ]
     },
     "execution_count": 124,
     "metadata": {},
     "output_type": "execute_result"
    }
   ],
   "source": [
    "lst.pop(0)"
   ]
  },
  {
   "cell_type": "code",
   "execution_count": 125,
   "id": "ddb38d27",
   "metadata": {},
   "outputs": [],
   "source": [
    "second=lst.pop(1)       #[2,3,4]  0,1,2   yani index 1 ke 3 hast az list delete beshe. yani first =3"
   ]
  },
  {
   "cell_type": "code",
   "execution_count": 126,
   "id": "644387f1",
   "metadata": {},
   "outputs": [
    {
     "data": {
      "text/plain": [
       "[2, 4]"
      ]
     },
     "execution_count": 126,
     "metadata": {},
     "output_type": "execute_result"
    }
   ],
   "source": [
    "lst                              #tuple yani chan taee (1,2)"
   ]
  },
  {
   "cell_type": "code",
   "execution_count": 127,
   "id": "78fc207e",
   "metadata": {},
   "outputs": [
    {
     "data": {
      "text/plain": [
       "3"
      ]
     },
     "execution_count": 127,
     "metadata": {},
     "output_type": "execute_result"
    }
   ],
   "source": [
    "second"
   ]
  },
  {
   "cell_type": "code",
   "execution_count": 128,
   "id": "b7aca0fb",
   "metadata": {},
   "outputs": [],
   "source": [
    "lst.append('sepide')"
   ]
  },
  {
   "cell_type": "code",
   "execution_count": 129,
   "id": "71d18666",
   "metadata": {},
   "outputs": [
    {
     "data": {
      "text/plain": [
       "[2, 4, 'sepide']"
      ]
     },
     "execution_count": 129,
     "metadata": {},
     "output_type": "execute_result"
    }
   ],
   "source": [
    "lst"
   ]
  },
  {
   "cell_type": "code",
   "execution_count": null,
   "id": "259c99b5",
   "metadata": {},
   "outputs": [],
   "source": []
  }
 ],
 "metadata": {
  "kernelspec": {
   "display_name": "Python 3 (ipykernel)",
   "language": "python",
   "name": "python3"
  },
  "language_info": {
   "codemirror_mode": {
    "name": "ipython",
    "version": 3
   },
   "file_extension": ".py",
   "mimetype": "text/x-python",
   "name": "python",
   "nbconvert_exporter": "python",
   "pygments_lexer": "ipython3",
   "version": "3.9.7"
  }
 },
 "nbformat": 4,
 "nbformat_minor": 5
}
