{
 "cells": [
  {
   "cell_type": "markdown",
   "id": "d6ebef6e",
   "metadata": {},
   "source": [
    "# decorator:\n",
    "\n",
    "**In Python, a decorator is a special type of function that can modify the behavior of another function or class. Decorators are often used to add functionality to a function or class without modifying its source code.\n",
    "\n",
    "**In Python, a decorator is applied to a function or class by placing the decorator's name before the function or class definition, using the \"@\" symbol. Here is an example of a simple decorator that adds a greeting to a function:"
   ]
  },
  {
   "cell_type": "code",
   "execution_count": null,
   "id": "1cf0fdf7",
   "metadata": {},
   "outputs": [],
   "source": [
    "def greeting_decorator(func):\n",
    "    def wrapper(*args, **kwargs):\n",
    "        print(\"Hello!\")\n",
    "        func(*args, **kwargs)\n",
    "    return wrapper\n",
    "\n",
    "@greeting_decorator\n",
    "def my_function():\n",
    "    print(\"This is my function.\")\n",
    "\n",
    "my_function()\n"
   ]
  },
  {
   "cell_type": "markdown",
   "id": "65cbdd6c",
   "metadata": {},
   "source": [
    "**In this example, the greeting_decorator is defined as a function that takes another function (func) as an argument, and returns a new function (wrapper) that adds a greeting before calling the original function. The @greeting_decorator syntax is used to apply the decorator to the my_function function. When my_function is called, the decorator is executed first, printing \"Hello!\", before calling the original function and printing \"This is my function.\""
   ]
  },
  {
   "cell_type": "markdown",
   "id": "bace99e3",
   "metadata": {},
   "source": [
    "# What is Class Method in Python? \n",
    "\n",
    "**The @classmethod decorator is a built-in function decorator that is an expression that gets evaluated after your function is defined. The result of that evaluation shadows your function definition. A class method receives the class as an implicit first argument, just like an instance method receives the instance "
   ]
  },
  {
   "cell_type": "code",
   "execution_count": null,
   "id": "16d77eb0",
   "metadata": {},
   "outputs": [],
   "source": [
    "Syntax Python Class Method: \n",
    "\n",
    "class C(object):\n",
    "    @classmethod\n",
    "    def fun(cls, arg1, arg2, ...):\n",
    "       ....\n",
    "fun: function that needs to be converted into a class method\n",
    "returns: a class method for function."
   ]
  },
  {
   "cell_type": "markdown",
   "id": "3aacb688",
   "metadata": {},
   "source": [
    "# What is the Static Method in Python?\n",
    "\n",
    "**A static method does not receive an implicit first argument. A static method is also a method that is bound to the class and not the object of the class. This method can’t access or modify the class state. It is present in a class because it makes sense for the method to be present in class."
   ]
  },
  {
   "cell_type": "code",
   "execution_count": null,
   "id": "432ca696",
   "metadata": {},
   "outputs": [],
   "source": [
    "Syntax Python Static Method: \n",
    "\n",
    "class C(object):\n",
    "    @staticmethod\n",
    "    def fun(arg1, arg2, ...):\n",
    "        ...\n",
    "returns: a static method for function fun."
   ]
  },
  {
   "cell_type": "markdown",
   "id": "3ac7b049",
   "metadata": {},
   "source": [
    "# Class method vs Static Method\n",
    "\n",
    "The difference between the Class method and the static method is:\n",
    "\n",
    "A class method takes cls as the first parameter while a static method needs no specific parameters.\n",
    "A class method can access or modify the class state while a static method can’t access or modify it.\n",
    "In general, static methods know nothing about the class state. They are utility-type methods that take some parameters and work upon those parameters. On the other hand class methods must have class as a parameter.\n",
    "We use @classmethod decorator in python to create a class method and we use @staticmethod decorator to create a static method in python."
   ]
  },
  {
   "cell_type": "markdown",
   "id": "b2b378bc",
   "metadata": {},
   "source": [
    "# When to use the class or static method?\n",
    "We generally use the class method to create factory methods. Factory methods return class objects ( similar to a constructor ) for different use cases.\n",
    "We generally use static methods to create utility functions."
   ]
  },
  {
   "cell_type": "markdown",
   "id": "d351e0c2",
   "metadata": {},
   "source": [
    "# How to define a class method and a static method?\n",
    "To define a class method in python, we use @classmethod decorator, and to define a static method we use @staticmethod decorator. \n",
    "Let us look at an example to understand the difference between both of them. Let us say we want to create a class Person. Now, python doesn’t support method overloading like C++ or Java so we use class methods to create factory methods. In the below example we use a class method to create a person object from birth year."
   ]
  },
  {
   "cell_type": "code",
   "execution_count": null,
   "id": "94413bbd",
   "metadata": {},
   "outputs": [],
   "source": []
  },
  {
   "cell_type": "code",
   "execution_count": null,
   "id": "694d4f59",
   "metadata": {},
   "outputs": [],
   "source": []
  },
  {
   "cell_type": "code",
   "execution_count": null,
   "id": "bf3c22f4",
   "metadata": {},
   "outputs": [],
   "source": []
  },
  {
   "cell_type": "code",
   "execution_count": null,
   "id": "27914ac1",
   "metadata": {},
   "outputs": [],
   "source": []
  },
  {
   "cell_type": "code",
   "execution_count": null,
   "id": "019ffa55",
   "metadata": {},
   "outputs": [],
   "source": []
  },
  {
   "cell_type": "code",
   "execution_count": null,
   "id": "05604c9b",
   "metadata": {},
   "outputs": [],
   "source": []
  },
  {
   "cell_type": "code",
   "execution_count": null,
   "id": "e03435bb",
   "metadata": {},
   "outputs": [],
   "source": []
  }
 ],
 "metadata": {
  "kernelspec": {
   "display_name": "Python 3 (ipykernel)",
   "language": "python",
   "name": "python3"
  },
  "language_info": {
   "codemirror_mode": {
    "name": "ipython",
    "version": 3
   },
   "file_extension": ".py",
   "mimetype": "text/x-python",
   "name": "python",
   "nbconvert_exporter": "python",
   "pygments_lexer": "ipython3",
   "version": "3.9.7"
  }
 },
 "nbformat": 4,
 "nbformat_minor": 5
}
