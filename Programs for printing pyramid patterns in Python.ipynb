{
 "cells": [
  {
   "cell_type": "markdown",
   "id": "d1a84308",
   "metadata": {},
   "source": [
    "**Patterns can be printed in python using simple for loops. First outer loop is used to handle the number of rows and the Inner nested loop is used to handle the number of columns. Manipulating the print statements, different number patterns, alphabet patterns, or star patterns can be printed. \n",
    "\n",
    "Some of the Patterns are shown in this article. "
   ]
  },
  {
   "cell_type": "code",
   "execution_count": 14,
   "id": "dfd67696",
   "metadata": {},
   "outputs": [
    {
     "name": "stdout",
     "output_type": "stream",
     "text": [
      " * \r\n",
      " *  * \r\n",
      " *  *  * \r\n",
      " *  *  *  * \r\n",
      " *  *  *  *  * \r\n"
     ]
    }
   ],
   "source": [
    "\n",
    "def pypart(n):\n",
    "\tfor i in range(0, n):\n",
    "\t\tfor j in range(0, i+1):\n",
    "\t\t\tprint(\" * \",end=\"\")\n",
    "\t\tprint(\"\\r\")\n",
    "n = 5\n",
    "pypart(n)\n"
   ]
  },
  {
   "cell_type": "code",
   "execution_count": 18,
   "id": "fc78ddfd",
   "metadata": {},
   "outputs": [
    {
     "name": "stdout",
     "output_type": "stream",
     "text": [
      " * \n",
      " *  * \n",
      " *  *  * \n",
      " *  *  *  * \n",
      " *  *  *  *  * \n"
     ]
    }
   ],
   "source": [
    "\n",
    "def pypart(n):\n",
    "\tmyList = []\n",
    "\tfor i in range(1,n+1):\n",
    "\t\tmyList.append(\" * \" *i)\n",
    "\tprint(\"\\n\".join(myList))\n",
    "\n",
    "# Driver Code\n",
    "n = 5\n",
    "pypart(n)\n"
   ]
  },
  {
   "cell_type": "markdown",
   "id": "9fe3473a",
   "metadata": {},
   "source": [
    " **join() method #\n",
    " is used to concatenate a sequence of strings (or any iterable object) with a separator string. The syntax for the join() method is:\n",
    " \n",
    " # separator.join(iterable)\n",
    "\n",
    "Here, **separator is a string that is used as a separator between the elements of the iterable, and iterable is the sequence of strings that are to be concatenated.\n",
    "\n",
    "For example, consider the following list of strings:"
   ]
  },
  {
   "cell_type": "code",
   "execution_count": 19,
   "id": "0a202dd9",
   "metadata": {},
   "outputs": [],
   "source": [
    "words = [\"Hello\", \"world\", \"how\", \"are\", \"you\"]\n",
    "\n",
    "         #If we want to concatenate all the strings in the list with a space separator, we can use the join() method as follows:"
   ]
  },
  {
   "cell_type": "code",
   "execution_count": 20,
   "id": "f254c318",
   "metadata": {},
   "outputs": [
    {
     "data": {
      "text/plain": [
       "'Hello world how are you'"
      ]
     },
     "execution_count": 20,
     "metadata": {},
     "output_type": "execute_result"
    }
   ],
   "source": [
    "\" \".join(words)\n",
    "\n",
    "#Similarly, we can use any other separator string in place of space, such as a comma, hyphen, or any other character, \n",
    "#to concatenate the strings in the iterable."
   ]
  },
  {
   "cell_type": "markdown",
   "id": "7d4664ed",
   "metadata": {},
   "source": [
    "# HALF PYRAMID"
   ]
  },
  {
   "cell_type": "code",
   "execution_count": 22,
   "id": "0a43f6a2",
   "metadata": {},
   "outputs": [
    {
     "name": "stdout",
     "output_type": "stream",
     "text": [
      "* \n",
      "* * \n",
      "* * * \n",
      "* * * * \n"
     ]
    }
   ],
   "source": [
    "\n",
    "def pypart(n):\n",
    "\tif n==0:\n",
    "\t\treturn\n",
    "\telse:\n",
    "\t\tpypart(n-1)\n",
    "\t\tprint(\"* \"*n)\n",
    "\n",
    "\n",
    "n = 4\n",
    "pypart(n)\n",
    "\n"
   ]
  },
  {
   "cell_type": "code",
   "execution_count": 1,
   "id": "c6818fcd",
   "metadata": {},
   "outputs": [
    {
     "name": "stdout",
     "output_type": "stream",
     "text": [
      "* \r\n",
      "* * \r\n",
      "* * * \r\n",
      "* * * * \r\n",
      "* * * * * \r\n"
     ]
    }
   ],
   "source": [
    "n=5   #specified the number of rows\n",
    "\n",
    "i=1;j=0\n",
    "while(i<=n):\n",
    "\twhile(j<=i-1):\n",
    "\t\tprint(\"* \",end=\"\")\n",
    "\t\tj+=1\n",
    "\t# printing next line for each row\n",
    "\tprint(\"\\r\")\n",
    "\tj=0;i+=1\n",
    "\n",
    "\t\n",
    "\t\n",
    "# this code is contributed by gangarajula laxmi\n",
    "#The reason for this redundancy is likely an error or oversight in the code. \n",
    "#The j variable is used to count the number of asterisks printed in each row"
   ]
  },
  {
   "cell_type": "code",
   "execution_count": 69,
   "id": "9e6298a4",
   "metadata": {},
   "outputs": [
    {
     "name": "stdout",
     "output_type": "stream",
     "text": [
      " *  *  *  *  * \n",
      " *  *  *  * \n",
      " *  *  * \n",
      " *  * \n",
      " * \n"
     ]
    }
   ],
   "source": [
    "n = 1     #the number of stars\n",
    "i = 5     # counter\n",
    "\n",
    "while n <= i:\n",
    "    print(\" * \" * i)\n",
    "    i-= 1\n",
    "    #print(\"\\r\")\n"
   ]
  },
  {
   "cell_type": "code",
   "execution_count": 13,
   "id": "63c0b7a7",
   "metadata": {},
   "outputs": [
    {
     "name": "stdout",
     "output_type": "stream",
     "text": [
      " *  *  *  *  * \n",
      " *  *  *  * \n",
      " *  *  * \n",
      " *  * \n",
      " * \n"
     ]
    }
   ],
   "source": [
    "n = 5\n",
    "for i in range(n, 0, -1):\n",
    "    for j in range(i):\n",
    "        print(\" * \", end=\"\")\n",
    "    print()\n"
   ]
  },
  {
   "cell_type": "code",
   "execution_count": 86,
   "id": "f038e298",
   "metadata": {},
   "outputs": [
    {
     "name": "stdout",
     "output_type": "stream",
     "text": [
      "0 1 2 3 4 \n",
      "0 1 2 3 \n",
      "0 1 2 \n",
      "0 1 \n",
      "0 \n"
     ]
    }
   ],
   "source": [
    "for i in range(5,0,-1):\n",
    "    #print(i,end=\" \")    #5,4,3,2,1\n",
    "    for j in range(i):\n",
    "        print(j ,end=\" \")\n",
    "    print()"
   ]
  },
  {
   "cell_type": "code",
   "execution_count": 84,
   "id": "84e00601",
   "metadata": {},
   "outputs": [
    {
     "name": "stdout",
     "output_type": "stream",
     "text": [
      "\n",
      "0 \n",
      "0 1 \n",
      "0 1 2 \n",
      "0 1 2 3 \n",
      "0 1 2 3 4 \n"
     ]
    }
   ],
   "source": [
    "for i in range(0,6,1):\n",
    "    #print(i,end=\" \")    #5,4,3,2,1\n",
    "    for j in range(i):\n",
    "        print(j ,end=\" \")\n",
    "    print()\n",
    "        "
   ]
  },
  {
   "cell_type": "code",
   "execution_count": 10,
   "id": "ef9e6289",
   "metadata": {},
   "outputs": [
    {
     "name": "stdout",
     "output_type": "stream",
     "text": [
      "* \r\n",
      "* * \r\n",
      "* * * \r\n",
      "* * * * \r\n",
      "* * * * * \r\n"
     ]
    }
   ],
   "source": [
    "def pypart2(n):\n",
    "    k = 2*n - 2\n",
    "    for i in range(0, n):\n",
    "        for j in range(k,0):\n",
    "            print(\" \", end=\"\")\n",
    "        k = k - 2\n",
    "        for j in range(0, i+1):\n",
    "            print(\"* \", end=\"\")\n",
    "        print(\"\\r\")\n",
    "\n",
    "n = 5\n",
    "pypart2(n)\n"
   ]
  },
  {
   "cell_type": "code",
   "execution_count": 93,
   "id": "80c0ab1d",
   "metadata": {},
   "outputs": [
    {
     "name": "stdout",
     "output_type": "stream",
     "text": [
      "        * \r\n",
      "      * * \r\n",
      "    * * * \r\n",
      "  * * * * \r\n",
      "* * * * * \r\n"
     ]
    }
   ],
   "source": [
    "\n",
    "def pypart2(n):\n",
    "\tk = 2*n - 2\n",
    "\tfor i in range(0, n):\n",
    "\t\tfor j in range(0, k):\n",
    "\t\t\tprint(\"\",end=\" \")\n",
    "\t\tk = k - 2\n",
    "\t\tfor j in range(0, i+1):\n",
    "\t\t\tprint(\"* \", end=\"\")\n",
    "\t\tprint(\"\\r\")\n",
    "\n",
    "\n",
    "n = 5\n",
    "pypart2(n)\n"
   ]
  },
  {
   "cell_type": "markdown",
   "id": "1f5f1890",
   "metadata": {},
   "source": [
    "**You are correct that in the first row, we only need four spaces. However, the k variable in the code starts off as 2n - 2, which in this case is 25 - 2 = 8.\n",
    "\n",
    "**During the first iteration of the outer for loop, i is 0 and the inner for loop with j ranges from 0 to 7 (inclusive), printing 8 spaces.\n",
    "\n",
    "**On the second iteration of the outer for loop, i is 1 and the inner for loop with j ranges from 0 to 5 (inclusive), printing 6 spaces.\n",
    "\n",
    "**And so on, until we reach the final iteration where i is 4 and the inner for loop with j ranges from 0 to 1 (inclusive), printing 2 spaces.\n",
    "\n",
    "**So, although we only need 4 spaces in the first row, the k variable is initialized to 8 to account for the maximum number of spaces needed in any row (which is 8 for this pyramid with a height of 5)."
   ]
  },
  {
   "cell_type": "markdown",
   "id": "7fc7a99f",
   "metadata": {},
   "source": [
    "In the code you provided, k is initialized to 2*n - 2. This is because the number of spaces before the first row of asterisks should be equal to 2*n - 2.\n",
    "\n",
    "The outer for loop runs n times, so it will iterate once for each row of the pyramid. Inside the outer for loop, there is a nested for loop. This loop is responsible for printing the spaces before the asterisks on each row.\n",
    "\n",
    "The first inner for loop runs k times, where k is the number of spaces to be printed before the asterisks on the current row. The print statement inside this loop prints a space character without a newline, so each space is printed on the same line.\n",
    "\n",
    "After the first inner for loop has printed the correct number of spaces, k is decreased by 2. This is because the number of spaces before the asterisks on each row should be decreased by 2 as you move down the pyramid.\n",
    "\n",
    "The second inner for loop is responsible for printing the asterisks on each row. It runs i + 1 times, where i is the current row number (starting from 0). On the first row, i is 0, so the loop will run once and print a single asterisk. On the second row, i is 1, so the loop will run twice and print two asterisks, and so on.\n",
    "\n",
    "The print statement inside the second inner for loop prints an asterisk followed by a space character, without a newline. This ensures that all of the asterisks on each row are printed on the same line.\n",
    "\n",
    "After the second inner for loop has printed the correct number of asterisks, the print statement with \\r is used to move the cursor back to the beginning of the line. This ensures that the next row of the pyramid is printed on the line below the previous row.\n",
    "\n",
    "I hope this explanation helps clarify the code for you. Let me know if you have any further questions!\n",
    "\n",
    "\n",
    "\n",
    "\n",
    "Regenerate response"
   ]
  },
  {
   "cell_type": "markdown",
   "id": "37886e12",
   "metadata": {},
   "source": [
    "# FULL PYRAMID\n",
    "**This pyramid pattern has an even number of rows and is centered horizontally"
   ]
  },
  {
   "cell_type": "code",
   "execution_count": 54,
   "id": "41d9aa38",
   "metadata": {},
   "outputs": [
    {
     "name": "stdout",
     "output_type": "stream",
     "text": [
      "   *   \n",
      "  ***  \n",
      " ***** \n",
      "*******\n"
     ]
    }
   ],
   "source": [
    "n = 8\n",
    "for i in range(1, n+1, 2):\n",
    "    spaces = (n - i) // 2\n",
    "    #print(spaces)\n",
    "    stars = i * \"*\"\n",
    "    #print(stars,end=\" \")\n",
    "    print(\" \" * spaces + stars + \" \" * spaces)\n",
    "     "
   ]
  },
  {
   "cell_type": "code",
   "execution_count": 6,
   "id": "6b3cd07a",
   "metadata": {},
   "outputs": [
    {
     "name": "stdout",
     "output_type": "stream",
     "text": [
      "       * \n",
      "      * * \n",
      "     * * * \n",
      "    * * * * \n",
      "   * * * * * \n",
      "  * * * * * * \n",
      " * * * * * * * \n",
      "* * * * * * * * \n"
     ]
    }
   ],
   "source": [
    "height = 8                                #int(input(\"Enter the height of the pyramid: \"))  # get the user input for height\n",
    "row = 1                                    # start from the first row\n",
    "while row <= height:                       # continue looping until the last row is reached\n",
    "    space = height - row                   # calculate the number of spaces to print before the first asterisk\n",
    "    while space > 0:\n",
    "        print(\" \", end=\"\")\n",
    "        space -= 1                         # decrement the space counter\n",
    "\n",
    "\n",
    "    asterisk = row                         # start from the first asterisk\n",
    "    while asterisk > 0:\n",
    "        print(\"* \", end=\"\")\n",
    "        asterisk -= 1                     # decrement the asterisk counter\n",
    "\n",
    "    print()                              # move to the next line\n",
    "    row += 1                             # increment the row counter\n"
   ]
  },
  {
   "cell_type": "markdown",
   "id": "60f0ef55",
   "metadata": {},
   "source": [
    "**First, it prompts the user to enter the height of the pyramid.\n",
    "\n",
    "Then, it initializes the row variable to 1, which represents the first row of the pyramid.\n",
    "\n",
    "The outer while loop continues to iterate until row reaches the height value entered by the user.\n",
    "\n",
    "The inner while loop is responsible for printing the spaces before the asterisks. It calculates the number of spaces needed using height - row and then prints that many spaces.\n",
    "\n",
    "The second inner while loop is responsible for printing the asterisks. It starts from 1 and prints row number of asterisks.\n",
    "\n",
    "Finally, the program prints a newline character to move to the next line and increments the row counter."
   ]
  },
  {
   "cell_type": "code",
   "execution_count": 48,
   "id": "5549c9f5",
   "metadata": {},
   "outputs": [
    {
     "name": "stdout",
     "output_type": "stream",
     "text": [
      "       *         \n",
      "     *  *  *       \n",
      "   *  *  *  *  *     \n"
     ]
    }
   ],
   "source": [
    "n=7\n",
    "i=1\n",
    "while i<n:\n",
    "    spaces=(n-i)//2\n",
    "    print(\"  \" * (spaces) + i * \" * \"  + \"  \" * (spaces+1))\n",
    "    i+=2"
   ]
  },
  {
   "cell_type": "code",
   "execution_count": 11,
   "id": "df9429c6",
   "metadata": {},
   "outputs": [
    {
     "name": "stdout",
     "output_type": "stream",
     "text": [
      "    *\n",
      "   * * \n",
      "  * * * \n",
      " * * * * \n",
      "* * * * * \n"
     ]
    }
   ],
   "source": [
    "n = 5\n",
    "i = 0\n",
    "\n",
    "while i < n:\n",
    "    spaces = (n-i-1)\n",
    "\n",
    "    if i == 0:\n",
    "        print(\" \" * spaces + \"*\")\n",
    "    else:\n",
    "        print(\" \" * spaces + \"* \" * (i+1))\n",
    "    \n",
    "    i += 1\n"
   ]
  },
  {
   "cell_type": "code",
   "execution_count": 56,
   "id": "565c30ef",
   "metadata": {},
   "outputs": [
    {
     "name": "stdout",
     "output_type": "stream",
     "text": [
      "   *\n",
      "  ***\n",
      " *****\n",
      "*******\n",
      " *****\n",
      "  ***\n",
      "   *\n"
     ]
    }
   ],
   "source": [
    "n = 7\n",
    "for i in range(n//2+1):\n",
    "    spaces = (n//2) - i\n",
    "    stars = 2*i + 1\n",
    "    print(\" \" * spaces + \"*\" * stars)\n",
    "for i in range(n//2, 0, -1):\n",
    "    spaces = (n//2) - i + 1\n",
    "    stars = 2*i - 1\n",
    "    print(\" \" * spaces + \"*\" * stars)\n"
   ]
  },
  {
   "cell_type": "code",
   "execution_count": 53,
   "id": "f65e4f86",
   "metadata": {},
   "outputs": [
    {
     "name": "stdout",
     "output_type": "stream",
     "text": [
      "   *\n",
      "  **\n",
      " ***\n",
      "****\n"
     ]
    }
   ],
   "source": [
    "n = 4\n",
    "for i in range(n):\n",
    "    #print(i)\n",
    "    print(\" \" * (n-i-1) + \"*\" * (i+1))\n"
   ]
  },
  {
   "cell_type": "code",
   "execution_count": 60,
   "id": "a35676ef",
   "metadata": {},
   "outputs": [
    {
     "name": "stdout",
     "output_type": "stream",
     "text": [
      "   * \n",
      "  * * \n",
      " * * * \n",
      "* * * * \n"
     ]
    }
   ],
   "source": [
    "n = 4\n",
    "for i in range(n):\n",
    "    for j in range(n-i-1):\n",
    "        print(\" \", end=\"\")\n",
    "    for k in range(i+1):\n",
    "        print(\"*\", end=\" \")\n",
    "    print()\n"
   ]
  },
  {
   "cell_type": "code",
   "execution_count": 80,
   "id": "bc9e5755",
   "metadata": {},
   "outputs": [
    {
     "name": "stdout",
     "output_type": "stream",
     "text": [
      "        * \r\n",
      "      * * \r\n",
      "    * * * \r\n",
      "  * * * * \r\n",
      "* * * * * \r\n"
     ]
    }
   ],
   "source": [
    "\n",
    "def pypart2(n):\n",
    "\tk = 2*n - 2\n",
    "\tfor i in range(0, n):\n",
    "\t\tfor j in range(0, k):\n",
    "\t\t\tprint(end=\" \")\n",
    "\t\tk = k - 2\n",
    "\t\tfor j in range(0, i+1):\n",
    "\t\t\tprint(\"* \", end=\"\")\n",
    "\t\tprint(\"\\r\")\n",
    "\n",
    "\n",
    "n = 5\n",
    "pypart2(n)\n",
    "\n"
   ]
  },
  {
   "cell_type": "code",
   "execution_count": 1,
   "id": "27405468",
   "metadata": {},
   "outputs": [
    {
     "name": "stdout",
     "output_type": "stream",
     "text": [
      " *  *  *  *  * \n",
      " *  *  *  * \n",
      " *  *  * \n",
      " *  * \n",
      " * \n"
     ]
    }
   ],
   "source": [
    "n = 1     #the number of stars\n",
    "i = 5     # counter\n",
    "\n",
    "while n <= i:\n",
    "    print(\" * \" * i)\n",
    "    i-= 1\n",
    "    #print(\"\\r\")"
   ]
  },
  {
   "cell_type": "code",
   "execution_count": 3,
   "id": "ab09f10f",
   "metadata": {},
   "outputs": [
    {
     "name": "stdout",
     "output_type": "stream",
     "text": [
      "* * * * * \n",
      "* * * * \n",
      "* * * \n",
      "* * \n",
      "* \n"
     ]
    }
   ],
   "source": [
    "n=5\n",
    "i=1\n",
    "while n>=i:\n",
    "    print(\"* \"*n)\n",
    "    n-=1"
   ]
  },
  {
   "cell_type": "code",
   "execution_count": 2,
   "id": "ca82039e",
   "metadata": {},
   "outputs": [
    {
     "name": "stdout",
     "output_type": "stream",
     "text": [
      "    *\n",
      "   **\n",
      "  ***\n",
      " ****\n",
      "*****\n"
     ]
    }
   ],
   "source": [
    "# python3 code to print pyramid pattern using while loop\n",
    "n=5\n",
    "i=0\n",
    "for i in range(1,n+1):\n",
    "     print(\" \" * (n - i) +\"*\" * i)"
   ]
  },
  {
   "cell_type": "code",
   "execution_count": 1,
   "id": "b5ad214c",
   "metadata": {},
   "outputs": [
    {
     "name": "stdout",
     "output_type": "stream",
     "text": [
      "    *\n",
      "   **\n",
      "  ***\n",
      " ****\n",
      "*****\n"
     ]
    }
   ],
   "source": [
    "\n",
    "height = 5\n",
    "for row in range(1, height+ 1):\n",
    "\tprint(\" \" * (height - row) +\"*\" * row)\n",
    "\n"
   ]
  },
  {
   "cell_type": "code",
   "execution_count": 2,
   "id": "547e4904",
   "metadata": {},
   "outputs": [
    {
     "name": "stdout",
     "output_type": "stream",
     "text": [
      " *  *  *  *  * \n",
      " *  *  *  * \n",
      " *  *  * \n",
      " *  * \n",
      " * \n"
     ]
    }
   ],
   "source": [
    "i=5\n",
    "n=1\n",
    "while i>=n:\n",
    "    print(\" * \" * i)\n",
    "    i-=1"
   ]
  },
  {
   "cell_type": "code",
   "execution_count": 1,
   "id": "49d598d9",
   "metadata": {},
   "outputs": [
    {
     "name": "stdout",
     "output_type": "stream",
     "text": [
      " * \n",
      " *  * \n",
      " *  *  * \n",
      " *  *  *  * \n",
      " *  *  *  *  * \n"
     ]
    }
   ],
   "source": [
    "n = 5\n",
    "i = 1\n",
    "\n",
    "while i <= n:\n",
    "    print(\" * \" * i)\n",
    "    i += 1\n"
   ]
  },
  {
   "cell_type": "code",
   "execution_count": 9,
   "id": "4f13e71c",
   "metadata": {},
   "outputs": [
    {
     "name": "stdout",
     "output_type": "stream",
     "text": [
      "    * \r\n",
      "   * * \r\n",
      "  * * * \r\n",
      " * * * * \r\n",
      "* * * * * \r\n"
     ]
    }
   ],
   "source": [
    "def triangle(n):\n",
    "    k=n-1\n",
    "    \n",
    "    for i in range(0,n):\n",
    "        \n",
    "        for j in range(0,k):\n",
    "            \n",
    "            print(end=\" \")\n",
    "        k=k-1\n",
    "        for j in range(0,i+1):\n",
    "                print(\"*\",end=\" \")\n",
    "        print(\"\\r\")\n",
    "n=5\n",
    "triangle(n)"
   ]
  },
  {
   "cell_type": "markdown",
   "id": "02e120c5",
   "metadata": {},
   "source": [
    "# do you mean the outer loop keep track until k=0 and then another loop in which create astrisks?\n",
    "***Yes, that's correct. The outer loop in the triangle() function runs n times, where n is the number of rows in the triangle. The inner loops are used to print spaces and asterisks on each row.\n",
    "\n",
    "***The first inner loop (for j in range(0,k)) prints a number of spaces before the asterisks on each row. The number of spaces printed on the first row is k, which is initialized to n-1. In each subsequent row, k is decremented by 1 to print one less space before the asterisks.\n",
    "\n",
    "***After printing the spaces, the second inner loop (for j in range(0,i+1)) prints i+1 asterisks on each row. The value of i represents the current row number (starting from 0), so the first row will print 1 asterisk (i+1 when i=0), the second row will print 2 asterisks, and so on.\n",
    "\n",
    "**By using these two nested loops, the function is able to print a triangle of asterisks with a base of n."
   ]
  },
  {
   "cell_type": "markdown",
   "id": "f36234a0",
   "metadata": {},
   "source": [
    "**The function takes an argument n, which represents the number of asterisks in the base of the triangle.\n",
    "It initializes a variable k to n-1. This variable will be used to determine how many spaces to print before each row of asterisks.\n",
    "It enters a loop that will execute n times. Each iteration of this loop will print one row of the triangle.\n",
    "The first inner loop uses the variable k to print the appropriate number of spaces before the row of asterisks. It decrements k by 1 after each iteration to ensure that each row has one less space than the previous row.\n",
    "The second inner loop prints i+1 asterisks, where i is the index of the current row (starting from 0).\n",
    "The function then prints a newline character to move to the next line."
   ]
  },
  {
   "cell_type": "code",
   "execution_count": 16,
   "id": "932df7f8",
   "metadata": {},
   "outputs": [
    {
     "name": "stdout",
     "output_type": "stream",
     "text": [
      "         * \r\n",
      "        * * \r\n",
      "       * * * \r\n",
      "      * * * * \r\n",
      "     * * * * * \r\n"
     ]
    }
   ],
   "source": [
    "def triangle(n):\n",
    "    k=2*n-1\n",
    "    \n",
    "    for i in range(0,n):\n",
    "        \n",
    "        for j in range(0,k):\n",
    "            \n",
    "            print(end=\" \")\n",
    "        k=k-1\n",
    "        for j in range(0,i+1):\n",
    "                print(\"*\",end=\" \")\n",
    "        print(\"\\r\")\n",
    "n=5\n",
    "triangle(n)"
   ]
  },
  {
   "cell_type": "code",
   "execution_count": 18,
   "id": "3c939653",
   "metadata": {},
   "outputs": [
    {
     "name": "stdout",
     "output_type": "stream",
     "text": [
      "1 \r\n",
      "1 2 \r\n",
      "1 2 3 \r\n",
      "1 2 3 4 \r\n",
      "1 2 3 4 5 \r\n"
     ]
    }
   ],
   "source": [
    "def numpat(n):\n",
    "    num=1\n",
    "    for i in range(0,n):\n",
    "        num=1\n",
    "        for j in range(0,i+1):\n",
    "            print(num,end=\" \")\n",
    "            num=num+1\n",
    "        print(\"\\r\")   \n",
    "n=5\n",
    "numpat(n)"
   ]
  },
  {
   "cell_type": "code",
   "execution_count": 21,
   "id": "0ba8605b",
   "metadata": {},
   "outputs": [
    {
     "name": "stdout",
     "output_type": "stream",
     "text": [
      "1 \r\n",
      "2 3 \r\n",
      "4 5 6 \r\n",
      "7 8 9 10 \r\n",
      "11 12 13 14 15 \r\n"
     ]
    }
   ],
   "source": [
    "def contnum(n):\n",
    "    num=1\n",
    "    for i in range(0,n):\n",
    "        #num=1\n",
    "        for j in range(0,i+1):\n",
    "            print(num, end=\" \")\n",
    "            num=num+1\n",
    "        print(\"\\r\")\n",
    "        \n",
    "        \n",
    "n=5\n",
    "contnum(n)            "
   ]
  },
  {
   "cell_type": "code",
   "execution_count": 48,
   "id": "66286c75",
   "metadata": {},
   "outputs": [
    {
     "name": "stdout",
     "output_type": "stream",
     "text": [
      "A \r\n",
      "B C \r\n",
      "D E F \r\n",
      "G H I J \r\n",
      "K L M N O \r\n"
     ]
    }
   ],
   "source": [
    "def contalpha(n):\n",
    "    num=65\n",
    "    for i in range(0,n):\n",
    "        #num=65\n",
    "        for j in range(0,i+1):\n",
    "            ch=chr(num)\n",
    "            num=num+1\n",
    "            print(ch,end=\" \")\n",
    "        #num=num+1\n",
    "        print(\"\\r\")\n",
    "        \n",
    "n=5\n",
    "contalpha(n)"
   ]
  },
  {
   "cell_type": "code",
   "execution_count": 49,
   "id": "433d09e9",
   "metadata": {},
   "outputs": [
    {
     "name": "stdout",
     "output_type": "stream",
     "text": [
      "A \r\n",
      "B B \r\n",
      "C C C \r\n",
      "D D D D \r\n",
      "E E E E E \r\n"
     ]
    }
   ],
   "source": [
    "def alphabet(n):\n",
    "    num=65  #ASCII value\n",
    "    for i in range(0,n):\n",
    "        #num=65\n",
    "        for j in range(0,i+1):\n",
    "            ch=chr(num)\n",
    "            print(ch,end=\" \")\n",
    "        num=num+1\n",
    "        print(\"\\r\")\n",
    "        \n",
    "n=5\n",
    "alphabet(n)"
   ]
  },
  {
   "cell_type": "code",
   "execution_count": null,
   "id": "9f495769",
   "metadata": {},
   "outputs": [],
   "source": []
  }
 ],
 "metadata": {
  "kernelspec": {
   "display_name": "Python 3 (ipykernel)",
   "language": "python",
   "name": "python3"
  },
  "language_info": {
   "codemirror_mode": {
    "name": "ipython",
    "version": 3
   },
   "file_extension": ".py",
   "mimetype": "text/x-python",
   "name": "python",
   "nbconvert_exporter": "python",
   "pygments_lexer": "ipython3",
   "version": "3.9.7"
  }
 },
 "nbformat": 4,
 "nbformat_minor": 5
}
