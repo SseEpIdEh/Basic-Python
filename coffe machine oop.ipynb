{
 "cells": [
  {
   "cell_type": "code",
   "execution_count": null,
   "id": "653ffc90",
   "metadata": {},
   "outputs": [],
   "source": [
    "class coffee machine:\n",
    "    def __init__(self,Menu,payment,resources):\n",
    "        self.Menu=coffee\n",
    "        self.payment=coins\n",
    "        self.resources=resources\n",
    "        self.profit=0\n",
    "     \n",
    "    def resources_sufficient(self,water,milk,coffee):\n",
    "         self += water\n",
    "        self += milk\n",
    "        self +=coffee     \n",
    "    \n",
    "    def cost(self,profit):\n",
    "        for item in Menu:\n",
    "            if menu[item]:\n",
    "            self.profit=profit\n",
    "            cost+=profit\n",
    "    def making_coffee(self,)         \n",
    "    \n",
    "        "
   ]
  },
  {
   "cell_type": "code",
   "execution_count": null,
   "id": "238f7aac",
   "metadata": {},
   "outputs": [],
   "source": [
    "class MenuItem:\n",
    "    def __init__(self,name,cost,ingredients):\n",
    "        self.name=name\n",
    "        self.cost=cost\n",
    "        self.ingredients=indredients\n",
    "class Menu:\n",
    "    def get_items(self):\n",
    "        print()\n",
    "        \n",
    "class CoffeeMaker:\n",
    "    def report(self):\n",
    "        print(f\"{resources:}\")\n",
    "    def is_resources_sufficient(self,drink):\n",
    "        for item in ingredients:\n",
    "        if ingredients[item] > resources[item]:\n",
    "            print(f\"​Sorry there is not enough {item}.\")\n",
    "            return False\n",
    "    return True \n",
    "\n",
    "     def make_coffee(self,order):\n",
    "        for item in ingredients:\n",
    "        resources[item] -= ingredients[item]\n",
    "    print(f\"Here is your {drink_name} ☕️. Enjoy!\")\n",
    "\n",
    "\n",
    "is_on = True\n",
    "\n",
    "while is_on:\n",
    "    choice = input(\"​What would you like? (espresso/latte/cappuccino): \")\n",
    "    if choice == \"off\":\n",
    "        is_on = False\n",
    "    elif choice == \"report\":\n",
    "        print(f\"Water: {resources['water']}ml\")\n",
    "        print(f\"Milk: {resources['milk']}ml\")\n",
    "        print(f\"Coffee: {resources['coffee']}g\")\n",
    "        print(f\"Money: ${profit}\")\n",
    "    else:\n",
    "        drink = Menu[choice]\n",
    "        if is_resource_sufficient(drink[\"ingredients\"]):\n",
    "            payment = process_coins()\n",
    "            if is_transaction_successful(payment, drink[\"cost\"]):\n",
    "                make_coffee(choice, drink[\"ingredients\"])\n",
    "\n",
    "    "
   ]
  },
  {
   "cell_type": "code",
   "execution_count": null,
   "id": "a273e1ae",
   "metadata": {},
   "outputs": [],
   "source": [
    "class MoneyMachine:\n",
    "    def report(self):\n",
    "        self.report=report\n",
    "        print(f\"the current profit:\")\n",
    "        \n",
    "        \n",
    "    def make_payment(self,cost):\n",
    "        self.cost=cost"
   ]
  },
  {
   "cell_type": "code",
   "execution_count": null,
   "id": "ce964233",
   "metadata": {},
   "outputs": [],
   "source": []
  },
  {
   "cell_type": "code",
   "execution_count": null,
   "id": "a5e65f3a",
   "metadata": {},
   "outputs": [],
   "source": []
  },
  {
   "cell_type": "code",
   "execution_count": null,
   "id": "4163109f",
   "metadata": {},
   "outputs": [],
   "source": []
  },
  {
   "cell_type": "code",
   "execution_count": null,
   "id": "db07652c",
   "metadata": {},
   "outputs": [],
   "source": []
  },
  {
   "cell_type": "code",
   "execution_count": null,
   "id": "d6f09a04",
   "metadata": {},
   "outputs": [],
   "source": []
  },
  {
   "cell_type": "code",
   "execution_count": null,
   "id": "09ca5b3c",
   "metadata": {},
   "outputs": [],
   "source": []
  },
  {
   "cell_type": "code",
   "execution_count": null,
   "id": "e7434df0",
   "metadata": {},
   "outputs": [],
   "source": []
  },
  {
   "cell_type": "code",
   "execution_count": null,
   "id": "f86508a2",
   "metadata": {},
   "outputs": [],
   "source": []
  },
  {
   "cell_type": "code",
   "execution_count": null,
   "id": "1f6a4f44",
   "metadata": {},
   "outputs": [],
   "source": []
  },
  {
   "cell_type": "code",
   "execution_count": null,
   "id": "0273c388",
   "metadata": {},
   "outputs": [],
   "source": []
  }
 ],
 "metadata": {
  "kernelspec": {
   "display_name": "Python 3 (ipykernel)",
   "language": "python",
   "name": "python3"
  },
  "language_info": {
   "codemirror_mode": {
    "name": "ipython",
    "version": 3
   },
   "file_extension": ".py",
   "mimetype": "text/x-python",
   "name": "python",
   "nbconvert_exporter": "python",
   "pygments_lexer": "ipython3",
   "version": "3.9.7"
  }
 },
 "nbformat": 4,
 "nbformat_minor": 5
}
