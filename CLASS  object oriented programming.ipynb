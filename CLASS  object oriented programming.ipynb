{
 "cells": [
  {
   "cell_type": "code",
   "execution_count": 35,
   "id": "dbf646c8",
   "metadata": {},
   "outputs": [
    {
     "name": "stdout",
     "output_type": "stream",
     "text": [
      "p= Point(x=3, y=4)\n",
      "r=5.0\n"
     ]
    }
   ],
   "source": [
    "class Point:\n",
    "    def __init__(self,x=0,y=0):\n",
    "        self.x=x\n",
    "        self.y=y\n",
    "        \n",
    "    def radious(self):\n",
    "        r=(self.x**2+self.y**2)**0.5\n",
    "        return r\n",
    "    def __str__(self):                              #or __str__=__repr__\n",
    "        \n",
    "        return f\"Point(x={self.x}, y={self.y})\"\n",
    "    def __repr__(self):\n",
    "        \n",
    "        return f\"Point(x={self.x}, y={self.y})\"\n",
    "    @classmethod\n",
    "    def origin(cls):\n",
    "        return Point(0,0)\n",
    "    @staticmethod\n",
    "    def distance(x1,y1,x2,y2)\n",
    "    dx=x2-x1\n",
    "    dy=y2-y1\n",
    "    return (dx**2+dy**2)**0.5\n",
    "        \n",
    "    \n",
    "p=Point(3,4)    \n",
    "print(f\"{p= }\")\n",
    "print(f\"r={p.radious()}\")\n"
   ]
  },
  {
   "cell_type": "code",
   "execution_count": 22,
   "id": "8af2bdaa",
   "metadata": {},
   "outputs": [
    {
     "data": {
      "text/plain": [
       "__main__.Point"
      ]
     },
     "execution_count": 22,
     "metadata": {},
     "output_type": "execute_result"
    }
   ],
   "source": [
    "type(p)"
   ]
  },
  {
   "cell_type": "code",
   "execution_count": 23,
   "id": "11482ec5",
   "metadata": {},
   "outputs": [
    {
     "data": {
      "text/plain": [
       "type"
      ]
     },
     "execution_count": 23,
     "metadata": {},
     "output_type": "execute_result"
    }
   ],
   "source": [
    "type(Point)"
   ]
  },
  {
   "cell_type": "code",
   "execution_count": 24,
   "id": "cca0ab2b",
   "metadata": {},
   "outputs": [
    {
     "data": {
      "text/plain": [
       "type"
      ]
     },
     "execution_count": 24,
     "metadata": {},
     "output_type": "execute_result"
    }
   ],
   "source": [
    "type(type)"
   ]
  },
  {
   "cell_type": "code",
   "execution_count": 25,
   "id": "b43e1e87",
   "metadata": {},
   "outputs": [
    {
     "data": {
      "text/plain": [
       "<bound method Point.radious of Point(x=3, y=4)>"
      ]
     },
     "execution_count": 25,
     "metadata": {},
     "output_type": "execute_result"
    }
   ],
   "source": [
    "p.radious"
   ]
  },
  {
   "cell_type": "code",
   "execution_count": 26,
   "id": "30fd9cf5",
   "metadata": {},
   "outputs": [
    {
     "data": {
      "text/plain": [
       "5.0"
      ]
     },
     "execution_count": 26,
     "metadata": {},
     "output_type": "execute_result"
    }
   ],
   "source": [
    "p.radious()"
   ]
  },
  {
   "cell_type": "code",
   "execution_count": 27,
   "id": "d9418f7c",
   "metadata": {},
   "outputs": [
    {
     "data": {
      "text/plain": [
       "5.0"
      ]
     },
     "execution_count": 27,
     "metadata": {},
     "output_type": "execute_result"
    }
   ],
   "source": [
    "Point.radious(p)     #Point.radious(p)==p.radious()"
   ]
  },
  {
   "cell_type": "code",
   "execution_count": 28,
   "id": "e3816ea3",
   "metadata": {},
   "outputs": [
    {
     "data": {
      "text/plain": [
       "Point(x=0, y=0)"
      ]
     },
     "execution_count": 28,
     "metadata": {},
     "output_type": "execute_result"
    }
   ],
   "source": [
    "Point.origin()"
   ]
  },
  {
   "cell_type": "code",
   "execution_count": 36,
   "id": "5368bbb9",
   "metadata": {},
   "outputs": [
    {
     "data": {
      "text/plain": [
       "<function __main__.Point.radious(self)>"
      ]
     },
     "execution_count": 36,
     "metadata": {},
     "output_type": "execute_result"
    }
   ],
   "source": [
    "p.origin()"
   ]
  },
  {
   "cell_type": "code",
   "execution_count": null,
   "id": "ae667284",
   "metadata": {},
   "outputs": [],
   "source": []
  }
 ],
 "metadata": {
  "kernelspec": {
   "display_name": "Python 3 (ipykernel)",
   "language": "python",
   "name": "python3"
  },
  "language_info": {
   "codemirror_mode": {
    "name": "ipython",
    "version": 3
   },
   "file_extension": ".py",
   "mimetype": "text/x-python",
   "name": "python",
   "nbconvert_exporter": "python",
   "pygments_lexer": "ipython3",
   "version": "3.9.7"
  }
 },
 "nbformat": 4,
 "nbformat_minor": 5
}
