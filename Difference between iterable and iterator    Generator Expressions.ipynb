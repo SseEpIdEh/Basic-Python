{
 "cells": [
  {
   "cell_type": "code",
   "execution_count": 1,
   "id": "e1c9cd88",
   "metadata": {},
   "outputs": [
    {
     "ename": "TypeError",
     "evalue": "'str' object is not an iterator",
     "output_type": "error",
     "traceback": [
      "\u001b[1;31m---------------------------------------------------------------------------\u001b[0m",
      "\u001b[1;31mTypeError\u001b[0m                                 Traceback (most recent call last)",
      "\u001b[1;32m~\\AppData\\Local\\Temp/ipykernel_7560/364243842.py\u001b[0m in \u001b[0;36m<module>\u001b[1;34m\u001b[0m\n\u001b[1;32m----> 1\u001b[1;33m \u001b[0mnext\u001b[0m\u001b[1;33m(\u001b[0m\u001b[1;34m'dfr'\u001b[0m\u001b[1;33m)\u001b[0m\u001b[1;33m\u001b[0m\u001b[1;33m\u001b[0m\u001b[0m\n\u001b[0m",
      "\u001b[1;31mTypeError\u001b[0m: 'str' object is not an iterator"
     ]
    }
   ],
   "source": [
    "next('dfr')"
   ]
  },
  {
   "cell_type": "code",
   "execution_count": 3,
   "id": "67c13e5c",
   "metadata": {},
   "outputs": [
    {
     "data": {
      "text/plain": [
       "['d', 'f', 'r']"
      ]
     },
     "execution_count": 3,
     "metadata": {},
     "output_type": "execute_result"
    }
   ],
   "source": [
    "list(iter('dfr'))"
   ]
  },
  {
   "cell_type": "code",
   "execution_count": 4,
   "id": "c8873ad5",
   "metadata": {},
   "outputs": [
    {
     "name": "stdout",
     "output_type": "stream",
     "text": [
      "d\n"
     ]
    }
   ],
   "source": [
    "s='dfr'\n",
    "s=iter(s)\n",
    "print(next(s))"
   ]
  },
  {
   "cell_type": "code",
   "execution_count": 6,
   "id": "725d7064",
   "metadata": {},
   "outputs": [
    {
     "name": "stdout",
     "output_type": "stream",
     "text": [
      "34 is iterable: True\n",
      "[4, 5] is iterable: True\n",
      "(4, 5) is iterable: True\n",
      "{'a': 4} is iterable: True\n",
      "dfsdf is iterable: True\n",
      "4.5 is iterable: False\n"
     ]
    }
   ],
   "source": [
    "def it(ob):\n",
    "    try:\n",
    "        iter(ob)\n",
    "        return True\n",
    "    except TypeError:\n",
    "        return False\n",
    "    \n",
    "for i in ['34',[4,5],(4,5),{\"a\":4},\"dfsdf\",4.5]:\n",
    "    print(i,\"is iterable:\", it(i))"
   ]
  },
  {
   "cell_type": "markdown",
   "id": "5d920035",
   "metadata": {},
   "source": [
    "In Python, an object is considered iterable if it has an __iter__() method that returns an iterator, or if it has a __getitem__() method that can take sequential integer indexes starting from 0.\n",
    "\n",
    "For example, a string can be iterated over because it is a sequence of characters, and it has a __getitem__() method that can be used to access individual characters by index. So, the function it() will return True for a string object.\n",
    "\n",
    "However, a string object that has a single character, like \"a\", is not considered iterable because it doesn't have a sequence of characters to iterate over. So, the function it() will return False for such a string object."
   ]
  },
  {
   "cell_type": "markdown",
   "id": "a15a57f2",
   "metadata": {},
   "source": [
    "# Generator Expressions:"
   ]
  },
  {
   "cell_type": "code",
   "execution_count": null,
   "id": "b80871c4",
   "metadata": {},
   "outputs": [],
   "source": []
  },
  {
   "cell_type": "code",
   "execution_count": null,
   "id": "4166a187",
   "metadata": {},
   "outputs": [],
   "source": []
  },
  {
   "cell_type": "code",
   "execution_count": null,
   "id": "9e3fbc4f",
   "metadata": {},
   "outputs": [],
   "source": []
  },
  {
   "cell_type": "code",
   "execution_count": null,
   "id": "c2ffbe60",
   "metadata": {},
   "outputs": [],
   "source": []
  },
  {
   "cell_type": "code",
   "execution_count": null,
   "id": "b0dab26d",
   "metadata": {},
   "outputs": [],
   "source": []
  }
 ],
 "metadata": {
  "kernelspec": {
   "display_name": "Python 3 (ipykernel)",
   "language": "python",
   "name": "python3"
  },
  "language_info": {
   "codemirror_mode": {
    "name": "ipython",
    "version": 3
   },
   "file_extension": ".py",
   "mimetype": "text/x-python",
   "name": "python",
   "nbconvert_exporter": "python",
   "pygments_lexer": "ipython3",
   "version": "3.9.7"
  }
 },
 "nbformat": 4,
 "nbformat_minor": 5
}
