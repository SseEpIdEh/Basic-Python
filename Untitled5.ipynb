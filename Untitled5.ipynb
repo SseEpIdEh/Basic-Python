{
 "cells": [
  {
   "cell_type": "code",
   "execution_count": 1,
   "id": "a47d5bbd",
   "metadata": {},
   "outputs": [
    {
     "name": "stdout",
     "output_type": "stream",
     "text": [
      "Enter a number: 25\n",
      "Too low\n",
      "Enter a number: 65\n",
      "Too high\n",
      "Enter a number: 45\n",
      "Too low\n",
      "Enter a number: 55\n",
      "Too high\n",
      "you just have one attempt to guess,\n",
      "Enter a number: 50\n",
      "Too low\n",
      "You have used all five attempts. Game over!\n"
     ]
    }
   ],
   "source": [
    "\n"
   ]
  },
  {
   "cell_type": "code",
   "execution_count": null,
   "id": "cc265656",
   "metadata": {},
   "outputs": [],
   "source": []
  },
  {
   "cell_type": "code",
   "execution_count": null,
   "id": "d8db9da4",
   "metadata": {},
   "outputs": [],
   "source": []
  },
  {
   "cell_type": "code",
   "execution_count": null,
   "id": "7fc88513",
   "metadata": {},
   "outputs": [],
   "source": []
  },
  {
   "cell_type": "code",
   "execution_count": null,
   "id": "229d02e5",
   "metadata": {},
   "outputs": [],
   "source": []
  },
  {
   "cell_type": "code",
   "execution_count": null,
   "id": "0b4630c3",
   "metadata": {},
   "outputs": [],
   "source": []
  },
  {
   "cell_type": "code",
   "execution_count": null,
   "id": "2c2c9a76",
   "metadata": {},
   "outputs": [],
   "source": []
  },
  {
   "cell_type": "code",
   "execution_count": null,
   "id": "3764432f",
   "metadata": {},
   "outputs": [],
   "source": []
  },
  {
   "cell_type": "code",
   "execution_count": null,
   "id": "882c286e",
   "metadata": {},
   "outputs": [],
   "source": []
  },
  {
   "cell_type": "code",
   "execution_count": null,
   "id": "f2f32ac0",
   "metadata": {},
   "outputs": [],
   "source": []
  },
  {
   "cell_type": "code",
   "execution_count": null,
   "id": "e294161b",
   "metadata": {},
   "outputs": [],
   "source": []
  },
  {
   "cell_type": "code",
   "execution_count": null,
   "id": "682c8494",
   "metadata": {},
   "outputs": [],
   "source": []
  },
  {
   "cell_type": "code",
   "execution_count": null,
   "id": "26f4d645",
   "metadata": {},
   "outputs": [],
   "source": []
  },
  {
   "cell_type": "code",
   "execution_count": null,
   "id": "6860d7b3",
   "metadata": {},
   "outputs": [],
   "source": []
  },
  {
   "cell_type": "code",
   "execution_count": 2,
   "id": "c949d79c",
   "metadata": {},
   "outputs": [
    {
     "name": "stdout",
     "output_type": "stream",
     "text": [
      "enter a number: 14\n",
      "too low\n",
      "enter a number: 85\n",
      "too high\n",
      "enter a number: 65\n",
      "too high\n",
      "enter a number: 55\n",
      "too high\n",
      "enter a number: 40\n",
      "too low\n",
      "you have just five attemps,game over\n"
     ]
    }
   ],
   "source": [
    "import random\n",
    "\n",
    "number=random.choice(range(1,100))\n",
    "\n",
    "attempts=5\n",
    "\n",
    "while attempts>0:\n",
    "    user_guess=int(input(\"enter a number: \"))\n",
    "                   \n",
    "    if user_guess > number:\n",
    "         print(\"too high\")\n",
    "    elif user_guess< number:\n",
    "         print(\"too low\")\n",
    "    else:\n",
    "         print(\"you win\")\n",
    "            #break\n",
    "    attempts-=1 \n",
    "    \n",
    "if attempts==0:\n",
    "    print(\"you have just five attemps,game over\")"
   ]
  },
  {
   "cell_type": "code",
   "execution_count": 10,
   "id": "3c0c8e1f",
   "metadata": {},
   "outputs": [
    {
     "name": "stdout",
     "output_type": "stream",
     "text": [
      "welcome to the number guessing game!\n",
      "I am thinking of a number between 1 and 100!\n",
      "choose a difficulty. type 'easy' or 'hard':hard\n",
      "you have 5 attemps remaining to guess the number.\n",
      "make a guess: 50\n",
      "too low.\n"
     ]
    }
   ],
   "source": [
    "from random import randint\n",
    "\n",
    "EASY_LEVEL_TURNS=10\n",
    "HARD_LEVEL_TURNS=5\n",
    "\n",
    "def check_answer(guess, answer):\n",
    "    if guess>answer:\n",
    "        print(\"too high\")\n",
    "    elif  guess<answer:\n",
    "        print(\"too low.\")\n",
    "    else:\n",
    "        print(f\"you got it!the answer{answer}.\")\n",
    "\n",
    "def set_difficulty():\n",
    "    level=input(\"choose a difficulty. type 'easy' or 'hard':\")\n",
    "    if level=='easy':\n",
    "            \n",
    "        return EASY_LEVEL_TURNS\n",
    "    else:\n",
    "        return HARD_LEVEL_TURNS\n",
    "        \n",
    "        \n",
    "print(\"welcome to the number guessing game!\")\n",
    "print(\"I am thinking of a number between 1 and 100!\")\n",
    "answer=randint(1,100) \n",
    "turns=set_difficulty()\n",
    "print(f\"you have {turns} attemps remaining to guess the number.\")\n",
    "\n",
    "guess=int(input(\"make a guess: \"))\n",
    "  \n",
    "check_answer(guess,answer)\n",
    " \n",
    "\n",
    " \n",
    "\n",
    "  \n",
    "\n",
    "\n"
   ]
  },
  {
   "cell_type": "code",
   "execution_count": null,
   "id": "1b5b742f",
   "metadata": {},
   "outputs": [],
   "source": []
  },
  {
   "cell_type": "code",
   "execution_count": null,
   "id": "3ddfaa38",
   "metadata": {},
   "outputs": [],
   "source": []
  },
  {
   "cell_type": "code",
   "execution_count": null,
   "id": "caef4ace",
   "metadata": {},
   "outputs": [],
   "source": []
  },
  {
   "cell_type": "code",
   "execution_count": null,
   "id": "6bc6f3fe",
   "metadata": {},
   "outputs": [],
   "source": []
  },
  {
   "cell_type": "code",
   "execution_count": null,
   "id": "ce81ecb3",
   "metadata": {},
   "outputs": [],
   "source": []
  },
  {
   "cell_type": "code",
   "execution_count": null,
   "id": "f7428fd6",
   "metadata": {},
   "outputs": [],
   "source": []
  },
  {
   "cell_type": "code",
   "execution_count": null,
   "id": "05a728b1",
   "metadata": {},
   "outputs": [],
   "source": []
  },
  {
   "cell_type": "code",
   "execution_count": null,
   "id": "1f62bb82",
   "metadata": {},
   "outputs": [],
   "source": []
  },
  {
   "cell_type": "code",
   "execution_count": null,
   "id": "36b11fd8",
   "metadata": {},
   "outputs": [],
   "source": []
  },
  {
   "cell_type": "code",
   "execution_count": null,
   "id": "eb1f904a",
   "metadata": {},
   "outputs": [],
   "source": []
  }
 ],
 "metadata": {
  "kernelspec": {
   "display_name": "Python 3 (ipykernel)",
   "language": "python",
   "name": "python3"
  },
  "language_info": {
   "codemirror_mode": {
    "name": "ipython",
    "version": 3
   },
   "file_extension": ".py",
   "mimetype": "text/x-python",
   "name": "python",
   "nbconvert_exporter": "python",
   "pygments_lexer": "ipython3",
   "version": "3.9.7"
  }
 },
 "nbformat": 4,
 "nbformat_minor": 5
}
