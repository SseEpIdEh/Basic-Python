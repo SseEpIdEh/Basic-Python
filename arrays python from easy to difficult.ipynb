{
 "cells": [
  {
   "cell_type": "markdown",
   "id": "0f7867ad",
   "metadata": {},
   "source": [
    "# Arrays"
   ]
  },
  {
   "cell_type": "code",
   "execution_count": 1,
   "id": "5baadd0f",
   "metadata": {},
   "outputs": [
    {
     "data": {
      "text/plain": [
       "1"
      ]
     },
     "execution_count": 1,
     "metadata": {},
     "output_type": "execute_result"
    }
   ],
   "source": [
    "ary=[1,35,7,9]\n",
    "ary[0]"
   ]
  },
  {
   "cell_type": "code",
   "execution_count": 2,
   "id": "dd3d07b7",
   "metadata": {},
   "outputs": [],
   "source": [
    "ary[3]=12"
   ]
  },
  {
   "cell_type": "code",
   "execution_count": 3,
   "id": "1dd14b7f",
   "metadata": {},
   "outputs": [
    {
     "data": {
      "text/plain": [
       "[1, 35, 7, 12]"
      ]
     },
     "execution_count": 3,
     "metadata": {},
     "output_type": "execute_result"
    }
   ],
   "source": [
    "ary"
   ]
  },
  {
   "cell_type": "code",
   "execution_count": 8,
   "id": "3c4e6f19",
   "metadata": {},
   "outputs": [
    {
     "name": "stdout",
     "output_type": "stream",
     "text": [
      "13\n"
     ]
    }
   ],
   "source": [
    "ary=[1,12,13,7,9,11]\n",
    " #max(ary) \n",
    "x=0\n",
    "for i in ary:\n",
    "    if x<i:\n",
    "        x=i\n",
    "print(x)\n",
    "    "
   ]
  },
  {
   "cell_type": "code",
   "execution_count": 11,
   "id": "df86d434",
   "metadata": {},
   "outputs": [
    {
     "name": "stdout",
     "output_type": "stream",
     "text": [
      "13\n"
     ]
    }
   ],
   "source": [
    "x=0\n",
    "for i in range(len(ary)):                       \n",
    "            if x<ary[i]:\n",
    "              x=ary[i]\n",
    "print(x)        "
   ]
  },
  {
   "cell_type": "code",
   "execution_count": 13,
   "id": "89a99713",
   "metadata": {},
   "outputs": [
    {
     "name": "stdout",
     "output_type": "stream",
     "text": [
      "[23, 23, 23, 23, 23, 23, 23, 23, 23, 23]\n"
     ]
    }
   ],
   "source": [
    "List=[]\n",
    "for i in range(10):\n",
    "    List.append(23)\n",
    "print(List)"
   ]
  },
  {
   "cell_type": "code",
   "execution_count": 14,
   "id": "94c583c9",
   "metadata": {},
   "outputs": [],
   "source": [
    "List[2]=90"
   ]
  },
  {
   "cell_type": "code",
   "execution_count": 15,
   "id": "de76c7c7",
   "metadata": {},
   "outputs": [
    {
     "data": {
      "text/plain": [
       "[23, 23, 90, 23, 23, 23, 23, 23, 23, 23]"
      ]
     },
     "execution_count": 15,
     "metadata": {},
     "output_type": "execute_result"
    }
   ],
   "source": [
    "List"
   ]
  },
  {
   "cell_type": "code",
   "execution_count": 16,
   "id": "d43b21d3",
   "metadata": {},
   "outputs": [],
   "source": [
    "List1=[0 for i in range(20)]"
   ]
  },
  {
   "cell_type": "code",
   "execution_count": 17,
   "id": "80512479",
   "metadata": {},
   "outputs": [
    {
     "data": {
      "text/plain": [
       "[0, 0, 0, 0, 0, 0, 0, 0, 0, 0, 0, 0, 0, 0, 0, 0, 0, 0, 0, 0]"
      ]
     },
     "execution_count": 17,
     "metadata": {},
     "output_type": "execute_result"
    }
   ],
   "source": [
    "List1"
   ]
  },
  {
   "cell_type": "code",
   "execution_count": 18,
   "id": "d16db07b",
   "metadata": {},
   "outputs": [],
   "source": [
    "List2=[ i*i for i in range(5)]"
   ]
  },
  {
   "cell_type": "code",
   "execution_count": 19,
   "id": "0b649d3d",
   "metadata": {},
   "outputs": [
    {
     "data": {
      "text/plain": [
       "[0, 1, 4, 9, 16]"
      ]
     },
     "execution_count": 19,
     "metadata": {},
     "output_type": "execute_result"
    }
   ],
   "source": [
    "List2"
   ]
  },
  {
   "cell_type": "code",
   "execution_count": 20,
   "id": "e08c379f",
   "metadata": {},
   "outputs": [],
   "source": [
    "array=[[3,4],[5,6]]"
   ]
  },
  {
   "cell_type": "code",
   "execution_count": 21,
   "id": "ac29a1ef",
   "metadata": {},
   "outputs": [
    {
     "data": {
      "text/plain": [
       "[3, 4]"
      ]
     },
     "execution_count": 21,
     "metadata": {},
     "output_type": "execute_result"
    }
   ],
   "source": [
    "array[0]"
   ]
  },
  {
   "cell_type": "code",
   "execution_count": 22,
   "id": "c2141c2e",
   "metadata": {},
   "outputs": [
    {
     "data": {
      "text/plain": [
       "4"
      ]
     },
     "execution_count": 22,
     "metadata": {},
     "output_type": "execute_result"
    }
   ],
   "source": [
    "array[0][1]"
   ]
  },
  {
   "cell_type": "code",
   "execution_count": 23,
   "id": "0181e30a",
   "metadata": {},
   "outputs": [],
   "source": [
    "array[0][1]=42"
   ]
  },
  {
   "cell_type": "code",
   "execution_count": 24,
   "id": "94897966",
   "metadata": {},
   "outputs": [
    {
     "data": {
      "text/plain": [
       "[[3, 42], [5, 6]]"
      ]
     },
     "execution_count": 24,
     "metadata": {},
     "output_type": "execute_result"
    }
   ],
   "source": [
    "array"
   ]
  },
  {
   "cell_type": "code",
   "execution_count": 25,
   "id": "349100a3",
   "metadata": {},
   "outputs": [
    {
     "data": {
      "text/plain": [
       "2"
      ]
     },
     "execution_count": 25,
     "metadata": {},
     "output_type": "execute_result"
    }
   ],
   "source": [
    "len(array)                              #  ** len shows us the number of dimension of an array**"
   ]
  },
  {
   "cell_type": "code",
   "execution_count": 26,
   "id": "510a767c",
   "metadata": {},
   "outputs": [],
   "source": [
    "array1=[[1 for j in range(5)] for i in range(2)]"
   ]
  },
  {
   "cell_type": "code",
   "execution_count": 27,
   "id": "3787f99b",
   "metadata": {},
   "outputs": [
    {
     "data": {
      "text/plain": [
       "[[1, 1, 1, 1, 1], [1, 1, 1, 1, 1]]"
      ]
     },
     "execution_count": 27,
     "metadata": {},
     "output_type": "execute_result"
    }
   ],
   "source": [
    "array1"
   ]
  },
  {
   "cell_type": "code",
   "execution_count": 28,
   "id": "acd39654",
   "metadata": {},
   "outputs": [],
   "source": [
    "array3=[[1,2,3,4],[5,6,7,8,9],[9,0,7,6]]"
   ]
  },
  {
   "cell_type": "code",
   "execution_count": 29,
   "id": "70617ab5",
   "metadata": {},
   "outputs": [],
   "source": [
    "array3=[[1 for j in range(5)] for i in range(3)]"
   ]
  },
  {
   "cell_type": "code",
   "execution_count": 30,
   "id": "15bf75f4",
   "metadata": {},
   "outputs": [
    {
     "data": {
      "text/plain": [
       "[[1, 1, 1, 1, 1], [1, 1, 1, 1, 1], [1, 1, 1, 1, 1]]"
      ]
     },
     "execution_count": 30,
     "metadata": {},
     "output_type": "execute_result"
    }
   ],
   "source": [
    "array3"
   ]
  },
  {
   "cell_type": "code",
   "execution_count": 121,
   "id": "e75927e7",
   "metadata": {},
   "outputs": [],
   "source": [
    "array6=[[1 for j in range(5)] for i in range(1)]"
   ]
  },
  {
   "cell_type": "code",
   "execution_count": 125,
   "id": "1cb544c0",
   "metadata": {},
   "outputs": [
    {
     "name": "stdout",
     "output_type": "stream",
     "text": [
      "[[1, 1, 1, 1, 1]]\n"
     ]
    }
   ],
   "source": [
    "print(array6)"
   ]
  },
  {
   "cell_type": "markdown",
   "id": "7bb80577",
   "metadata": {},
   "source": [
    "**Numpy saftware we should learn because it helps you for implementing numbers with arrays and so on**"
   ]
  },
  {
   "cell_type": "raw",
   "id": "3af2ebe5",
   "metadata": {},
   "source": [
    " **season nine :course43 in professional learning python in faradars**"
   ]
  },
  {
   "cell_type": "code",
   "execution_count": 34,
   "id": "3d2b35d8",
   "metadata": {},
   "outputs": [],
   "source": [
    "A=[1,2,3,4,5]"
   ]
  },
  {
   "cell_type": "code",
   "execution_count": 35,
   "id": "1f4d1929",
   "metadata": {},
   "outputs": [
    {
     "data": {
      "text/plain": [
       "4"
      ]
     },
     "execution_count": 35,
     "metadata": {},
     "output_type": "execute_result"
    }
   ],
   "source": [
    "A[3]"
   ]
  },
  {
   "cell_type": "code",
   "execution_count": 36,
   "id": "12d0eadc",
   "metadata": {},
   "outputs": [],
   "source": [
    "A[3]='sepideh'"
   ]
  },
  {
   "cell_type": "code",
   "execution_count": 37,
   "id": "f260bb51",
   "metadata": {},
   "outputs": [
    {
     "data": {
      "text/plain": [
       "[1, 2, 3, 'sepideh', 5]"
      ]
     },
     "execution_count": 37,
     "metadata": {},
     "output_type": "execute_result"
    }
   ],
   "source": [
    "A"
   ]
  },
  {
   "cell_type": "markdown",
   "id": "ba4ff232",
   "metadata": {},
   "source": [
    "# Creating a Array\n",
    "Array in Python can be created by importing array module. **array(data_type, value_list)** is used to create an array with data type and value list specified in its arguments. "
   ]
  },
  {
   "cell_type": "code",
   "execution_count": 49,
   "id": "d636cd44",
   "metadata": {},
   "outputs": [],
   "source": [
    "from array import array"
   ]
  },
  {
   "cell_type": "code",
   "execution_count": 100,
   "id": "7d303f22",
   "metadata": {},
   "outputs": [],
   "source": [
    "A=array('i',[8])                        #i=integer"
   ]
  },
  {
   "cell_type": "code",
   "execution_count": 101,
   "id": "ee28c601",
   "metadata": {},
   "outputs": [
    {
     "data": {
      "text/plain": [
       "array('i', [8])"
      ]
     },
     "execution_count": 101,
     "metadata": {},
     "output_type": "execute_result"
    }
   ],
   "source": [
    "A"
   ]
  },
  {
   "cell_type": "code",
   "execution_count": 102,
   "id": "b39eedc0",
   "metadata": {},
   "outputs": [],
   "source": [
    "A.append(8)"
   ]
  },
  {
   "cell_type": "code",
   "execution_count": 53,
   "id": "dff6d06e",
   "metadata": {},
   "outputs": [],
   "source": [
    "A.append(5)"
   ]
  },
  {
   "cell_type": "code",
   "execution_count": 54,
   "id": "1e588de1",
   "metadata": {},
   "outputs": [
    {
     "data": {
      "text/plain": [
       "array('i', [8, 5])"
      ]
     },
     "execution_count": 54,
     "metadata": {},
     "output_type": "execute_result"
    }
   ],
   "source": [
    "A"
   ]
  },
  {
   "cell_type": "code",
   "execution_count": 55,
   "id": "9fbec8f4",
   "metadata": {},
   "outputs": [
    {
     "data": {
      "text/plain": [
       "8"
      ]
     },
     "execution_count": 55,
     "metadata": {},
     "output_type": "execute_result"
    }
   ],
   "source": [
    "A[0]"
   ]
  },
  {
   "cell_type": "code",
   "execution_count": 64,
   "id": "55a51521",
   "metadata": {},
   "outputs": [
    {
     "ename": "TypeError",
     "evalue": "an integer is required (got type str)",
     "output_type": "error",
     "traceback": [
      "\u001b[1;31m---------------------------------------------------------------------------\u001b[0m",
      "\u001b[1;31mTypeError\u001b[0m                                 Traceback (most recent call last)",
      "\u001b[1;32m~\\AppData\\Local\\Temp/ipykernel_7384/2028117558.py\u001b[0m in \u001b[0;36m<module>\u001b[1;34m\u001b[0m\n\u001b[1;32m----> 1\u001b[1;33m \u001b[0mA\u001b[0m\u001b[1;33m[\u001b[0m\u001b[1;36m0\u001b[0m\u001b[1;33m]\u001b[0m\u001b[1;33m=\u001b[0m\u001b[1;34m'hi'\u001b[0m\u001b[1;33m\u001b[0m\u001b[1;33m\u001b[0m\u001b[0m\n\u001b[0m",
      "\u001b[1;31mTypeError\u001b[0m: an integer is required (got type str)"
     ]
    }
   ],
   "source": [
    "A[0]='hi'"
   ]
  },
  {
   "cell_type": "code",
   "execution_count": 66,
   "id": "ad6e979f",
   "metadata": {},
   "outputs": [],
   "source": [
    "A1=array('f')                                #'f'=float"
   ]
  },
  {
   "cell_type": "code",
   "execution_count": 67,
   "id": "451cccbd",
   "metadata": {},
   "outputs": [],
   "source": [
    "A1.append(5.0)"
   ]
  },
  {
   "cell_type": "code",
   "execution_count": 68,
   "id": "475ce200",
   "metadata": {},
   "outputs": [
    {
     "data": {
      "text/plain": [
       "array('f', [5.0])"
      ]
     },
     "execution_count": 68,
     "metadata": {},
     "output_type": "execute_result"
    }
   ],
   "source": [
    "A1"
   ]
  },
  {
   "cell_type": "code",
   "execution_count": 88,
   "id": "a16fc044",
   "metadata": {},
   "outputs": [],
   "source": [
    "A2=array('u')  "
   ]
  },
  {
   "cell_type": "code",
   "execution_count": 89,
   "id": "78ec5290",
   "metadata": {},
   "outputs": [],
   "source": [
    "A2.append('h')"
   ]
  },
  {
   "cell_type": "code",
   "execution_count": 90,
   "id": "9c61b462",
   "metadata": {},
   "outputs": [
    {
     "data": {
      "text/plain": [
       "array('u', 'h')"
      ]
     },
     "execution_count": 90,
     "metadata": {},
     "output_type": "execute_result"
    }
   ],
   "source": [
    "A2"
   ]
  },
  {
   "cell_type": "code",
   "execution_count": 91,
   "id": "9ab376d1",
   "metadata": {},
   "outputs": [],
   "source": [
    "A2[0]='s'"
   ]
  },
  {
   "cell_type": "code",
   "execution_count": 92,
   "id": "475de13f",
   "metadata": {},
   "outputs": [
    {
     "data": {
      "text/plain": [
       "array('u', 's')"
      ]
     },
     "execution_count": 92,
     "metadata": {},
     "output_type": "execute_result"
    }
   ],
   "source": [
    "A2"
   ]
  },
  {
   "cell_type": "code",
   "execution_count": 93,
   "id": "b18c5258",
   "metadata": {},
   "outputs": [],
   "source": [
    "A2.extend(['a','d','H','I'])"
   ]
  },
  {
   "cell_type": "code",
   "execution_count": 94,
   "id": "fd582b81",
   "metadata": {},
   "outputs": [
    {
     "data": {
      "text/plain": [
       "array('u', 'sadHI')"
      ]
     },
     "execution_count": 94,
     "metadata": {},
     "output_type": "execute_result"
    }
   ],
   "source": [
    "A2"
   ]
  },
  {
   "cell_type": "code",
   "execution_count": 95,
   "id": "f82680e0",
   "metadata": {},
   "outputs": [],
   "source": [
    "A.extend([1,2,3,4])"
   ]
  },
  {
   "cell_type": "code",
   "execution_count": 96,
   "id": "b1da2329",
   "metadata": {},
   "outputs": [
    {
     "data": {
      "text/plain": [
       "array('i', [8, 5, 1, 2, 3, 4, 1, 2, 3, 4, 1, 2, 3, 4])"
      ]
     },
     "execution_count": 96,
     "metadata": {},
     "output_type": "execute_result"
    }
   ],
   "source": [
    "A"
   ]
  },
  {
   "cell_type": "code",
   "execution_count": 129,
   "id": "d98bc9fd",
   "metadata": {},
   "outputs": [
    {
     "data": {
      "text/plain": [
       "array('i', [3, 5, 7, 8, 3])"
      ]
     },
     "execution_count": 129,
     "metadata": {},
     "output_type": "execute_result"
    }
   ],
   "source": [
    "B=arr.array('i',[3,5,7,8,3])\n",
    "B"
   ]
  },
  {
   "cell_type": "code",
   "execution_count": 131,
   "id": "433d979a",
   "metadata": {},
   "outputs": [
    {
     "name": "stdout",
     "output_type": "stream",
     "text": [
      "The new created array is :  1 2 3 \n",
      "\n",
      "The new created array is : \n",
      "2.5 3.2 3.3 "
     ]
    }
   ],
   "source": [
    "# Python program to demonstrate\n",
    "# Creation of Array\n",
    "\n",
    "# importing \"array\" for array creations\n",
    "import array as arr\n",
    "\n",
    "# creating an array with integer type\n",
    "a = arr.array('i', [1, 2, 3])\n",
    "\n",
    "# printing original array\n",
    "print(\"The new created array is : \", end=\" \")\n",
    "for i in range(0, 3):\n",
    "\tprint(a[i], end=\" \")\n",
    "print()\n",
    "\n",
    "# creating an array with double type\n",
    "b = arr.array('d', [2.5, 3.2, 3.3])\n",
    "\n",
    "# printing original array\n",
    "\n",
    "print(\"\\nThe new created array is : \")\n",
    "\n",
    "for i in range(0, 3):\n",
    "\tprint(b[i], end=\" \")"
   ]
  },
  {
   "cell_type": "code",
   "execution_count": 126,
   "id": "1095dff1",
   "metadata": {},
   "outputs": [
    {
     "name": "stdout",
     "output_type": "stream",
     "text": [
      "Array before insertion :  1 2 3 \n",
      "Array after insertion :  1 4 2 3 \n",
      "Array before insertion :  2.5 3.2 3.3 \n",
      "Array after insertion :  2.5 3.2 3.3 4.4 \n"
     ]
    }
   ],
   "source": [
    "# Python program to demonstrate\n",
    "# Adding Elements to a Array\n",
    "\n",
    "# importing \"array\" for array creations\n",
    "import array as arr\n",
    "\n",
    "# array with int type\n",
    "a = arr.array('i', [1, 2, 3])\n",
    "\n",
    "\n",
    "print(\"Array before insertion : \", end=\" \")\n",
    "for i in range(0, 3):\n",
    "\tprint(a[i], end=\" \")\n",
    "print()\n",
    "\n",
    "# inserting array using\n",
    "# insert() function means insert value at specific position insert 4 in first index(1)\n",
    "a.insert(1, 4)                                         \n",
    "\n",
    "print(\"Array after insertion : \", end=\" \")\n",
    "for i in (a):\n",
    "\tprint(i, end=\" \")\n",
    "print()\n",
    "\n",
    "# array with float type\n",
    "b = arr.array('d', [2.5, 3.2, 3.3])\n",
    "\n",
    "print(\"Array before insertion : \", end=\" \")\n",
    "for i in range(0, 3):\n",
    "\tprint(b[i], end=\" \")\n",
    "print()\n",
    "\n",
    "# adding an element using append()\n",
    "b.append(4.4)\n",
    "\n",
    "print(\"Array after insertion : \", end=\" \")\n",
    "for i in (b):\n",
    "\tprint(i, end=\" \")\n",
    "print()\n"
   ]
  },
  {
   "cell_type": "markdown",
   "id": "ee1569ff",
   "metadata": {},
   "source": [
    "# Accessing elements from the Array\n",
    "**In order to access the array items refer to the index number.\n",
    "Use the index \n",
    "operator [ ]\n",
    "to access an item in a array. The index must be an integer. **"
   ]
  },
  {
   "cell_type": "code",
   "execution_count": 132,
   "id": "649ff714",
   "metadata": {},
   "outputs": [
    {
     "name": "stdout",
     "output_type": "stream",
     "text": [
      "Access element is:  1\n",
      "Access element is:  4\n",
      "Access element is:  3.2\n",
      "Access element is:  3.3\n"
     ]
    }
   ],
   "source": [
    "# Python program to demonstrate\n",
    "# accessing of element from list\n",
    "\n",
    "# importing array module\n",
    "import array as arr\n",
    "\n",
    "# array with int type\n",
    "a = arr.array('i', [1, 2, 3, 4, 5, 6])\n",
    "\n",
    "# accessing element of array\n",
    "print(\"Access element is: \", a[0])\n",
    "\n",
    "# accessing element of array\n",
    "print(\"Access element is: \", a[3])\n",
    "\n",
    "# array with float type\n",
    "b = arr.array('d', [2.5, 3.2, 3.3])\n",
    "\n",
    "# accessing element of array\n",
    "print(\"Access element is: \", b[1])\n",
    "\n",
    "# accessing element of array\n",
    "print(\"Access element is: \", b[2])\n"
   ]
  },
  {
   "cell_type": "markdown",
   "id": "04c78472",
   "metadata": {},
   "source": [
    "# Removing Elements from the Array\n",
    "Elements can be removed from the array by using built-in remove() function but an Error arises if element doesn’t exist in the set. **Remove()** method only removes one element at a time, to remove range of elements, iterator is used. **pop()** function can also be used to remove and return an element from the array, but by default it removes only the last element of the array, to remove element from a specific position of the array, index of the element is passed as an argument to the pop() method.\n",
    "Note – Remove method in List will only remove the first occurrence of the searched element. "
   ]
  },
  {
   "cell_type": "markdown",
   "id": "065d8889",
   "metadata": {},
   "source": [
    "# remove() removes the first occurrence of a specified value from the list.\n",
    "\n",
    "# pop() removes the element at the specified index or the last element if no index is specified."
   ]
  },
  {
   "cell_type": "code",
   "execution_count": 136,
   "id": "4d72d1d0",
   "metadata": {},
   "outputs": [
    {
     "name": "stdout",
     "output_type": "stream",
     "text": [
      "The new created array is : 1 2 3 1 5 \r\n",
      "The popped element is : 3\n",
      "The array after popping is : 1 2 1 5 \r\n",
      "The array after removing is : 2 1 5 "
     ]
    }
   ],
   "source": [
    "# Python program to demonstrate\n",
    "# Removal of elements in a Array\n",
    "import array\n",
    "arr = array.array('i', [1, 2, 3, 1, 5])\n",
    "\n",
    "print(\"The new created array is : \", end=\"\")\n",
    "for i in range(0, 5):\n",
    "\tprint(arr[i], end=\" \")\n",
    "\n",
    "print(\"\\r\")\n",
    "\n",
    "# using pop() to remove element at 2nd position\n",
    "print(\"The popped element is : \", end=\"\")\n",
    "print(arr.pop(2))\n",
    "\n",
    "# printing array after popping\n",
    "print(\"The array after popping is : \", end=\"\")\n",
    "for i in range(0, 4):\n",
    "\tprint(arr[i], end=\" \")\n",
    "\n",
    "print(\"\\r\")\n",
    "\n",
    "# using remove() to remove 1st occurrence of 1\n",
    "arr.remove(1)\n",
    "#arr.pop(1)\n",
    "\n",
    "# printing array after removing\n",
    "print(\"The array after removing is : \", end=\"\")\n",
    "for i in range(0, 3):\n",
    "\tprint(arr[i], end=\" \")\n"
   ]
  },
  {
   "cell_type": "markdown",
   "id": "485ad4a8",
   "metadata": {},
   "source": [
    "# Slicing of a Array\n",
    "In Python array, there are multiple ways to print the whole array with all the elements, but to print a specific range of elements from the array, we use Slice operation. Slice operation is performed on array with the use of colon(:). To print elements from beginning to a range use [:Index], to print elements from end use [:-Index], to print elements from specific Index till the end use [Index:], to print elements within a range, use [Start Index:End Index] and to print whole List with the use of slicing operation, use [:]. Further, to print whole array in reverse order, use [::-1]. "
   ]
  },
  {
   "cell_type": "code",
   "execution_count": 137,
   "id": "9bfede44",
   "metadata": {},
   "outputs": [
    {
     "name": "stdout",
     "output_type": "stream",
     "text": [
      "Initial Array: \n",
      "1 2 3 4 5 6 7 8 9 10 \n",
      "Slicing elements in a range 3-8: \n",
      "array('i', [4, 5, 6, 7, 8])\n",
      "\n",
      "Elements sliced from 5th element till the end: \n",
      "array('i', [6, 7, 8, 9, 10])\n",
      "\n",
      "Printing all elements using slice operation: \n",
      "array('i', [1, 2, 3, 4, 5, 6, 7, 8, 9, 10])\n"
     ]
    }
   ],
   "source": [
    "import array as arr\n",
    "l = [1, 2, 3, 4, 5, 6, 7, 8, 9, 10]\n",
    "\n",
    "a = arr.array('i', l)\n",
    "print(\"Initial Array: \")\n",
    "for i in (a):\n",
    "\tprint(i, end=\" \")\n",
    "# using Slice operation\n",
    "Sliced_array = a[3:8]\n",
    "print(\"\\nSlicing elements in a range 3-8: \")\n",
    "print(Sliced_array)\n",
    "\n",
    "# Print elements from a\n",
    "# pre-defined point to end\n",
    "Sliced_array = a[5:]\n",
    "print(\"\\nElements sliced from 5th \"\n",
    "\t\"element till the end: \")\n",
    "print(Sliced_array)\n",
    "\n",
    "# Printing elements from\n",
    "# beginning till end\n",
    "Sliced_array = a[:]\n",
    "print(\"\\nPrinting all elements using slice operation: \")\n",
    "print(Sliced_array)\n"
   ]
  },
  {
   "cell_type": "markdown",
   "id": "d290e891",
   "metadata": {},
   "source": [
    "# Searching element in a Array\n",
    "In order to search an element in the array we use a python in-built index() method. This function returns the index of the first occurrence of value mentioned in arguments."
   ]
  },
  {
   "cell_type": "code",
   "execution_count": 138,
   "id": "5d8b25ea",
   "metadata": {},
   "outputs": [
    {
     "name": "stdout",
     "output_type": "stream",
     "text": [
      "The new created array is : 1 2 3 1 2 5 \r\n",
      "The index of 1st occurrence of 2 is : 1\n",
      "The index of 1st occurrence of 1 is : 0\n"
     ]
    }
   ],
   "source": [
    "import array\n",
    "\n",
    "# initializing array with array values\n",
    "# initializes array with signed integers\n",
    "arr = array.array('i', [1, 2, 3, 1, 2, 5])\n",
    "\n",
    "# printing original array\n",
    "print(\"The new created array is : \", end=\"\")\n",
    "for i in range(0, 6):\n",
    "\tprint(arr[i], end=\" \")\n",
    "\n",
    "print(\"\\r\")\n",
    "\n",
    "# using index() to print index of 1st occurrence of 2\n",
    "print(\"The index of 1st occurrence of 2 is : \", end=\"\")\n",
    "print(arr.index(2))\n",
    "\n",
    "# using index() to print index of 1st occurrence of 1\n",
    "print(\"The index of 1st occurrence of 1 is : \", end=\"\")\n",
    "print(arr.index(1))\n"
   ]
  },
  {
   "cell_type": "markdown",
   "id": "d4b67b20",
   "metadata": {},
   "source": [
    "# index()\n",
    ":-\n",
    "This function returns the index of the first occurrence of the value mentioned in the arguments.\n",
    "# reverse() \n",
    ":- This function reverses the array."
   ]
  },
  {
   "cell_type": "code",
   "execution_count": 1,
   "id": "5bc1985a",
   "metadata": {},
   "outputs": [
    {
     "name": "stdout",
     "output_type": "stream",
     "text": [
      "The new created array is : 1 2 3 1 2 5 \r\n",
      "The index of 1st occurrence of 2 is : 1\n",
      "The array after reversing is : 5 2 1 3 2 1 "
     ]
    }
   ],
   "source": [
    "# Python code to demonstrate the working of\n",
    "# index() and reverse()\n",
    "\n",
    "# importing \"array\" for array operations\n",
    "import array\n",
    "arr= array.array('i',[1, 2, 3, 1, 2, 5])\n",
    "\n",
    "# printing original array\n",
    "print (\"The new created array is : \",end=\"\")\n",
    "for i in range (0,6):\n",
    "\tprint (arr[i],end=\" \")\n",
    "\n",
    "print (\"\\r\")\n",
    "\n",
    "# using index() to print index of 1st occurrence of 2\n",
    "print (\"The index of 1st occurrence of 2 is : \",end=\"\")\n",
    "print (arr.index(2))\n",
    "\n",
    "#using reverse() to reverse the array\n",
    "arr.reverse()\n",
    "\n",
    "# printing array after reversing\n",
    "print (\"The array after reversing is : \",end=\"\")\n",
    "for i in range (0,6):\n",
    "\tprint (arr[i],end=\" \")\n"
   ]
  },
  {
   "cell_type": "code",
   "execution_count": 6,
   "id": "fa2c8642",
   "metadata": {},
   "outputs": [],
   "source": [
    "A=[1,2,3,4,5,6,7]"
   ]
  },
  {
   "cell_type": "code",
   "execution_count": 35,
   "id": "0d022987",
   "metadata": {},
   "outputs": [],
   "source": [
    "from array import array"
   ]
  },
  {
   "cell_type": "code",
   "execution_count": 36,
   "id": "a5dc2684",
   "metadata": {},
   "outputs": [],
   "source": [
    "A=array('i',[1,2,3,4,5,6,7])"
   ]
  },
  {
   "cell_type": "code",
   "execution_count": 37,
   "id": "af3a1b65",
   "metadata": {},
   "outputs": [
    {
     "name": "stdout",
     "output_type": "stream",
     "text": [
      "array('i', [1, 2, 3, 4, 5, 6, 7])\n"
     ]
    }
   ],
   "source": [
    "print(A)"
   ]
  },
  {
   "cell_type": "code",
   "execution_count": 38,
   "id": "ab266668",
   "metadata": {},
   "outputs": [],
   "source": [
    "A.insert(1,12)"
   ]
  },
  {
   "cell_type": "code",
   "execution_count": 39,
   "id": "05697dff",
   "metadata": {},
   "outputs": [
    {
     "data": {
      "text/plain": [
       "array('i', [1, 12, 2, 3, 4, 5, 6, 7])"
      ]
     },
     "execution_count": 39,
     "metadata": {},
     "output_type": "execute_result"
    }
   ],
   "source": [
    "A"
   ]
  },
  {
   "cell_type": "code",
   "execution_count": 40,
   "id": "83a505b3",
   "metadata": {},
   "outputs": [],
   "source": [
    "A.remove(1)"
   ]
  },
  {
   "cell_type": "code",
   "execution_count": 41,
   "id": "a2ad0b69",
   "metadata": {},
   "outputs": [
    {
     "data": {
      "text/plain": [
       "array('i', [12, 2, 3, 4, 5, 6, 7])"
      ]
     },
     "execution_count": 41,
     "metadata": {},
     "output_type": "execute_result"
    }
   ],
   "source": [
    "A"
   ]
  },
  {
   "cell_type": "code",
   "execution_count": 42,
   "id": "5b698083",
   "metadata": {},
   "outputs": [
    {
     "data": {
      "text/plain": [
       "3"
      ]
     },
     "execution_count": 42,
     "metadata": {},
     "output_type": "execute_result"
    }
   ],
   "source": [
    "A.pop(2)"
   ]
  },
  {
   "cell_type": "code",
   "execution_count": 43,
   "id": "98543b7a",
   "metadata": {},
   "outputs": [
    {
     "data": {
      "text/plain": [
       "array('i', [12, 2, 4, 5, 6, 7])"
      ]
     },
     "execution_count": 43,
     "metadata": {},
     "output_type": "execute_result"
    }
   ],
   "source": [
    "A"
   ]
  },
  {
   "cell_type": "code",
   "execution_count": 44,
   "id": "5b3b44ad",
   "metadata": {},
   "outputs": [],
   "source": [
    "A.reverse()"
   ]
  },
  {
   "cell_type": "code",
   "execution_count": 45,
   "id": "01183bf3",
   "metadata": {},
   "outputs": [
    {
     "data": {
      "text/plain": [
       "array('i', [7, 6, 5, 4, 2, 12])"
      ]
     },
     "execution_count": 45,
     "metadata": {},
     "output_type": "execute_result"
    }
   ],
   "source": [
    "A"
   ]
  },
  {
   "cell_type": "code",
   "execution_count": 47,
   "id": "f76999a2",
   "metadata": {},
   "outputs": [],
   "source": [
    "import array"
   ]
  },
  {
   "cell_type": "code",
   "execution_count": 60,
   "id": "6953d057",
   "metadata": {},
   "outputs": [
    {
     "name": "stdout",
     "output_type": "stream",
     "text": [
      " the new created array: 0 1 2 3 4 5 6 7 8 array('i', [8, 7, 6, 5, 4, 3, 2, 1, 0])\n",
      "array('i', [8, 7, 5, 4, 3, 2, 1, 0])\n",
      "array('i', [8, 5, 4, 3, 2, 1, 0])\n"
     ]
    }
   ],
   "source": [
    "B=array.array('i',[0,1,2,3,4,5,6,7,8] )\n",
    "\n",
    "print(\" the new created array: \", end=\"\")\n",
    "for i in range(0,9):\n",
    "    print(B[i], end=\" \")\n",
    "B.reverse()\n",
    "print(B)\n",
    "B.remove(6)\n",
    "print(B)\n",
    "B.pop(1)\n",
    "print(B)"
   ]
  },
  {
   "cell_type": "code",
   "execution_count": null,
   "id": "740accc4",
   "metadata": {},
   "outputs": [],
   "source": []
  }
 ],
 "metadata": {
  "kernelspec": {
   "display_name": "Python 3 (ipykernel)",
   "language": "python",
   "name": "python3"
  },
  "language_info": {
   "codemirror_mode": {
    "name": "ipython",
    "version": 3
   },
   "file_extension": ".py",
   "mimetype": "text/x-python",
   "name": "python",
   "nbconvert_exporter": "python",
   "pygments_lexer": "ipython3",
   "version": "3.9.7"
  }
 },
 "nbformat": 4,
 "nbformat_minor": 5
}
