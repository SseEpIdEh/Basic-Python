{
 "cells": [
  {
   "cell_type": "code",
   "execution_count": null,
   "id": "e6fa0ae1",
   "metadata": {},
   "outputs": [],
   "source": [
    " Convert TIFF images to PNG format\n",
    "for file_name in os.listdir(\"/content/drive/MyDrive/dataset_tumor/dataset_brain/train/\"):\n",
    "    if file_name.endswith(\".tif\"):\n",
    "        image = Image.open(os.path.join(\"/content/drive/MyDrive/dataset_tumor/dataset_brain/train/\", file_name))\n",
    "        image.save(os.path.join(\"/content/drive/MyDrive/dataset_tumor/dataset_brain/train/\", file_name.replace(\".tif\", \".png\")))\n",
    "        \n",
    "for file_name in os.listdir(\"/content/drive/MyDrive/dataset_tumor/dataset_brain/train_mask/\"):\n",
    "    if file_name.endswith(\".tif\"):\n",
    "        image = Image.open(os.path.join(\"/content/drive/MyDrive/dataset_tumor/dataset_brain/train_mask/\", file_name))\n",
    "        image.save(os.path.join(\"/content/drive/MyDrive/dataset_tumor/dataset_brain/train_mask/\", file_name.replace(\".tif\", \".png\"))) "
   ]
  },
  {
   "cell_type": "code",
   "execution_count": null,
   "id": "73171b2c",
   "metadata": {},
   "outputs": [],
   "source": [
    "\n",
    "# Follower=max_follower['follower_count']\n",
    "# Name=max_follower['name']\n",
    "# Description=max_follower['description']\n",
    "# Country=max_follower['country']\n",
    "# print(f\"{Follower}: {Name} , a {Description}, from {Country} .\")"
   ]
  },
  {
   "cell_type": "code",
   "execution_count": null,
   "id": "e037e768",
   "metadata": {},
   "outputs": [],
   "source": []
  },
  {
   "cell_type": "code",
   "execution_count": null,
   "id": "36ef7b87",
   "metadata": {},
   "outputs": [],
   "source": []
  },
  {
   "cell_type": "code",
   "execution_count": null,
   "id": "edc4bcb7",
   "metadata": {},
   "outputs": [],
   "source": []
  },
  {
   "cell_type": "code",
   "execution_count": null,
   "id": "d57df9f6",
   "metadata": {},
   "outputs": [],
   "source": []
  },
  {
   "cell_type": "code",
   "execution_count": null,
   "id": "643428b7",
   "metadata": {},
   "outputs": [],
   "source": []
  }
 ],
 "metadata": {
  "kernelspec": {
   "display_name": "Python 3 (ipykernel)",
   "language": "python",
   "name": "python3"
  },
  "language_info": {
   "codemirror_mode": {
    "name": "ipython",
    "version": 3
   },
   "file_extension": ".py",
   "mimetype": "text/x-python",
   "name": "python",
   "nbconvert_exporter": "python",
   "pygments_lexer": "ipython3",
   "version": "3.9.7"
  }
 },
 "nbformat": 4,
 "nbformat_minor": 5
}
