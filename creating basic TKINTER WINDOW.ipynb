{
 "cells": [
  {
   "cell_type": "markdown",
   "id": "1fdab166",
   "metadata": {},
   "source": [
    "**In Tkinter, a widget is a graphical element that can be added to a window or frame to display text, images, buttons, input fields, and other user interface elements. Some of the commonly used widgets in Tkinter include:\n",
    "\n",
    "# Label: displays text or images\n",
    "# Button: triggers an action when clicked\n",
    "# Entry: allows users to enter text\n",
    "Text: displays multiple lines of text\n",
    "Canvas: displays graphics and shapes\n",
    "Checkbutton: allows users to select multiple options\n",
    "Radiobutton: allows users to select a single option from a group of options\n",
    "Listbox: displays a list of items\n",
    "To add widgets to a Tkinter window, you"
   ]
  },
  {
   "cell_type": "code",
   "execution_count": 1,
   "id": "ad553cc0",
   "metadata": {},
   "outputs": [],
   "source": [
    "import tkinter as tk"
   ]
  },
  {
   "cell_type": "code",
   "execution_count": 2,
   "id": "cb083202",
   "metadata": {},
   "outputs": [],
   "source": [
    "root=tk.Tk()"
   ]
  },
  {
   "cell_type": "code",
   "execution_count": 3,
   "id": "cadc30fe",
   "metadata": {},
   "outputs": [],
   "source": [
    "label=tk.Label(root, text='Hello, world!')\n"
   ]
  },
  {
   "cell_type": "code",
   "execution_count": 4,
   "id": "a52a8915",
   "metadata": {},
   "outputs": [],
   "source": [
    "label.pack()"
   ]
  },
  {
   "cell_type": "code",
   "execution_count": 5,
   "id": "a12067b0",
   "metadata": {},
   "outputs": [],
   "source": [
    "button=tk.Button(root, text='Enter')\n"
   ]
  },
  {
   "cell_type": "code",
   "execution_count": 6,
   "id": "01977912",
   "metadata": {},
   "outputs": [],
   "source": [
    "button.pack(side='left')"
   ]
  },
  {
   "cell_type": "code",
   "execution_count": 7,
   "id": "736d5571",
   "metadata": {},
   "outputs": [],
   "source": [
    "def display_message():\n",
    "    print('Button clicked!')\n",
    "\n",
    "button = tk.Button(root, text='click me!', font=('Arial', 12), command=display_message)\n",
    "button.pack()\n"
   ]
  },
  {
   "cell_type": "code",
   "execution_count": 8,
   "id": "feefaab3",
   "metadata": {},
   "outputs": [],
   "source": [
    "button = tk.Button(root, text='Enter', fg='white')\n"
   ]
  },
  {
   "cell_type": "code",
   "execution_count": null,
   "id": "095499e7",
   "metadata": {},
   "outputs": [],
   "source": [
    "root.mainloop()"
   ]
  },
  {
   "cell_type": "code",
   "execution_count": null,
   "id": "865eb1cc",
   "metadata": {},
   "outputs": [],
   "source": [
    "!pip install tk"
   ]
  },
  {
   "cell_type": "code",
   "execution_count": null,
   "id": "d2db4fa7",
   "metadata": {},
   "outputs": [],
   "source": [
    "import tkinter as tk"
   ]
  },
  {
   "cell_type": "code",
   "execution_count": null,
   "id": "8dc4f194",
   "metadata": {},
   "outputs": [],
   "source": [
    "root=tk.Tk()"
   ]
  },
  {
   "cell_type": "code",
   "execution_count": null,
   "id": "13a14445",
   "metadata": {},
   "outputs": [],
   "source": [
    "!pip install Pillow"
   ]
  },
  {
   "cell_type": "code",
   "execution_count": 6,
   "id": "e16b6c4a",
   "metadata": {},
   "outputs": [],
   "source": [
    "import tkinter\n",
    "import os\n",
    "from tkinter import *\n",
    "\n",
    "# To get the space above for message\n",
    "from tkinter.messagebox import *\n",
    "\n",
    "# To get the dialog box to open when required\n",
    "from tkinter.filedialog import *\n"
   ]
  },
  {
   "cell_type": "code",
   "execution_count": 7,
   "id": "0b355892",
   "metadata": {},
   "outputs": [],
   "source": [
    "root.mainloop()"
   ]
  },
  {
   "cell_type": "code",
   "execution_count": 8,
   "id": "1fb305d4",
   "metadata": {},
   "outputs": [
    {
     "ename": "AttributeError",
     "evalue": "'Text' object has no attribute '__thisTextArea'",
     "output_type": "error",
     "traceback": [
      "\u001b[1;31m---------------------------------------------------------------------------\u001b[0m",
      "\u001b[1;31mAttributeError\u001b[0m                            Traceback (most recent call last)",
      "\u001b[1;32m~\\AppData\\Local\\Temp/ipykernel_180/4293884681.py\u001b[0m in \u001b[0;36m<module>\u001b[1;34m\u001b[0m\n\u001b[0;32m      1\u001b[0m \u001b[1;31m# Add controls(widget)\u001b[0m\u001b[1;33m\u001b[0m\u001b[1;33m\u001b[0m\u001b[0m\n\u001b[1;32m----> 2\u001b[1;33m \u001b[0mtextbox\u001b[0m\u001b[1;33m.\u001b[0m\u001b[0m__thisTextArea\u001b[0m\u001b[1;33m.\u001b[0m\u001b[0mgrid\u001b[0m\u001b[1;33m(\u001b[0m\u001b[0msticky\u001b[0m \u001b[1;33m=\u001b[0m \u001b[0mN\u001b[0m \u001b[1;33m+\u001b[0m \u001b[0mE\u001b[0m \u001b[1;33m+\u001b[0m \u001b[0mS\u001b[0m \u001b[1;33m+\u001b[0m \u001b[0mW\u001b[0m\u001b[1;33m)\u001b[0m\u001b[1;33m\u001b[0m\u001b[1;33m\u001b[0m\u001b[0m\n\u001b[0m\u001b[0;32m      3\u001b[0m \u001b[1;33m\u001b[0m\u001b[0m\n\u001b[0;32m      4\u001b[0m \u001b[1;31m# To open new file\u001b[0m\u001b[1;33m\u001b[0m\u001b[1;33m\u001b[0m\u001b[0m\n\u001b[0;32m      5\u001b[0m \u001b[0mtextbox\u001b[0m\u001b[1;33m.\u001b[0m\u001b[0m__thisFileMenu\u001b[0m\u001b[1;33m.\u001b[0m\u001b[0madd_command\u001b[0m\u001b[1;33m(\u001b[0m\u001b[0mlabel\u001b[0m \u001b[1;33m=\u001b[0m \u001b[1;34m\"New\"\u001b[0m\u001b[1;33m,\u001b[0m\u001b[0mcommand\u001b[0m \u001b[1;33m=\u001b[0m \u001b[0mtextbox\u001b[0m\u001b[1;33m.\u001b[0m\u001b[0m__newFile\u001b[0m\u001b[1;33m)\u001b[0m\u001b[1;33m\u001b[0m\u001b[1;33m\u001b[0m\u001b[0m\n",
      "\u001b[1;31mAttributeError\u001b[0m: 'Text' object has no attribute '__thisTextArea'"
     ]
    }
   ],
   "source": [
    "# Add controls(widget)\n",
    "textbox.__thisTextArea.grid(sticky = N + E + S + W)\n",
    "\n",
    "# To open new file\n",
    "textbox.__thisFileMenu.add_command(label = \"New\",command = textbox.__newFile)\n",
    "\n",
    "# To open a already existing file\n",
    "textbox.__thisFileMenu.add_command(label = \"Open\",command = textbox.__openFile)\n",
    "\n",
    "# To save current file\n",
    "textbox.__thisFileMenu.add_command(label = \"Save\",command = textbox.__saveFile)\n",
    "\n",
    "# To create a line in the dialog\n",
    "textbox.__thisFileMenu.add_separator()\n",
    "\n",
    "# To terminate\n",
    "textbox.__thisFileMenu.add_command(label = \"Exit\",\n",
    "\t\t\t\t\t\t\t\tcommand = self.__quitApplication)\n",
    "textbox.__thisMenuBar.add_cascade(label = \"File\",\n",
    "\t\t\t\t\t\t\tmenu = self.__thisFileMenu)\n",
    "\n",
    "# To give a feature of cut\n",
    "textbox.__thisEditMenu.add_command(label = \"Cut\",\n",
    "\t\t\t\t\t\t\t\tcommand = self.__cut)\n",
    "\n",
    "# To give a feature of copy\n",
    "textbox.__thisEditMenu.add_command(label = \"Copy\",\n",
    "\t\t\t\t\t\t\t\tcommand = self.__copy)\n",
    "\n",
    "# To give a feature of paste\n",
    "textbox.__thisEditMenu.add_command(label = \"Paste\",\n",
    "\t\t\t\t\t\t\t\tcommand = self.__paste)\n",
    "\n",
    "# To give a feature of editing\n",
    "textbox.__thisMenuBar.add_cascade(label = \"Edit\",\n",
    "\t\t\t\t\t\t\tmenu = textbox.__thisEditMenu)\n",
    "\n",
    "# To create a feature of description of the notepad\n",
    "textbox.__thisHelpMenu.add_command(label = \"About Notepad\",command = textbox.__showAbout)\n",
    "textbox.__thisMenuBar.add_cascade(label = \"Help\",menu = textbox.__thisHelpMenu)\n",
    "\n",
    "textbox__root.config(menu = textbox.__thisMenuBar)\n",
    "\n",
    "textbox.__thisScrollBar.pack(side = RIGHT, fill = Y)\n",
    "\n",
    "textbox.__thisScrollBar.config(command = textbox.__thisTextArea.yview)\n",
    "textbox.__thisTextArea.config(yscrollcommand = textbox.__thisScrollBar.set)\n"
   ]
  },
  {
   "cell_type": "code",
   "execution_count": 1,
   "id": "c6d48662",
   "metadata": {},
   "outputs": [],
   "source": [
    "import tkinter as tk\n",
    "from tkinter import filedialog\n",
    "\n",
    "def save_file():\n",
    "    file = filedialog.asksaveasfile(mode='w', defaultextension=\".txt\")\n",
    "    if file is not None:\n",
    "        text = str(textbox.get(1.0, tk.END))\n",
    "        file.write(text)\n",
    "        file.close()\n",
    "\n",
    "def paste_text():\n",
    "    clipboard_text = root.clipboard_get()\n",
    "    textbox.insert(tk.INSERT, clipboard_text)\n",
    "\n",
    "root = tk.Tk()\n",
    "\n",
    "# Create a menu bar\n",
    "menubar = tk.Menu(root)\n",
    "\n",
    "# Create a File menu\n",
    "filemenu = tk.Menu(menubar, tearoff=0)\n",
    "filemenu.add_command(label=\"Save\", command=save_file)\n",
    "\n",
    "# Create an Edit menu\n",
    "editmenu = tk.Menu(menubar, tearoff=0)\n",
    "editmenu.add_command(label=\"Paste\", command=paste_text)\n",
    "\n",
    "# Add the menus to the menu bar\n",
    "menubar.add_cascade(label=\"File\", menu=filemenu)\n",
    "menubar.add_cascade(label=\"Edit\", menu=editmenu)\n",
    "\n",
    "# Create a text box to display text\n",
    "textbox = tk.Text(root)\n",
    "textbox.pack()\n",
    "\n",
    "# Add the menu bar to the root window\n",
    "root.config(menu=menubar)\n",
    "\n",
    "# Start the event loop\n",
    "root.mainloop()\n"
   ]
  },
  {
   "cell_type": "code",
   "execution_count": null,
   "id": "16c828f4",
   "metadata": {},
   "outputs": [],
   "source": []
  },
  {
   "cell_type": "code",
   "execution_count": null,
   "id": "726edf6e",
   "metadata": {},
   "outputs": [],
   "source": []
  },
  {
   "cell_type": "code",
   "execution_count": null,
   "id": "5ad526f7",
   "metadata": {},
   "outputs": [],
   "source": []
  }
 ],
 "metadata": {
  "kernelspec": {
   "display_name": "Python 3 (ipykernel)",
   "language": "python",
   "name": "python3"
  },
  "language_info": {
   "codemirror_mode": {
    "name": "ipython",
    "version": 3
   },
   "file_extension": ".py",
   "mimetype": "text/x-python",
   "name": "python",
   "nbconvert_exporter": "python",
   "pygments_lexer": "ipython3",
   "version": "3.9.7"
  }
 },
 "nbformat": 4,
 "nbformat_minor": 5
}
