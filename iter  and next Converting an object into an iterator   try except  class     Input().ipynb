{
 "cells": [
  {
   "cell_type": "markdown",
   "id": "21677389",
   "metadata": {},
   "source": [
    "# iter()\n",
    "\n",
    "\n",
    "\n",
    "**At many instances, we get a need to access an object like an iterator. One way is to form a generator loop but that extends the task and time taken by the programmer. Python eases this task by providing a built-in method __iter__() for this task.\n",
    "The __iter__() function returns an iterator for the given object (array, set, tuple, etc. or custom objects). It creates an object that can be accessed one element at a time using __next__() function, which generally comes in handy when dealing with loops.\n",
    "\n",
    "Syntax : \n",
    "\n",
    "iter(object)\n",
    "iter(callable, sentinel)\n",
    "\n",
    "**Object: \n",
    "\n",
    "The object whose iterator has to be created. It can be a collection object like list or tuple or a user-defined object (using OOPS).\n",
    "**Callable, Sentinel: \n",
    "\n",
    "Callable represents a callable object, and sentinel is the value at which the iteration is needed to be terminated, sentinel value represents the end of sequence being iterated."
   ]
  },
  {
   "cell_type": "code",
   "execution_count": 57,
   "id": "a46ab566",
   "metadata": {},
   "outputs": [
    {
     "name": "stdout",
     "output_type": "stream",
     "text": [
      "s e p i d e h "
     ]
    }
   ],
   "source": [
    "s='sepideh'\n",
    "for c in s:\n",
    "    print(c,end=' ')"
   ]
  },
  {
   "cell_type": "code",
   "execution_count": 58,
   "id": "b2c73136",
   "metadata": {},
   "outputs": [
    {
     "data": {
      "text/plain": [
       "<str_iterator at 0x29a4c6775e0>"
      ]
     },
     "execution_count": 58,
     "metadata": {},
     "output_type": "execute_result"
    }
   ],
   "source": [
    "iter(s)"
   ]
  },
  {
   "cell_type": "code",
   "execution_count": 59,
   "id": "18f2d5e9",
   "metadata": {},
   "outputs": [
    {
     "data": {
      "text/plain": [
       "['s', 'e', 'p', 'i', 'd', 'e', 'h']"
      ]
     },
     "execution_count": 59,
     "metadata": {},
     "output_type": "execute_result"
    }
   ],
   "source": [
    "list(iter(s))"
   ]
  },
  {
   "cell_type": "code",
   "execution_count": 92,
   "id": "f27357bc",
   "metadata": {},
   "outputs": [],
   "source": [
    "s='sep'\n",
    "\n",
    "it=iter(s)"
   ]
  },
  {
   "cell_type": "code",
   "execution_count": 93,
   "id": "9a382c99",
   "metadata": {},
   "outputs": [
    {
     "data": {
      "text/plain": [
       "'s'"
      ]
     },
     "execution_count": 93,
     "metadata": {},
     "output_type": "execute_result"
    }
   ],
   "source": [
    "next(it)"
   ]
  },
  {
   "cell_type": "code",
   "execution_count": 94,
   "id": "fdccdd8b",
   "metadata": {},
   "outputs": [
    {
     "data": {
      "text/plain": [
       "'e'"
      ]
     },
     "execution_count": 94,
     "metadata": {},
     "output_type": "execute_result"
    }
   ],
   "source": [
    "next(it)"
   ]
  },
  {
   "cell_type": "code",
   "execution_count": 95,
   "id": "ce1ff4b7",
   "metadata": {},
   "outputs": [
    {
     "data": {
      "text/plain": [
       "'p'"
      ]
     },
     "execution_count": 95,
     "metadata": {},
     "output_type": "execute_result"
    }
   ],
   "source": [
    "next(it)"
   ]
  },
  {
   "cell_type": "code",
   "execution_count": 96,
   "id": "f8d05d84",
   "metadata": {},
   "outputs": [
    {
     "ename": "StopIteration",
     "evalue": "",
     "output_type": "error",
     "traceback": [
      "\u001b[1;31m---------------------------------------------------------------------------\u001b[0m",
      "\u001b[1;31mStopIteration\u001b[0m                             Traceback (most recent call last)",
      "\u001b[1;32m~\\AppData\\Local\\Temp/ipykernel_17740/4252351519.py\u001b[0m in \u001b[0;36m<module>\u001b[1;34m\u001b[0m\n\u001b[1;32m----> 1\u001b[1;33m \u001b[0mnext\u001b[0m\u001b[1;33m(\u001b[0m\u001b[0mit\u001b[0m\u001b[1;33m)\u001b[0m\u001b[1;33m\u001b[0m\u001b[1;33m\u001b[0m\u001b[0m\n\u001b[0m\u001b[0;32m      2\u001b[0m \u001b[1;31m#dar inja yek error dad ke tamum shode baraye rafe in error az framane zir estefade mikonim\u001b[0m\u001b[1;33m\u001b[0m\u001b[1;33m\u001b[0m\u001b[0m\n\u001b[0;32m      3\u001b[0m \u001b[1;31m#yani harvaght tamum shod star tolid kon\u001b[0m\u001b[1;33m\u001b[0m\u001b[1;33m\u001b[0m\u001b[0m\n",
      "\u001b[1;31mStopIteration\u001b[0m: "
     ]
    }
   ],
   "source": [
    "next(it)  \n",
    "#dar inja yek error dad ke tamum shode baraye rafe in error az framane zir estefade mikonim\n",
    "#yani harvaght tamum shod star tolid kon"
   ]
  },
  {
   "cell_type": "code",
   "execution_count": 97,
   "id": "48f5eb49",
   "metadata": {},
   "outputs": [
    {
     "data": {
      "text/plain": [
       "'*'"
      ]
     },
     "execution_count": 97,
     "metadata": {},
     "output_type": "execute_result"
    }
   ],
   "source": [
    "next(it,'*')               #or * ==None\n",
    "\n",
    "\n"
   ]
  },
  {
   "cell_type": "code",
   "execution_count": 104,
   "id": "f2baee5c",
   "metadata": {},
   "outputs": [],
   "source": [
    "s='sep'\n",
    "\n",
    "it=iter(s)"
   ]
  },
  {
   "cell_type": "code",
   "execution_count": 105,
   "id": "d2d687e4",
   "metadata": {},
   "outputs": [
    {
     "data": {
      "text/plain": [
       "'s'"
      ]
     },
     "execution_count": 105,
     "metadata": {},
     "output_type": "execute_result"
    }
   ],
   "source": [
    "it.__next__()"
   ]
  },
  {
   "cell_type": "code",
   "execution_count": 106,
   "id": "7276e8a0",
   "metadata": {},
   "outputs": [
    {
     "data": {
      "text/plain": [
       "'e'"
      ]
     },
     "execution_count": 106,
     "metadata": {},
     "output_type": "execute_result"
    }
   ],
   "source": [
    "it.__next__()"
   ]
  },
  {
   "cell_type": "code",
   "execution_count": 108,
   "id": "a02851ee",
   "metadata": {},
   "outputs": [
    {
     "data": {
      "text/plain": [
       "1"
      ]
     },
     "execution_count": 108,
     "metadata": {},
     "output_type": "execute_result"
    }
   ],
   "source": [
    "it.__length_hint__()"
   ]
  },
  {
   "cell_type": "code",
   "execution_count": 37,
   "id": "f7808062",
   "metadata": {},
   "outputs": [
    {
     "data": {
      "application/vnd.jupyter.widget-view+json": {
       "model_id": "2df884bc11f8464d9b4cf421191734d4",
       "version_major": 2,
       "version_minor": 0
      },
      "text/plain": [
       "Text(value='')"
      ]
     },
     "metadata": {},
     "output_type": "display_data"
    }
   ],
   "source": [
    "from IPython.display import display\n",
    "import ipywidgets as widgets\n",
    "\n",
    "inputs = []\n",
    "\n",
    "text_input = widgets.Text()\n",
    "\n",
    "def handle_submit(sender):\n",
    "    inputs.append(sender.value)\n",
    "    print(f\"Received input: {sender.value}\")\n",
    "    text_input.value = ''\n",
    "\n",
    "text_input.on_submit(handle_submit)\n",
    "\n",
    "display(text_input)\n"
   ]
  },
  {
   "cell_type": "markdown",
   "id": "e0f456da",
   "metadata": {},
   "source": [
    "**This code creates a Text widget and displays it using the display() function. When the user enters a value in the text box and presses Enter, the handle_submit() function is called, which appends the input value to the inputs list, prints the value to the console, and clears the text box.\n",
    "\n",
    "The from IPython.display import display line is necessary to display the Text widget in the notebook. Make sure you have this line at the beginning of your notebook or script."
   ]
  },
  {
   "cell_type": "code",
   "execution_count": 1,
   "id": "cf015141",
   "metadata": {},
   "outputs": [],
   "source": [
    "from IPython.display import display\n",
    "import ipywidgets as widgets\n"
   ]
  },
  {
   "cell_type": "code",
   "execution_count": 1,
   "id": "ffa4016d",
   "metadata": {},
   "outputs": [
    {
     "data": {
      "application/vnd.jupyter.widget-view+json": {
       "model_id": "2a80980e85f94674b1cdc10733d6a90c",
       "version_major": 2,
       "version_minor": 0
      },
      "text/plain": [
       "Text(value='')"
      ]
     },
     "metadata": {},
     "output_type": "display_data"
    },
    {
     "data": {
      "application/vnd.jupyter.widget-view+json": {
       "model_id": "de0c883ea8e842e794fa1be79b4f59d5",
       "version_major": 2,
       "version_minor": 0
      },
      "text/plain": [
       "Output()"
      ]
     },
     "metadata": {},
     "output_type": "display_data"
    },
    {
     "name": "stdout",
     "output_type": "stream",
     "text": [
      "Received input: aaa sss ddd\n"
     ]
    }
   ],
   "source": [
    "from IPython.display import display\n",
    "import ipywidgets as widgets\n",
    "\n",
    "inputs = []\n",
    "\n",
    "text_input = widgets.Text()\n",
    "output = widgets.Output()\n",
    "\n",
    "def handle_submit(sender):\n",
    "    inputs.append(sender.value)\n",
    "    print(f\"Received input: {sender.value}\")\n",
    "    text_input.value = ''\n",
    "    with output:\n",
    "        output.clear_output()\n",
    "        print(\"Inputs:\")\n",
    "        for i, val in enumerate(inputs):\n",
    "            print(f\"{i+1}. {val}\")\n",
    "\n",
    "text_input.on_submit(handle_submit)\n",
    "\n",
    "display(text_input)\n",
    "display(output)\n"
   ]
  },
  {
   "cell_type": "code",
   "execution_count": null,
   "id": "04daf896",
   "metadata": {},
   "outputs": [
    {
     "name": "stdout",
     "output_type": "stream",
     "text": [
      "aa sss ddd .\n"
     ]
    }
   ],
   "source": [
    "a=list(iter(input,'.'))\n",
    "print(a)"
   ]
  },
  {
   "cell_type": "code",
   "execution_count": null,
   "id": "eec66ce3",
   "metadata": {},
   "outputs": [
    {
     "name": "stdout",
     "output_type": "stream",
     "text": [
      "aa sss dd .\n"
     ]
    }
   ],
   "source": [
    "inputs = list(iter(input, '.'))\n",
    "print(\"Inputs:\", inputs)\n"
   ]
  },
  {
   "cell_type": "code",
   "execution_count": null,
   "id": "6c45ed2f",
   "metadata": {},
   "outputs": [],
   "source": [
    "from IPython.display import display\n",
    "\n",
    "inputs = list(iter(input, '.'))\n",
    "display(inputs)\n"
   ]
  },
  {
   "cell_type": "markdown",
   "id": "2a40b6e1",
   "metadata": {},
   "source": [
    "# input()"
   ]
  },
  {
   "cell_type": "code",
   "execution_count": 1,
   "id": "dc5e64d0",
   "metadata": {},
   "outputs": [
    {
     "name": "stdout",
     "output_type": "stream",
     "text": [
      "Enter input (end with '.'): sepi mehr usa .\n",
      "['sepi', 'mehr', 'usa']\n"
     ]
    }
   ],
   "source": [
    "inputs = input(\"Enter input (end with '.'): \")\n",
    "inputs_list = inputs.split()[:-1]\n",
    "print(inputs_list)\n"
   ]
  },
  {
   "cell_type": "code",
   "execution_count": null,
   "id": "60c40073",
   "metadata": {},
   "outputs": [
    {
     "name": "stdout",
     "output_type": "stream",
     "text": [
      "sepi ded cfd .\n"
     ]
    }
   ],
   "source": [
    "inputs = []\n",
    "for i in iter(input, '.'):\n",
    "    inputs.append(i)\n",
    "print(inputs)\n"
   ]
  },
  {
   "cell_type": "code",
   "execution_count": null,
   "id": "b8b241a2",
   "metadata": {},
   "outputs": [
    {
     "name": "stdout",
     "output_type": "stream",
     "text": [
      "a s d .\n"
     ]
    }
   ],
   "source": [
    "inputs = []\n",
    "for i in iter(input, '.'):\n",
    "    inputs.append(i)\n",
    "inputs_list = list(inputs)\n",
    "print(inputs_list)\n"
   ]
  },
  {
   "cell_type": "code",
   "execution_count": 66,
   "id": "4a294ffd",
   "metadata": {},
   "outputs": [
    {
     "ename": "StopIteration",
     "evalue": "",
     "output_type": "error",
     "traceback": [
      "\u001b[1;31m---------------------------------------------------------------------------\u001b[0m",
      "\u001b[1;31mStopIteration\u001b[0m                             Traceback (most recent call last)",
      "\u001b[1;32m~\\AppData\\Local\\Temp/ipykernel_17740/4116991323.py\u001b[0m in \u001b[0;36m<module>\u001b[1;34m\u001b[0m\n\u001b[0;32m      9\u001b[0m \u001b[0mnext\u001b[0m\u001b[1;33m(\u001b[0m\u001b[0miter_listA\u001b[0m\u001b[1;33m)\u001b[0m\u001b[1;33m\u001b[0m\u001b[1;33m\u001b[0m\u001b[0m\n\u001b[0;32m     10\u001b[0m \u001b[0mnext\u001b[0m\u001b[1;33m(\u001b[0m\u001b[0miter_listA\u001b[0m\u001b[1;33m)\u001b[0m\u001b[1;33m\u001b[0m\u001b[1;33m\u001b[0m\u001b[0m\n\u001b[1;32m---> 11\u001b[1;33m \u001b[0mnext\u001b[0m\u001b[1;33m(\u001b[0m\u001b[0miter_listA\u001b[0m\u001b[1;33m)\u001b[0m\u001b[1;33m\u001b[0m\u001b[1;33m\u001b[0m\u001b[0m\n\u001b[0m",
      "\u001b[1;31mStopIteration\u001b[0m: "
     ]
    }
   ],
   "source": [
    "# Python code demonstrating\n",
    "# basic use of iter()\n",
    "listA = ['a','e','i','o','u']\n",
    "\n",
    "iter_listA = iter(listA)\n",
    "next(iter_listA)\n",
    "next(iter_listA)\n",
    "next(iter_listA)\n",
    "next(iter_listA)\n",
    "next(iter_listA)\n",
    "next(iter_listA)"
   ]
  },
  {
   "cell_type": "code",
   "execution_count": 67,
   "id": "3325917a",
   "metadata": {},
   "outputs": [
    {
     "name": "stdout",
     "output_type": "stream",
     "text": [
      "a\n",
      "e\n",
      "i\n",
      "o\n",
      "u\n"
     ]
    }
   ],
   "source": [
    "# Python code demonstrating\n",
    "# basic use of iter()\n",
    "listA = ['a','e','i','o','u']\n",
    "\n",
    "iter_listA = iter(listA)\n",
    "\n",
    "try:\n",
    "\tprint( next(iter_listA))\n",
    "\tprint( next(iter_listA))\n",
    "\tprint( next(iter_listA))\n",
    "\tprint( next(iter_listA))\n",
    "\tprint( next(iter_listA))\n",
    "\tprint( next(iter_listA)) #StopIteration error\n",
    "except:\n",
    "\tpass\n",
    "  #The try-except block is used to catch this error and prevent the program from stopping abruptl"
   ]
  },
  {
   "cell_type": "markdown",
   "id": "3bc83ad5",
   "metadata": {},
   "source": [
    "# try-except\n",
    "\n",
    "\n",
    "**Sure! try-except is a mechanism in Python that allows you to handle errors in your code gracefully, rather than letting the \n",
    "program terminate abruptly when an error occurs"
   ]
  },
  {
   "cell_type": "markdown",
   "id": "4a91549a",
   "metadata": {},
   "source": [
    "try:\n",
    "    # some code that may raise an error\n",
    "except:\n",
    "    # code to handle the error\n"
   ]
  },
  {
   "cell_type": "markdown",
   "id": "51c6fadf",
   "metadata": {},
   "source": [
    "In this syntax, you put the code that may raise an error  **** inside the try block****.\n",
    "If an error occurs in this block, Python will jump to the except block and execute the code inside it.\n",
    "\n",
    "By default, the ((except )) block will catch all types of errors. However, it's generally better to catch specific types of errors so that you can handle them appropriately"
   ]
  },
  {
   "cell_type": "code",
   "execution_count": 68,
   "id": "f3bc3ce1",
   "metadata": {},
   "outputs": [
    {
     "name": "stdout",
     "output_type": "stream",
     "text": [
      "Cannot divide by zero!\n"
     ]
    }
   ],
   "source": [
    "try:\n",
    "    x = 5 / 0\n",
    "except ZeroDivisionError:\n",
    "    print(\"Cannot divide by zero!\")\n"
   ]
  },
  {
   "cell_type": "markdown",
   "id": "d58819fb",
   "metadata": {},
   "source": [
    "try:\n",
    "    # some code that may raise an error\n",
    "except (TypeError, ValueError):\n",
    "    # code to handle TypeErrors and ValueErrors\n"
   ]
  },
  {
   "cell_type": "markdown",
   "id": "1695a281",
   "metadata": {},
   "source": [
    "try:\n",
    "    # some code that may raise an error\n",
    "except:\n",
    "    # code to handle the error\n",
    "else:\n",
    "    # code to run if no errors occurred\n",
    "    \n",
    "    \n",
    "*****Finally, you can include an else block after the except block to specify code that should run if no errors occur in the try block***"
   ]
  },
  {
   "cell_type": "code",
   "execution_count": 69,
   "id": "185ede86",
   "metadata": {},
   "outputs": [
    {
     "name": "stdout",
     "output_type": "stream",
     "text": [
      "11\n",
      "22\n",
      "33\n",
      "44\n",
      "55\n"
     ]
    }
   ],
   "source": [
    "\n",
    "lst = [11, 22, 33, 44, 55]\n",
    "\n",
    "iter_lst = iter(lst)\n",
    "while True:\n",
    "\ttry:\n",
    "\t\tprint(iter_lst.__next__())\n",
    "\texcept:\n",
    "\t\tbreak\n"
   ]
  },
  {
   "cell_type": "code",
   "execution_count": 70,
   "id": "71a261e9",
   "metadata": {},
   "outputs": [
    {
     "name": "stdout",
     "output_type": "stream",
     "text": [
      "s e p i d e h m e h r d a d "
     ]
    }
   ],
   "source": [
    "s='sepidehmehrdad'\n",
    "iter_s=iter(s)\n",
    "while True:\n",
    "    try:\n",
    "        print(next(iter_s),end=\" \")\n",
    "    except:\n",
    "        break"
   ]
  },
  {
   "cell_type": "code",
   "execution_count": 71,
   "id": "b987dbba",
   "metadata": {},
   "outputs": [
    {
     "name": "stdout",
     "output_type": "stream",
     "text": [
      "Cat\n",
      "Bat\n",
      "Sat\n",
      "Mat\n",
      " \n",
      "Throwing 'StopIterationError' I cannot count more.\n"
     ]
    }
   ],
   "source": [
    "listB = ['Cat', 'Bat', 'Sat', 'Mat']\n",
    "\n",
    "iter_listB = listB.__iter__()\n",
    "\n",
    "try:\n",
    "\tprint(iter_listB.__next__())\n",
    "\tprint(iter_listB.__next__())\n",
    "\tprint(iter_listB.__next__())\n",
    "\tprint(iter_listB.__next__())\n",
    "\tprint(iter_listB.__next__()) #StopIteration error\n",
    "except:\n",
    "\tprint(\" \\nThrowing 'StopIterationError'\",\"I cannot count more.\")\n"
   ]
  },
  {
   "cell_type": "code",
   "execution_count": 72,
   "id": "28af27ae",
   "metadata": {},
   "outputs": [
    {
     "name": "stdout",
     "output_type": "stream",
     "text": [
      "Cat\n",
      "Bat\n",
      "Sat\n",
      "Mat\n",
      " \n",
      "Throwing 'StopIterationError' I cannot count more.\n"
     ]
    }
   ],
   "source": [
    "listB = ['Cat', 'Bat', 'Sat', 'Mat']\n",
    "iter_listB=iter(listB)\n",
    "\n",
    "while True:\n",
    "    try:\n",
    "        print(next(iter_listB))\n",
    "    except:\n",
    "        print(\" \\nThrowing 'StopIterationError'\",\"I cannot count more.\") \n",
    "        break"
   ]
  },
  {
   "cell_type": "code",
   "execution_count": 73,
   "id": "37acc049",
   "metadata": {},
   "outputs": [
    {
     "name": "stdout",
     "output_type": "stream",
     "text": [
      "Cat\n",
      "Bat\n",
      "Sat\n",
      "Mat\n"
     ]
    }
   ],
   "source": [
    "listB = ['Cat', 'Bat', 'Sat', 'Mat']\n",
    "iter_listB=iter(listB)\n",
    "for ch in listB:\n",
    "       \n",
    "        try:\n",
    "                print(next(iter_listB))\n",
    "             \n",
    "        except:\n",
    "                print(\" \\nThrowing 'StopIterationError'\",\"I cannot count more.\") \n",
    "                break"
   ]
  },
  {
   "cell_type": "code",
   "execution_count": 74,
   "id": "91884c1a",
   "metadata": {},
   "outputs": [
    {
     "name": "stdout",
     "output_type": "stream",
     "text": [
      "Cat\n",
      "Bat\n",
      "Sat\n",
      "Mat\n"
     ]
    }
   ],
   "source": [
    "listB = ['Cat', 'Bat', 'Sat', 'Mat']\n",
    "iter_listB=iter(listB)\n",
    "for ch in listB:\n",
    "     print(next(iter_listB))"
   ]
  },
  {
   "cell_type": "code",
   "execution_count": 75,
   "id": "213c3bf7",
   "metadata": {},
   "outputs": [
    {
     "name": "stdout",
     "output_type": "stream",
     "text": [
      "10.0\n",
      "5.0\n",
      "3.3333333333333335\n",
      "2.5\n",
      "Error: Cannot divide by zero\n"
     ]
    }
   ],
   "source": [
    "my_list = [1, 2, 3, 4, 0]\n",
    "\n",
    "for i in my_list:\n",
    "    try:\n",
    "        result = 10 / i\n",
    "        print(result)\n",
    "    except ZeroDivisionError:\n",
    "        print(\"Error: Cannot divide by zero\")\n"
   ]
  },
  {
   "cell_type": "markdown",
   "id": "ccbc4fa9",
   "metadata": {},
   "source": [
    "\n",
    "# class:\n",
    "**In Python, a class is a user-defined data ((dadehaye tarif shode tawasote karbar)) type that defines a set of attributes((wizhegi)) and methods. To create a class in Python, you use the class keyword followed by the name of the class, and a colon to begin the class definition."
   ]
  },
  {
   "cell_type": "markdown",
   "id": "be8d74d6",
   "metadata": {},
   "source": [
    "class Car:\n",
    "    # class attribute\n",
    "    wheels = 4\n",
    "    \n",
    "    # initializer method\n",
    "    def __init__(self, make, model, year, color):\n",
    "        self.make = make\n",
    "        self.model = model\n",
    "        self.year = year\n",
    "        self.color = color\n",
    "    \n",
    "    # instance method\n",
    "    def start(self):\n",
    "        print(\"The car has started.\")\n",
    "    \n",
    "    # instance method\n",
    "    def stop(self):\n",
    "        print(\"The car has stopped.\")\n",
    "    \n",
    "    # instance method\n",
    "    def drive(self, distance):\n",
    "        print(f\"The car has driven {distance} miles.\")\n",
    "\n",
    "\n",
    "\n",
    "***In the above example, we define a Car class with four attributes (make, model, year, color)\n",
    "and three methods (start, stop, drive).\n",
    "The __init__ method is a special method called the constructor that is used to initialize the attributes of the class when an object is created.\n",
    "The self parameter in the method definitions refers to the instance of the class that is being operated on."
   ]
  },
  {
   "cell_type": "markdown",
   "id": "9fdccaec",
   "metadata": {},
   "source": [
    "#Once you have defined a class, you can create objects (also known as instances) of that class using the class name as a function:"
   ]
  },
  {
   "cell_type": "code",
   "execution_count": 76,
   "id": "a91ec8d4",
   "metadata": {},
   "outputs": [
    {
     "ename": "SyntaxError",
     "evalue": "invalid syntax (Temp/ipykernel_17740/514806715.py, line 3)",
     "output_type": "error",
     "traceback": [
      "\u001b[1;36m  File \u001b[1;32m\"C:\\Users\\Mehrdad\\AppData\\Local\\Temp/ipykernel_17740/514806715.py\"\u001b[1;36m, line \u001b[1;32m3\u001b[0m\n\u001b[1;33m    In the above example, we create an instance of the Car class called my_car with the specified attributes.\u001b[0m\n\u001b[1;37m       ^\u001b[0m\n\u001b[1;31mSyntaxError\u001b[0m\u001b[1;31m:\u001b[0m invalid syntax\n"
     ]
    }
   ],
   "source": [
    "my_car = Car(\"Toyota\", \"Corolla\", 2021, \"blue\")\n",
    "\n",
    "In the above example, we create an instance of the Car class called my_car with the specified attributes. \n",
    "We can then call the methods of the my_car object like this:\n",
    "    \n",
    "my_car.start()\n",
    "my_car.drive(10)\n",
    "my_car.stop()\n",
    "\n",
    "this will output\n",
    "\n",
    "The car has started.\n",
    "The car has driven 10 miles.\n",
    "The car has stopped.\n",
    "\n"
   ]
  },
  {
   "cell_type": "code",
   "execution_count": 77,
   "id": "2ee1cb87",
   "metadata": {},
   "outputs": [
    {
     "name": "stdout",
     "output_type": "stream",
     "text": [
      "Alice\n",
      "25\n",
      "Hello, my name is Alice and I'm 25 years old.\n"
     ]
    }
   ],
   "source": [
    "class Person:\n",
    "    def __init__(self, name, age):\n",
    "        self.name = name\n",
    "        self.age = age\n",
    "    \n",
    "    def greet(self):\n",
    "        print(f\"Hello, my name is {self.name} and I'm {self.age} years old.\")\n",
    "\n",
    "# create an instance of the Person class\n",
    "person1 = Person(\"Alice\", 25)\n",
    "\n",
    "# access the attributes and methods of the instance using dot notation\n",
    "print(person1.name)    # output: Alice\n",
    "print(person1.age)     # output: 25\n",
    "person1.greet()        # output: Hello, my name is Alice and I'm 25 years old.\n"
   ]
  },
  {
   "cell_type": "code",
   "execution_count": 78,
   "id": "ad28e40e",
   "metadata": {},
   "outputs": [
    {
     "name": "stdout",
     "output_type": "stream",
     "text": [
      "Person\n",
      "{'__module__': '__main__', '__init__': <function Person.__init__ at 0x0000029A4C6B51F0>, 'greet': <function Person.greet at 0x0000029A4C6B5790>, '__dict__': <attribute '__dict__' of 'Person' objects>, '__weakref__': <attribute '__weakref__' of 'Person' objects>, '__doc__': None}\n",
      "Hello, my name is Alice and I'm 25 years old.\n",
      "None\n"
     ]
    }
   ],
   "source": [
    "print(Person.__name__)        # output: Person\n",
    "print(Person.__dict__)        # output: dictionary of the class attributes and methods\n",
    "print(Person.greet(person1))  # output: Hello, my name is Alice and I'm 25 years old.\n",
    "\n",
    "\n",
    "\n",
    "\n",
    "#In the above example, we access the name of the class,\n",
    "#its dictionary of attributes and methods, and call the greet() method of the Person class using the person1 instance\n",
    "#as an argument.\n",
    "#However, it's more common and convenient to use dot notation \n",
    "#to access the attributes and methods of a class instance in Python.\n"
   ]
  },
  {
   "cell_type": "markdown",
   "id": "08bf78dd",
   "metadata": {},
   "source": [
    "# Here are some common situations where you might use a class:\n",
    "\n",
    "Modeling real-world objects: You might use a class to represent a real-world object, such as a car, a person, or a bank account. The class defines the attributes and methods of the object, and you can create instances of the class to represent individual objects.\n",
    "\n",
    "Grouping related functions: You might use a class to group related functions together, such as a set of utility functions or helper functions. By grouping the functions together in a class, you can organize your code more effectively and make it easier to reuse.\n",
    "\n",
    "Implementing interfaces: You might use a class to implement an interface, which is a set of methods that define the behavior of an object. By implementing an interface(rabet) in a class, you can ensure that objects of that class behave consistently with other objects that implement the same interface.\n",
    "\n",
    "Creating data structures: You might use a class to create a custom data structure, such as a linked list, a stack, or a queue. The class defines the structure and behavior of the data structure, and you can create instances of the class to hold data and perform operations on it.\n",
    "\n",
    "Overall, classes are a powerful tool in Python that can help you organize and structure your code in a way that makes it more readable, maintainable, and reusable."
   ]
  },
  {
   "cell_type": "markdown",
   "id": "daaa3769",
   "metadata": {},
   "source": [
    "# Functions and classes:\n",
    "\n",
    "Functions are used to group together a set of related instructions and give them a name, so that you can call them multiple times without having to repeat the code each time. Functions can take parameters and return values, making them a powerful tool for abstraction and modularity.\n",
    "\n",
    "Classes, on the other hand, are used to create objects that have attributes and behaviors. They provide a way to group together related data and functions into a single unit, and allow you to create multiple instances of the same type of object with different values for their attributes. Classes can also inherit attributes and behaviors from other classes, making them a powerful tool for code reuse and modularity.\n",
    "\n",
    "In summary, both functions and classes are powerful tools in Python that serve different purposes. Functions are used for abstraction and modularity, while classes are used for creating objects that have attributes and behaviors."
   ]
  },
  {
   "cell_type": "markdown",
   "id": "66b9bce4",
   "metadata": {},
   "source": [
    "# you can use a class defined in one Python file in another Python file or console by importing it.\n",
    "\n",
    "***Let's say you have a Python file named my_module.py that defines a class named \n",
    "\n",
    "#class MyClass:\n",
    "    def my_method(self):\n",
    "        print(\"Hello from MyClass!\")\n",
    "        \n",
    "***To use this class in another Python file or console, you would first import the MyClass class from the my_module module:\n",
    "\n",
    "\n",
    "from my_module import MyClass\n",
    "#create an instance of MyClass\n",
    "my_instance = MyClass()\n",
    "\n",
    "#call the my_method() method\n",
    "\n",
    "my_instance.my_method()   # output: \"Hello from MyClass!\"\n",
    "\n",
    "**In the above example, we use the from keyword to import the MyClass class from the my_module module. We then create an instance of the MyClass class and call the my_method() method.\n",
    "\n",
    "**Note that the my_module.py file must be in the same directory as the Python file or console where you want to use the MyClass class, or it must be in a directory that is in your Python path.        \n"
   ]
  },
  {
   "cell_type": "code",
   "execution_count": 79,
   "id": "69a94e33",
   "metadata": {},
   "outputs": [
    {
     "name": "stdout",
     "output_type": "stream",
     "text": [
      "Print the range without iter()\n",
      "Eating more Pizzas, counting  2\n",
      "Eating more Pizzas, counting  3\n",
      "Eating more Pizzas, counting  4\n",
      "Eating more Pizzas, counting  5\n",
      "\n",
      "Print the range using iter()\n",
      "\n",
      "Eating more Pizzas, counting  2\n",
      "Eating more Pizzas, counting  3\n",
      "Eating more Pizzas, counting  4\n",
      "Eating more Pizzas, counting  5\n",
      "\n",
      "Dead on overfood, GAME OVER\n"
     ]
    }
   ],
   "source": [
    "# Python code showing use of iter() using OOPs\n",
    "\n",
    "class Counter:\n",
    "\tdef __init__(self, start, end):\n",
    "\t\tself.num = start\n",
    "\t\tself.end = end\n",
    "\n",
    "\tdef __iter__(self):\n",
    "\t\treturn self\n",
    "\n",
    "\tdef __next__(self):\n",
    "\t\tif self.num > self.end:\n",
    "\t\t\traise StopIteration\n",
    "\t\telse:\n",
    "\t\t\tself.num += 1\n",
    "\t\t\treturn self.num - 1\n",
    "\t\t\t\n",
    "\t\t\t\n",
    "# Driver code\n",
    "if __name__ == '__main__' :\n",
    "\t\n",
    "\ta, b = 2, 5\n",
    "\t\n",
    "\tc1 = Counter(a, b)\n",
    "\tc2 = Counter(a, b)\n",
    "\t\n",
    "\t# Way 1-to print the range without iter()\n",
    "\tprint (\"Print the range without iter()\")\n",
    "\t\n",
    "\tfor i in c1:\n",
    "\t\tprint (\"Eating more Pizzas, counting \", i, end =\"\\n\")\n",
    "\t\n",
    "\tprint (\"\\nPrint the range using iter()\\n\")\n",
    "\t\n",
    "\t# Way 2- using iter()\n",
    "\tobj = iter(c2)\n",
    "\ttry:\n",
    "\t\twhile True: # Print till error raised\n",
    "\t\t\tprint (\"Eating more Pizzas, counting \", next(obj))\n",
    "\texcept:\n",
    "\t\t# when StopIteration raised, Print custom message\n",
    "\t\tprint (\"\\nDead on overfood, GAME OVER\")\n"
   ]
  },
  {
   "cell_type": "code",
   "execution_count": 86,
   "id": "10c2da55",
   "metadata": {},
   "outputs": [
    {
     "name": "stdout",
     "output_type": "stream",
     "text": [
      "Print the range without iter()\n",
      "Eating more Pizzas, counting  2\n",
      "Eating more Pizzas, counting  3\n",
      "Eating more Pizzas, counting  4\n",
      "Eating more Pizzas, counting  5\n",
      "\n",
      "Print the range using iter()\n",
      "\n",
      "Eating more Pizzas, counting  2\n",
      "Eating more Pizzas, counting  3\n",
      "Eating more Pizzas, counting  4\n",
      "Eating more Pizzas, counting  5\n",
      "\n",
      "Dead on overfood, GAME OVER\n"
     ]
    }
   ],
   "source": [
    "class Counter:\n",
    "    def __init__(self,start,end):\n",
    "        \n",
    "        self.num=start  #num is a variable used to keep track of the current value of the counter, and it is incremented by 1\n",
    "                                    #each time __next__() is called to generate the next item in the sequence.\n",
    "        self.end=end\n",
    "        \n",
    "    def  __iter__(self):\n",
    "        return self\n",
    "    def __next__(self):\n",
    "        \n",
    "        if self.num>self.end:\n",
    "            raise StopIteration\n",
    "        else:\n",
    "            self.num+=1\n",
    "            return self.num-1\n",
    "        \n",
    "        \n",
    "if __name__ == '__main__'  :\n",
    "    \n",
    "    a,b =2, 5\n",
    "    c1=Counter(a, b)\n",
    "    c2=Counter(a, b)\n",
    "\n",
    "    print (\"Print the range without iter()\")\n",
    "     \n",
    "    for i in c1:\n",
    "        print (\"Eating more Pizzas, counting \", i, end =\"\\n\")\n",
    "     \n",
    "    print (\"\\nPrint the range using iter()\\n\")\n",
    "     \n",
    "    \n",
    "    obj = iter(c2)\n",
    "    try:\n",
    "        while True:\n",
    "            print (\"Eating more Pizzas, counting \", next(obj))\n",
    "    except:\n",
    "        \n",
    "        print (\"\\nDead on overfood, GAME OVER\")"
   ]
  },
  {
   "cell_type": "markdown",
   "id": "60d68738",
   "metadata": {},
   "source": [
    "# the aim of this code is to demonstrate how to use the iter() function with an object that implements the __iter__() and __next__() methods.\n",
    "\n",
    "The Counter class is defined to generate a sequence of numbers starting from a given value start and ending at a given value end. The __iter__() method returns the object itself, which allows it to be used with the for loop, and the __next__() method returns the next value in the sequence and raises the StopIteration exception when the end of the sequence is reached.\n",
    "\n",
    "The driver code creates two instances of the Counter class and demonstrates two ways to iterate over the sequence of numbers generated by the instances: using a for loop and using the iter() function with a while loop and the next() function.\n",
    "\n",
    "The code outputs the sequence of numbers, along with some text indicating that we are \"Eating more Pizzas\". The code also prints a custom message when the end of the sequence is reached, indicating that the game is over."
   ]
  },
  {
   "cell_type": "markdown",
   "id": "840d1330",
   "metadata": {},
   "source": [
    "\n",
    "\n",
    "# what is differences between __iter__() with iter()\n",
    "\n",
    "\n",
    "__iter__() is a special method in Python classes that defines an iterator object for the class. The purpose of __iter__() is to allow an instance of the class to be used as an iterator. When __iter__() is called on an instance of a class, it should return an iterator object, which is then used to iterate over the instance.\n",
    "\n",
    "iter() is a built-in function in Python that returns an iterator for a given iterable object. An iterable object is any object that can be looped over, such as a list, tuple, or string. When iter() is called on an iterable object, it returns an iterator object that can be used to iterate over the elements of the iterable object.\n",
    "\n",
    "In the context of iterating over custom objects, __iter__() is used to define the behavior of the object when it is iterated over, while iter() is used to get an iterator for the object.\n",
    "\n",
    "When the __iter__() method is defined in a class, it returns the instance of the class itself as an iterator object, allowing the object to be used directly in a for loop. When iter() is called on an instance of the class, it returns the same iterator object that is returned by the __iter__() method.\n",
    "\n",
    "In summary, __iter__() is a method that defines how the object behaves as an iterator, while iter() is a function that returns an iterator for an iterable object. The __iter__() method is used to create custom iterators for objects, while iter() is used to get an iterator for an iterable object."
   ]
  },
  {
   "cell_type": "markdown",
   "id": "33c33077",
   "metadata": {},
   "source": [
    "# When you write a Python script (e.g. a file with a .py extension) that contains some code, that script can be used in two ways:\n",
    "\n",
    "It can be run as the main program by typing python script_name.py in the command line. In this case, the code inside the script is executed.\n",
    "\n",
    "It can be imported into another script by using the import statement. In this case, the code inside the script is not executed, but it becomes available for use in the importing script.\n",
    "\n",
    "When a Python script is run as the main program, the __name__ variable is set to the string \"__main__\". This allows you to write code inside the script that should only be executed when the script is run as the main program, and not when it is imported into another script."
   ]
  },
  {
   "cell_type": "code",
   "execution_count": 89,
   "id": "f9f6c926",
   "metadata": {},
   "outputs": [
    {
     "name": "stdout",
     "output_type": "stream",
     "text": [
      "Hello, Alice!\n"
     ]
    }
   ],
   "source": [
    "def greet(name):\n",
    "    print(f\"Hello, {name}!\")\n",
    "\n",
    "if __name__ == \"__main__\":\n",
    "    greet(\"Alice\")\n"
   ]
  },
  {
   "cell_type": "markdown",
   "id": "e2b5fd0b",
   "metadata": {},
   "source": [
    "**** If you run my_module.py as the main program by running python my_module.py in the console, it will output Hello, Alice!.\n",
    "\n",
    "***But if you import my_module into another script, the if __name__ == \"__main__\": block will not be executed, and the greet() function will be available to use in the importing script. For example, suppose you have a second script named main.py that imports my_module:"
   ]
  },
  {
   "cell_type": "markdown",
   "id": "0c8fcd34",
   "metadata": {},
   "source": [
    "import my_module\n",
    "\n",
    "my_module.greet(\"Bob\")\n",
    "\n",
    "\n",
    "**When you run main.py by running python main.py in the console, it will output Hello, Bob!. Note that the if __name__ == \"__main__\": block in my_module.py is not executed in this case."
   ]
  },
  {
   "cell_type": "markdown",
   "id": "5aaac6b6",
   "metadata": {},
   "source": [
    "# when we import example_module.py into another script, the name variable will not be set to \"Alice\", unless we explicitly set it in the importing script. Here's an example:\n",
    "\n",
    "\n",
    "example_module.py: \n",
    "\n",
    "def print_name():\n",
    "    print(name)\n",
    "    \n",
    "if __name__ == '__main__':\n",
    "    name = \"Alice\"\n",
    "    print_name()\n",
    "\n",
    "    \n",
    "    \n",
    "importing_script.py: \n",
    "\n",
    " import example_module\n",
    "\n",
    "example_module.print_name()  # Will raise a NameError\n",
    "example_module.name = \"Bob\"\n",
    "example_module.print_name()  # Will print \"Bob\"\n",
    "\n",
    "\n",
    "\n",
    "**In the example above, the print_name() function will raise a NameError when called from importing_script.py, because the name variable has not been set. We can set the name variable to \"Bob\" in importing_script.py, and then call print_name() again to print \"Bob\"."
   ]
  }
 ],
 "metadata": {
  "kernelspec": {
   "display_name": "Python 3 (ipykernel)",
   "language": "python",
   "name": "python3"
  },
  "language_info": {
   "codemirror_mode": {
    "name": "ipython",
    "version": 3
   },
   "file_extension": ".py",
   "mimetype": "text/x-python",
   "name": "python",
   "nbconvert_exporter": "python",
   "pygments_lexer": "ipython3",
   "version": "3.9.7"
  }
 },
 "nbformat": 4,
 "nbformat_minor": 5
}
