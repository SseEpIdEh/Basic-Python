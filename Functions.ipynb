{
 "cells": [
  {
   "cell_type": "markdown",
   "id": "e88f9837",
   "metadata": {},
   "source": [
    "# Python Function Arguments\n",
    "\n",
    "**Arguments are the values passed inside the parenthesis of the function. A function can have any number of arguments separated by a comma.\n"
   ]
  },
  {
   "cell_type": "code",
   "execution_count": 6,
   "id": "3f4980b3",
   "metadata": {},
   "outputs": [],
   "source": [
    "def func(x):\n",
    "    return x+1\n",
    "\n"
   ]
  },
  {
   "cell_type": "code",
   "execution_count": 7,
   "id": "75706dc5",
   "metadata": {},
   "outputs": [
    {
     "data": {
      "text/plain": [
       "5"
      ]
     },
     "execution_count": 7,
     "metadata": {},
     "output_type": "execute_result"
    }
   ],
   "source": [
    "func(4)"
   ]
  },
  {
   "cell_type": "code",
   "execution_count": 8,
   "id": "b51b1cf4",
   "metadata": {},
   "outputs": [
    {
     "data": {
      "text/plain": [
       "<function __main__.func(x)>"
      ]
     },
     "execution_count": 8,
     "metadata": {},
     "output_type": "execute_result"
    }
   ],
   "source": [
    "func"
   ]
  },
  {
   "cell_type": "code",
   "execution_count": 9,
   "id": "afb2cc8d",
   "metadata": {},
   "outputs": [
    {
     "data": {
      "text/plain": [
       "'func'"
      ]
     },
     "execution_count": 9,
     "metadata": {},
     "output_type": "execute_result"
    }
   ],
   "source": [
    "func.__name__                                # when we want to know the name of the function"
   ]
  },
  {
   "cell_type": "code",
   "execution_count": 11,
   "id": "54570905",
   "metadata": {},
   "outputs": [],
   "source": [
    "a=func"
   ]
  },
  {
   "cell_type": "code",
   "execution_count": 12,
   "id": "165e877b",
   "metadata": {},
   "outputs": [
    {
     "data": {
      "text/plain": [
       "'func'"
      ]
     },
     "execution_count": 12,
     "metadata": {},
     "output_type": "execute_result"
    }
   ],
   "source": [
    "a.__name__"
   ]
  },
  {
   "cell_type": "code",
   "execution_count": 13,
   "id": "bb048c9c",
   "metadata": {},
   "outputs": [
    {
     "data": {
      "text/plain": [
       "10"
      ]
     },
     "execution_count": 13,
     "metadata": {},
     "output_type": "execute_result"
    }
   ],
   "source": [
    "a(9)"
   ]
  },
  {
   "cell_type": "code",
   "execution_count": 14,
   "id": "42a776df",
   "metadata": {},
   "outputs": [],
   "source": [
    "func.__doc__"
   ]
  },
  {
   "cell_type": "code",
   "execution_count": 15,
   "id": "4c032d10",
   "metadata": {},
   "outputs": [],
   "source": [
    "def func(x):\n",
    "    \"\"\"A simple adder function\"\"\"              #doc strain\n",
    "    return x+1\n"
   ]
  },
  {
   "cell_type": "code",
   "execution_count": 16,
   "id": "e3d52b51",
   "metadata": {},
   "outputs": [
    {
     "data": {
      "text/plain": [
       "'A simple adder function'"
      ]
     },
     "execution_count": 16,
     "metadata": {},
     "output_type": "execute_result"
    }
   ],
   "source": [
    "func.__doc__"
   ]
  },
  {
   "cell_type": "code",
   "execution_count": 115,
   "id": "8df0e3fe",
   "metadata": {},
   "outputs": [],
   "source": [
    "#dir(func)"
   ]
  },
  {
   "cell_type": "markdown",
   "id": "4f27c313",
   "metadata": {},
   "source": [
    "# Types of Python Function Arguments\n",
    "\n",
    "Python supports various types of arguments that can be passed at the time of the function call. In Python, we have the following 4 types of function arguments.\n",
    "\n",
    "**1.Default argument\n",
    "2.Keyword arguments (named arguments)\n",
    "3.Positional arguments\n",
    "4.Arbitrary arguments (variable-length arguments *args and **kwargs)\n"
   ]
  },
  {
   "cell_type": "markdown",
   "id": "7af8caee",
   "metadata": {},
   "source": [
    "# Default Arguments\n",
    "\n",
    "A default argument is a parameter that assumes a default value if a value is not provided in the function call for that argument. The following example illustrates Default arguments. "
   ]
  },
  {
   "cell_type": "code",
   "execution_count": 134,
   "id": "8e8a8e05",
   "metadata": {},
   "outputs": [
    {
     "name": "stdout",
     "output_type": "stream",
     "text": [
      "x:  10\n",
      "y:  50\n"
     ]
    }
   ],
   "source": [
    "def myfun(x,y=50):\n",
    "    print(\"x: \",x)\n",
    "    print(\"y: \",y)    \n",
    "myfun(10)    "
   ]
  },
  {
   "cell_type": "code",
   "execution_count": 132,
   "id": "c0c51b5d",
   "metadata": {},
   "outputs": [
    {
     "name": "stdout",
     "output_type": "stream",
     "text": [
      "hello,sepideh!\n",
      "hello,mehrdad!\n"
     ]
    }
   ],
   "source": [
    "def greet(name=\"sepideh\"):\n",
    "    print(\"hello,\"+name+\"!\")\n",
    "greet()    \n",
    "greet(name=\"mehrdad\")    "
   ]
  },
  {
   "cell_type": "code",
   "execution_count": 140,
   "id": "f936d643",
   "metadata": {},
   "outputs": [
    {
     "name": "stdout",
     "output_type": "stream",
     "text": [
      "{'username': 'johndoe', 'password': 'password123', 'age': None}\n",
      "{'username': 'Sepi', 'password': 'mehrdad2023', 'age': 33}\n"
     ]
    }
   ],
   "source": [
    "def create_user(username, password, email=None, age=None):\n",
    "    \n",
    "    user={\"username\":username, \"password\":password}\n",
    "    \n",
    "    if email:\n",
    "        user[\"email\"]=email\n",
    "    else:\n",
    "        user[\"age\"]=age\n",
    "    return user\n",
    "\n",
    "user1=create_user(\"johndoe\",\"password123\")#, \"john@gmail.com\")\n",
    "user2=create_user(\"Sepi\",\"mehrdad2023\", age=33)\n",
    "print(user1)\n",
    "print(user2)"
   ]
  },
  {
   "cell_type": "code",
   "execution_count": 143,
   "id": "2897e8ad",
   "metadata": {},
   "outputs": [
    {
     "name": "stdout",
     "output_type": "stream",
     "text": [
      "100.0\n",
      "216.0\n"
     ]
    }
   ],
   "source": [
    "def calculate_price(quantity, price_per_unit=10, discount_percent=0):\n",
    "    \n",
    "    base_price=quantity*price_per_unit\n",
    "    discount_amount=base_price *(discount_percent/100)\n",
    "    total_price=base_price  - discount_amount\n",
    "    \n",
    "    return  total_price\n",
    "\n",
    "price1=calculate_price(10)\n",
    "print(price1)\n",
    "price2=calculate_price(20,price_per_unit=12,discount_percent=10)\n",
    "print(price2)"
   ]
  },
  {
   "cell_type": "markdown",
   "id": "15a0fb09",
   "metadata": {},
   "source": [
    "# Keyword Arguments\n",
    "\n",
    "The idea is to allow the caller to specify the argument name with values so that the caller does not need to remember the order of parameters."
   ]
  },
  {
   "cell_type": "code",
   "execution_count": 118,
   "id": "f5fe4c0e",
   "metadata": {},
   "outputs": [
    {
     "name": "stdout",
     "output_type": "stream",
     "text": [
      "geeks practice\n",
      "sepi mohamadi\n"
     ]
    }
   ],
   "source": [
    "def student(firstname,lastname):\n",
    "    print(firstname,lastname)\n",
    "    \n",
    "student(firstname='geeks',lastname='practice')    \n",
    "student(firstname='sepi',lastname='mohamadi')       "
   ]
  },
  {
   "cell_type": "markdown",
   "id": "03496e45",
   "metadata": {},
   "source": [
    "# Positional Arguments\n",
    "\n",
    "We used the Position argument during the function call so that the first argument (or value) is assigned to name and the second argument (or value) is assigned to age. By changing the position, or if you forget the order of the positions, the values can be used in the wrong places, as shown in the Case-2 example below, where 27 is assigned to the name and Suraj is assigned to the age."
   ]
  },
  {
   "cell_type": "code",
   "execution_count": 124,
   "id": "50a0f7f1",
   "metadata": {},
   "outputs": [
    {
     "name": "stdout",
     "output_type": "stream",
     "text": [
      "hi,i am  sepideh\n",
      "my age is  33\n",
      "today is  5/5/2023\n",
      "hi,i am  sepideh\n",
      "my age is  5/5/2023\n",
      "today is  33\n"
     ]
    }
   ],
   "source": [
    "def nameage(name,age,date):\n",
    "    print(\"hi,i am \", name)\n",
    "    print(\"my age is \",age)\n",
    "    print(\"today is \",date)\n",
    "    \n",
    "nameage(\"sepideh\",33, \"5/5/2023\") \n",
    "nameage(\"sepideh\", \"5/5/2023\",33) "
   ]
  },
  {
   "cell_type": "code",
   "execution_count": 145,
   "id": "cd7b4a43",
   "metadata": {},
   "outputs": [
    {
     "name": "stdout",
     "output_type": "stream",
     "text": [
      "21.0\n"
     ]
    }
   ],
   "source": [
    "def calculate_average(*numbers):\n",
    "    \n",
    "    count=len(numbers)\n",
    "    total=sum(numbers)\n",
    "    average=total/count\n",
    "    return average\n",
    "result=calculate_average(8,34)\n",
    "print(result)\n",
    "\n",
    "#The * before numbers in the function definition allows us to pass an arbitrary number of arguments to the function.\n",
    "#In summary, positional arguments allow us to pass an arbitrary number of arguments to a function, \n",
    "#which can be useful when we don't know ahead of time how many arguments we will need to pass.\n",
    "#We can use the *args syntax in the function definition to accept an arbitrary number of arguments,\n",
    "#and then manipulate those arguments inside the function as needed."
   ]
  },
  {
   "cell_type": "markdown",
   "id": "a7184557",
   "metadata": {},
   "source": [
    "# Arbitrary Keyword  Arguments\n",
    "In Python Arbitrary Keyword Arguments, *args, and **kwargs can pass a variable number of arguments to a function using special symbols. There are two special symbols:\n",
    "\n",
    "*args in Python (Non-Keyword Arguments)\n",
    "**kwargs in Python (Keyword Arguments)\n"
   ]
  },
  {
   "cell_type": "code",
   "execution_count": 125,
   "id": "9cb3eff4",
   "metadata": {},
   "outputs": [
    {
     "name": "stdout",
     "output_type": "stream",
     "text": [
      "hello\n",
      "sepi\n",
      "today\n"
     ]
    }
   ],
   "source": [
    "def myfun(*args):\n",
    "    for arg in args:\n",
    "        print(arg)\n",
    "myfun('hello','sepi','today')        "
   ]
  },
  {
   "cell_type": "code",
   "execution_count": 126,
   "id": "5c79c0dc",
   "metadata": {},
   "outputs": [
    {
     "name": "stdout",
     "output_type": "stream",
     "text": [
      "first==sepi\n",
      "mid==and\n",
      "last==mehrdad\n"
     ]
    }
   ],
   "source": [
    "def myfun(**kwargs):\n",
    "    for key, value in kwargs.items():\n",
    "        print(\"%s==%s\" % (key,value))\n",
    "        \n",
    "myfun(first='sepi',mid='and', last='mehrdad')        "
   ]
  },
  {
   "cell_type": "markdown",
   "id": "33252b0a",
   "metadata": {},
   "source": [
    "# Docstring\n",
    "\n",
    "**The first string after the function is called the Document string or Docstring in short. This is used to describe the functionality of the function. The use of docstring in functions is optional but it is considered a good practice.\n",
    "\n",
    "**The below syntax can be used to print out the docstring of a function:\n",
    "\n",
    "         Syntax: print(function_name.__doc__)"
   ]
  },
  {
   "cell_type": "code",
   "execution_count": 128,
   "id": "c92d17bd",
   "metadata": {},
   "outputs": [
    {
     "name": "stdout",
     "output_type": "stream",
     "text": [
      "function to check if the number is even or odd\n",
      "odd\n"
     ]
    }
   ],
   "source": [
    "def evenodd(x):\n",
    "    \"\"\"function to check if the number is even or odd\"\"\"\n",
    "    \n",
    "    if(x%2==0):\n",
    "        print(\"even\")\n",
    "    else:\n",
    "        print(\"odd\")\n",
    "        \n",
    "print(evenodd.__doc__) \n",
    "evenodd(89)"
   ]
  },
  {
   "cell_type": "markdown",
   "id": "58db5187",
   "metadata": {},
   "source": [
    "# callable()"
   ]
  },
  {
   "cell_type": "code",
   "execution_count": 18,
   "id": "49969934",
   "metadata": {},
   "outputs": [
    {
     "data": {
      "text/plain": [
       "True"
      ]
     },
     "execution_count": 18,
     "metadata": {},
     "output_type": "execute_result"
    }
   ],
   "source": [
    "callable(func)"
   ]
  },
  {
   "cell_type": "code",
   "execution_count": 19,
   "id": "a14b02c9",
   "metadata": {},
   "outputs": [
    {
     "data": {
      "text/plain": [
       "False"
      ]
     },
     "execution_count": 19,
     "metadata": {},
     "output_type": "execute_result"
    }
   ],
   "source": [
    "callable(1)"
   ]
  },
  {
   "cell_type": "code",
   "execution_count": 20,
   "id": "7368b122",
   "metadata": {},
   "outputs": [
    {
     "data": {
      "text/plain": [
       "True"
      ]
     },
     "execution_count": 20,
     "metadata": {},
     "output_type": "execute_result"
    }
   ],
   "source": [
    "callable(str)"
   ]
  },
  {
   "cell_type": "code",
   "execution_count": 21,
   "id": "6fff0c74",
   "metadata": {},
   "outputs": [
    {
     "data": {
      "text/plain": [
       "3"
      ]
     },
     "execution_count": 21,
     "metadata": {},
     "output_type": "execute_result"
    }
   ],
   "source": [
    "func(2)"
   ]
  },
  {
   "cell_type": "code",
   "execution_count": 22,
   "id": "d80448f8",
   "metadata": {},
   "outputs": [
    {
     "data": {
      "text/plain": [
       "3"
      ]
     },
     "execution_count": 22,
     "metadata": {},
     "output_type": "execute_result"
    }
   ],
   "source": [
    "func.__call__(2)"
   ]
  },
  {
   "cell_type": "code",
   "execution_count": 23,
   "id": "26fd17fe",
   "metadata": {},
   "outputs": [
    {
     "data": {
      "text/plain": [
       "function"
      ]
     },
     "execution_count": 23,
     "metadata": {},
     "output_type": "execute_result"
    }
   ],
   "source": [
    "type(func)"
   ]
  },
  {
   "cell_type": "code",
   "execution_count": 24,
   "id": "44859343",
   "metadata": {},
   "outputs": [
    {
     "data": {
      "text/plain": [
       "<map at 0x2b2d9e72e80>"
      ]
     },
     "execution_count": 24,
     "metadata": {},
     "output_type": "execute_result"
    }
   ],
   "source": [
    "map(lambda x:x*2,[1,2,3,4])"
   ]
  },
  {
   "cell_type": "code",
   "execution_count": 25,
   "id": "c6822830",
   "metadata": {},
   "outputs": [
    {
     "data": {
      "text/plain": [
       "[2, 4, 6, 8]"
      ]
     },
     "execution_count": 25,
     "metadata": {},
     "output_type": "execute_result"
    }
   ],
   "source": [
    "list(map(lambda x:x*2,[1,2,3,4]))"
   ]
  },
  {
   "cell_type": "code",
   "execution_count": 27,
   "id": "c8f85608",
   "metadata": {},
   "outputs": [],
   "source": [
    "A=[1,2,3,45,6,78,9,90]"
   ]
  },
  {
   "cell_type": "code",
   "execution_count": 28,
   "id": "4768fc00",
   "metadata": {},
   "outputs": [
    {
     "data": {
      "text/plain": [
       "1"
      ]
     },
     "execution_count": 28,
     "metadata": {},
     "output_type": "execute_result"
    }
   ],
   "source": [
    "min(A)"
   ]
  },
  {
   "cell_type": "code",
   "execution_count": 29,
   "id": "7bce7a99",
   "metadata": {},
   "outputs": [
    {
     "data": {
      "text/plain": [
       "90"
      ]
     },
     "execution_count": 29,
     "metadata": {},
     "output_type": "execute_result"
    }
   ],
   "source": [
    "max(A)"
   ]
  },
  {
   "cell_type": "code",
   "execution_count": 30,
   "id": "7832a75a",
   "metadata": {},
   "outputs": [
    {
     "data": {
      "text/plain": [
       "234"
      ]
     },
     "execution_count": 30,
     "metadata": {},
     "output_type": "execute_result"
    }
   ],
   "source": [
    "sum(A)"
   ]
  },
  {
   "cell_type": "code",
   "execution_count": 31,
   "id": "60f27041",
   "metadata": {},
   "outputs": [
    {
     "data": {
      "text/plain": [
       "8"
      ]
     },
     "execution_count": 31,
     "metadata": {},
     "output_type": "execute_result"
    }
   ],
   "source": [
    "len(A)"
   ]
  },
  {
   "cell_type": "code",
   "execution_count": 35,
   "id": "d0cacd38",
   "metadata": {},
   "outputs": [],
   "source": [
    "def mean(x):                       #all these functions we want simuntenously map on list, so we do it like below function\n",
    "    return sum(x)/len(x)"
   ]
  },
  {
   "cell_type": "code",
   "execution_count": 36,
   "id": "582b02f1",
   "metadata": {},
   "outputs": [
    {
     "data": {
      "text/plain": [
       "<map at 0x2b2d9e72c40>"
      ]
     },
     "execution_count": 36,
     "metadata": {},
     "output_type": "execute_result"
    }
   ],
   "source": [
    "map(lambda f:f(A),[min,max,mean,sum,len])"
   ]
  },
  {
   "cell_type": "code",
   "execution_count": 37,
   "id": "a5562f9a",
   "metadata": {},
   "outputs": [
    {
     "data": {
      "text/plain": [
       "[1, 90, 29.25, 234, 8]"
      ]
     },
     "execution_count": 37,
     "metadata": {},
     "output_type": "execute_result"
    }
   ],
   "source": [
    "list(map(lambda f:f(A),[min,max,mean,sum,len]))"
   ]
  },
  {
   "cell_type": "code",
   "execution_count": 38,
   "id": "7ab13eb1",
   "metadata": {},
   "outputs": [
    {
     "data": {
      "text/plain": [
       "[1, 2, 3, 45, 6, 78, 9, 90]"
      ]
     },
     "execution_count": 38,
     "metadata": {},
     "output_type": "execute_result"
    }
   ],
   "source": [
    "A"
   ]
  },
  {
   "cell_type": "code",
   "execution_count": 40,
   "id": "6f7ac5cb",
   "metadata": {},
   "outputs": [],
   "source": [
    "funcs=[min,max,mean,sum,len]"
   ]
  },
  {
   "cell_type": "code",
   "execution_count": 41,
   "id": "fa8d78cb",
   "metadata": {},
   "outputs": [
    {
     "data": {
      "text/plain": [
       "[1, 90, 29.25, 234, 8]"
      ]
     },
     "execution_count": 41,
     "metadata": {},
     "output_type": "execute_result"
    }
   ],
   "source": [
    "list(map(lambda f:f(A),funcs))"
   ]
  },
  {
   "cell_type": "markdown",
   "id": "0c4ad339",
   "metadata": {},
   "source": [
    "# Python Function within Functions\n",
    "\n",
    "A function that is defined inside another function is known as the inner function or nested function. Nested functions are able to access variables of the enclosing scope. Inner functions are used so that they can be protected from everything happening outside the function."
   ]
  },
  {
   "cell_type": "code",
   "execution_count": 146,
   "id": "573f8daf",
   "metadata": {},
   "outputs": [
    {
     "name": "stdout",
     "output_type": "stream",
     "text": [
      "I love you\n"
     ]
    }
   ],
   "source": [
    "def f1():\n",
    "    s='I love you'\n",
    "    def f2():\n",
    "        print(s)\n",
    "        \n",
    "    f2()  \n",
    "f1()   "
   ]
  },
  {
   "cell_type": "code",
   "execution_count": 147,
   "id": "cd064aac",
   "metadata": {},
   "outputs": [
    {
     "name": "stdout",
     "output_type": "stream",
     "text": [
      "6\n"
     ]
    }
   ],
   "source": [
    "def outer_function(x):\n",
    "    def inner_function(y):\n",
    "        return x*y\n",
    "    return inner_function\n",
    "result=outer_function(3)\n",
    "print(result(2))"
   ]
  },
  {
   "cell_type": "code",
   "execution_count": 148,
   "id": "060837b7",
   "metadata": {},
   "outputs": [
    {
     "name": "stdout",
     "output_type": "stream",
     "text": [
      "24\n"
     ]
    }
   ],
   "source": [
    "def outer_function(x):\n",
    "    def inner_function(y):\n",
    "        def inner_inner_function(z):\n",
    "            return x*y*z\n",
    "        return inner_inner_function\n",
    "    return inner_function\n",
    "result=outer_function(2)(3)(4)\n",
    "print(result)"
   ]
  },
  {
   "cell_type": "code",
   "execution_count": 149,
   "id": "ac9dd729",
   "metadata": {},
   "outputs": [
    {
     "name": "stdout",
     "output_type": "stream",
     "text": [
      "55\n"
     ]
    }
   ],
   "source": [
    "def fibonacci(n): \n",
    "    def recursive_fibonacci(n):\n",
    "        if n<2:\n",
    "            return n\n",
    "        return recursive_fibonacci(n-1)+recursive_fibonacci(n-2)\n",
    "    if n<0:\n",
    "        return None\n",
    "    else:\n",
    "        return recursive_fibonacci(n)\n",
    "    \n",
    "result=fibonacci(10)\n",
    "print(result)"
   ]
  },
  {
   "cell_type": "code",
   "execution_count": 42,
   "id": "9952c11c",
   "metadata": {},
   "outputs": [],
   "source": [
    "def value_at_zero(f):                      #means when i give you f you will give me fin point zero\n",
    "    return f(0)"
   ]
  },
  {
   "cell_type": "code",
   "execution_count": 43,
   "id": "3047ea5d",
   "metadata": {},
   "outputs": [],
   "source": [
    "def func1(x):\n",
    "    return x+1"
   ]
  },
  {
   "cell_type": "code",
   "execution_count": 44,
   "id": "66000ce7",
   "metadata": {},
   "outputs": [],
   "source": [
    "def func2(x):\n",
    "    return x-1"
   ]
  },
  {
   "cell_type": "code",
   "execution_count": 45,
   "id": "4acc561a",
   "metadata": {},
   "outputs": [
    {
     "data": {
      "text/plain": [
       "1"
      ]
     },
     "execution_count": 45,
     "metadata": {},
     "output_type": "execute_result"
    }
   ],
   "source": [
    "value_at_zero(func1)"
   ]
  },
  {
   "cell_type": "code",
   "execution_count": 46,
   "id": "69234088",
   "metadata": {},
   "outputs": [
    {
     "data": {
      "text/plain": [
       "-1"
      ]
     },
     "execution_count": 46,
     "metadata": {},
     "output_type": "execute_result"
    }
   ],
   "source": [
    "value_at_zero(func2)"
   ]
  },
  {
   "cell_type": "code",
   "execution_count": 48,
   "id": "b07b56f6",
   "metadata": {},
   "outputs": [],
   "source": [
    "def call_with_prompt(f,x):\n",
    "    \n",
    "    print(f\"Calculating {f.__name__}({x}):\")\n",
    "    \n",
    "    print(f\"Result={f(x)}\")\n",
    "    print()"
   ]
  },
  {
   "cell_type": "code",
   "execution_count": 49,
   "id": "4bd39eef",
   "metadata": {},
   "outputs": [
    {
     "name": "stdout",
     "output_type": "stream",
     "text": [
      "Calculating func1(5):\n",
      "Result=6\n",
      "\n"
     ]
    }
   ],
   "source": [
    "call_with_prompt(func1,5)"
   ]
  },
  {
   "cell_type": "code",
   "execution_count": 50,
   "id": "c4d9fa7c",
   "metadata": {},
   "outputs": [],
   "source": [
    "f1=func1"
   ]
  },
  {
   "cell_type": "code",
   "execution_count": 51,
   "id": "f0ea8ebd",
   "metadata": {},
   "outputs": [
    {
     "data": {
      "text/plain": [
       "'func1'"
      ]
     },
     "execution_count": 51,
     "metadata": {},
     "output_type": "execute_result"
    }
   ],
   "source": [
    "f1.__name__                         #when you want the name of the function"
   ]
  },
  {
   "cell_type": "markdown",
   "id": "c54a4725",
   "metadata": {},
   "source": [
    " # nested functions"
   ]
  },
  {
   "cell_type": "code",
   "execution_count": 52,
   "id": "52d370fe",
   "metadata": {},
   "outputs": [
    {
     "name": "stdout",
     "output_type": "stream",
     "text": [
      "(11, 9)\n"
     ]
    }
   ],
   "source": [
    "def func(x):\n",
    "    def f1():\n",
    "        return x+1\n",
    "    def f2():\n",
    "        return x-1\n",
    "    return f1(),f2()\n",
    "print(func(10))"
   ]
  },
  {
   "cell_type": "code",
   "execution_count": 53,
   "id": "47ebf1d0",
   "metadata": {},
   "outputs": [
    {
     "name": "stdout",
     "output_type": "stream",
     "text": [
      "(12, 8)\n"
     ]
    }
   ],
   "source": [
    "def func(x):\n",
    "    def f1(t):\n",
    "        return x+t\n",
    "    def f2(t):\n",
    "        return x-t\n",
    "    return f1(2),f2(2)\n",
    "print(func(10))"
   ]
  },
  {
   "cell_type": "code",
   "execution_count": 54,
   "id": "ed3d1e2a",
   "metadata": {},
   "outputs": [
    {
     "name": "stdout",
     "output_type": "stream",
     "text": [
      "(11, 9)\n"
     ]
    }
   ],
   "source": [
    "def func(x):\n",
    "    def f1(t):\n",
    "        return t+1\n",
    "    def f2(t):\n",
    "        return t-1\n",
    "    return f1(x),f2(x)\n",
    "print(func(10))"
   ]
  },
  {
   "cell_type": "code",
   "execution_count": 58,
   "id": "fdc42752",
   "metadata": {},
   "outputs": [
    {
     "name": "stdout",
     "output_type": "stream",
     "text": [
      "<function adder.<locals>.f at 0x000002B2D9F50550>\n",
      "2 6 9\n"
     ]
    }
   ],
   "source": [
    "def adder(n):\n",
    "    def f(x):\n",
    "        return x+n\n",
    "    return f\n",
    "\n",
    "a=adder(1)\n",
    "\n",
    "print(a)\n",
    "\n",
    "print(a(1),a(5),a(8))"
   ]
  },
  {
   "cell_type": "code",
   "execution_count": 60,
   "id": "961b6b8c",
   "metadata": {},
   "outputs": [
    {
     "name": "stdout",
     "output_type": "stream",
     "text": [
      "4 6 9\n"
     ]
    }
   ],
   "source": [
    "b=adder(2)\n",
    "print(b(2),b(4),(9))"
   ]
  },
  {
   "cell_type": "code",
   "execution_count": 61,
   "id": "855b2004",
   "metadata": {},
   "outputs": [
    {
     "name": "stdout",
     "output_type": "stream",
     "text": [
      "8\n"
     ]
    }
   ],
   "source": [
    "c=adder(3)                     # === print(adder(3)(5))\n",
    "print(c(5))     "
   ]
  },
  {
   "cell_type": "code",
   "execution_count": 62,
   "id": "5a0957ec",
   "metadata": {},
   "outputs": [
    {
     "name": "stdout",
     "output_type": "stream",
     "text": [
      "8\n"
     ]
    }
   ],
   "source": [
    "print(adder(3)(5))"
   ]
  },
  {
   "cell_type": "code",
   "execution_count": 64,
   "id": "d41cce14",
   "metadata": {},
   "outputs": [
    {
     "name": "stdout",
     "output_type": "stream",
     "text": [
      "1\n",
      "10\n"
     ]
    }
   ],
   "source": [
    "def make_callable(x):                  # *args,**kwargs:means whatever we have show in output\n",
    "    if callable(x):\n",
    "        return x\n",
    "    else:\n",
    "        def func(*args,**kwargs): \n",
    "            return x\n",
    "        return func\n",
    "    \n",
    "a=abs\n",
    "b=10\n",
    "\n",
    "callable_a=make_callable(a)\n",
    "callable_b=make_callable(b)\n",
    "\n",
    "print(callable_a(-1))\n",
    "print(callable_b(-1))"
   ]
  },
  {
   "cell_type": "code",
   "execution_count": 78,
   "id": "ed2b8940",
   "metadata": {},
   "outputs": [
    {
     "name": "stdout",
     "output_type": "stream",
     "text": [
      "calling function abs:\n",
      "10\n"
     ]
    }
   ],
   "source": [
    "def func(f):\n",
    "    \n",
    "    def internal(*args,**kwargs):                    \n",
    "        \n",
    "        print(f\"calling function {f.__name__}:\")\n",
    "        \n",
    "        return f(*args,**kwargs)                        \n",
    "    return internal\n",
    "\n",
    "new_abs=func(abs)                               \n",
    "\n",
    "print(new_abs(-10))"
   ]
  },
  {
   "cell_type": "code",
   "execution_count": 109,
   "id": "21e3ca5f",
   "metadata": {},
   "outputs": [
    {
     "name": "stdout",
     "output_type": "stream",
     "text": [
      "calling function hex:\n",
      "-0x5a\n"
     ]
    }
   ],
   "source": [
    "new_abs=func(hex)\n",
    "print(new_abs(-90))"
   ]
  },
  {
   "cell_type": "code",
   "execution_count": 111,
   "id": "37ffbd0f",
   "metadata": {},
   "outputs": [
    {
     "name": "stdout",
     "output_type": "stream",
     "text": [
      "calling function pow:\n",
      "4\n"
     ]
    }
   ],
   "source": [
    "new_abs=func(pow)\n",
    "print(new_abs(2,2))"
   ]
  },
  {
   "cell_type": "code",
   "execution_count": null,
   "id": "157d0cce",
   "metadata": {},
   "outputs": [],
   "source": []
  },
  {
   "cell_type": "code",
   "execution_count": null,
   "id": "3548f0ac",
   "metadata": {},
   "outputs": [],
   "source": []
  },
  {
   "cell_type": "code",
   "execution_count": null,
   "id": "152ec9a8",
   "metadata": {},
   "outputs": [],
   "source": []
  },
  {
   "cell_type": "code",
   "execution_count": null,
   "id": "8a6c7916",
   "metadata": {},
   "outputs": [],
   "source": []
  },
  {
   "cell_type": "markdown",
   "id": "ed0449a3",
   "metadata": {},
   "source": [
    "# This code defines a higher-order function func() that takes a function f as an argument, and returns a new function internal().\n",
    "\n",
    "The internal() function takes any number of arguments using the *args and **kwargs syntax, and then calls the original function f with these arguments. Before calling the original function, internal() prints a message indicating which function is being called.\n",
    "\n",
    "In the code snippet, func() is called with the built-in function abs() as an argument, and the returned function is assigned to the variable new_abs. The new_abs() function can be used just like the original abs() function, but it will print a message before calling abs().\n",
    "\n",
    "When new_abs() is called with the argument -10, it will call the original abs() function with -10 as its argument and return the absolute value of -10, which is 10. However, before calling abs(), new_abs() will print the message \"calling function abs:\" to the console. Therefore, the output of the code will be:"
   ]
  },
  {
   "cell_type": "markdown",
   "id": "38e82072",
   "metadata": {},
   "source": [
    "   # The aim of using a nested function like internal() in the func() function is to modify the behavior of the original function f without changing its code directly.\n",
    "\n",
    "By wrapping f inside internal(), we can add additional functionality to f without modifying its original implementation. In this case, internal() adds a print statement to indicate which function is being called, before calling the original function f.\n",
    "\n",
    "This technique is called function wrapping or function decoration, and it allows us to extend or modify the behavior of existing functions without changing their code. This is useful when we want to add some common functionality to multiple functions, or when we want to modify the behavior of an existing function without affecting the rest of the codebase.\n",
    "\n",
    "In the code example you provided, we could have called abs() directly instead of using func() to wrap it with an additional print statement. However, the purpose of the code is to demonstrate how function wrapping works, and how we can use nested functions to modify the behavior of existing functions.      "
   ]
  },
  {
   "cell_type": "code",
   "execution_count": 85,
   "id": "ca8fac27",
   "metadata": {},
   "outputs": [
    {
     "name": "stdout",
     "output_type": "stream",
     "text": [
      "HELLO, ALICE!\n"
     ]
    }
   ],
   "source": [
    "def uppercase_decorator(func):\n",
    "    def wrapper(text):\n",
    "        original_result = func(text)\n",
    "        modified_result = original_result.upper()\n",
    "        return modified_result\n",
    "    return wrapper\n",
    "\n",
    "@uppercase_decorator\n",
    "def greet(name):\n",
    "    return f\"Hello, {name}!\"\n",
    "\n",
    "print(greet(\"Alice\"))\n"
   ]
  },
  {
   "cell_type": "code",
   "execution_count": 90,
   "id": "5ba348c4",
   "metadata": {},
   "outputs": [
    {
     "name": "stdout",
     "output_type": "stream",
     "text": [
      "HELLO,ALICE!\n"
     ]
    }
   ],
   "source": [
    "def uppercase_decorator(func):\n",
    "    def wrapper(t):\n",
    "        original_result = func(t)\n",
    "        modified_result = original_result.upper()\n",
    "        return modified_result\n",
    "    return wrapper\n",
    "\n",
    "def greet(name):\n",
    "    return f\"Hello,{name}!\"\n",
    "greet=uppercase_decorator(greet)\n",
    "\n",
    "print(greet(\"Alice\"))"
   ]
  },
  {
   "cell_type": "markdown",
   "id": "cda029bf",
   "metadata": {},
   "source": [
    "***That's correct. In the decorator function uppercase_decorator, we don't mention the greet() function explicitly. Instead, we define a generic decorator function that can be used to wrap any function that takes a single string argument and returns a string.\n",
    "\n",
    "When we use the @uppercase_decorator decorator syntax to apply the uppercase_decorator function to the greet() function, Python automatically passes the greet() function as an argument to the decorator function, and the decorator function returns a modified version of the greet() function.\n",
    "\n",
    "The greet() function itself does not change; it still takes a single string argument and returns a string. However, when we call greet() after it has been wrapped by the uppercase_decorator function, the output is modified to be in uppercase letters.\n",
    "\n",
    "This is the power of function wrapping and decorators in Python. We can define generic decorator functions that modify the behavior of any function that meets certain criteria, without having to modify the code of each individual function."
   ]
  },
  {
   "cell_type": "markdown",
   "id": "0ad7680b",
   "metadata": {},
   "source": [
    "# The @uppercase_decorator syntax is a shorthand way of applying the uppercase_decorator function to the greet() function. \n",
    "**This is known as a decorator syntax or a decorator annotation.\n",
    "\n",
    "When you apply a decorator function to a function using the @ syntax, you are effectively replacing the original function with the result of the decorator function. In other words, the @ syntax is equivalent to the following code:\n",
    "\n",
    "\n",
    "\n",
    "The @ syntax is just a shorthand way of doing this. Instead of calling the decorator function explicitly and assigning the result back to the function, we can simply use the @decorator_function syntax to apply the decorator to the function directly."
   ]
  },
  {
   "cell_type": "code",
   "execution_count": 107,
   "id": "f622775b",
   "metadata": {},
   "outputs": [
    {
     "name": "stdout",
     "output_type": "stream",
     "text": [
      "HELLO,ALICE!\n"
     ]
    }
   ],
   "source": [
    "def uppercase_decorator(func):\n",
    "    def wrapper(text):\n",
    "        modified_result = func(text).upper()\n",
    "        return modified_result\n",
    "    return wrapper\n",
    "\n",
    "def greet(name):\n",
    "    return f\"Hello,{name}!\"\n",
    "greet=uppercase_decorator(greet)\n",
    "\n",
    "print(greet(\"Alice\"))"
   ]
  },
  {
   "cell_type": "code",
   "execution_count": 99,
   "id": "e63301cc",
   "metadata": {},
   "outputs": [
    {
     "name": "stdout",
     "output_type": "stream",
     "text": [
      "HELLO, ALICE!\n"
     ]
    }
   ],
   "source": [
    "def uppercase(text):\n",
    "    return text.upper()\n",
    "\n",
    "def uppercase_decorator(func):\n",
    "    def wrapper(text):\n",
    "        return func(text).upper()\n",
    "    return wrapper\n",
    "\n",
    "def greet(name):\n",
    "    return f\"Hello, {name}!\"\n",
    "\n",
    "greet = uppercase_decorator(greet)\n",
    "\n",
    "print(greet(\"Alice\"))\n"
   ]
  },
  {
   "cell_type": "markdown",
   "id": "11b8dde0",
   "metadata": {},
   "source": [
    "# season four : turning functions into classess"
   ]
  },
  {
   "cell_type": "code",
   "execution_count": 112,
   "id": "9f762724",
   "metadata": {},
   "outputs": [
    {
     "name": "stdout",
     "output_type": "stream",
     "text": [
      "2 6 10\n",
      "8\n"
     ]
    }
   ],
   "source": [
    "def adder(n):\n",
    "    def f(x):\n",
    "        return x+n\n",
    "    return f\n",
    "\n",
    "\n",
    "a=adder(1)\n",
    "print(a(1),a(5),a(9))\n",
    "\n",
    "b=adder(2)\n",
    "print(adder(3)(5))"
   ]
  },
  {
   "cell_type": "code",
   "execution_count": 113,
   "id": "b5a59c82",
   "metadata": {},
   "outputs": [
    {
     "name": "stdout",
     "output_type": "stream",
     "text": [
      "2 6 10\n"
     ]
    }
   ],
   "source": [
    "class Adder:            #we can different types of functions are callable change into classess\n",
    "    \n",
    "    def __init__(self,n):\n",
    "        self.n=n\n",
    "        \n",
    "    def __call__(self,x):\n",
    "        return x+self.n\n",
    "a=Adder(1) \n",
    "print(a(1),a(5),a(9))\n",
    "    "
   ]
  },
  {
   "cell_type": "code",
   "execution_count": 114,
   "id": "43add836",
   "metadata": {},
   "outputs": [
    {
     "name": "stdout",
     "output_type": "stream",
     "text": [
      "6 10 14\n"
     ]
    }
   ],
   "source": [
    "a.n=5\n",
    "print(a(1),a(5),a(9))"
   ]
  },
  {
   "cell_type": "markdown",
   "id": "3f7af71f",
   "metadata": {},
   "source": [
    "# Anonymous Functions in Python\n",
    "In Python, an anonymous function means that a function is without a name. As we already know the def keyword is used to define the normal functions and the lambda keyword is used to create anonymous functions."
   ]
  },
  {
   "cell_type": "code",
   "execution_count": 151,
   "id": "05d0e21e",
   "metadata": {},
   "outputs": [
    {
     "name": "stdout",
     "output_type": "stream",
     "text": [
      "8\n",
      "27\n"
     ]
    }
   ],
   "source": [
    "def cube(x):\n",
    "    return x*x*x\n",
    "\n",
    "cube_v2=lambda x: x*x*x\n",
    "print(cube(2))\n",
    "print(cube_v2(3))"
   ]
  },
  {
   "cell_type": "markdown",
   "id": "34ec2a84",
   "metadata": {},
   "source": [
    "# Return Statement in Python Function\n",
    "\n",
    "The function return statement is used to exit from a function and go back to the function caller and return the specified value or data item to the caller. The syntax for the return statement is:\n",
    "\n",
    "return [expression_list]\n",
    "\n",
    "\n",
    "The return statement can consist of a variable, an expression, or a constant which is returned at the end of the function execution. If none of the above is present with the return statement a None object is returned."
   ]
  },
  {
   "cell_type": "code",
   "execution_count": 153,
   "id": "9423ca49",
   "metadata": {},
   "outputs": [
    {
     "name": "stdout",
     "output_type": "stream",
     "text": [
      "49\n"
     ]
    }
   ],
   "source": [
    "def square(num):\n",
    "    return num**2\n",
    "print(square(7))    "
   ]
  },
  {
   "cell_type": "markdown",
   "id": "ac93c30c",
   "metadata": {},
   "source": [
    "# Pass by Reference and Pass by Value\n",
    "\n",
    "One important thing to note is, in Python every variable name is a reference. When we pass a variable to a function, a new reference to the object is created. Parameter passing in Python is the same as reference passing in Java"
   ]
  },
  {
   "cell_type": "code",
   "execution_count": 155,
   "id": "09586168",
   "metadata": {},
   "outputs": [
    {
     "name": "stdout",
     "output_type": "stream",
     "text": [
      "[20, 11, 23, 45, 6, 7]\n"
     ]
    }
   ],
   "source": [
    "def myfun(x):\n",
    "    x[0]=20\n",
    "lst=[10,11,23,45,6,7]  \n",
    "myfun(lst)\n",
    "print(lst)"
   ]
  },
  {
   "cell_type": "code",
   "execution_count": 156,
   "id": "f5230d65",
   "metadata": {},
   "outputs": [
    {
     "name": "stdout",
     "output_type": "stream",
     "text": [
      "[9, 8, 7, 6, 5]\n"
     ]
    }
   ],
   "source": [
    "def myfun(x):\n",
    "    x=[1,2,3]\n",
    "lst=[9,8,7,6,5]  \n",
    "myfun(lst)\n",
    "print(lst)"
   ]
  },
  {
   "cell_type": "code",
   "execution_count": 157,
   "id": "2547c0cc",
   "metadata": {},
   "outputs": [
    {
     "name": "stdout",
     "output_type": "stream",
     "text": [
      "2\n",
      "3\n"
     ]
    }
   ],
   "source": [
    "def swap(x,y):\n",
    "    temp=x\n",
    "    x=y\n",
    "    y=temp\n",
    "x=2\n",
    "y=3\n",
    "swap(x,y)\n",
    "print(x)\n",
    "print(y)"
   ]
  },
  {
   "cell_type": "code",
   "execution_count": 158,
   "id": "0268502d",
   "metadata": {},
   "outputs": [
    {
     "name": "stdout",
     "output_type": "stream",
     "text": [
      "<class 'type'>\n"
     ]
    }
   ],
   "source": [
    "print(type(type(int)))"
   ]
  },
  {
   "cell_type": "code",
   "execution_count": 159,
   "id": "6ebe7034",
   "metadata": {},
   "outputs": [
    {
     "name": "stdout",
     "output_type": "stream",
     "text": [
      "12\n"
     ]
    }
   ],
   "source": [
    "l=['1','2']\n",
    "print(\"\".join(l))"
   ]
  },
  {
   "cell_type": "code",
   "execution_count": null,
   "id": "ee5a9d79",
   "metadata": {},
   "outputs": [],
   "source": [
    "import"
   ]
  },
  {
   "cell_type": "markdown",
   "id": "ab5aabcb",
   "metadata": {},
   "source": [
    "# season five in functions"
   ]
  },
  {
   "cell_type": "code",
   "execution_count": 163,
   "id": "f2da890d",
   "metadata": {},
   "outputs": [
    {
     "ename": "AttributeError",
     "evalue": "'NoneType' object has no attribute 'groupdict'",
     "output_type": "error",
     "traceback": [
      "\u001b[1;31m---------------------------------------------------------------------------\u001b[0m",
      "\u001b[1;31mAttributeError\u001b[0m                            Traceback (most recent call last)",
      "\u001b[1;32m~\\AppData\\Local\\Temp/ipykernel_14828/2613307574.py\u001b[0m in \u001b[0;36m<module>\u001b[1;34m\u001b[0m\n\u001b[0;32m      3\u001b[0m \u001b[0mregex\u001b[0m \u001b[1;33m=\u001b[0m \u001b[0mre\u001b[0m\u001b[1;33m.\u001b[0m\u001b[0mcompile\u001b[0m\u001b[1;33m(\u001b[0m\u001b[1;34m'(?P<animal>w+) (?P<verb>w+) (?P<adjective>w+)'\u001b[0m\u001b[1;33m)\u001b[0m\u001b[1;33m\u001b[0m\u001b[1;33m\u001b[0m\u001b[0m\n\u001b[0;32m      4\u001b[0m \u001b[0mmatched\u001b[0m \u001b[1;33m=\u001b[0m \u001b[0mre\u001b[0m\u001b[1;33m.\u001b[0m\u001b[0msearch\u001b[0m\u001b[1;33m(\u001b[0m\u001b[0mregex\u001b[0m\u001b[1;33m,\u001b[0m \u001b[0msentence\u001b[0m\u001b[1;33m)\u001b[0m\u001b[1;33m\u001b[0m\u001b[1;33m\u001b[0m\u001b[0m\n\u001b[1;32m----> 5\u001b[1;33m \u001b[0mprint\u001b[0m\u001b[1;33m(\u001b[0m\u001b[0mmatched\u001b[0m\u001b[1;33m.\u001b[0m\u001b[0mgroupdict\u001b[0m\u001b[1;33m(\u001b[0m\u001b[1;33m)\u001b[0m\u001b[1;33m)\u001b[0m\u001b[1;33m\u001b[0m\u001b[1;33m\u001b[0m\u001b[0m\n\u001b[0m",
      "\u001b[1;31mAttributeError\u001b[0m: 'NoneType' object has no attribute 'groupdict'"
     ]
    }
   ],
   "source": [
    "import re\n",
    "sentence = 'horses are fast'\n",
    "regex = re.compile('(?P<animal>w+) (?P<verb>w+) (?P<adjective>w+)')\n",
    "matched = re.search(regex, sentence)\n",
    "print(matched.groupdict())"
   ]
  },
  {
   "cell_type": "code",
   "execution_count": null,
   "id": "fb83c3d7",
   "metadata": {},
   "outputs": [],
   "source": []
  },
  {
   "cell_type": "code",
   "execution_count": 162,
   "id": "587b3228",
   "metadata": {},
   "outputs": [
    {
     "ename": "error",
     "evalue": "unknown extension ?p at position 1",
     "output_type": "error",
     "traceback": [
      "\u001b[1;31m---------------------------------------------------------------------------\u001b[0m",
      "\u001b[1;31merror\u001b[0m                                     Traceback (most recent call last)",
      "\u001b[1;32m~\\AppData\\Local\\Temp/ipykernel_14828/2435997036.py\u001b[0m in \u001b[0;36m<module>\u001b[1;34m\u001b[0m\n\u001b[0;32m      1\u001b[0m \u001b[1;32mimport\u001b[0m \u001b[0mre\u001b[0m\u001b[1;33m\u001b[0m\u001b[1;33m\u001b[0m\u001b[0m\n\u001b[0;32m      2\u001b[0m \u001b[0msentence\u001b[0m\u001b[1;33m=\u001b[0m\u001b[1;34m'horses are fast'\u001b[0m\u001b[1;33m\u001b[0m\u001b[1;33m\u001b[0m\u001b[0m\n\u001b[1;32m----> 3\u001b[1;33m \u001b[0mregex\u001b[0m\u001b[1;33m=\u001b[0m\u001b[0mre\u001b[0m\u001b[1;33m.\u001b[0m\u001b[0mcompile\u001b[0m\u001b[1;33m(\u001b[0m\u001b[1;34m'(?p<animal>)w+) (?p<verb>w+) (?p<adjective>w+)'\u001b[0m\u001b[1;33m)\u001b[0m\u001b[1;33m\u001b[0m\u001b[1;33m\u001b[0m\u001b[0m\n\u001b[0m\u001b[0;32m      4\u001b[0m \u001b[0mmatched\u001b[0m\u001b[1;33m=\u001b[0m\u001b[0mre\u001b[0m\u001b[1;33m.\u001b[0m\u001b[0msearch\u001b[0m\u001b[1;33m(\u001b[0m\u001b[0mregex\u001b[0m\u001b[1;33m,\u001b[0m\u001b[0msentence\u001b[0m\u001b[1;33m)\u001b[0m\u001b[1;33m\u001b[0m\u001b[1;33m\u001b[0m\u001b[0m\n\u001b[0;32m      5\u001b[0m \u001b[0mprint\u001b[0m\u001b[1;33m(\u001b[0m\u001b[0mmatched\u001b[0m\u001b[1;33m.\u001b[0m\u001b[0mgroupdict\u001b[0m\u001b[1;33m(\u001b[0m\u001b[1;33m)\u001b[0m\u001b[1;33m)\u001b[0m\u001b[1;33m\u001b[0m\u001b[1;33m\u001b[0m\u001b[0m\n",
      "\u001b[1;32m~\\anaconda3\\lib\\re.py\u001b[0m in \u001b[0;36mcompile\u001b[1;34m(pattern, flags)\u001b[0m\n\u001b[0;32m    250\u001b[0m \u001b[1;32mdef\u001b[0m \u001b[0mcompile\u001b[0m\u001b[1;33m(\u001b[0m\u001b[0mpattern\u001b[0m\u001b[1;33m,\u001b[0m \u001b[0mflags\u001b[0m\u001b[1;33m=\u001b[0m\u001b[1;36m0\u001b[0m\u001b[1;33m)\u001b[0m\u001b[1;33m:\u001b[0m\u001b[1;33m\u001b[0m\u001b[1;33m\u001b[0m\u001b[0m\n\u001b[0;32m    251\u001b[0m     \u001b[1;34m\"Compile a regular expression pattern, returning a Pattern object.\"\u001b[0m\u001b[1;33m\u001b[0m\u001b[1;33m\u001b[0m\u001b[0m\n\u001b[1;32m--> 252\u001b[1;33m     \u001b[1;32mreturn\u001b[0m \u001b[0m_compile\u001b[0m\u001b[1;33m(\u001b[0m\u001b[0mpattern\u001b[0m\u001b[1;33m,\u001b[0m \u001b[0mflags\u001b[0m\u001b[1;33m)\u001b[0m\u001b[1;33m\u001b[0m\u001b[1;33m\u001b[0m\u001b[0m\n\u001b[0m\u001b[0;32m    253\u001b[0m \u001b[1;33m\u001b[0m\u001b[0m\n\u001b[0;32m    254\u001b[0m \u001b[1;32mdef\u001b[0m \u001b[0mpurge\u001b[0m\u001b[1;33m(\u001b[0m\u001b[1;33m)\u001b[0m\u001b[1;33m:\u001b[0m\u001b[1;33m\u001b[0m\u001b[1;33m\u001b[0m\u001b[0m\n",
      "\u001b[1;32m~\\anaconda3\\lib\\re.py\u001b[0m in \u001b[0;36m_compile\u001b[1;34m(pattern, flags)\u001b[0m\n\u001b[0;32m    302\u001b[0m     \u001b[1;32mif\u001b[0m \u001b[1;32mnot\u001b[0m \u001b[0msre_compile\u001b[0m\u001b[1;33m.\u001b[0m\u001b[0misstring\u001b[0m\u001b[1;33m(\u001b[0m\u001b[0mpattern\u001b[0m\u001b[1;33m)\u001b[0m\u001b[1;33m:\u001b[0m\u001b[1;33m\u001b[0m\u001b[1;33m\u001b[0m\u001b[0m\n\u001b[0;32m    303\u001b[0m         \u001b[1;32mraise\u001b[0m \u001b[0mTypeError\u001b[0m\u001b[1;33m(\u001b[0m\u001b[1;34m\"first argument must be string or compiled pattern\"\u001b[0m\u001b[1;33m)\u001b[0m\u001b[1;33m\u001b[0m\u001b[1;33m\u001b[0m\u001b[0m\n\u001b[1;32m--> 304\u001b[1;33m     \u001b[0mp\u001b[0m \u001b[1;33m=\u001b[0m \u001b[0msre_compile\u001b[0m\u001b[1;33m.\u001b[0m\u001b[0mcompile\u001b[0m\u001b[1;33m(\u001b[0m\u001b[0mpattern\u001b[0m\u001b[1;33m,\u001b[0m \u001b[0mflags\u001b[0m\u001b[1;33m)\u001b[0m\u001b[1;33m\u001b[0m\u001b[1;33m\u001b[0m\u001b[0m\n\u001b[0m\u001b[0;32m    305\u001b[0m     \u001b[1;32mif\u001b[0m \u001b[1;32mnot\u001b[0m \u001b[1;33m(\u001b[0m\u001b[0mflags\u001b[0m \u001b[1;33m&\u001b[0m \u001b[0mDEBUG\u001b[0m\u001b[1;33m)\u001b[0m\u001b[1;33m:\u001b[0m\u001b[1;33m\u001b[0m\u001b[1;33m\u001b[0m\u001b[0m\n\u001b[0;32m    306\u001b[0m         \u001b[1;32mif\u001b[0m \u001b[0mlen\u001b[0m\u001b[1;33m(\u001b[0m\u001b[0m_cache\u001b[0m\u001b[1;33m)\u001b[0m \u001b[1;33m>=\u001b[0m \u001b[0m_MAXCACHE\u001b[0m\u001b[1;33m:\u001b[0m\u001b[1;33m\u001b[0m\u001b[1;33m\u001b[0m\u001b[0m\n",
      "\u001b[1;32m~\\anaconda3\\lib\\sre_compile.py\u001b[0m in \u001b[0;36mcompile\u001b[1;34m(p, flags)\u001b[0m\n\u001b[0;32m    762\u001b[0m     \u001b[1;32mif\u001b[0m \u001b[0misstring\u001b[0m\u001b[1;33m(\u001b[0m\u001b[0mp\u001b[0m\u001b[1;33m)\u001b[0m\u001b[1;33m:\u001b[0m\u001b[1;33m\u001b[0m\u001b[1;33m\u001b[0m\u001b[0m\n\u001b[0;32m    763\u001b[0m         \u001b[0mpattern\u001b[0m \u001b[1;33m=\u001b[0m \u001b[0mp\u001b[0m\u001b[1;33m\u001b[0m\u001b[1;33m\u001b[0m\u001b[0m\n\u001b[1;32m--> 764\u001b[1;33m         \u001b[0mp\u001b[0m \u001b[1;33m=\u001b[0m \u001b[0msre_parse\u001b[0m\u001b[1;33m.\u001b[0m\u001b[0mparse\u001b[0m\u001b[1;33m(\u001b[0m\u001b[0mp\u001b[0m\u001b[1;33m,\u001b[0m \u001b[0mflags\u001b[0m\u001b[1;33m)\u001b[0m\u001b[1;33m\u001b[0m\u001b[1;33m\u001b[0m\u001b[0m\n\u001b[0m\u001b[0;32m    765\u001b[0m     \u001b[1;32melse\u001b[0m\u001b[1;33m:\u001b[0m\u001b[1;33m\u001b[0m\u001b[1;33m\u001b[0m\u001b[0m\n\u001b[0;32m    766\u001b[0m         \u001b[0mpattern\u001b[0m \u001b[1;33m=\u001b[0m \u001b[1;32mNone\u001b[0m\u001b[1;33m\u001b[0m\u001b[1;33m\u001b[0m\u001b[0m\n",
      "\u001b[1;32m~\\anaconda3\\lib\\sre_parse.py\u001b[0m in \u001b[0;36mparse\u001b[1;34m(str, flags, state)\u001b[0m\n\u001b[0;32m    946\u001b[0m \u001b[1;33m\u001b[0m\u001b[0m\n\u001b[0;32m    947\u001b[0m     \u001b[1;32mtry\u001b[0m\u001b[1;33m:\u001b[0m\u001b[1;33m\u001b[0m\u001b[1;33m\u001b[0m\u001b[0m\n\u001b[1;32m--> 948\u001b[1;33m         \u001b[0mp\u001b[0m \u001b[1;33m=\u001b[0m \u001b[0m_parse_sub\u001b[0m\u001b[1;33m(\u001b[0m\u001b[0msource\u001b[0m\u001b[1;33m,\u001b[0m \u001b[0mstate\u001b[0m\u001b[1;33m,\u001b[0m \u001b[0mflags\u001b[0m \u001b[1;33m&\u001b[0m \u001b[0mSRE_FLAG_VERBOSE\u001b[0m\u001b[1;33m,\u001b[0m \u001b[1;36m0\u001b[0m\u001b[1;33m)\u001b[0m\u001b[1;33m\u001b[0m\u001b[1;33m\u001b[0m\u001b[0m\n\u001b[0m\u001b[0;32m    949\u001b[0m     \u001b[1;32mexcept\u001b[0m \u001b[0mVerbose\u001b[0m\u001b[1;33m:\u001b[0m\u001b[1;33m\u001b[0m\u001b[1;33m\u001b[0m\u001b[0m\n\u001b[0;32m    950\u001b[0m         \u001b[1;31m# the VERBOSE flag was switched on inside the pattern.  to be\u001b[0m\u001b[1;33m\u001b[0m\u001b[1;33m\u001b[0m\u001b[0m\n",
      "\u001b[1;32m~\\anaconda3\\lib\\sre_parse.py\u001b[0m in \u001b[0;36m_parse_sub\u001b[1;34m(source, state, verbose, nested)\u001b[0m\n\u001b[0;32m    441\u001b[0m     \u001b[0mstart\u001b[0m \u001b[1;33m=\u001b[0m \u001b[0msource\u001b[0m\u001b[1;33m.\u001b[0m\u001b[0mtell\u001b[0m\u001b[1;33m(\u001b[0m\u001b[1;33m)\u001b[0m\u001b[1;33m\u001b[0m\u001b[1;33m\u001b[0m\u001b[0m\n\u001b[0;32m    442\u001b[0m     \u001b[1;32mwhile\u001b[0m \u001b[1;32mTrue\u001b[0m\u001b[1;33m:\u001b[0m\u001b[1;33m\u001b[0m\u001b[1;33m\u001b[0m\u001b[0m\n\u001b[1;32m--> 443\u001b[1;33m         itemsappend(_parse(source, state, verbose, nested + 1,\n\u001b[0m\u001b[0;32m    444\u001b[0m                            not nested and not items))\n\u001b[0;32m    445\u001b[0m         \u001b[1;32mif\u001b[0m \u001b[1;32mnot\u001b[0m \u001b[0msourcematch\u001b[0m\u001b[1;33m(\u001b[0m\u001b[1;34m\"|\"\u001b[0m\u001b[1;33m)\u001b[0m\u001b[1;33m:\u001b[0m\u001b[1;33m\u001b[0m\u001b[1;33m\u001b[0m\u001b[0m\n",
      "\u001b[1;32m~\\anaconda3\\lib\\sre_parse.py\u001b[0m in \u001b[0;36m_parse\u001b[1;34m(source, state, verbose, nested, first)\u001b[0m\n\u001b[0;32m    821\u001b[0m                     \u001b[0mgroup\u001b[0m \u001b[1;33m=\u001b[0m \u001b[1;32mNone\u001b[0m\u001b[1;33m\u001b[0m\u001b[1;33m\u001b[0m\u001b[0m\n\u001b[0;32m    822\u001b[0m                 \u001b[1;32melse\u001b[0m\u001b[1;33m:\u001b[0m\u001b[1;33m\u001b[0m\u001b[1;33m\u001b[0m\u001b[0m\n\u001b[1;32m--> 823\u001b[1;33m                     raise source.error(\"unknown extension ?\" + char,\n\u001b[0m\u001b[0;32m    824\u001b[0m                                        len(char) + 1)\n\u001b[0;32m    825\u001b[0m \u001b[1;33m\u001b[0m\u001b[0m\n",
      "\u001b[1;31merror\u001b[0m: unknown extension ?p at position 1"
     ]
    }
   ],
   "source": [
    "import re\n",
    "sentence='horses are fast'\n",
    "regex=re.compile('(?p<animal>)w+) (?p<verb>w+) (?p<adjective>w+)')\n",
    "matched=re.search(regex,sentence)\n",
    "print(matched.groupdict())"
   ]
  },
  {
   "cell_type": "code",
   "execution_count": null,
   "id": "70d3b5dd",
   "metadata": {},
   "outputs": [],
   "source": []
  },
  {
   "cell_type": "code",
   "execution_count": null,
   "id": "3459c60b",
   "metadata": {},
   "outputs": [],
   "source": []
  },
  {
   "cell_type": "code",
   "execution_count": null,
   "id": "03b5cd22",
   "metadata": {},
   "outputs": [],
   "source": []
  },
  {
   "cell_type": "code",
   "execution_count": null,
   "id": "9d4f9b5c",
   "metadata": {},
   "outputs": [],
   "source": []
  },
  {
   "cell_type": "code",
   "execution_count": null,
   "id": "df030d4b",
   "metadata": {},
   "outputs": [],
   "source": []
  }
 ],
 "metadata": {
  "kernelspec": {
   "display_name": "Python 3 (ipykernel)",
   "language": "python",
   "name": "python3"
  },
  "language_info": {
   "codemirror_mode": {
    "name": "ipython",
    "version": 3
   },
   "file_extension": ".py",
   "mimetype": "text/x-python",
   "name": "python",
   "nbconvert_exporter": "python",
   "pygments_lexer": "ipython3",
   "version": "3.9.7"
  }
 },
 "nbformat": 4,
 "nbformat_minor": 5
}
