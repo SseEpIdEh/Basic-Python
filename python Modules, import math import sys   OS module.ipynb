{
 "cells": [
  {
   "cell_type": "markdown",
   "id": "f274e946",
   "metadata": {},
   "source": [
    "# What is Python Module \n",
    "A Python module is a file containing Python definitions and statements. A module can define functions, classes, and variables. A module can also include runnable code. Grouping related code into a module makes the code easier to understand and use. It also makes the code logically organized."
   ]
  },
  {
   "cell_type": "markdown",
   "id": "587a0bba",
   "metadata": {},
   "source": [
    "# \n",
    "first i open a new notebook in jupyter and then I wrote some codes there, i save it as a .py (file---download as (python .py) then I call the code in the current page, it worked but we should first do some steps like this:)"
   ]
  },
  {
   "cell_type": "markdown",
   "id": "61e5bdf9",
   "metadata": {},
   "source": [
    "# Importing modules in Python\n",
    "'Now, we are importing the calc that we created earlier to perform add operation.'\n",
    "\n"
   ]
  },
  {
   "cell_type": "code",
   "execution_count": 20,
   "id": "6e9e021e",
   "metadata": {},
   "outputs": [
    {
     "name": "stdout",
     "output_type": "stream",
     "text": [
      "C:\\Users\\Mehrdad\n"
     ]
    }
   ],
   "source": [
    "import os                                #first we call the os and relize where the code are?\n",
    "print(os.getcwd())"
   ]
  },
  {
   "cell_type": "markdown",
   "id": "b7abd8bc",
   "metadata": {},
   "source": [
    "import sys                              #second import sys   and use sys.path.append (\" \")  to addres where the calc.py where\n",
    "sys.path.append(\"Downloads\")\n",
    "\n",
    "import calc"
   ]
  },
  {
   "cell_type": "markdown",
   "id": "2fe8c125",
   "metadata": {},
   "source": [
    "#When the interpreter encounters an import statement, it imports the module if the module is present in the search path. A search path is a list of directories that the interpreter searches for importing a module. For example, to import the module calc.py, we need to put the following command at the top of the script."
   ]
  },
  {
   "cell_type": "code",
   "execution_count": 24,
   "id": "4d8609b0",
   "metadata": {},
   "outputs": [],
   "source": [
    "import sys\n",
    "sys.path.append(\"c:/user/Mehrdad/Downloads/calc\")\n",
    "\n",
    "from calc import add,subtract"
   ]
  },
  {
   "cell_type": "code",
   "execution_count": 25,
   "id": "ccd57ef3",
   "metadata": {},
   "outputs": [
    {
     "name": "stdout",
     "output_type": "stream",
     "text": [
      "12\n"
     ]
    }
   ],
   "source": [
    "print(calc.add(10,2))"
   ]
  },
  {
   "cell_type": "code",
   "execution_count": 26,
   "id": "738da97d",
   "metadata": {},
   "outputs": [],
   "source": [
    "from math import sqrt,factorial \n",
    " "
   ]
  },
  {
   "cell_type": "code",
   "execution_count": 28,
   "id": "1c516c2c",
   "metadata": {},
   "outputs": [
    {
     "name": "stdout",
     "output_type": "stream",
     "text": [
      "4.0\n",
      "720\n"
     ]
    }
   ],
   "source": [
    "print(sqrt(16))\n",
    "print(factorial(6))"
   ]
  },
  {
   "cell_type": "markdown",
   "id": "16121dbe",
   "metadata": {},
   "source": [
    "# Import all Names \n",
    "The * symbol used with the from import statement is used to import all the names from a module to a current namespace.\n",
    "\n",
    "\n",
    "\n",
    "\n",
    "**Syntax:\n",
    "\n",
    "from module_name import *\n",
    "\n",
    "\n",
    "\n",
    "The use of * has its advantages and disadvantages. If you know exactly what you will be needing from the module, it is not recommended to use *, else do so"
   ]
  },
  {
   "cell_type": "code",
   "execution_count": 29,
   "id": "983f312e",
   "metadata": {},
   "outputs": [
    {
     "name": "stdout",
     "output_type": "stream",
     "text": [
      "4.0\n",
      "720\n"
     ]
    }
   ],
   "source": [
    "# importing sqrt() and factorial from the\n",
    "# module math\n",
    "from math import *\n",
    "\n",
    "# if we simply do \"import math\", then\n",
    "# math.sqrt(16) and math.factorial()\n",
    "# are required.\n",
    "print(sqrt(16))\n",
    "print(factorial(6))\n"
   ]
  },
  {
   "cell_type": "markdown",
   "id": "6fe77958",
   "metadata": {},
   "source": [
    "# Python built-in modules\n",
    "There are several built-in modules in Python, which you can import whenever you like.\n",
    "\n"
   ]
  },
  {
   "cell_type": "code",
   "execution_count": 30,
   "id": "3ccf8d4b",
   "metadata": {},
   "outputs": [
    {
     "name": "stdout",
     "output_type": "stream",
     "text": [
      "4.0\n",
      "720\n"
     ]
    }
   ],
   "source": [
    "# importing sqrt() and factorial from the\n",
    "# module math\n",
    "import math as mt\n",
    "\n",
    "# if we simply do \"import math\", then\n",
    "# math.sqrt(16) and math.factorial()\n",
    "# are required.\n",
    "print(mt.sqrt(16))\n",
    "print(mt.factorial(6))\n"
   ]
  },
  {
   "cell_type": "code",
   "execution_count": 32,
   "id": "cc4c544e",
   "metadata": {},
   "outputs": [
    {
     "name": "stdout",
     "output_type": "stream",
     "text": [
      "3.141592653589793\n",
      "114.59155902616465\n",
      "1.0471975511965976\n",
      "0.9092974268256817\n",
      "0.8775825618903728\n",
      "0.23414336235146527\n",
      "24\n"
     ]
    }
   ],
   "source": [
    "# importing built-in module math\n",
    "import math\n",
    "\n",
    "print(math.pi)\n",
    "\n",
    "# 2 radians = 114.59 degrees\n",
    "print(math.degrees(2))\n",
    "\n",
    "# 60 degrees = 1.04 radians\n",
    "print(math.radians(60))\n",
    "\n",
    "# Sine of 2 radians\n",
    "print(math.sin(2))\n",
    "\n",
    "# Cosine of 0.5 radians\n",
    "print(math.cos(0.5))\n",
    "\n",
    "# Tangent of 0.23 radians\n",
    "print(math.tan(0.23))\n",
    "\n",
    "# 1 * 2 * 3 * 4 = 24\n",
    "print(math.factorial(4))\n"
   ]
  },
  {
   "cell_type": "code",
   "execution_count": 38,
   "id": "04a52ab4",
   "metadata": {},
   "outputs": [
    {
     "name": "stdout",
     "output_type": "stream",
     "text": [
      "2\n",
      "0.8259645686718372\n",
      "59.135954293241774\n",
      "python\n"
     ]
    }
   ],
   "source": [
    "# importing built in module random\n",
    "import random\n",
    "\n",
    "# printing random integer between 0 and 5\n",
    "print(random.randint(0, 5))\n",
    "\n",
    "# print random floating point number between 0 and 1\n",
    "print(random.random())\n",
    "\n",
    "# random number float between 0 and 100\n",
    "print(random.random() * 100)\n",
    "\n",
    "# using choice function in random module for choosing\n",
    "# a random element from a set such as a list\n",
    "\n",
    "List = [1, 4, True, 800, \"python\", 27, \"hello\"]\n",
    "\n",
    "print(random.choice(List))\n"
   ]
  },
  {
   "cell_type": "code",
   "execution_count": 37,
   "id": "08b737dd",
   "metadata": {},
   "outputs": [
    {
     "name": "stdout",
     "output_type": "stream",
     "text": [
      "1683226792.0828645\n",
      "1970-01-05\n"
     ]
    }
   ],
   "source": [
    "# importing built in module datetime\n",
    "\n",
    "import datetime\n",
    "\n",
    "from datetime import date\n",
    "\n",
    "import time\n",
    "\n",
    "# Returns the number of seconds since the\n",
    "# Unix Epoch, January 1st 1970\n",
    "print(time.time())\n",
    "\n",
    "# Converts a number of seconds to a date object\n",
    "print(date.fromtimestamp(454554))"
   ]
  },
  {
   "cell_type": "markdown",
   "id": "6c957cf8",
   "metadata": {},
   "source": [
    "# OS Module in Python"
   ]
  },
  {
   "cell_type": "markdown",
   "id": "d70cc00a",
   "metadata": {},
   "source": [
    "# Handling the Current Working Directory\n",
    "\n",
    "***Consider Current Working Directory(CWD) as a folder, where the Python is operating. Whenever the files are called only by their name, Python assumes that it starts in the CWD which means that name-only reference will be successful only if the file is in the Python’s CWD.\n",
    "\n",
    "\n",
    "\n",
    "# Note: \n",
    "The folder where the Python script is running is known as the Current Directory. This is not the path where the Python script is located.\n",
    "\n",
    "To get the location of the current working directory os.getcwd() is used."
   ]
  },
  {
   "cell_type": "code",
   "execution_count": 40,
   "id": "91d6bb31",
   "metadata": {},
   "outputs": [
    {
     "name": "stdout",
     "output_type": "stream",
     "text": [
      "Current working directory: C:\\Users\\Mehrdad\n"
     ]
    }
   ],
   "source": [
    "import os  \n",
    "cwd=os.getcwd()\n",
    "print(\"Current working directory:\",cwd)"
   ]
  },
  {
   "cell_type": "markdown",
   "id": "7a210a0b",
   "metadata": {},
   "source": [
    "# Changing the Current working directory\n",
    "\n",
    "To change the current working directory(CWD) \n",
    "\n",
    "# os.chdir()\n",
    "\n",
    "method is used. This method changes the CWD to a specified path. It only takes a single argument as a new directory path."
   ]
  },
  {
   "cell_type": "code",
   "execution_count": 43,
   "id": "18b68e51",
   "metadata": {},
   "outputs": [],
   "source": [
    "import os\n",
    "def cureent_path():\n",
    "    print(\"Current working directory before\")\n",
    "    print(os.getcwd())\n",
    "    print()"
   ]
  },
  {
   "cell_type": "code",
   "execution_count": 47,
   "id": "32c845fd",
   "metadata": {},
   "outputs": [
    {
     "ename": "FileNotFoundError",
     "evalue": "[WinError 3] The system cannot find the path specified: '/path/to/new/directory'",
     "output_type": "error",
     "traceback": [
      "\u001b[1;31m---------------------------------------------------------------------------\u001b[0m",
      "\u001b[1;31mFileNotFoundError\u001b[0m                         Traceback (most recent call last)",
      "\u001b[1;32m~\\AppData\\Local\\Temp/ipykernel_14268/3036723409.py\u001b[0m in \u001b[0;36m<module>\u001b[1;34m\u001b[0m\n\u001b[1;32m----> 1\u001b[1;33m \u001b[0mos\u001b[0m\u001b[1;33m.\u001b[0m\u001b[0mchdir\u001b[0m\u001b[1;33m(\u001b[0m\u001b[1;34m'/path/to/new/directory'\u001b[0m\u001b[1;33m)\u001b[0m\u001b[1;33m\u001b[0m\u001b[1;33m\u001b[0m\u001b[0m\n\u001b[0m\u001b[0;32m      2\u001b[0m \u001b[0mprint\u001b[0m\u001b[1;33m(\u001b[0m\u001b[1;34m\"Current working directory after\"\u001b[0m\u001b[1;33m)\u001b[0m\u001b[1;33m\u001b[0m\u001b[1;33m\u001b[0m\u001b[0m\n\u001b[0;32m      3\u001b[0m \u001b[0mprint\u001b[0m\u001b[1;33m(\u001b[0m\u001b[0mos\u001b[0m\u001b[1;33m.\u001b[0m\u001b[0mgetcwd\u001b[0m\u001b[1;33m(\u001b[0m\u001b[1;33m)\u001b[0m\u001b[1;33m)\u001b[0m\u001b[1;33m\u001b[0m\u001b[1;33m\u001b[0m\u001b[0m\n\u001b[0;32m      4\u001b[0m \u001b[0mprint\u001b[0m\u001b[1;33m(\u001b[0m\u001b[1;33m)\u001b[0m\u001b[1;33m\u001b[0m\u001b[1;33m\u001b[0m\u001b[0m\n",
      "\u001b[1;31mFileNotFoundError\u001b[0m: [WinError 3] The system cannot find the path specified: '/path/to/new/directory'"
     ]
    }
   ],
   "source": [
    "os.chdir('/path/to/new/directory')\n",
    "print(\"Current working directory after\")\n",
    "print(os.getcwd())\n",
    "print()"
   ]
  },
  {
   "cell_type": "markdown",
   "id": "1d4d70bc",
   "metadata": {},
   "source": [
    "# os.mkdir()\n",
    "\n",
    "**os.mkdir() method in Python is used to create a directory named path with the specified numeric mode. This method raises FileExistsError if the directory to be created already exists."
   ]
  },
  {
   "cell_type": "code",
   "execution_count": 48,
   "id": "e67a817c",
   "metadata": {},
   "outputs": [
    {
     "ename": "FileNotFoundError",
     "evalue": "[WinError 3] The system cannot find the path specified: 'D:/Pycharm projects/GeeksforGeeks'",
     "output_type": "error",
     "traceback": [
      "\u001b[1;31m---------------------------------------------------------------------------\u001b[0m",
      "\u001b[1;31mFileNotFoundError\u001b[0m                         Traceback (most recent call last)",
      "\u001b[1;32m~\\AppData\\Local\\Temp/ipykernel_14268/2778253005.py\u001b[0m in \u001b[0;36m<module>\u001b[1;34m\u001b[0m\n\u001b[0;32m     16\u001b[0m \u001b[1;31m# 'GeeksForGeeks' in\u001b[0m\u001b[1;33m\u001b[0m\u001b[1;33m\u001b[0m\u001b[0m\n\u001b[0;32m     17\u001b[0m \u001b[1;31m# '/home / User / Documents'\u001b[0m\u001b[1;33m\u001b[0m\u001b[1;33m\u001b[0m\u001b[0m\n\u001b[1;32m---> 18\u001b[1;33m \u001b[0mos\u001b[0m\u001b[1;33m.\u001b[0m\u001b[0mmkdir\u001b[0m\u001b[1;33m(\u001b[0m\u001b[0mpath\u001b[0m\u001b[1;33m)\u001b[0m\u001b[1;33m\u001b[0m\u001b[1;33m\u001b[0m\u001b[0m\n\u001b[0m\u001b[0;32m     19\u001b[0m \u001b[0mprint\u001b[0m\u001b[1;33m(\u001b[0m\u001b[1;34m\"Directory '% s' created\"\u001b[0m \u001b[1;33m%\u001b[0m \u001b[0mdirectory\u001b[0m\u001b[1;33m)\u001b[0m\u001b[1;33m\u001b[0m\u001b[1;33m\u001b[0m\u001b[0m\n\u001b[0;32m     20\u001b[0m \u001b[1;33m\u001b[0m\u001b[0m\n",
      "\u001b[1;31mFileNotFoundError\u001b[0m: [WinError 3] The system cannot find the path specified: 'D:/Pycharm projects/GeeksforGeeks'"
     ]
    }
   ],
   "source": [
    "# Python program to explain os.mkdir() method\n",
    "\n",
    "# importing os module\n",
    "import os\n",
    "\n",
    "# Directory\n",
    "directory = \"GeeksforGeeks\"\n",
    "\n",
    "# Parent Directory path\n",
    "parent_dir = \"D:/Pycharm projects/\"\n",
    "\n",
    "# Path\n",
    "path = os.path.join(parent_dir, directory)\n",
    "\n",
    "# Create the directory\n",
    "# 'GeeksForGeeks' in\n",
    "# '/home / User / Documents'\n",
    "os.mkdir(path)\n",
    "print(\"Directory '% s' created\" % directory)\n",
    "\n",
    "# Directory\n",
    "directory = \"Geeks\"\n",
    "\n",
    "# Parent Directory path\n",
    "parent_dir = \"D:/Pycharm projects\"\n",
    "\n",
    "# mode\n",
    "mode = 0o666\n",
    "\n",
    "# Path\n",
    "path = os.path.join(parent_dir, directory)\n",
    "\n",
    "# Create the directory\n",
    "# 'GeeksForGeeks' in\n",
    "# '/home / User / Documents'\n",
    "# with mode 0o666\n",
    "os.mkdir(path, mode)\n",
    "print(\"Directory '% s' created\" % directory)\n"
   ]
  },
  {
   "cell_type": "markdown",
   "id": "119d3786",
   "metadata": {},
   "source": [
    "# os.makedirs()\n",
    "\n",
    "**os.makedirs() method in Python is used to create a directory recursively. That means while making leaf directory if any \n",
    "\n",
    "**intermediate-level directory is missing, os.makedirs() method will create them all."
   ]
  },
  {
   "cell_type": "code",
   "execution_count": null,
   "id": "592bba5e",
   "metadata": {},
   "outputs": [],
   "source": [
    "# Python program to explain os.makedirs() method\n",
    "\t\n",
    "# importing os module\n",
    "import os\n",
    "\t\n",
    "# Leaf directory\n",
    "directory = \"Nikhil\"\n",
    "\t\n",
    "# Parent Directories\n",
    "parent_dir = \"D:/Pycharm projects/GeeksForGeeks/Authors\"\n",
    "\t\n",
    "# Path\n",
    "path = os.path.join(parent_dir, directory)\n",
    "\t\n",
    "# Create the directory\n",
    "# 'Nikhil'\n",
    "os.makedirs(path)\n",
    "print(\"Directory '% s' created\" % directory)\n",
    "\t\n",
    "# Directory 'GeeksForGeeks' and 'Authors' will\n",
    "# be created too\n",
    "# if it does not exists\n",
    "\t\n",
    "\t\n",
    "\t\n",
    "# Leaf directory\n",
    "directory = \"c\"\n",
    "\t\n",
    "# Parent Directories\n",
    "parent_dir = \"D:/Pycharm projects/GeeksforGeeks/a/b\"\n",
    "\t\n",
    "# mode\n",
    "mode = 0o666\n",
    "\t\n",
    "path = os.path.join(parent_dir, directory)\n",
    "\t\n",
    "# Create the directory 'c'\n",
    "\t\n",
    "os.makedirs(path, mode)\n",
    "print(\"Directory '% s' created\" % directory)\n",
    "\t\n",
    "\t\n",
    "# 'GeeksForGeeks', 'a', and 'b'\n",
    "# will also be created if\n",
    "# it does not exists\n",
    "\t\n",
    "# If any of the intermediate level\n",
    "# directory is missing\n",
    "# os.makedirs() method will\n",
    "# create them\n",
    "\t\n",
    "# os.makedirs() method can be\n",
    "# used to create a directory tree\n"
   ]
  },
  {
   "cell_type": "markdown",
   "id": "f9c3ac9a",
   "metadata": {},
   "source": [
    "# Listing out Files and Directories with Python\n",
    "\n",
    "# os.listdir() \n",
    "\n",
    "**this method in Python is used to get the list of all files and directories in the specified directory. If we don’t specify any directory, then the list of files and directories in the current working directory will be returned."
   ]
  },
  {
   "cell_type": "code",
   "execution_count": 49,
   "id": "11f0afb9",
   "metadata": {},
   "outputs": [
    {
     "name": "stdout",
     "output_type": "stream",
     "text": [
      "Files and directories in ' / ' :\n",
      "['$Recycle.Bin', '$WinREAgent', 'AMTAG.BIN', 'bootmgr', 'Dokumente und Einstellungen', 'Drivers', 'DumpStack.log.tmp', 'hiberfil.sys', 'Intel', 'KMPlayer', 'pagefile.sys', 'PerfLogs', 'Program Files', 'Program Files (x86)', 'ProgramData', 'Programme', 'Recovery', 'swapfile.sys', 'System Volume Information', 'Users', 'Windows']\n"
     ]
    }
   ],
   "source": [
    "# Python program to explain os.listdir() method\n",
    "\t\n",
    "# importing os module\n",
    "import os\n",
    "\n",
    "# Get the list of all files and directories\n",
    "# in the root directory\n",
    "path = \"/\"\n",
    "dir_list = os.listdir(path)\n",
    "\n",
    "print(\"Files and directories in '\", path, \"' :\")\n",
    "\n",
    "# print the list\n",
    "print(dir_list)\n"
   ]
  },
  {
   "cell_type": "markdown",
   "id": "bb8c3c63",
   "metadata": {},
   "source": [
    "# Deleting Directory or Files using Python\n",
    "\n",
    "OS module proves different methods for removing directories and files in Python.\n",
    "These are – \n",
    "\n",
    "Using os.remove()\n",
    "Using os.rmdir()\n",
    "\n",
    "\n",
    "# os.remove()\n",
    "\n",
    "**os.remove() method in Python is used to remove or delete a file path. This method can not remove or delete a directory. If the specified path is a directory then OSError will be raised by the method."
   ]
  },
  {
   "cell_type": "code",
   "execution_count": null,
   "id": "dad148c8",
   "metadata": {},
   "outputs": [],
   "source": [
    "# Python program to explain os.remove() method\n",
    "\t\n",
    "# importing os module\n",
    "import os\n",
    "\t\n",
    "# File name\n",
    "file = 'file1.txt'\n",
    "\t\n",
    "# File location\n",
    "location = \"D:/Pycharm projects/GeeksforGeeks/Authors/Nikhil/\"\n",
    "\t\n",
    "# Path\n",
    "path = os.path.join(location, file)\n",
    "\t\n",
    "# Remove the file\n",
    "# 'file.txt'\n",
    "os.remove(path)\n"
   ]
  },
  {
   "cell_type": "markdown",
   "id": "038c52d9",
   "metadata": {},
   "source": [
    "\n",
    "Commonly Used Functions\n",
    "\n",
    "1. os.name: \n",
    "\n",
    "**This function gives the name of the operating system dependent module imported. The following names have currently been registered: \n",
    "\n",
    "**‘posix’, ‘nt’, ‘os2’, ‘ce’, ‘java’ and ‘riscos’.\n",
    "\n",
    "\n"
   ]
  },
  {
   "cell_type": "code",
   "execution_count": 50,
   "id": "7f6cba1f",
   "metadata": {},
   "outputs": [
    {
     "name": "stdout",
     "output_type": "stream",
     "text": [
      "nt\n"
     ]
    }
   ],
   "source": [
    "import os\n",
    "print(os.name)"
   ]
  },
  {
   "cell_type": "markdown",
   "id": "9af6ef48",
   "metadata": {},
   "source": [
    " # os.error: \n",
    " All functions in this module raise OSError in the case of invalid or inaccessible file names and paths, or other arguments that have the correct type, but are not accepted by the operating system. os.error is an alias for built-in OSError exception. \n",
    "\n"
   ]
  },
  {
   "cell_type": "code",
   "execution_count": 51,
   "id": "2f852bff",
   "metadata": {},
   "outputs": [
    {
     "name": "stdout",
     "output_type": "stream",
     "text": [
      "Problem reading: GFG.txt\n"
     ]
    },
    {
     "name": "stderr",
     "output_type": "stream",
     "text": [
      "C:\\Users\\Mehrdad\\AppData\\Local\\Temp/ipykernel_14268/2164735653.py:8: DeprecationWarning: 'U' mode is deprecated\n",
      "  f = open(filename, 'rU')\n"
     ]
    }
   ],
   "source": [
    "import os\n",
    "\n",
    "\n",
    "try:\n",
    "\t# If the file does not exist, then it would throw an IOError\n",
    "\tfilename = 'GFG.txt'\n",
    "\tf = open(filename, 'rU')\n",
    "\ttext = f.read()\n",
    "\tf.close()\n",
    "\n",
    "# Control jumps directly to here if any of the above lines throws IOError.\t\n",
    "except IOError:\n",
    "\n",
    "\t# print(os.error) will <class 'OSError'>\n",
    "\tprint('Problem reading: ' + filename)\n",
    "\t\n",
    "# In any case, the code then continues with\n",
    "# the line after the try/except\n"
   ]
  },
  {
   "cell_type": "code",
   "execution_count": null,
   "id": "c2fb3cfa",
   "metadata": {},
   "outputs": [],
   "source": []
  },
  {
   "cell_type": "code",
   "execution_count": null,
   "id": "f604b938",
   "metadata": {},
   "outputs": [],
   "source": []
  },
  {
   "cell_type": "code",
   "execution_count": null,
   "id": "06bd0c9c",
   "metadata": {},
   "outputs": [],
   "source": []
  }
 ],
 "metadata": {
  "kernelspec": {
   "display_name": "Python 3 (ipykernel)",
   "language": "python",
   "name": "python3"
  },
  "language_info": {
   "codemirror_mode": {
    "name": "ipython",
    "version": 3
   },
   "file_extension": ".py",
   "mimetype": "text/x-python",
   "name": "python",
   "nbconvert_exporter": "python",
   "pygments_lexer": "ipython3",
   "version": "3.9.7"
  }
 },
 "nbformat": 4,
 "nbformat_minor": 5
}
