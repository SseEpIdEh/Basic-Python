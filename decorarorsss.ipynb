{
 "cells": [
  {
   "cell_type": "code",
   "execution_count": 32,
   "id": "e10c0250",
   "metadata": {},
   "outputs": [],
   "source": [
    "def mydec(func):\n",
    "    def wrapper(*args,**kwargs):\n",
    "        print(f\"calling function: {func.__name__}\")\n",
    "        print(f\"{args= }\")\n",
    "        print(f\"{kwargs= }\")\n",
    "        return func(*args,**kwargs)\n",
    "    return wrapper  \n",
    "\n",
    "@mydec\n",
    "def greet(name=None):\n",
    "         \"\"\" a simple greeting function\"\"\"\n",
    "         if name:\n",
    "            return f\"hello {name}!\"\n",
    "         else:\n",
    "            return f\"hello\""
   ]
  },
  {
   "cell_type": "code",
   "execution_count": 33,
   "id": "1787fe44",
   "metadata": {},
   "outputs": [
    {
     "name": "stdout",
     "output_type": "stream",
     "text": [
      "calling function: greet\n",
      "args= ('sali',)\n",
      "kwargs= {}\n",
      "hello sali!\n"
     ]
    }
   ],
   "source": [
    "print(greet(\"sali\"))"
   ]
  },
  {
   "cell_type": "code",
   "execution_count": 34,
   "id": "1feaf321",
   "metadata": {},
   "outputs": [
    {
     "data": {
      "text/plain": [
       "'wrapper'"
      ]
     },
     "execution_count": 34,
     "metadata": {},
     "output_type": "execute_result"
    }
   ],
   "source": [
    "greet.__name__"
   ]
  },
  {
   "cell_type": "code",
   "execution_count": 35,
   "id": "4a2457b5",
   "metadata": {},
   "outputs": [],
   "source": [
    "greet.__doc__"
   ]
  },
  {
   "cell_type": "code",
   "execution_count": 36,
   "id": "8eae4e61",
   "metadata": {},
   "outputs": [],
   "source": [
    "def mydec(func):\n",
    "    def wrapper(*args,**kwargs):\n",
    "        print(f\"calling function: {func.__name__}\")\n",
    "        print(f\"{args= }\")\n",
    "        print(f\"{kwargs= }\")\n",
    "        return func(*args,**kwargs)\n",
    "    return wrapper  \n",
    "\n",
    "\n",
    "def greet(name=None):\n",
    "        \"\"\" a simple greeting function\"\"\"\n",
    "        if name:\n",
    "            return f\"hello {name}!\"\n",
    "        else:\n",
    "            return f\"hello\""
   ]
  },
  {
   "cell_type": "code",
   "execution_count": 37,
   "id": "eca9af13",
   "metadata": {},
   "outputs": [
    {
     "data": {
      "text/plain": [
       "'greet'"
      ]
     },
     "execution_count": 37,
     "metadata": {},
     "output_type": "execute_result"
    }
   ],
   "source": [
    "greet.__name__"
   ]
  },
  {
   "cell_type": "code",
   "execution_count": 38,
   "id": "2a3dd935",
   "metadata": {},
   "outputs": [
    {
     "data": {
      "text/plain": [
       "' a simple greeting function'"
      ]
     },
     "execution_count": 38,
     "metadata": {},
     "output_type": "execute_result"
    }
   ],
   "source": [
    "greet.__doc__"
   ]
  },
  {
   "cell_type": "code",
   "execution_count": null,
   "id": "74a0d03f",
   "metadata": {},
   "outputs": [],
   "source": []
  },
  {
   "cell_type": "code",
   "execution_count": 3,
   "id": "434656e1",
   "metadata": {},
   "outputs": [],
   "source": [
    "import functools"
   ]
  },
  {
   "cell_type": "code",
   "execution_count": 5,
   "id": "3a8cccc2",
   "metadata": {},
   "outputs": [
    {
     "name": "stdout",
     "output_type": "stream",
     "text": [
      "calling function: greet\n",
      "args= ('sali',)\n",
      "kwargs= {}\n",
      "hello sali!\n"
     ]
    }
   ],
   "source": [
    "def mydec(func):\n",
    "    \n",
    "    @functools.wraps(func)\n",
    "    def wrapper(*args,**kwargs):\n",
    "        print(f\"calling function: {func.__name__}\")\n",
    "        print(f\"{args= }\")\n",
    "        print(f\"{kwargs= }\")\n",
    "        return func(*args,**kwargs)\n",
    "    return wrapper  \n",
    "\n",
    "@mydec\n",
    "def greet(name=None):\n",
    "        \"\"\" a simple greeting function\"\"\"\n",
    "        if name:\n",
    "            return f\"hello {name}!\"\n",
    "        else:\n",
    "            return f\"hello\"\n",
    "print(greet(\"sali\"))        \n",
    "        "
   ]
  },
  {
   "cell_type": "code",
   "execution_count": 6,
   "id": "4fc5383f",
   "metadata": {},
   "outputs": [
    {
     "data": {
      "text/plain": [
       "'greet'"
      ]
     },
     "execution_count": 6,
     "metadata": {},
     "output_type": "execute_result"
    }
   ],
   "source": [
    "greet.__name__"
   ]
  },
  {
   "cell_type": "code",
   "execution_count": 7,
   "id": "265c0c29",
   "metadata": {},
   "outputs": [
    {
     "data": {
      "text/plain": [
       "' a simple greeting function'"
      ]
     },
     "execution_count": 7,
     "metadata": {},
     "output_type": "execute_result"
    }
   ],
   "source": [
    "greet.__doc__"
   ]
  },
  {
   "cell_type": "markdown",
   "id": "44864ad4",
   "metadata": {},
   "source": [
    "# converting words with decorators"
   ]
  },
  {
   "cell_type": "code",
   "execution_count": 26,
   "id": "c3af9776",
   "metadata": {},
   "outputs": [
    {
     "name": "stdout",
     "output_type": "stream",
     "text": [
      "HI SEPI!\n"
     ]
    }
   ],
   "source": [
    "import functools\n",
    "\n",
    "def convert_to_hi(func):\n",
    "    \n",
    "    @functools.wraps(func)\n",
    "    def wrapper(*args,**kwargs):\n",
    "        result=func(*args,**kwargs)\n",
    "        result=result.replace('hello','hi')\n",
    "        result=result.replace('sali','sepi')\n",
    "        return result \n",
    "    return wrapper\n",
    "\n",
    "\n",
    "def uppercase(func):\n",
    "    \n",
    "    @functools.wraps(func)\n",
    "    def wrapper(*args,**kwargs):\n",
    "        result=func(*args,**kwargs)\n",
    "        return result.upper()\n",
    "    return wrapper\n",
    "\n",
    "@uppercase\n",
    "@convert_to_hi\n",
    "def greet(name=None):\n",
    "        \"\"\" a simple greeting function\"\"\"\n",
    "        if name:\n",
    "            return f\"hello {name}!\"\n",
    "        else:\n",
    "            return f\"hello\"\n",
    "print(greet(\"sali\"))        \n",
    "        \n",
    "     "
   ]
  },
  {
   "cell_type": "code",
   "execution_count": null,
   "id": "fcbc00c7",
   "metadata": {},
   "outputs": [],
   "source": []
  },
  {
   "cell_type": "code",
   "execution_count": null,
   "id": "afceee41",
   "metadata": {},
   "outputs": [],
   "source": []
  },
  {
   "cell_type": "code",
   "execution_count": null,
   "id": "11bb496e",
   "metadata": {},
   "outputs": [],
   "source": []
  },
  {
   "cell_type": "code",
   "execution_count": null,
   "id": "f0e8e394",
   "metadata": {},
   "outputs": [],
   "source": []
  },
  {
   "cell_type": "code",
   "execution_count": null,
   "id": "eccc74cc",
   "metadata": {},
   "outputs": [],
   "source": []
  },
  {
   "cell_type": "code",
   "execution_count": null,
   "id": "d7d38aea",
   "metadata": {},
   "outputs": [],
   "source": []
  },
  {
   "cell_type": "code",
   "execution_count": null,
   "id": "76e2baab",
   "metadata": {},
   "outputs": [],
   "source": []
  },
  {
   "cell_type": "code",
   "execution_count": null,
   "id": "a9d08664",
   "metadata": {},
   "outputs": [],
   "source": []
  },
  {
   "cell_type": "code",
   "execution_count": null,
   "id": "5c985cc7",
   "metadata": {},
   "outputs": [],
   "source": []
  }
 ],
 "metadata": {
  "kernelspec": {
   "display_name": "Python 3 (ipykernel)",
   "language": "python",
   "name": "python3"
  },
  "language_info": {
   "codemirror_mode": {
    "name": "ipython",
    "version": 3
   },
   "file_extension": ".py",
   "mimetype": "text/x-python",
   "name": "python",
   "nbconvert_exporter": "python",
   "pygments_lexer": "ipython3",
   "version": "3.9.7"
  }
 },
 "nbformat": 4,
 "nbformat_minor": 5
}
