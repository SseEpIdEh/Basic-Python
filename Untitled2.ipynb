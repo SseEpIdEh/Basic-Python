{
 "cells": [
  {
   "cell_type": "markdown",
   "id": "85de0ac8",
   "metadata": {},
   "source": [
    "### pandas"
   ]
  },
  {
   "cell_type": "code",
   "execution_count": 25,
   "id": "e726af40",
   "metadata": {},
   "outputs": [],
   "source": [
    "import pandas as pd\n",
    "import numpy as np"
   ]
  },
  {
   "cell_type": "code",
   "execution_count": 26,
   "id": "193954f6",
   "metadata": {},
   "outputs": [
    {
     "data": {
      "text/plain": [
       "0       1\n",
       "1       2\n",
       "2       3\n",
       "3       0\n",
       "4    sepi\n",
       "5     NaN\n",
       "6      -1\n",
       "dtype: object"
      ]
     },
     "execution_count": 26,
     "metadata": {},
     "output_type": "execute_result"
    }
   ],
   "source": [
    "pd.Series([1, 2, 3, 0,'sepi', np.nan, -1])"
   ]
  },
  {
   "cell_type": "code",
   "execution_count": 27,
   "id": "526a2b65",
   "metadata": {},
   "outputs": [
    {
     "data": {
      "text/plain": [
       "DatetimeIndex(['2021-01-01', '2021-01-02', '2021-01-03', '2021-01-04',\n",
       "               '2021-01-05', '2021-01-06'],\n",
       "              dtype='datetime64[ns]', freq='D')"
      ]
     },
     "execution_count": 27,
     "metadata": {},
     "output_type": "execute_result"
    }
   ],
   "source": [
    "dates= pd.date_range(\"20210101\", periods=6)\n",
    "dates"
   ]
  },
  {
   "cell_type": "code",
   "execution_count": 28,
   "id": "a935981f",
   "metadata": {},
   "outputs": [
    {
     "data": {
      "text/plain": [
       "array([[ 0.21029021,  0.28723658,  0.06606634, -1.1258373 ],\n",
       "       [-0.82641985,  0.72045991, -0.62069518, -0.61942175],\n",
       "       [ 0.1586811 , -0.63291055, -0.70669162,  0.29061607],\n",
       "       [ 0.4685981 , -0.35269151, -0.59361017, -0.34517252],\n",
       "       [-0.11954777, -0.90031709, -1.25899486,  2.1372496 ],\n",
       "       [ 0.05163842,  0.54757572,  0.04008261, -0.39439693]])"
      ]
     },
     "execution_count": 28,
     "metadata": {},
     "output_type": "execute_result"
    }
   ],
   "source": [
    "np.random.randn(6,4)"
   ]
  },
  {
   "cell_type": "code",
   "execution_count": 33,
   "id": "636a0fa5",
   "metadata": {},
   "outputs": [
    {
     "data": {
      "text/html": [
       "<div>\n",
       "<style scoped>\n",
       "    .dataframe tbody tr th:only-of-type {\n",
       "        vertical-align: middle;\n",
       "    }\n",
       "\n",
       "    .dataframe tbody tr th {\n",
       "        vertical-align: top;\n",
       "    }\n",
       "\n",
       "    .dataframe thead th {\n",
       "        text-align: right;\n",
       "    }\n",
       "</style>\n",
       "<table border=\"1\" class=\"dataframe\">\n",
       "  <thead>\n",
       "    <tr style=\"text-align: right;\">\n",
       "      <th></th>\n",
       "      <th>a</th>\n",
       "      <th>B</th>\n",
       "      <th>c</th>\n",
       "      <th>d</th>\n",
       "    </tr>\n",
       "  </thead>\n",
       "  <tbody>\n",
       "    <tr>\n",
       "      <th>2021-01-01</th>\n",
       "      <td>-0.387977</td>\n",
       "      <td>-0.202341</td>\n",
       "      <td>0.613052</td>\n",
       "      <td>-0.476127</td>\n",
       "    </tr>\n",
       "    <tr>\n",
       "      <th>2021-01-02</th>\n",
       "      <td>-0.150711</td>\n",
       "      <td>-0.924835</td>\n",
       "      <td>1.843798</td>\n",
       "      <td>0.205039</td>\n",
       "    </tr>\n",
       "    <tr>\n",
       "      <th>2021-01-03</th>\n",
       "      <td>-1.293355</td>\n",
       "      <td>-0.804926</td>\n",
       "      <td>0.036088</td>\n",
       "      <td>-0.812358</td>\n",
       "    </tr>\n",
       "    <tr>\n",
       "      <th>2021-01-04</th>\n",
       "      <td>0.210639</td>\n",
       "      <td>-2.994776</td>\n",
       "      <td>-0.196641</td>\n",
       "      <td>-1.772359</td>\n",
       "    </tr>\n",
       "    <tr>\n",
       "      <th>2021-01-05</th>\n",
       "      <td>0.634205</td>\n",
       "      <td>-1.445093</td>\n",
       "      <td>-0.376031</td>\n",
       "      <td>-1.641076</td>\n",
       "    </tr>\n",
       "    <tr>\n",
       "      <th>2021-01-06</th>\n",
       "      <td>0.273845</td>\n",
       "      <td>0.981604</td>\n",
       "      <td>-0.164871</td>\n",
       "      <td>-3.326337</td>\n",
       "    </tr>\n",
       "  </tbody>\n",
       "</table>\n",
       "</div>"
      ],
      "text/plain": [
       "                   a         B         c         d\n",
       "2021-01-01 -0.387977 -0.202341  0.613052 -0.476127\n",
       "2021-01-02 -0.150711 -0.924835  1.843798  0.205039\n",
       "2021-01-03 -1.293355 -0.804926  0.036088 -0.812358\n",
       "2021-01-04  0.210639 -2.994776 -0.196641 -1.772359\n",
       "2021-01-05  0.634205 -1.445093 -0.376031 -1.641076\n",
       "2021-01-06  0.273845  0.981604 -0.164871 -3.326337"
      ]
     },
     "execution_count": 33,
     "metadata": {},
     "output_type": "execute_result"
    }
   ],
   "source": [
    "df= pd.DataFrame(np.random.randn(6,4) , index=dates , columns=['a' ,\"B\", \"c\",\"d\"])\n",
    "df"
   ]
  },
  {
   "cell_type": "code",
   "execution_count": 35,
   "id": "3f39c4e4",
   "metadata": {},
   "outputs": [
    {
     "data": {
      "text/html": [
       "<div>\n",
       "<style scoped>\n",
       "    .dataframe tbody tr th:only-of-type {\n",
       "        vertical-align: middle;\n",
       "    }\n",
       "\n",
       "    .dataframe tbody tr th {\n",
       "        vertical-align: top;\n",
       "    }\n",
       "\n",
       "    .dataframe thead th {\n",
       "        text-align: right;\n",
       "    }\n",
       "</style>\n",
       "<table border=\"1\" class=\"dataframe\">\n",
       "  <thead>\n",
       "    <tr style=\"text-align: right;\">\n",
       "      <th></th>\n",
       "      <th>a</th>\n",
       "      <th>B</th>\n",
       "      <th>c</th>\n",
       "      <th>d</th>\n",
       "    </tr>\n",
       "  </thead>\n",
       "  <tbody>\n",
       "    <tr>\n",
       "      <th>2021-01-01</th>\n",
       "      <td>-0.387977</td>\n",
       "      <td>-0.202341</td>\n",
       "      <td>0.613052</td>\n",
       "      <td>-0.476127</td>\n",
       "    </tr>\n",
       "    <tr>\n",
       "      <th>2021-01-02</th>\n",
       "      <td>-0.150711</td>\n",
       "      <td>-0.924835</td>\n",
       "      <td>1.843798</td>\n",
       "      <td>0.205039</td>\n",
       "    </tr>\n",
       "  </tbody>\n",
       "</table>\n",
       "</div>"
      ],
      "text/plain": [
       "                   a         B         c         d\n",
       "2021-01-01 -0.387977 -0.202341  0.613052 -0.476127\n",
       "2021-01-02 -0.150711 -0.924835  1.843798  0.205039"
      ]
     },
     "execution_count": 35,
     "metadata": {},
     "output_type": "execute_result"
    }
   ],
   "source": [
    "df.head(2)"
   ]
  },
  {
   "cell_type": "code",
   "execution_count": 36,
   "id": "1846bd92",
   "metadata": {},
   "outputs": [
    {
     "data": {
      "text/html": [
       "<div>\n",
       "<style scoped>\n",
       "    .dataframe tbody tr th:only-of-type {\n",
       "        vertical-align: middle;\n",
       "    }\n",
       "\n",
       "    .dataframe tbody tr th {\n",
       "        vertical-align: top;\n",
       "    }\n",
       "\n",
       "    .dataframe thead th {\n",
       "        text-align: right;\n",
       "    }\n",
       "</style>\n",
       "<table border=\"1\" class=\"dataframe\">\n",
       "  <thead>\n",
       "    <tr style=\"text-align: right;\">\n",
       "      <th></th>\n",
       "      <th>a</th>\n",
       "      <th>B</th>\n",
       "      <th>c</th>\n",
       "      <th>d</th>\n",
       "    </tr>\n",
       "  </thead>\n",
       "  <tbody>\n",
       "    <tr>\n",
       "      <th>2021-01-05</th>\n",
       "      <td>0.634205</td>\n",
       "      <td>-1.445093</td>\n",
       "      <td>-0.376031</td>\n",
       "      <td>-1.641076</td>\n",
       "    </tr>\n",
       "    <tr>\n",
       "      <th>2021-01-06</th>\n",
       "      <td>0.273845</td>\n",
       "      <td>0.981604</td>\n",
       "      <td>-0.164871</td>\n",
       "      <td>-3.326337</td>\n",
       "    </tr>\n",
       "  </tbody>\n",
       "</table>\n",
       "</div>"
      ],
      "text/plain": [
       "                   a         B         c         d\n",
       "2021-01-05  0.634205 -1.445093 -0.376031 -1.641076\n",
       "2021-01-06  0.273845  0.981604 -0.164871 -3.326337"
      ]
     },
     "execution_count": 36,
     "metadata": {},
     "output_type": "execute_result"
    }
   ],
   "source": [
    "df.tail(2)"
   ]
  },
  {
   "cell_type": "code",
   "execution_count": 37,
   "id": "5e62e032",
   "metadata": {},
   "outputs": [
    {
     "data": {
      "text/html": [
       "<div>\n",
       "<style scoped>\n",
       "    .dataframe tbody tr th:only-of-type {\n",
       "        vertical-align: middle;\n",
       "    }\n",
       "\n",
       "    .dataframe tbody tr th {\n",
       "        vertical-align: top;\n",
       "    }\n",
       "\n",
       "    .dataframe thead th {\n",
       "        text-align: right;\n",
       "    }\n",
       "</style>\n",
       "<table border=\"1\" class=\"dataframe\">\n",
       "  <thead>\n",
       "    <tr style=\"text-align: right;\">\n",
       "      <th></th>\n",
       "      <th>a</th>\n",
       "      <th>B</th>\n",
       "      <th>c</th>\n",
       "      <th>d</th>\n",
       "    </tr>\n",
       "  </thead>\n",
       "  <tbody>\n",
       "    <tr>\n",
       "      <th>count</th>\n",
       "      <td>6.000000</td>\n",
       "      <td>6.000000</td>\n",
       "      <td>6.000000</td>\n",
       "      <td>6.000000</td>\n",
       "    </tr>\n",
       "    <tr>\n",
       "      <th>mean</th>\n",
       "      <td>-0.118892</td>\n",
       "      <td>-0.898395</td>\n",
       "      <td>0.292566</td>\n",
       "      <td>-1.303870</td>\n",
       "    </tr>\n",
       "    <tr>\n",
       "      <th>std</th>\n",
       "      <td>0.675688</td>\n",
       "      <td>1.320759</td>\n",
       "      <td>0.833115</td>\n",
       "      <td>1.235080</td>\n",
       "    </tr>\n",
       "    <tr>\n",
       "      <th>min</th>\n",
       "      <td>-1.293355</td>\n",
       "      <td>-2.994776</td>\n",
       "      <td>-0.376031</td>\n",
       "      <td>-3.326337</td>\n",
       "    </tr>\n",
       "    <tr>\n",
       "      <th>25%</th>\n",
       "      <td>-0.328660</td>\n",
       "      <td>-1.315029</td>\n",
       "      <td>-0.188698</td>\n",
       "      <td>-1.739538</td>\n",
       "    </tr>\n",
       "    <tr>\n",
       "      <th>50%</th>\n",
       "      <td>0.029964</td>\n",
       "      <td>-0.864881</td>\n",
       "      <td>-0.064391</td>\n",
       "      <td>-1.226717</td>\n",
       "    </tr>\n",
       "    <tr>\n",
       "      <th>75%</th>\n",
       "      <td>0.258043</td>\n",
       "      <td>-0.352987</td>\n",
       "      <td>0.468811</td>\n",
       "      <td>-0.560185</td>\n",
       "    </tr>\n",
       "    <tr>\n",
       "      <th>max</th>\n",
       "      <td>0.634205</td>\n",
       "      <td>0.981604</td>\n",
       "      <td>1.843798</td>\n",
       "      <td>0.205039</td>\n",
       "    </tr>\n",
       "  </tbody>\n",
       "</table>\n",
       "</div>"
      ],
      "text/plain": [
       "              a         B         c         d\n",
       "count  6.000000  6.000000  6.000000  6.000000\n",
       "mean  -0.118892 -0.898395  0.292566 -1.303870\n",
       "std    0.675688  1.320759  0.833115  1.235080\n",
       "min   -1.293355 -2.994776 -0.376031 -3.326337\n",
       "25%   -0.328660 -1.315029 -0.188698 -1.739538\n",
       "50%    0.029964 -0.864881 -0.064391 -1.226717\n",
       "75%    0.258043 -0.352987  0.468811 -0.560185\n",
       "max    0.634205  0.981604  1.843798  0.205039"
      ]
     },
     "execution_count": 37,
     "metadata": {},
     "output_type": "execute_result"
    }
   ],
   "source": [
    "df.describe()"
   ]
  },
  {
   "cell_type": "code",
   "execution_count": 38,
   "id": "65b5892f",
   "metadata": {},
   "outputs": [
    {
     "data": {
      "text/plain": [
       "-0.11889238573848442"
      ]
     },
     "execution_count": 38,
     "metadata": {},
     "output_type": "execute_result"
    }
   ],
   "source": [
    "df[\"a\"]. mean()"
   ]
  },
  {
   "cell_type": "code",
   "execution_count": 39,
   "id": "478888ed",
   "metadata": {},
   "outputs": [
    {
     "data": {
      "text/html": [
       "<div>\n",
       "<style scoped>\n",
       "    .dataframe tbody tr th:only-of-type {\n",
       "        vertical-align: middle;\n",
       "    }\n",
       "\n",
       "    .dataframe tbody tr th {\n",
       "        vertical-align: top;\n",
       "    }\n",
       "\n",
       "    .dataframe thead th {\n",
       "        text-align: right;\n",
       "    }\n",
       "</style>\n",
       "<table border=\"1\" class=\"dataframe\">\n",
       "  <thead>\n",
       "    <tr style=\"text-align: right;\">\n",
       "      <th></th>\n",
       "      <th>2021-01-01</th>\n",
       "      <th>2021-01-02</th>\n",
       "      <th>2021-01-03</th>\n",
       "      <th>2021-01-04</th>\n",
       "      <th>2021-01-05</th>\n",
       "      <th>2021-01-06</th>\n",
       "    </tr>\n",
       "  </thead>\n",
       "  <tbody>\n",
       "    <tr>\n",
       "      <th>a</th>\n",
       "      <td>-0.387977</td>\n",
       "      <td>-0.150711</td>\n",
       "      <td>-1.293355</td>\n",
       "      <td>0.210639</td>\n",
       "      <td>0.634205</td>\n",
       "      <td>0.273845</td>\n",
       "    </tr>\n",
       "    <tr>\n",
       "      <th>B</th>\n",
       "      <td>-0.202341</td>\n",
       "      <td>-0.924835</td>\n",
       "      <td>-0.804926</td>\n",
       "      <td>-2.994776</td>\n",
       "      <td>-1.445093</td>\n",
       "      <td>0.981604</td>\n",
       "    </tr>\n",
       "    <tr>\n",
       "      <th>c</th>\n",
       "      <td>0.613052</td>\n",
       "      <td>1.843798</td>\n",
       "      <td>0.036088</td>\n",
       "      <td>-0.196641</td>\n",
       "      <td>-0.376031</td>\n",
       "      <td>-0.164871</td>\n",
       "    </tr>\n",
       "    <tr>\n",
       "      <th>d</th>\n",
       "      <td>-0.476127</td>\n",
       "      <td>0.205039</td>\n",
       "      <td>-0.812358</td>\n",
       "      <td>-1.772359</td>\n",
       "      <td>-1.641076</td>\n",
       "      <td>-3.326337</td>\n",
       "    </tr>\n",
       "  </tbody>\n",
       "</table>\n",
       "</div>"
      ],
      "text/plain": [
       "   2021-01-01  2021-01-02  2021-01-03  2021-01-04  2021-01-05  2021-01-06\n",
       "a   -0.387977   -0.150711   -1.293355    0.210639    0.634205    0.273845\n",
       "B   -0.202341   -0.924835   -0.804926   -2.994776   -1.445093    0.981604\n",
       "c    0.613052    1.843798    0.036088   -0.196641   -0.376031   -0.164871\n",
       "d   -0.476127    0.205039   -0.812358   -1.772359   -1.641076   -3.326337"
      ]
     },
     "execution_count": 39,
     "metadata": {},
     "output_type": "execute_result"
    }
   ],
   "source": [
    "df.T"
   ]
  },
  {
   "cell_type": "code",
   "execution_count": 43,
   "id": "bede73bf",
   "metadata": {},
   "outputs": [
    {
     "data": {
      "text/html": [
       "<div>\n",
       "<style scoped>\n",
       "    .dataframe tbody tr th:only-of-type {\n",
       "        vertical-align: middle;\n",
       "    }\n",
       "\n",
       "    .dataframe tbody tr th {\n",
       "        vertical-align: top;\n",
       "    }\n",
       "\n",
       "    .dataframe thead th {\n",
       "        text-align: right;\n",
       "    }\n",
       "</style>\n",
       "<table border=\"1\" class=\"dataframe\">\n",
       "  <thead>\n",
       "    <tr style=\"text-align: right;\">\n",
       "      <th></th>\n",
       "      <th>a</th>\n",
       "      <th>B</th>\n",
       "      <th>c</th>\n",
       "      <th>d</th>\n",
       "    </tr>\n",
       "  </thead>\n",
       "  <tbody>\n",
       "    <tr>\n",
       "      <th>2021-01-04</th>\n",
       "      <td>0.210639</td>\n",
       "      <td>-2.994776</td>\n",
       "      <td>-0.196641</td>\n",
       "      <td>-1.772359</td>\n",
       "    </tr>\n",
       "    <tr>\n",
       "      <th>2021-01-05</th>\n",
       "      <td>0.634205</td>\n",
       "      <td>-1.445093</td>\n",
       "      <td>-0.376031</td>\n",
       "      <td>-1.641076</td>\n",
       "    </tr>\n",
       "    <tr>\n",
       "      <th>2021-01-02</th>\n",
       "      <td>-0.150711</td>\n",
       "      <td>-0.924835</td>\n",
       "      <td>1.843798</td>\n",
       "      <td>0.205039</td>\n",
       "    </tr>\n",
       "    <tr>\n",
       "      <th>2021-01-03</th>\n",
       "      <td>-1.293355</td>\n",
       "      <td>-0.804926</td>\n",
       "      <td>0.036088</td>\n",
       "      <td>-0.812358</td>\n",
       "    </tr>\n",
       "    <tr>\n",
       "      <th>2021-01-01</th>\n",
       "      <td>-0.387977</td>\n",
       "      <td>-0.202341</td>\n",
       "      <td>0.613052</td>\n",
       "      <td>-0.476127</td>\n",
       "    </tr>\n",
       "    <tr>\n",
       "      <th>2021-01-06</th>\n",
       "      <td>0.273845</td>\n",
       "      <td>0.981604</td>\n",
       "      <td>-0.164871</td>\n",
       "      <td>-3.326337</td>\n",
       "    </tr>\n",
       "  </tbody>\n",
       "</table>\n",
       "</div>"
      ],
      "text/plain": [
       "                   a         B         c         d\n",
       "2021-01-04  0.210639 -2.994776 -0.196641 -1.772359\n",
       "2021-01-05  0.634205 -1.445093 -0.376031 -1.641076\n",
       "2021-01-02 -0.150711 -0.924835  1.843798  0.205039\n",
       "2021-01-03 -1.293355 -0.804926  0.036088 -0.812358\n",
       "2021-01-01 -0.387977 -0.202341  0.613052 -0.476127\n",
       "2021-01-06  0.273845  0.981604 -0.164871 -3.326337"
      ]
     },
     "execution_count": 43,
     "metadata": {},
     "output_type": "execute_result"
    }
   ],
   "source": [
    "df.sort_values(by=\"B\")"
   ]
  },
  {
   "cell_type": "code",
   "execution_count": 44,
   "id": "dca94fc3",
   "metadata": {},
   "outputs": [
    {
     "data": {
      "text/html": [
       "<div>\n",
       "<style scoped>\n",
       "    .dataframe tbody tr th:only-of-type {\n",
       "        vertical-align: middle;\n",
       "    }\n",
       "\n",
       "    .dataframe tbody tr th {\n",
       "        vertical-align: top;\n",
       "    }\n",
       "\n",
       "    .dataframe thead th {\n",
       "        text-align: right;\n",
       "    }\n",
       "</style>\n",
       "<table border=\"1\" class=\"dataframe\">\n",
       "  <thead>\n",
       "    <tr style=\"text-align: right;\">\n",
       "      <th></th>\n",
       "      <th>a</th>\n",
       "      <th>B</th>\n",
       "      <th>c</th>\n",
       "      <th>d</th>\n",
       "    </tr>\n",
       "  </thead>\n",
       "  <tbody>\n",
       "    <tr>\n",
       "      <th>2021-01-04</th>\n",
       "      <td>0.210639</td>\n",
       "      <td>-2.994776</td>\n",
       "      <td>-0.196641</td>\n",
       "      <td>-1.772359</td>\n",
       "    </tr>\n",
       "    <tr>\n",
       "      <th>2021-01-05</th>\n",
       "      <td>0.634205</td>\n",
       "      <td>-1.445093</td>\n",
       "      <td>-0.376031</td>\n",
       "      <td>-1.641076</td>\n",
       "    </tr>\n",
       "    <tr>\n",
       "      <th>2021-01-06</th>\n",
       "      <td>0.273845</td>\n",
       "      <td>0.981604</td>\n",
       "      <td>-0.164871</td>\n",
       "      <td>-3.326337</td>\n",
       "    </tr>\n",
       "  </tbody>\n",
       "</table>\n",
       "</div>"
      ],
      "text/plain": [
       "                   a         B         c         d\n",
       "2021-01-04  0.210639 -2.994776 -0.196641 -1.772359\n",
       "2021-01-05  0.634205 -1.445093 -0.376031 -1.641076\n",
       "2021-01-06  0.273845  0.981604 -0.164871 -3.326337"
      ]
     },
     "execution_count": 44,
     "metadata": {},
     "output_type": "execute_result"
    }
   ],
   "source": [
    "df[df[\"a\"]>0]"
   ]
  },
  {
   "cell_type": "markdown",
   "id": "14e51778",
   "metadata": {},
   "source": [
    "### read and write operations"
   ]
  },
  {
   "cell_type": "code",
   "execution_count": 45,
   "id": "a50eabb2",
   "metadata": {},
   "outputs": [
    {
     "ename": "AttributeError",
     "evalue": "'DataFrame' object has no attribute 'read_cvs'",
     "output_type": "error",
     "traceback": [
      "\u001b[1;31m---------------------------------------------------------------------------\u001b[0m",
      "\u001b[1;31mAttributeError\u001b[0m                            Traceback (most recent call last)",
      "\u001b[1;32m~\\AppData\\Local\\Temp/ipykernel_7572/1952669627.py\u001b[0m in \u001b[0;36m<module>\u001b[1;34m\u001b[0m\n\u001b[1;32m----> 1\u001b[1;33m \u001b[0mdf\u001b[0m\u001b[1;33m.\u001b[0m\u001b[0mread_cvs\u001b[0m\u001b[1;33m(\u001b[0m\u001b[1;34m\"myfile.csv\"\u001b[0m\u001b[1;33m)\u001b[0m\u001b[1;33m\u001b[0m\u001b[1;33m\u001b[0m\u001b[0m\n\u001b[0m",
      "\u001b[1;32m~\\anaconda3\\lib\\site-packages\\pandas\\core\\generic.py\u001b[0m in \u001b[0;36m__getattr__\u001b[1;34m(self, name)\u001b[0m\n\u001b[0;32m   5485\u001b[0m         ):\n\u001b[0;32m   5486\u001b[0m             \u001b[1;32mreturn\u001b[0m \u001b[0mself\u001b[0m\u001b[1;33m[\u001b[0m\u001b[0mname\u001b[0m\u001b[1;33m]\u001b[0m\u001b[1;33m\u001b[0m\u001b[1;33m\u001b[0m\u001b[0m\n\u001b[1;32m-> 5487\u001b[1;33m         \u001b[1;32mreturn\u001b[0m \u001b[0mobject\u001b[0m\u001b[1;33m.\u001b[0m\u001b[0m__getattribute__\u001b[0m\u001b[1;33m(\u001b[0m\u001b[0mself\u001b[0m\u001b[1;33m,\u001b[0m \u001b[0mname\u001b[0m\u001b[1;33m)\u001b[0m\u001b[1;33m\u001b[0m\u001b[1;33m\u001b[0m\u001b[0m\n\u001b[0m\u001b[0;32m   5488\u001b[0m \u001b[1;33m\u001b[0m\u001b[0m\n\u001b[0;32m   5489\u001b[0m     \u001b[1;32mdef\u001b[0m \u001b[0m__setattr__\u001b[0m\u001b[1;33m(\u001b[0m\u001b[0mself\u001b[0m\u001b[1;33m,\u001b[0m \u001b[0mname\u001b[0m\u001b[1;33m:\u001b[0m \u001b[0mstr\u001b[0m\u001b[1;33m,\u001b[0m \u001b[0mvalue\u001b[0m\u001b[1;33m)\u001b[0m \u001b[1;33m->\u001b[0m \u001b[1;32mNone\u001b[0m\u001b[1;33m:\u001b[0m\u001b[1;33m\u001b[0m\u001b[1;33m\u001b[0m\u001b[0m\n",
      "\u001b[1;31mAttributeError\u001b[0m: 'DataFrame' object has no attribute 'read_cvs'"
     ]
    }
   ],
   "source": [
    "df.read_cvs(\"myfile.csv\")\n",
    "df"
   ]
  },
  {
   "cell_type": "code",
   "execution_count": null,
   "id": "c4d18f4e",
   "metadata": {},
   "outputs": [],
   "source": [
    "df.to_csv(\"/tmp/mycsv.csv\")"
   ]
  }
 ],
 "metadata": {
  "kernelspec": {
   "display_name": "Python 3 (ipykernel)",
   "language": "python",
   "name": "python3"
  },
  "language_info": {
   "codemirror_mode": {
    "name": "ipython",
    "version": 3
   },
   "file_extension": ".py",
   "mimetype": "text/x-python",
   "name": "python",
   "nbconvert_exporter": "python",
   "pygments_lexer": "ipython3",
   "version": "3.9.7"
  }
 },
 "nbformat": 4,
 "nbformat_minor": 5
}
