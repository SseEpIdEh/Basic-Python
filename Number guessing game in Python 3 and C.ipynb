{
 "cells": [
  {
   "cell_type": "code",
   "execution_count": 3,
   "id": "ab399fcc",
   "metadata": {},
   "outputs": [],
   "source": [
    "import random \n",
    "import math"
   ]
  },
  {
   "cell_type": "code",
   "execution_count": 4,
   "id": "6962a084",
   "metadata": {},
   "outputs": [
    {
     "name": "stdout",
     "output_type": "stream",
     "text": [
      "13\n",
      "Enter a number13\n",
      "congrats\n"
     ]
    }
   ],
   "source": [
    "random_num=random.randint(1,101)\n",
    "print(random_num)\n",
    "\n",
    "user_num=int(input(\"Enter a number\"))\n",
    "\n",
    "if user_num> random_num:\n",
    "                print(\"Try again!You guessed too high\")             \n",
    "elif user_num<random_num:\n",
    "                print(\"Try again!You guessed too small\") \n",
    "elif random_num==user_num:\n",
    "                print('congrats')\n",
    "else:\n",
    "                print(\"try later\")"
   ]
  },
  {
   "cell_type": "code",
   "execution_count": null,
   "id": "b2d4d511",
   "metadata": {},
   "outputs": [],
   "source": [
    "lower=int(input(\"enter lower bound:-  \"))\n",
    "upper=int(input(\"enter upper bound:-  \"))\n",
    "x=random.ranint(lower,upper)"
   ]
  },
  {
   "cell_type": "code",
   "execution_count": null,
   "id": "e92659e2",
   "metadata": {},
   "outputs": [],
   "source": []
  },
  {
   "cell_type": "code",
   "execution_count": null,
   "id": "f04daed1",
   "metadata": {},
   "outputs": [],
   "source": []
  },
  {
   "cell_type": "code",
   "execution_count": null,
   "id": "bb5ffa1e",
   "metadata": {},
   "outputs": [],
   "source": []
  }
 ],
 "metadata": {
  "kernelspec": {
   "display_name": "Python 3 (ipykernel)",
   "language": "python",
   "name": "python3"
  },
  "language_info": {
   "codemirror_mode": {
    "name": "ipython",
    "version": 3
   },
   "file_extension": ".py",
   "mimetype": "text/x-python",
   "name": "python",
   "nbconvert_exporter": "python",
   "pygments_lexer": "ipython3",
   "version": "3.9.7"
  }
 },
 "nbformat": 4,
 "nbformat_minor": 5
}
