{
 "cells": [
  {
   "cell_type": "code",
   "execution_count": 1,
   "id": "304d0212",
   "metadata": {},
   "outputs": [],
   "source": [
    "from itertools import count, cycle,repeat"
   ]
  },
  {
   "cell_type": "markdown",
   "id": "fc4770bf",
   "metadata": {},
   "source": [
    "# Python program to demonstrate iterator module"
   ]
  },
  {
   "cell_type": "code",
   "execution_count": 2,
   "id": "1a229c3d",
   "metadata": {},
   "outputs": [
    {
     "name": "stdout",
     "output_type": "stream",
     "text": [
      "Result: 2 6 12\n",
      "Time taken by map function: 0.000000\n",
      "Result: 2 6 12 \n",
      "Time taken by for loop: 0.001994\n"
     ]
    }
   ],
   "source": [
    "import operator\n",
    "import time\n",
    "\n",
    "L1 = [1, 2, 3]\n",
    "L2 = [2, 3, 4]\n",
    "t1 = time.time()\n",
    "\n",
    "a, b, c = map(operator.mul, L1, L2)\n",
    "\n",
    "t2 = time.time()\n",
    "\n",
    "print(\"Result:\", a, b, c)\n",
    "\n",
    "print(\"Time taken by map function: %.6f\" % (t2 - t1))\n",
    "\n",
    "t1 = time.time()\n",
    "print(\"Result:\", end=\" \")\n",
    "for i in range(3):\n",
    "\tprint(L1[i] * L2[i], end=\" \")\n",
    "t2 = time.time()\n",
    "print(\"\\nTime taken by for loop: %.6f\" % (t2 - t1))\n"
   ]
  },
  {
   "cell_type": "markdown",
   "id": "70bead80",
   "metadata": {},
   "source": [
    "# In the above example, it can be seen that the time taken by the map function is approximately half than the time taken by for loop. This shows that itertools are fast, memory-efficient tools.\n",
    "\n",
    "\n",
    "***Time taken by map function: 0.000005\n",
    "Result: 2 6 12 \n",
    "Time taken by for loop: 0.00004"
   ]
  },
  {
   "cell_type": "markdown",
   "id": "c63a4866",
   "metadata": {},
   "source": [
    "\n",
    "***why we use import operator:\n",
    "\n",
    "***The operator module provides a set of functions that correspond to the built-in operators in Python, such as addition, subtraction, multiplication, etc. The (operator.mul) function specifically corresponds to the multiplication operator *.\n",
    "\n",
    "In the code you provided, operator.mul is used as the function argument for the map function. This means that map will apply the operator.mul function to the corresponding elements of the two lists L1 and L2.\n",
    "\n",
    "Using operator.mul instead of the * operator directly can provide some benefits, such as increased readability and the ability to pass the function as an argument to other functions, as we see in this example with map. Additionally, some types in Python may not support the * operator, but may have a corresponding function in the operator module that can be used instead."
   ]
  },
  {
   "cell_type": "markdown",
   "id": "aa59a70a",
   "metadata": {},
   "source": [
    "***what does it mean :\n",
    "element-wise multiplication   \n",
    "\n",
    "\n",
    "\n",
    "\n",
    "Element-wise multiplication is an operation that involves multiplying corresponding elements of two lists or arrays, resulting in a new list or array where each element is the product of the corresponding elements of the original arrays.\n",
    "\n",
    "For example, if we have two lists A = [2, 4, 6] and B = [3, 2, 1], their element-wise multiplication would be C = [6, 8, 6], where C[i] = A[i] * B[i] for each index i in the range of the lists.\n",
    "\n",
    "Element-wise multiplication is a common operation in linear algebra and is used in many applications, such as signal processing, computer vision, and machine learning."
   ]
  },
  {
   "cell_type": "markdown",
   "id": "cb271075",
   "metadata": {},
   "source": [
    "***map or for loop:\n",
    "In general, the reason to use map instead of a for loop is not necessarily because it takes less time, but rather because it is more concise and can make the code more readable and easier to maintain.\n",
    "\n",
    "map is a built-in function in Python that applies a function to each element of an iterable (such as a list) and returns a new iterable with the results. This can be very useful for performing simple operations on lists and other iterables, as it can often replace a for loop with a single line of code.\n",
    "\n",
    "That being said, the performance of map versus a for loop can depend on the specific use case and the size of the data being processed. In some cases, a for loop may be faster than map, especially if the operation being performed is complex or involves conditional logic. It's always a good idea to test the performance of different approaches when optimizing code for efficiency."
   ]
  },
  {
   "cell_type": "markdown",
   "id": "614cf118",
   "metadata": {},
   "source": [
    "# infinite iterators:\n",
    "1.count()\n",
    "2.cycle(iterable)\n",
    "3.repeat(value,number)"
   ]
  },
  {
   "cell_type": "markdown",
   "id": "f16e0afa",
   "metadata": {},
   "source": [
    "# count(start,step)     \n",
    "     ****shomarande"
   ]
  },
  {
   "cell_type": "code",
   "execution_count": 3,
   "id": "7a2bd595",
   "metadata": {},
   "outputs": [
    {
     "name": "stdout",
     "output_type": "stream",
     "text": [
      "1 3 5 7 9 "
     ]
    }
   ],
   "source": [
    "for number in count(start=1,step=2):\n",
    "    if number>10:\n",
    "        break\n",
    "    print(number,end=\" \")"
   ]
  },
  {
   "cell_type": "code",
   "execution_count": 4,
   "id": "b43c776a",
   "metadata": {},
   "outputs": [
    {
     "name": "stdout",
     "output_type": "stream",
     "text": [
      "5 6 7 8 9 10 11 12 13 14 15 16 17 18 19 20 "
     ]
    }
   ],
   "source": [
    "for i in count(5):\n",
    "    print(i, end=\" \")\n",
    "    if i>=20:\n",
    "        break"
   ]
  },
  {
   "cell_type": "code",
   "execution_count": 5,
   "id": "469f0c0f",
   "metadata": {},
   "outputs": [
    {
     "name": "stdout",
     "output_type": "stream",
     "text": [
      "5 7 9 11 13 15 17 19 21 "
     ]
    }
   ],
   "source": [
    "for i in count(5,2):\n",
    "    print(i, end=\" \")\n",
    "    if i>=20:\n",
    "        break"
   ]
  },
  {
   "cell_type": "code",
   "execution_count": 6,
   "id": "2ddaea00",
   "metadata": {},
   "outputs": [
    {
     "name": "stdout",
     "output_type": "stream",
     "text": [
      "5 8 11 14 17 20 "
     ]
    }
   ],
   "source": [
    "for i in count(5,3):\n",
    "    print(i, end=\" \")\n",
    "    if i>=20:\n",
    "        break"
   ]
  },
  {
   "cell_type": "markdown",
   "id": "9413265b",
   "metadata": {},
   "source": [
    "# cycle :  tekrare gardeshi \n",
    "***(This iterator prints all values in order from the passed container. It restarts printing from the beginning again when all elements are printed in a cyclic manner.)\n",
    "\n",
    "    *****tekrare gardeshi****"
   ]
  },
  {
   "cell_type": "code",
   "execution_count": 7,
   "id": "61751e1a",
   "metadata": {},
   "outputs": [
    {
     "ename": "SyntaxError",
     "evalue": "invalid syntax (Temp/ipykernel_24256/506864666.py, line 2)",
     "output_type": "error",
     "traceback": [
      "\u001b[1;36m  File \u001b[1;32m\"C:\\Users\\Mehrdad\\AppData\\Local\\Temp/ipykernel_24256/506864666.py\"\u001b[1;36m, line \u001b[1;32m2\u001b[0m\n\u001b[1;33m    .\u001b[0m\n\u001b[1;37m    ^\u001b[0m\n\u001b[1;31mSyntaxError\u001b[0m\u001b[1;31m:\u001b[0m invalid syntax\n"
     ]
    }
   ],
   "source": [
    "#for i in cycle('ABCDEFG'):              #if execute this code, it keeps going until indefinitely\n",
    ".\n",
    "   # print(c)"
   ]
  },
  {
   "cell_type": "code",
   "execution_count": 8,
   "id": "0873f31f",
   "metadata": {},
   "outputs": [
    {
     "ename": "SyntaxError",
     "evalue": "invalid syntax (Temp/ipykernel_24256/3606121981.py, line 3)",
     "output_type": "error",
     "traceback": [
      "\u001b[1;36m  File \u001b[1;32m\"C:\\Users\\Mehrdad\\AppData\\Local\\Temp/ipykernel_24256/3606121981.py\"\u001b[1;36m, line \u001b[1;32m3\u001b[0m\n\u001b[1;33m    .              #it iterates or continues indefinitely\u001b[0m\n\u001b[1;37m    ^\u001b[0m\n\u001b[1;31mSyntaxError\u001b[0m\u001b[1;31m:\u001b[0m invalid syntax\n"
     ]
    }
   ],
   "source": [
    "c=cycle('ABCDEFG')\n",
    "next(c)\n",
    ".              #it iterates or continues indefinitely\n",
    ".\n",
    ".\n",
    "."
   ]
  },
  {
   "cell_type": "code",
   "execution_count": 9,
   "id": "07c37f62",
   "metadata": {},
   "outputs": [
    {
     "name": "stdout",
     "output_type": "stream",
     "text": [
      "Geeks for Geeks Geeks for Geeks "
     ]
    }
   ],
   "source": [
    "\n",
    "import itertools\n",
    "\n",
    "l = ['Geeks', 'for', 'Geeks']\n",
    "\n",
    "iterators = itertools.cycle(l)\n",
    "for i in range(6):\n",
    "\tprint(next(iterators), end=\" \")\n"
   ]
  },
  {
   "cell_type": "code",
   "execution_count": 10,
   "id": "afb8ce8e",
   "metadata": {},
   "outputs": [],
   "source": [
    "c=cycle('ABCDEFG')\n",
    "s=cycle(['-',':','.-'])\n",
    "A=['f1','f2','f3','g1','g2','g3','h1','h2','h3']"
   ]
  },
  {
   "cell_type": "code",
   "execution_count": 11,
   "id": "174bffa1",
   "metadata": {},
   "outputs": [
    {
     "data": {
      "text/plain": [
       "[('f1', 'A', '-'),\n",
       " ('f2', 'B', ':'),\n",
       " ('f3', 'C', '.-'),\n",
       " ('g1', 'D', '-'),\n",
       " ('g2', 'E', ':'),\n",
       " ('g3', 'F', '.-'),\n",
       " ('h1', 'G', '-'),\n",
       " ('h2', 'A', ':'),\n",
       " ('h3', 'B', '.-')]"
      ]
     },
     "execution_count": 11,
     "metadata": {},
     "output_type": "execute_result"
    }
   ],
   "source": [
    "list(zip(A,c,s))"
   ]
  },
  {
   "cell_type": "markdown",
   "id": "466bc74c",
   "metadata": {},
   "source": [
    "# repeat(value,the number of repeat)\n",
    "***( This iterator repeatedly prints the passed value an infinite number of times. If the optional keyword num is mentioned, then it repeatedly prints num number of times.)\n",
    "\n",
    "      *** tekrar yek mored be tedade moshakhas ya binahayat***"
   ]
  },
  {
   "cell_type": "code",
   "execution_count": 12,
   "id": "8ee62c31",
   "metadata": {},
   "outputs": [
    {
     "name": "stdout",
     "output_type": "stream",
     "text": [
      "10 10 10 10 10 "
     ]
    }
   ],
   "source": [
    "for i in repeat(10,5):\n",
    "         print(i,end=\" \")                                 # 10 ,5 bar tekrar beshe"
   ]
  },
  {
   "cell_type": "code",
   "execution_count": 13,
   "id": "3b425840",
   "metadata": {},
   "outputs": [
    {
     "data": {
      "text/plain": [
       "10"
      ]
     },
     "execution_count": 13,
     "metadata": {},
     "output_type": "execute_result"
    }
   ],
   "source": [
    "r=repeat(10)\n",
    "next(r)                   #if in next(r) continue it will iterate indefinitely"
   ]
  },
  {
   "cell_type": "code",
   "execution_count": 14,
   "id": "46a12d81",
   "metadata": {},
   "outputs": [
    {
     "name": "stdout",
     "output_type": "stream",
     "text": [
      "Printing the numbers repeatedly : \n",
      "[25, 25, 25, 25]\n"
     ]
    }
   ],
   "source": [
    "print(\"Printing the numbers repeatedly : \")\n",
    "print(list(itertools.repeat(25, 4)))\n"
   ]
  },
  {
   "cell_type": "markdown",
   "id": "8cc33958",
   "metadata": {},
   "source": [
    "# zip_longest"
   ]
  },
  {
   "cell_type": "code",
   "execution_count": 15,
   "id": "864f3755",
   "metadata": {},
   "outputs": [
    {
     "data": {
      "text/plain": [
       "[(0, 'A'), (1, 'B'), (2, 'C'), (3, 'D'), (4, 'E')]"
      ]
     },
     "execution_count": 15,
     "metadata": {},
     "output_type": "execute_result"
    }
   ],
   "source": [
    "A=range(10)\n",
    "B='ABCDE'\n",
    "list(zip(A,B))"
   ]
  },
  {
   "cell_type": "code",
   "execution_count": 16,
   "id": "153e9b06",
   "metadata": {},
   "outputs": [
    {
     "data": {
      "text/plain": [
       "[(0, 'A', 10), (1, 'B', 20)]"
      ]
     },
     "execution_count": 16,
     "metadata": {},
     "output_type": "execute_result"
    }
   ],
   "source": [
    "c=[10,20]\n",
    "list(zip(A,B,c))"
   ]
  },
  {
   "cell_type": "code",
   "execution_count": 17,
   "id": "b5079d0b",
   "metadata": {},
   "outputs": [],
   "source": [
    "from itertools import zip_longest"
   ]
  },
  {
   "cell_type": "code",
   "execution_count": 18,
   "id": "3648321d",
   "metadata": {},
   "outputs": [
    {
     "data": {
      "text/plain": [
       "range(0, 10)"
      ]
     },
     "execution_count": 18,
     "metadata": {},
     "output_type": "execute_result"
    }
   ],
   "source": [
    "A"
   ]
  },
  {
   "cell_type": "code",
   "execution_count": 19,
   "id": "e6537fba",
   "metadata": {},
   "outputs": [
    {
     "data": {
      "text/plain": [
       "'ABCDE'"
      ]
     },
     "execution_count": 19,
     "metadata": {},
     "output_type": "execute_result"
    }
   ],
   "source": [
    "B"
   ]
  },
  {
   "cell_type": "code",
   "execution_count": 20,
   "id": "12223f87",
   "metadata": {},
   "outputs": [
    {
     "data": {
      "text/plain": [
       "<itertools.zip_longest at 0x226665da770>"
      ]
     },
     "execution_count": 20,
     "metadata": {},
     "output_type": "execute_result"
    }
   ],
   "source": [
    "zip_longest(A,B)"
   ]
  },
  {
   "cell_type": "code",
   "execution_count": 21,
   "id": "b06312e6",
   "metadata": {},
   "outputs": [
    {
     "data": {
      "text/plain": [
       "[(0, 'A', 10),\n",
       " (1, 'B', 20),\n",
       " (2, 'C', None),\n",
       " (3, 'D', None),\n",
       " (4, 'E', None),\n",
       " (5, None, None),\n",
       " (6, None, None),\n",
       " (7, None, None),\n",
       " (8, None, None),\n",
       " (9, None, None)]"
      ]
     },
     "execution_count": 21,
     "metadata": {},
     "output_type": "execute_result"
    }
   ],
   "source": [
    "list(zip_longest(A,B,c))"
   ]
  },
  {
   "cell_type": "markdown",
   "id": "c9479c63",
   "metadata": {},
   "source": [
    "# accumulate()     (mohasebeye tajamoeei)"
   ]
  },
  {
   "cell_type": "code",
   "execution_count": 22,
   "id": "ccd4df64",
   "metadata": {},
   "outputs": [],
   "source": [
    "from itertools import accumulate"
   ]
  },
  {
   "cell_type": "code",
   "execution_count": 23,
   "id": "53d54bc7",
   "metadata": {},
   "outputs": [],
   "source": [
    "A=[1,2,3,4,5,6]\n",
    "c=accumulate(A)"
   ]
  },
  {
   "cell_type": "code",
   "execution_count": 24,
   "id": "1e6d5701",
   "metadata": {},
   "outputs": [
    {
     "data": {
      "text/plain": [
       "[1, 3, 6, 10, 15, 21]"
      ]
     },
     "execution_count": 24,
     "metadata": {},
     "output_type": "execute_result"
    }
   ],
   "source": [
    "list(c)"
   ]
  },
  {
   "cell_type": "code",
   "execution_count": 25,
   "id": "ee522a5b",
   "metadata": {},
   "outputs": [],
   "source": [
    "def accumulate(iterable):\n",
    "    result=[]\n",
    "    total=0\n",
    "    for item in iterable:\n",
    "        total+=item\n",
    "        A=result.append(total)\n",
    "        #return total\n",
    "   # print(A)"
   ]
  },
  {
   "cell_type": "code",
   "execution_count": 26,
   "id": "e6146f53",
   "metadata": {},
   "outputs": [
    {
     "name": "stdout",
     "output_type": "stream",
     "text": [
      "1 3 6 10 15 "
     ]
    }
   ],
   "source": [
    "A=[1,2,3,4,5]\n",
    "total=0\n",
    "for item in A:\n",
    "    total+=item\n",
    "    print(total,end=\" \")              #adade mosalasi"
   ]
  },
  {
   "cell_type": "code",
   "execution_count": 27,
   "id": "408704c4",
   "metadata": {},
   "outputs": [
    {
     "ename": "TypeError",
     "evalue": "accumulate() got an unexpected keyword argument 'initial'",
     "output_type": "error",
     "traceback": [
      "\u001b[1;31m---------------------------------------------------------------------------\u001b[0m",
      "\u001b[1;31mTypeError\u001b[0m                                 Traceback (most recent call last)",
      "\u001b[1;32m~\\AppData\\Local\\Temp/ipykernel_24256/3083197119.py\u001b[0m in \u001b[0;36m<module>\u001b[1;34m\u001b[0m\n\u001b[0;32m      1\u001b[0m \u001b[0mA\u001b[0m\u001b[1;33m=\u001b[0m\u001b[1;33m[\u001b[0m\u001b[1;36m1\u001b[0m\u001b[1;33m,\u001b[0m\u001b[1;36m2\u001b[0m\u001b[1;33m,\u001b[0m\u001b[1;36m3\u001b[0m\u001b[1;33m,\u001b[0m\u001b[1;36m4\u001b[0m\u001b[1;33m,\u001b[0m\u001b[1;36m5\u001b[0m\u001b[1;33m]\u001b[0m\u001b[1;33m\u001b[0m\u001b[1;33m\u001b[0m\u001b[0m\n\u001b[1;32m----> 2\u001b[1;33m \u001b[0mlist\u001b[0m\u001b[1;33m(\u001b[0m\u001b[0maccumulate\u001b[0m\u001b[1;33m(\u001b[0m\u001b[0mA\u001b[0m\u001b[1;33m,\u001b[0m\u001b[0minitial\u001b[0m\u001b[1;33m=\u001b[0m\u001b[1;36m10\u001b[0m\u001b[1;33m)\u001b[0m\u001b[1;33m)\u001b[0m      \u001b[1;31m#yani az ten (10+0),(10+1+2),.....\u001b[0m\u001b[1;33m\u001b[0m\u001b[1;33m\u001b[0m\u001b[0m\n\u001b[0m",
      "\u001b[1;31mTypeError\u001b[0m: accumulate() got an unexpected keyword argument 'initial'"
     ]
    }
   ],
   "source": [
    "A=[1,2,3,4,5]\n",
    "list(accumulate(A,initial=10))      #yani az ten (10+0),(10+1+2),....."
   ]
  },
  {
   "cell_type": "code",
   "execution_count": 28,
   "id": "dc609b29",
   "metadata": {},
   "outputs": [
    {
     "ename": "TypeError",
     "evalue": "accumulate() takes 1 positional argument but 2 were given",
     "output_type": "error",
     "traceback": [
      "\u001b[1;31m---------------------------------------------------------------------------\u001b[0m",
      "\u001b[1;31mTypeError\u001b[0m                                 Traceback (most recent call last)",
      "\u001b[1;32m~\\AppData\\Local\\Temp/ipykernel_24256/2917669666.py\u001b[0m in \u001b[0;36m<module>\u001b[1;34m\u001b[0m\n\u001b[0;32m      2\u001b[0m     \u001b[1;32mreturn\u001b[0m \u001b[0mx\u001b[0m\u001b[1;33m*\u001b[0m\u001b[0my\u001b[0m\u001b[1;33m\u001b[0m\u001b[1;33m\u001b[0m\u001b[0m\n\u001b[0;32m      3\u001b[0m \u001b[1;33m\u001b[0m\u001b[0m\n\u001b[1;32m----> 4\u001b[1;33m \u001b[0mlist\u001b[0m\u001b[1;33m(\u001b[0m\u001b[0maccumulate\u001b[0m\u001b[1;33m(\u001b[0m\u001b[0mA\u001b[0m\u001b[1;33m,\u001b[0m\u001b[0mprod\u001b[0m\u001b[1;33m)\u001b[0m\u001b[1;33m)\u001b[0m       \u001b[1;31m#factorial\u001b[0m\u001b[1;33m\u001b[0m\u001b[1;33m\u001b[0m\u001b[0m\n\u001b[0m",
      "\u001b[1;31mTypeError\u001b[0m: accumulate() takes 1 positional argument but 2 were given"
     ]
    }
   ],
   "source": [
    "def prod(x,y):\n",
    "    return x*y\n",
    "    \n",
    "list(accumulate(A,prod))       #factorial"
   ]
  },
  {
   "cell_type": "code",
   "execution_count": 29,
   "id": "3a797ddd",
   "metadata": {},
   "outputs": [
    {
     "ename": "TypeError",
     "evalue": "accumulate() got an unexpected keyword argument 'initial'",
     "output_type": "error",
     "traceback": [
      "\u001b[1;31m---------------------------------------------------------------------------\u001b[0m",
      "\u001b[1;31mTypeError\u001b[0m                                 Traceback (most recent call last)",
      "\u001b[1;32m~\\AppData\\Local\\Temp/ipykernel_24256/1973966243.py\u001b[0m in \u001b[0;36m<module>\u001b[1;34m\u001b[0m\n\u001b[0;32m      1\u001b[0m \u001b[0mB\u001b[0m\u001b[1;33m=\u001b[0m\u001b[1;33m[\u001b[0m\u001b[1;36m2\u001b[0m\u001b[1;33m,\u001b[0m\u001b[1;36m3\u001b[0m\u001b[1;33m,\u001b[0m\u001b[1;36m4\u001b[0m\u001b[1;33m,\u001b[0m\u001b[1;36m5\u001b[0m\u001b[1;33m,\u001b[0m\u001b[1;36m6\u001b[0m\u001b[1;33m]\u001b[0m\u001b[1;33m\u001b[0m\u001b[1;33m\u001b[0m\u001b[0m\n\u001b[0;32m      2\u001b[0m \u001b[1;33m\u001b[0m\u001b[0m\n\u001b[1;32m----> 3\u001b[1;33m \u001b[0mlist\u001b[0m\u001b[1;33m(\u001b[0m\u001b[0maccumulate\u001b[0m\u001b[1;33m(\u001b[0m\u001b[0mB\u001b[0m\u001b[1;33m,\u001b[0m\u001b[0mprod\u001b[0m\u001b[1;33m,\u001b[0m\u001b[0minitial\u001b[0m\u001b[1;33m=\u001b[0m\u001b[1;36m10\u001b[0m\u001b[1;33m)\u001b[0m\u001b[1;33m)\u001b[0m\u001b[1;33m\u001b[0m\u001b[1;33m\u001b[0m\u001b[0m\n\u001b[0m",
      "\u001b[1;31mTypeError\u001b[0m: accumulate() got an unexpected keyword argument 'initial'"
     ]
    }
   ],
   "source": [
    "B=[2,3,4,5,6]\n",
    "\n",
    "list(accumulate(B,prod,initial=10))             "
   ]
  },
  {
   "cell_type": "code",
   "execution_count": 30,
   "id": "cf10fc30",
   "metadata": {},
   "outputs": [
    {
     "ename": "TypeError",
     "evalue": "accumulate() takes 1 positional argument but 2 were given",
     "output_type": "error",
     "traceback": [
      "\u001b[1;31m---------------------------------------------------------------------------\u001b[0m",
      "\u001b[1;31mTypeError\u001b[0m                                 Traceback (most recent call last)",
      "\u001b[1;32m~\\AppData\\Local\\Temp/ipykernel_24256/514625795.py\u001b[0m in \u001b[0;36m<module>\u001b[1;34m\u001b[0m\n\u001b[1;32m----> 1\u001b[1;33m \u001b[0mlist\u001b[0m\u001b[1;33m(\u001b[0m\u001b[0maccumulate\u001b[0m\u001b[1;33m(\u001b[0m\u001b[0mB\u001b[0m\u001b[1;33m,\u001b[0m\u001b[1;32mlambda\u001b[0m \u001b[0mx\u001b[0m\u001b[1;33m,\u001b[0m\u001b[0my\u001b[0m\u001b[1;33m:\u001b[0m\u001b[0mx\u001b[0m\u001b[1;33m*\u001b[0m\u001b[0my\u001b[0m\u001b[1;33m)\u001b[0m\u001b[1;33m)\u001b[0m\u001b[1;33m\u001b[0m\u001b[1;33m\u001b[0m\u001b[0m\n\u001b[0m",
      "\u001b[1;31mTypeError\u001b[0m: accumulate() takes 1 positional argument but 2 were given"
     ]
    }
   ],
   "source": [
    "list(accumulate(B,lambda x,y:x*y))"
   ]
  },
  {
   "cell_type": "markdown",
   "id": "26e432a1",
   "metadata": {},
   "source": [
    "# Chain()    #beham wasl kardan"
   ]
  },
  {
   "cell_type": "code",
   "execution_count": 31,
   "id": "a2dab812",
   "metadata": {},
   "outputs": [
    {
     "name": "stdout",
     "output_type": "stream",
     "text": [
      "1 2 3 4 5 6 7 8 9 "
     ]
    }
   ],
   "source": [
    "A=[1,2,3,4,5]\n",
    "B=[6,7,8,9]\n",
    "for i in A:\n",
    "    print(i,end=\" \")\n",
    "for i in B:\n",
    "    print(i,end=\" \")"
   ]
  },
  {
   "cell_type": "code",
   "execution_count": 32,
   "id": "9f1cf141",
   "metadata": {},
   "outputs": [
    {
     "name": "stdout",
     "output_type": "stream",
     "text": [
      "1 2 3 4 5 6 7 8 9 "
     ]
    }
   ],
   "source": [
    "from itertools import chain\n",
    "for i in chain(A,B):\n",
    "    print(i,end=\" \")"
   ]
  },
  {
   "cell_type": "code",
   "execution_count": 33,
   "id": "98ffdbea",
   "metadata": {},
   "outputs": [
    {
     "name": "stdout",
     "output_type": "stream",
     "text": [
      "10 10 10 1 1 1 1 2 2 2 2 2 2 "
     ]
    }
   ],
   "source": [
    "from itertools import repeat\n",
    "for i in chain(repeat(10,3),repeat(1,4),repeat(2,6)):\n",
    "    print(i,end=\" \")"
   ]
  },
  {
   "cell_type": "code",
   "execution_count": 34,
   "id": "6b76b291",
   "metadata": {},
   "outputs": [],
   "source": [
    "a=[\n",
    "    [1,2,3,4,5,6],\n",
    "    [3,4,5,6,78,90,45,6],\n",
    "    [8,8,9,1,0]\n",
    "]"
   ]
  },
  {
   "cell_type": "code",
   "execution_count": 35,
   "id": "eadd13aa",
   "metadata": {},
   "outputs": [
    {
     "data": {
      "text/plain": [
       "[1, 2, 3, 4, 5, 6, 3, 4, 5, 6, 78, 90, 45, 6, 8, 8, 9, 1, 0]"
      ]
     },
     "execution_count": 35,
     "metadata": {},
     "output_type": "execute_result"
    }
   ],
   "source": [
    "list(chain(a[0],a[1],a[2]))"
   ]
  },
  {
   "cell_type": "markdown",
   "id": "480a8b5e",
   "metadata": {},
   "source": [
    "      #this way is called making list  lisst(chain(*a))"
   ]
  },
  {
   "cell_type": "code",
   "execution_count": 36,
   "id": "978cfd70",
   "metadata": {},
   "outputs": [
    {
     "data": {
      "text/plain": [
       "[1, 2, 3, 4, 5, 6, 3, 4, 5, 6, 78, 90, 45, 6, 8, 8, 9, 1, 0]"
      ]
     },
     "execution_count": 36,
     "metadata": {},
     "output_type": "execute_result"
    }
   ],
   "source": [
    "list(chain(*a))    #unpacking"
   ]
  },
  {
   "cell_type": "code",
   "execution_count": 37,
   "id": "26a9ba58",
   "metadata": {},
   "outputs": [
    {
     "data": {
      "text/plain": [
       "[3, 4, 5, 6, 78, 90, 45, 6, 8, 8, 9, 1, 0]"
      ]
     },
     "execution_count": 37,
     "metadata": {},
     "output_type": "execute_result"
    }
   ],
   "source": [
    "list(chain(*a[1:]))       #yani az awali be baad"
   ]
  },
  {
   "cell_type": "code",
   "execution_count": 38,
   "id": "4e9488c4",
   "metadata": {},
   "outputs": [
    {
     "data": {
      "text/plain": [
       "[3, 4, 5, 6, 78, 90, 45, 6]"
      ]
     },
     "execution_count": 38,
     "metadata": {},
     "output_type": "execute_result"
    }
   ],
   "source": [
    "list(chain(*a[1:-1]))  # yani az yek ta yek addad monde be akhar"
   ]
  },
  {
   "cell_type": "markdown",
   "id": "ed2a0d6c",
   "metadata": {},
   "source": [
    "# filterfalse(argument 1,argumnt2)    \n",
    "+++for filtering in reverse way\n",
    "**# filter(argument 1,argumnt2)"
   ]
  },
  {
   "cell_type": "code",
   "execution_count": 39,
   "id": "1cf77416",
   "metadata": {},
   "outputs": [],
   "source": [
    "from itertools import filterfalse\n"
   ]
  },
  {
   "cell_type": "code",
   "execution_count": 40,
   "id": "3b7d5258",
   "metadata": {},
   "outputs": [],
   "source": [
    "A=[3, 4, 5, 6, 7,8, 9,0, 4,5, 6]"
   ]
  },
  {
   "cell_type": "code",
   "execution_count": 41,
   "id": "b0050b07",
   "metadata": {},
   "outputs": [
    {
     "data": {
      "text/plain": [
       "[5, 6, 7, 8, 9, 5, 6]"
      ]
     },
     "execution_count": 41,
     "metadata": {},
     "output_type": "execute_result"
    }
   ],
   "source": [
    "list(filter(lambda x:x>4,A))"
   ]
  },
  {
   "cell_type": "code",
   "execution_count": 42,
   "id": "5d69823d",
   "metadata": {},
   "outputs": [
    {
     "data": {
      "text/plain": [
       "[3, 4, 0, 4]"
      ]
     },
     "execution_count": 42,
     "metadata": {},
     "output_type": "execute_result"
    }
   ],
   "source": [
    "list(filter(lambda x: not x>4,A))"
   ]
  },
  {
   "cell_type": "code",
   "execution_count": 43,
   "id": "56efe77b",
   "metadata": {},
   "outputs": [
    {
     "data": {
      "text/plain": [
       "[3, 4, 0, 4]"
      ]
     },
     "execution_count": 43,
     "metadata": {},
     "output_type": "execute_result"
    }
   ],
   "source": [
    "list(filterfalse(lambda x:x>4,A))"
   ]
  },
  {
   "cell_type": "markdown",
   "id": "df8a0751",
   "metadata": {},
   "source": [
    "# compress()"
   ]
  },
  {
   "cell_type": "code",
   "execution_count": 44,
   "id": "db62500a",
   "metadata": {},
   "outputs": [],
   "source": [
    " from itertools import compress"
   ]
  },
  {
   "cell_type": "code",
   "execution_count": 45,
   "id": "6154b33a",
   "metadata": {},
   "outputs": [
    {
     "data": {
      "text/plain": [
       "[2, 3, 4, 6, 8, 0]"
      ]
     },
     "execution_count": 45,
     "metadata": {},
     "output_type": "execute_result"
    }
   ],
   "source": [
    "A=[1,2,3,4,5,6,7,8,9,0]\n",
    "s=[0,1,1,1,0,1,0,1,0,1]\n",
    "list(compress(A,s))              #yani jahahaee ke number yek hastand in A bar tebqe s print begir "
   ]
  },
  {
   "cell_type": "code",
   "execution_count": 46,
   "id": "34b3d9a6",
   "metadata": {},
   "outputs": [
    {
     "data": {
      "text/plain": [
       "[0, 0, 1, 0, 0, 0, 0, 1, 1, 0]"
      ]
     },
     "execution_count": 46,
     "metadata": {},
     "output_type": "execute_result"
    }
   ],
   "source": [
    "from random import randint\n",
    "\n",
    "s=[randint(0,1) for i in range(len(A))]\n",
    "s"
   ]
  },
  {
   "cell_type": "code",
   "execution_count": 47,
   "id": "78643911",
   "metadata": {},
   "outputs": [
    {
     "data": {
      "text/plain": [
       "[3, 8, 9]"
      ]
     },
     "execution_count": 47,
     "metadata": {},
     "output_type": "execute_result"
    }
   ],
   "source": [
    "list(compress(A,s))"
   ]
  },
  {
   "cell_type": "code",
   "execution_count": 48,
   "id": "c434aa09",
   "metadata": {},
   "outputs": [],
   "source": [
    "from itertools import dropwhile,takewhile"
   ]
  },
  {
   "cell_type": "code",
   "execution_count": 49,
   "id": "743c8cd4",
   "metadata": {},
   "outputs": [
    {
     "data": {
      "text/plain": [
       "[1, 2, 3, 4, 5, 6, 7, 8, 9, 0]"
      ]
     },
     "execution_count": 49,
     "metadata": {},
     "output_type": "execute_result"
    }
   ],
   "source": [
    "A"
   ]
  },
  {
   "cell_type": "markdown",
   "id": "6156b31f",
   "metadata": {},
   "source": [
    "# dropwhile"
   ]
  },
  {
   "cell_type": "code",
   "execution_count": 50,
   "id": "e219517a",
   "metadata": {},
   "outputs": [
    {
     "data": {
      "text/plain": [
       "[5, 6, 7, 8, 9, 0]"
      ]
     },
     "execution_count": 50,
     "metadata": {},
     "output_type": "execute_result"
    }
   ],
   "source": [
    "list(dropwhile(lambda x:x<5,A)) \n",
    "#means dropwhile execute the x<5 in A until end,but after numbers where are <5 like 3 it wont drop\n",
    "\n",
    "#here zero the last number in A as it is less than five but exict in output. \n",
    "#the first number in A where it is less than five"
   ]
  },
  {
   "cell_type": "markdown",
   "id": "e9b174de",
   "metadata": {},
   "source": [
    "# takewhile             #takewhile is opposite of dropwhile"
   ]
  },
  {
   "cell_type": "code",
   "execution_count": 51,
   "id": "47797b8b",
   "metadata": {},
   "outputs": [
    {
     "data": {
      "text/plain": [
       "[1, 2, 3, 4, 5, 6, 7, 8, 9, 0]"
      ]
     },
     "execution_count": 51,
     "metadata": {},
     "output_type": "execute_result"
    }
   ],
   "source": [
    "A\n"
   ]
  },
  {
   "cell_type": "code",
   "execution_count": 52,
   "id": "71be0b0f",
   "metadata": {},
   "outputs": [
    {
     "data": {
      "text/plain": [
       "[1, 2, 3, 4]"
      ]
     },
     "execution_count": 52,
     "metadata": {},
     "output_type": "execute_result"
    }
   ],
   "source": [
    "list(takewhile(lambda x:x<5,A))"
   ]
  },
  {
   "cell_type": "code",
   "execution_count": 53,
   "id": "e98135c3",
   "metadata": {},
   "outputs": [
    {
     "ename": "ImportError",
     "evalue": "cannot import name 'pairwise' from 'itertools' (unknown location)",
     "output_type": "error",
     "traceback": [
      "\u001b[1;31m---------------------------------------------------------------------------\u001b[0m",
      "\u001b[1;31mImportError\u001b[0m                               Traceback (most recent call last)",
      "\u001b[1;32m~\\AppData\\Local\\Temp/ipykernel_24256/314665486.py\u001b[0m in \u001b[0;36m<module>\u001b[1;34m\u001b[0m\n\u001b[1;32m----> 1\u001b[1;33m \u001b[1;32mfrom\u001b[0m \u001b[0mitertools\u001b[0m \u001b[1;32mimport\u001b[0m \u001b[0mpairwise\u001b[0m\u001b[1;33m\u001b[0m\u001b[1;33m\u001b[0m\u001b[0m\n\u001b[0m",
      "\u001b[1;31mImportError\u001b[0m: cannot import name 'pairwise' from 'itertools' (unknown location)"
     ]
    }
   ],
   "source": []
  },
  {
   "cell_type": "code",
   "execution_count": null,
   "id": "b6c7bd6a",
   "metadata": {},
   "outputs": [],
   "source": []
  },
  {
   "cell_type": "code",
   "execution_count": null,
   "id": "3fec2c0f",
   "metadata": {},
   "outputs": [],
   "source": []
  },
  {
   "cell_type": "code",
   "execution_count": null,
   "id": "7f22cb07",
   "metadata": {},
   "outputs": [],
   "source": []
  },
  {
   "cell_type": "code",
   "execution_count": null,
   "id": "4158b03c",
   "metadata": {},
   "outputs": [],
   "source": []
  },
  {
   "cell_type": "code",
   "execution_count": null,
   "id": "8bf51028",
   "metadata": {},
   "outputs": [],
   "source": []
  }
 ],
 "metadata": {
  "kernelspec": {
   "display_name": "Python 3 (ipykernel)",
   "language": "python",
   "name": "python3"
  },
  "language_info": {
   "codemirror_mode": {
    "name": "ipython",
    "version": 3
   },
   "file_extension": ".py",
   "mimetype": "text/x-python",
   "name": "python",
   "nbconvert_exporter": "python",
   "pygments_lexer": "ipython3",
   "version": "3.9.7"
  }
 },
 "nbformat": 4,
 "nbformat_minor": 5
}
