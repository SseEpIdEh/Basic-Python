{
 "cells": [
  {
   "cell_type": "code",
   "execution_count": null,
   "id": "ab9d97b4",
   "metadata": {},
   "outputs": [],
   "source": []
  },
  {
   "cell_type": "code",
   "execution_count": 3,
   "id": "dca9c1b7",
   "metadata": {},
   "outputs": [
    {
     "name": "stdout",
     "output_type": "stream",
     "text": [
      "[('in', 81), ('and', 48), ('python', 38), ('using', 31), ('with', 21), ('a', 15), ('of', 15), ('is', 14), ('pythonpython', 14), ('to', 13)]\n"
     ]
    }
   ],
   "source": [
    "import requests\n",
    "from bs4 import BeautifulSoup\n",
    "import operator \n",
    "from collections import Counter\n",
    "def start(url):\n",
    "    \n",
    "    word_list=[]\n",
    "    source_code=requests.get(url).text\n",
    "    soup=BeautifulSoup(source_code,'html.parser')\n",
    "    \n",
    "    for each_text in soup.findAll('div',{'class':'entry-content'}):\n",
    "        content=each_text.text\n",
    "        words=content.lower().split()\n",
    "        \n",
    "        for each_word in words:\n",
    "            word_list.append(each_word)  \n",
    "        clean_word_list(word_list)\n",
    "            \n",
    "def clean_word_list(word_list):\n",
    "    \n",
    "    clean_list=[]\n",
    "    for word in word_list:\n",
    "        \n",
    "        symbols=\"!@#$%^&*()_-+={[}]|\\;:\\\"<>?/.,\"\n",
    "        \n",
    "        for i in range(len(symbols)):\n",
    "            word=word.replace(symbols[i],'')\n",
    "            \n",
    "        if len(word)> 0 :\n",
    "                clean_list.append(word)\n",
    "    create_dictionary(clean_list)\n",
    "                \n",
    "def create_dictionary(clean_list):\n",
    "    \n",
    "    word_count={}\n",
    "    \n",
    "    for word in clean_list:\n",
    "        \n",
    "        if word in word_count:\n",
    "            \n",
    "            word_count[word] +=1\n",
    "        else:\n",
    "            word_count[word]=1\n",
    "            \n",
    "    c=Counter(word_count)\n",
    "    top=c.most_common(10)\n",
    "    print(top)\n",
    "\n",
    "if __name__=='__main__':\n",
    " \n",
    "    url=\"https://www.geeksforgeeks.org/python-programming-language/?ref=shm\" \n",
    "    \n",
    "    start(url)\n",
    "            \n",
    "    "
   ]
  },
  {
   "cell_type": "code",
   "execution_count": null,
   "id": "82b82a11",
   "metadata": {},
   "outputs": [],
   "source": []
  },
  {
   "cell_type": "code",
   "execution_count": 5,
   "id": "8a18564e",
   "metadata": {},
   "outputs": [
    {
     "name": "stdout",
     "output_type": "stream",
     "text": [
      "[('in', 81), ('and', 48), ('python', 38), ('using', 31), ('with', 21), ('a', 15), ('of', 15), ('is', 14), ('pythonpython', 14), ('to', 13)]\n"
     ]
    }
   ],
   "source": [
    "import requests\n",
    "from bs4 import BeautifulSoup\n",
    "import operator\n",
    "from collections import Counter\n",
    "def start(url):\n",
    "    \n",
    "    wordlist= []\n",
    "    source_code=requests.get(url).text\n",
    "    soup=BeautifulSoup(source_code,'html.parser')\n",
    "    for each_text in soup.findAll('div',{'class':'entry-content'}):\n",
    "        content=each_text.text\n",
    "        words=content.lower().split()\n",
    "        \n",
    "        for each_word in words:\n",
    "            wordlist.append(each_word)\n",
    "        clean_wordlist(wordlist)\n",
    "def clean_wordlist(wordlist):\n",
    "    clean_list=[]\n",
    "    for word in wordlist:\n",
    "        symbols=\"!@#$%^&*()_-+={[}]|\\;:\\\"<>?/., \"\n",
    "        \n",
    "        for i in range(len(symbols)):\n",
    "            word=word.replace(symbols[i],'')\n",
    "            \n",
    "        if len(word)> 0:\n",
    "                clean_list.append(word)\n",
    "    create_dictionary(clean_list) \n",
    "        \n",
    "def create_dictionary(clean_list):\n",
    "    word_count = {}\n",
    " \n",
    "    for word in clean_list:\n",
    "        if word in word_count:\n",
    "            word_count[word] += 1\n",
    "        else:\n",
    "            word_count[word] = 1\n",
    " \n",
    "    c = Counter(word_count)\n",
    "    top = c.most_common(10)\n",
    "    print(top)\n",
    "\n",
    "if __name__ == '__main__':\n",
    "    url =\"https://www.geeksforgeeks.org/python-programming-language/?ref=shm\"\n",
    "   \n",
    "    start(url)        "
   ]
  },
  {
   "cell_type": "code",
   "execution_count": null,
   "id": "d9d9fb3e",
   "metadata": {},
   "outputs": [],
   "source": []
  },
  {
   "cell_type": "code",
   "execution_count": null,
   "id": "7dd2e1e6",
   "metadata": {},
   "outputs": [],
   "source": []
  },
  {
   "cell_type": "code",
   "execution_count": null,
   "id": "14f8a16b",
   "metadata": {},
   "outputs": [],
   "source": []
  },
  {
   "cell_type": "code",
   "execution_count": null,
   "id": "be6c13c3",
   "metadata": {},
   "outputs": [],
   "source": []
  },
  {
   "cell_type": "code",
   "execution_count": null,
   "id": "c8c1d2f1",
   "metadata": {},
   "outputs": [],
   "source": []
  },
  {
   "cell_type": "code",
   "execution_count": null,
   "id": "20d8df55",
   "metadata": {},
   "outputs": [],
   "source": []
  },
  {
   "cell_type": "code",
   "execution_count": null,
   "id": "df26f145",
   "metadata": {},
   "outputs": [],
   "source": []
  },
  {
   "cell_type": "code",
   "execution_count": null,
   "id": "8a33267f",
   "metadata": {},
   "outputs": [],
   "source": []
  }
 ],
 "metadata": {
  "kernelspec": {
   "display_name": "Python 3 (ipykernel)",
   "language": "python",
   "name": "python3"
  },
  "language_info": {
   "codemirror_mode": {
    "name": "ipython",
    "version": 3
   },
   "file_extension": ".py",
   "mimetype": "text/x-python",
   "name": "python",
   "nbconvert_exporter": "python",
   "pygments_lexer": "ipython3",
   "version": "3.9.7"
  }





 },
 "nbformat": 4,
 "nbformat_minor": 5
}
